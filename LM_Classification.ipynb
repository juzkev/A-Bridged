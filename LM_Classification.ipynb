{
  "nbformat": 4,
  "nbformat_minor": 0,
  "metadata": {
    "colab": {
      "name": "LM Classification.ipynb",
      "version": "0.3.2",
      "provenance": [],
      "collapsed_sections": []
    },
    "kernelspec": {
      "name": "python3",
      "display_name": "Python 3"
    },
    "accelerator": "GPU"
  },
  "cells": [
    {
      "cell_type": "markdown",
      "metadata": {
        "id": "view-in-github",
        "colab_type": "text"
      },
      "source": [
        "[View in Colaboratory](https://colab.research.google.com/github/juzkev/A-Bridged/blob/master/LM_Classification.ipynb)"
      ]
    },
    {
      "metadata": {
        "id": "xPPAYBD3B_-g",
        "colab_type": "text"
      },
      "cell_type": "markdown",
      "source": [
        "# Setup Libs"
      ]
    },
    {
      "metadata": {
        "id": "YVGvM7IOWo5Y",
        "colab_type": "code",
        "colab": {}
      },
      "cell_type": "code",
      "source": [
        "# Time\n",
        "import time\n",
        "start_t = time.time()\n",
        "\n",
        "# Google Drive\n",
        "!pip install -U -q PyDrive\n",
        "import os\n",
        "from pydrive.auth import GoogleAuth\n",
        "from pydrive.drive import GoogleDrive\n",
        "from google.colab import auth\n",
        "from oauth2client.client import GoogleCredentials\n",
        "\n",
        "# 1. Authenticate and create the PyDrive client.\n",
        "auth.authenticate_user()\n",
        "gauth = GoogleAuth()\n",
        "gauth.credentials = GoogleCredentials.get_application_default()\n",
        "drive = GoogleDrive(gauth)\n",
        "\n",
        "# PyPDF2\n",
        "# !pip install pypdf2\n",
        "# import PyPDF2\n",
        "\n",
        "#textract\n",
        "!apt-get install python-dev libxml2-dev libxslt1-dev antiword unrtf poppler-utils pstotext tesseract-ocr flac ffmpeg lame libmad0 libsox-fmt-mp3 sox libjpeg-dev swig libpulse-dev\n",
        "!pip install textract\n",
        "import textract\n",
        "\n",
        "# DS essentials\n",
        "import pandas as pd\n",
        "import numpy as np\n",
        "\n",
        "# NLP\n",
        "import re\n",
        "\n",
        "\n",
        "\n",
        "##### Additional Setup for Google Colab Fast AI & PyTorch #####\n",
        "\n",
        "## Install Pytorch and torchvision\n",
        "!pip install http://download.pytorch.org/whl/cu80/torch-0.3.1-cp36-cp36m-linux_x86_64.whl torchvision \n",
        "  \n",
        "# ## Install Fastai (Github version)\n",
        "!git clone https://github.com/fastai/fastai.git\n",
        "!pip install -r fastai/requirements.txt\n",
        "!pip install ./fastai\n",
        "\n",
        "#Install Fastai (pip)\n",
        "# !pip install fastai\n",
        "\n",
        "## Install libSM\n",
        "### The import of fastai is will throw an error that this library is missing. So, Installing the same.\n",
        "!apt update && apt install -y libsm6 libxext6\n",
        "\n",
        "\n",
        "# Install Spacy required for fastai.text\n",
        "!pip install -U spacy\n",
        "!python -m spacy download en\n",
        "\n",
        "print(f'Set up Process took {time.time() - start_t} seconds')"
      ],
      "execution_count": 0,
      "outputs": []
    },
    {
      "metadata": {
        "id": "bGuLTvaABI4B",
        "colab_type": "code",
        "colab": {
          "base_uri": "https://localhost:8080/",
          "height": 306
        },
        "outputId": "df880dc2-64cf-47c0-8db9-592bfddf24cb"
      },
      "cell_type": "code",
      "source": [
        "# GPU status\n",
        "!ln -sf /opt/bin/nvidia-smi /usr/bin/nvidia-smi\n",
        "!nvidia-smi"
      ],
      "execution_count": 3,
      "outputs": [
        {
          "output_type": "stream",
          "text": [
            "Sat Jun 16 14:53:36 2018       \r\n",
            "+-----------------------------------------------------------------------------+\r\n",
            "| NVIDIA-SMI 384.111                Driver Version: 384.111                   |\r\n",
            "|-------------------------------+----------------------+----------------------+\r\n",
            "| GPU  Name        Persistence-M| Bus-Id        Disp.A | Volatile Uncorr. ECC |\r\n",
            "| Fan  Temp  Perf  Pwr:Usage/Cap|         Memory-Usage | GPU-Util  Compute M. |\r\n",
            "|===============================+======================+======================|\n",
            "|   0  Tesla K80           Off  | 00000000:00:04.0 Off |                    0 |\n",
            "| N/A   33C    P8    31W / 149W |      0MiB / 11439MiB |      0%      Default |\n",
            "+-------------------------------+----------------------+----------------------+\n",
            "                                                                               \n",
            "+-----------------------------------------------------------------------------+\n",
            "| Processes:                                                       GPU Memory |\n",
            "|  GPU       PID   Type   Process name                             Usage      |\n",
            "|=============================================================================|\n",
            "|  No running processes found                                                 |\n",
            "+-----------------------------------------------------------------------------+\n"
          ],
          "name": "stdout"
        }
      ]
    },
    {
      "metadata": {
        "id": "FfX-bueFzyxt",
        "colab_type": "text"
      },
      "cell_type": "markdown",
      "source": [
        "# Export saved files"
      ]
    },
    {
      "metadata": {
        "id": "HSRIhObePT30",
        "colab_type": "code",
        "colab": {
          "base_uri": "https://localhost:8080/",
          "height": 595
        },
        "outputId": "06b26b97-6468-4539-a872-74cd529359de"
      },
      "cell_type": "code",
      "source": [
        "# # EXPORT\n",
        "\n",
        "# filename = 'export1706.tar.gz'\n",
        "\n",
        "# print('Archiving files')\n",
        "# !tar --exclude='./data/aclImdb/models/wt103' -cvzf {filename} ./data/aclImdb ./data/imdb_clas ./data/imdb_lm ./data/df.pkl\n",
        "\n",
        "# !ls -l -h\n",
        "\n",
        "# # Google Drive\n",
        "# !pip install -U -q PyDrive\n",
        "# import os\n",
        "# from pydrive.auth import GoogleAuth\n",
        "# from pydrive.drive import GoogleDrive\n",
        "# from google.colab import auth\n",
        "# from oauth2client.client import GoogleCredentials\n",
        "\n",
        "# # 1. Authenticate and create the PyDrive client.\n",
        "# auth.authenticate_user()\n",
        "# gauth = GoogleAuth()\n",
        "# gauth.credentials = GoogleCredentials.get_application_default()\n",
        "# drive = GoogleDrive(gauth)\n",
        "\n",
        "# fid = '1oVM1krBOzXbxgDN9hq8UqQjMxrgvLwzB'     # /DS/A-Bridged\n",
        "\n",
        "# f = drive.CreateFile({\"parents\": [{\"kind\": \"drive#fileLink\", \"id\": fid}]})\n",
        "# f.SetContentFile({filename})\n",
        "# f.Upload()\n",
        "# print('Created file %s with mimeType %s' % (f['title'], f['mimeType']))"
      ],
      "execution_count": 117,
      "outputs": [
        {
          "output_type": "stream",
          "text": [
            "Archiving files\n",
            "./data/aclImdb/\n",
            "./data/aclImdb/models/\n",
            "./data/aclImdb/models/tmp.h5\n",
            "./data/aclImdb/models/lm5_enc.h5\n",
            "./data/aclImdb/models/lm_last_ft.h5\n",
            "./data/aclImdb/models/lm5.h5\n",
            "./data/aclImdb/tmp/\n",
            "./data/imdb_clas/\n",
            "./data/imdb_clas/classes.txt\n",
            "./data/imdb_clas/train.csv\n",
            "./data/imdb_clas/test.csv\n",
            "./data/imdb_lm/\n",
            "./data/imdb_lm/tmp/\n",
            "./data/imdb_lm/tmp/tok_trn.npy\n",
            "./data/imdb_lm/tmp/val_ids.npy\n",
            "./data/imdb_lm/tmp/tok_val.npy\n",
            "./data/imdb_lm/tmp/itos.pkl\n",
            "./data/imdb_lm/tmp/trn_ids.npy\n",
            "./data/df.pkl\n",
            "total 841M\n",
            "drwxr-xr-x 10 root root 4.0K Jun 16 15:07 data\n",
            "drwxr-xr-x  1 root root 4.0K Jun 16 14:40 datalab\n",
            "-rw-r--r--  1 root root 421M Jun 16 16:49 export1506.tar.gz\n",
            "-rw-r--r--  1 root root 421M Jun 16 16:50 export1706.tar.gz\n",
            "drwxr-xr-x  8 root root 4.0K Jun 16 14:43 fastai\n",
            "-rw-r--r--  1 root root  24K Jun 16 16:19 losses.npy\n",
            "-rw-r--r--  1 root root  12K Jun 16 16:19 loss_plot.png\n",
            "\u001b[31mtextract 1.6.1 has requirement chardet==2.3.0, but you'll have chardet 3.0.4 which is incompatible.\u001b[0m\n",
            "\u001b[31mtextract 1.6.1 has requirement six==1.10.0, but you'll have six 1.11.0 which is incompatible.\u001b[0m\n",
            "\u001b[31mtensorboard 1.8.0 has requirement bleach==1.5.0, but you'll have bleach 2.1.3 which is incompatible.\u001b[0m\n",
            "\u001b[31mtensorboard 1.8.0 has requirement html5lib==0.9999999, but you'll have html5lib 1.0.1 which is incompatible.\u001b[0m\n",
            "\u001b[31mplotnine 0.3.0 has requirement scipy>=1.0.0, but you'll have scipy 0.19.1 which is incompatible.\u001b[0m\n",
            "Created file export1706.tar.gz with mimeType application/x-tar\n"
          ],
          "name": "stdout"
        }
      ]
    },
    {
      "metadata": {
        "id": "HO8_oLGnCTFA",
        "colab_type": "text"
      },
      "cell_type": "markdown",
      "source": [
        "# Import saved files"
      ]
    },
    {
      "metadata": {
        "id": "SFJsCYQCQCnp",
        "colab_type": "code",
        "colab": {
          "base_uri": "https://localhost:8080/",
          "height": 714
        },
        "outputId": "c3f1dc6a-991b-4c71-ba7a-dc398e8e872a"
      },
      "cell_type": "code",
      "source": [
        "# Google Drive\n",
        "!pip install -U -q PyDrive\n",
        "import os\n",
        "from pydrive.auth import GoogleAuth\n",
        "from pydrive.drive import GoogleDrive\n",
        "from google.colab import auth\n",
        "from oauth2client.client import GoogleCredentials\n",
        "\n",
        "import re\n",
        "\n",
        "# 1. Authenticate and create the PyDrive client.\n",
        "auth.authenticate_user()\n",
        "gauth = GoogleAuth()\n",
        "gauth.credentials = GoogleCredentials.get_application_default()\n",
        "drive = GoogleDrive(gauth)\n",
        "\n",
        "file_list = drive.ListFile(\n",
        "        {'q': f\"'1oVM1krBOzXbxgDN9hq8UqQjMxrgvLwzB' in parents\"}).GetList()\n",
        "\n",
        "for f in file_list:\n",
        "  if re.match(r'export.*\\.tar\\.gz', f['title']):\n",
        "    if f['labels']['trashed'] == False:\n",
        "      f_ = drive.CreateFile({'id': f['id']})\n",
        "      f_.GetContentFile(f['title'])\n",
        "      print('Created file %s with mimeType %s' % (f_['title'], f_['mimeType']))\n",
        "      print('Extracting files')\n",
        "      !tar -xvzf {f_['title']}\n",
        "      \n",
        "      \n",
        "# Import all the variables\n"
      ],
      "execution_count": 1,
      "outputs": [
        {
          "output_type": "stream",
          "text": [
            "\u001b[31mtextract 1.6.1 has requirement chardet==2.3.0, but you'll have chardet 3.0.4 which is incompatible.\u001b[0m\r\n",
            "\u001b[31mtextract 1.6.1 has requirement six==1.10.0, but you'll have six 1.11.0 which is incompatible.\u001b[0m\r\n",
            "\u001b[31mtensorboard 1.8.0 has requirement bleach==1.5.0, but you'll have bleach 2.1.3 which is incompatible.\u001b[0m\r\n",
            "\u001b[31mtensorboard 1.8.0 has requirement html5lib==0.9999999, but you'll have html5lib 1.0.1 which is incompatible.\u001b[0m\r\n",
            "\u001b[31mplotnine 0.3.0 has requirement scipy>=1.0.0, but you'll have scipy 0.19.1 which is incompatible.\u001b[0m\r\n",
            "Created file export1506.tar.gz with mimeType application/x-tar\n",
            "Extracting files\n",
            "./data/aclImdb/\n",
            "./data/aclImdb/models/\n",
            "./data/aclImdb/models/tmp.h5\n",
            "./data/aclImdb/models/lm_last_ft.h5\n",
            "./data/aclImdb/tmp/\n",
            "./data/imdb_clas/\n",
            "./data/imdb_clas/train.csv\n",
            "./data/imdb_clas/test.csv\n",
            "./data/imdb_clas/classes.txt\n",
            "./data/imdb_lm/\n",
            "./data/imdb_lm/tmp/\n",
            "./data/imdb_lm/tmp/itos.pkl\n",
            "./data/imdb_lm/tmp/trn_ids.npy\n",
            "./data/imdb_lm/tmp/val_ids.npy\n",
            "./data/imdb_lm/tmp/tok_val.npy\n",
            "./data/imdb_lm/tmp/tok_trn.npy\n",
            "Created file export1506.tar.gz with mimeType application/x-tar\n",
            "Extracting files\n",
            "./data/aclImdb/\n",
            "./data/aclImdb/models/\n",
            "./data/aclImdb/models/tmp.h5\n",
            "./data/aclImdb/models/lm_last_ft.h5\n",
            "./data/aclImdb/tmp/\n",
            "./data/imdb_clas/\n",
            "./data/imdb_clas/train.csv\n",
            "./data/imdb_clas/test.csv\n",
            "./data/imdb_clas/classes.txt\n",
            "./data/imdb_lm/\n",
            "./data/imdb_lm/tmp/\n",
            "./data/imdb_lm/tmp/itos.pkl\n",
            "./data/imdb_lm/tmp/trn_ids.npy\n",
            "./data/imdb_lm/tmp/val_ids.npy\n",
            "./data/imdb_lm/tmp/tok_val.npy\n",
            "./data/imdb_lm/tmp/tok_trn.npy\n"
          ],
          "name": "stdout"
        }
      ]
    },
    {
      "metadata": {
        "id": "y4BmnKY_z5F4",
        "colab_type": "text"
      },
      "cell_type": "markdown",
      "source": [
        "# Downloading PDFs from Google Drive"
      ]
    },
    {
      "metadata": {
        "id": "828julC_FLBF",
        "colab_type": "code",
        "colab": {
          "base_uri": "https://localhost:8080/",
          "height": 2074
        },
        "collapsed": true,
        "outputId": "49fe1fc4-9ac9-4bc5-959f-673f6ac70fed"
      },
      "cell_type": "code",
      "source": [
        "# choose a local (colab) directory to store the data.\n",
        "start_t = time.time()\n",
        "\n",
        "local_download_path = os.path.expanduser('~/data')\n",
        "try:\n",
        "  os.makedirs(local_download_path)\n",
        "except: pass\n",
        "\n",
        "ids = {'SDG 15 - Life on Land': '16O4EAd9uQomSH5CBy8zvZklCUujk8yzn',\n",
        "      'SDG 12 - Responsible Consumption and Production': '1h1n9hVcrT73a1sh9cuJDBmW0erBRa_ZS',\n",
        "      'SDG 10 - Reduced Inequalities': '1SLumvZ4n4BJM3zmXdIUWEplcjx2JGMN-',\n",
        "      'SDG 08 - Decent Work and Economic Growth': '1jIm9xN6PiGvnGQ9Xu0OSUZHsexuTTTaC',\n",
        "      'SDG 05 - Gender Equality': '116grOjLbS7j79UPvNEz0jEb3WR-4BVMX'}\n",
        "\n",
        "def download_files(ids):\n",
        "  for name, id in ids.items():\n",
        "    try:\n",
        "      os.makedirs(os.path.join(local_download_path, name))\n",
        "    except: pass\n",
        "    file_list = drive.ListFile(\n",
        "        {'q': f\"'{id}' in parents\"}).GetList()\n",
        "\n",
        "    for f in file_list:\n",
        "      # 3. Create & download by id.\n",
        "#       print('title: %s, id: %s' % (f['title'], f['id']))\n",
        "      fname = os.path.join(local_download_path, name, f['title'])\n",
        "      print('downloading to {}'.format(fname))\n",
        "      try:\n",
        "        f_ = drive.CreateFile({'id': f['id']})\n",
        "        f_.GetContentFile(fname)\n",
        "      except:pass\n",
        "      \n",
        "download_files(ids)\n",
        "\n",
        "print(f'Downloading the PDFs took {time.time() - start_t} seconds')"
      ],
      "execution_count": 6,
      "outputs": [
        {
          "output_type": "stream",
          "text": [
            "downloading to /content/data/SDG 15 - Life on Land/Reclaiming the City- Waterfront Development in Singapore.pdf\n",
            "downloading to /content/data/SDG 15 - Life on Land/ANIMAL PROTECTION LAWS OF SINGAPORE AND MALAYSIA.pdf\n",
            "downloading to /content/data/SDG 15 - Life on Land/SG sustainable future, law governance and management.pdf\n",
            "downloading to /content/data/SDG 15 - Life on Land/-A FINE CITY IN A GARDEN-ENVIRONMENTAL LAW AND GOVERNANCE IN SINGAPORE.pdf\n",
            "downloading to /content/data/SDG 15 - Life on Land/Kyoto Protocol.pdf\n",
            "downloading to /content/data/SDG 15 - Life on Land/Convention on the Law of the  International Watercourses.pdf\n",
            "downloading to /content/data/SDG 15 - Life on Land/Mekong River.pdf\n",
            "downloading to /content/data/SDG 15 - Life on Land/Pulp Mill on River Uruguay.pdf\n",
            "downloading to /content/data/SDG 15 - Life on Land/Mekong Agreement and Procedures.pdf\n",
            "downloading to /content/data/SDG 15 - Life on Land/UNFCC.pdf\n",
            "downloading to /content/data/SDG 15 - Life on Land/Env Laws SG.pdf\n",
            "downloading to /content/data/SDG 15 - Life on Land/Conservation Law Notes Singapore.pdf\n",
            "downloading to /content/data/SDG 15 - Life on Land/Conservation Law Notes.pdf\n",
            "downloading to /content/data/SDG 15 - Life on Land/MDG 2015 rev (July 1).pdf\n",
            "downloading to /content/data/SDG 15 - Life on Land/Agenda21.pdf\n",
            "downloading to /content/data/SDG 15 - Life on Land/ASEAN Agreement on Transboundary Haze Pollution.pdf\n",
            "downloading to /content/data/SDG 15 - Life on Land/MEM notes ICM.pdf\n",
            "downloading to /content/data/SDG 15 - Life on Land/MEM notes habitat fragmentation.pdf\n",
            "downloading to /content/data/SDG 15 - Life on Land/MEM Notes Designing nature reserves.pdf\n",
            "downloading to /content/data/SDG 15 - Life on Land/TBT.pdf\n",
            "downloading to /content/data/SDG 15 - Life on Land/Goh and Lai_MarPollutBull2013.pdf\n",
            "downloading to /content/data/SDG 15 - Life on Land/Ecological indices.pdf\n",
            "downloading to /content/data/SDG 15 - Life on Land/ENDANGERED SPECIES (IMPORT AND EXPORT) ACT.pdf\n",
            "downloading to /content/data/SDG 15 - Life on Land/PARKS AND TREES ACT.pdf\n",
            "downloading to /content/data/SDG 15 - Life on Land/Wild Animals and Birds Act.pdf\n",
            "downloading to /content/data/SDG 15 - Life on Land/WABA.pdf\n",
            "downloading to /content/data/SDG 15 - Life on Land/THE POTENTIAL OF OCYPODE CERATOPHTHALMUS (PALLAS, 1772) AS A BIOINDICATOR OF HUMAN DISTURBANCE ON SINGAPORE BEACHES.pdf\n",
            "downloading to /content/data/SDG 15 - Life on Land/CBD Global Biodiversity Outlook 3E 2010.pdf\n",
            "downloading to /content/data/SDG 15 - Life on Land/LASCO Carbon stocks of forest conversion APN Newsletter 2001.pdf\n",
            "downloading to /content/data/SDG 12 - Responsible Consumption and Production/Book\n",
            "downloading to /content/data/SDG 12 - Responsible Consumption and Production/Extension of environmental accounting.pdf\n",
            "downloading to /content/data/SDG 12 - Responsible Consumption and Production/Capsular view of CBA (1).pdf\n",
            "downloading to /content/data/SDG 12 - Responsible Consumption and Production/Chapter-8 BCA.pdf\n",
            "downloading to /content/data/SDG 12 - Responsible Consumption and Production/Environmental Valuation - Knetsch 1994.pdf\n",
            "downloading to /content/data/SDG 12 - Responsible Consumption and Production/Chapter-6  from Sinden and Thampapillai (1995) BCA.pdf\n",
            "downloading to /content/data/SDG 12 - Responsible Consumption and Production/Dixon 2008.pdf\n",
            "downloading to /content/data/SDG 12 - Responsible Consumption and Production/104328-WP-PUBLIC-OD-Habit-and-Nudging-Catalyst-Behavioral-Sciences-022916.pdf\n",
            "downloading to /content/data/SDG 12 - Responsible Consumption and Production/Lessons from Science Need for a Rethink of Concepts in Economics.pdf\n",
            "downloading to /content/data/SDG 12 - Responsible Consumption and Production/IMPERFECT INFORMATION INLEARNING OF ECONOMICS.pdf\n",
            "downloading to /content/data/SDG 12 - Responsible Consumption and Production/Thermodynamics on MainStreet.pdf\n",
            "downloading to /content/data/SDG 12 - Responsible Consumption and Production/Scneider and Kay.pdf\n",
            "downloading to /content/data/SDG 12 - Responsible Consumption and Production/Raine Foster Potts 2006.pdf\n",
            "downloading to /content/data/SDG 12 - Responsible Consumption and Production/Jeffrey Young 1991.pdf\n",
            "downloading to /content/data/SDG 12 - Responsible Consumption and Production/Herman Daly 1992.pdf\n",
            "downloading to /content/data/SDG 12 - Responsible Consumption and Production/Gowdy and Messener 1998.pdf\n",
            "downloading to /content/data/SDG 12 - Responsible Consumption and Production/Elias Khalil 2004.pdf\n"
          ],
          "name": "stdout"
        },
        {
          "output_type": "stream",
          "text": [
            "downloading to /content/data/SDG 12 - Responsible Consumption and Production/Cleveland and Ruth 1997.pdf\n",
            "downloading to /content/data/SDG 12 - Responsible Consumption and Production/Ayres 1999.pdf\n",
            "downloading to /content/data/SDG 12 - Responsible Consumption and Production/Supplement to Lecture 3.pdf\n",
            "downloading to /content/data/SDG 10 - Reduced Inequalities/birch-corporatesocialresponsibility-2004.pdf\n",
            "downloading to /content/data/SDG 10 - Reduced Inequalities/The_Dynamics_of_Corporate_Social_Responsibility_INSEAD.pdf\n",
            "downloading to /content/data/SDG 10 - Reduced Inequalities/1251121517Corporate Philanthropy in Asia.pdf\n",
            "downloading to /content/data/SDG 10 - Reduced Inequalities/Contextualising CSR in Asia_ Corporate Social Responsibility in A.pdf\n",
            "downloading to /content/data/SDG 10 - Reduced Inequalities/Engaging Employees in Community Investment at Pfizer.pdf\n",
            "downloading to /content/data/SDG 10 - Reduced Inequalities/Stakeholder Engagement and Sustainable CorporateCommunity Investment.pdf\n",
            "downloading to /content/data/SDG 10 - Reduced Inequalities/The strategic relevance of corporate community investments.pdf\n",
            "downloading to /content/data/SDG 10 - Reduced Inequalities/Beyond Corporate Social Responsibility- The Scope for Corporate Investment in Community Driven Development.pdf\n",
            "downloading to /content/data/SDG 10 - Reduced Inequalities/Corporate Philanthropy Report.pdf\n",
            "downloading to /content/data/SDG 10 - Reduced Inequalities/Reporting on Community Investment.pdf\n",
            "downloading to /content/data/SDG 10 - Reduced Inequalities/09-CSR in Asia A seven country study of CSR website reporting.PDF\n",
            "downloading to /content/data/SDG 10 - Reduced Inequalities/sdgs-business-reporting-analysis (Sep2017).pdf\n",
            "downloading to /content/data/SDG 10 - Reduced Inequalities/The Philanthropic Times are Changing in Asia.pdf\n",
            "downloading to /content/data/SDG 10 - Reduced Inequalities/JAMASocialEntImprovingGlobalHealth8pages copy.pdf\n",
            "downloading to /content/data/SDG 10 - Reduced Inequalities/acsep-working-paper-no5-ebook.pdf\n",
            "downloading to /content/data/SDG 10 - Reduced Inequalities/POTENTIAL AND PROSPECTS FOR PHILANTHROPY IN IMPLEMENTING POST-2015 DEVELOPMENT GOALS.pdf\n",
            "downloading to /content/data/SDG 10 - Reduced Inequalities/The evolution of Asia philanthropy.pdf\n",
            "downloading to /content/data/SDG 10 - Reduced Inequalities/Corporate-Philanthropy-in-China.pdf\n",
            "downloading to /content/data/SDG 10 - Reduced Inequalities/Corporate Measurement of Philanthropic Impacts as a Requirement for a “Happy Marriage” of Business and Society.pdf\n",
            "downloading to /content/data/SDG 10 - Reduced Inequalities/Investigating Philanthropy Initiatives in Chinese Higher Education.pdf\n",
            "downloading to /content/data/SDG 10 - Reduced Inequalities/Corporate giving in Taiwan- agency cost theory vs. value enhancement theory.pdf\n",
            "downloading to /content/data/SDG 10 - Reduced Inequalities/Corporate Social Responsibility and Gender Diversity.pdf\n",
            "downloading to /content/data/SDG 10 - Reduced Inequalities/Giving Circles in Asia- Newcomers to the Asian Philanthropy Landscape.pdf\n",
            "downloading to /content/data/SDG 10 - Reduced Inequalities/Institutional Ownership and Corporate Philanthropic Giving in an Emerging Economy.pdf\n",
            "downloading to /content/data/SDG 10 - Reduced Inequalities/The Business of Doing Good.pdf\n",
            "downloading to /content/data/SDG 10 - Reduced Inequalities/Does the Market Value Corporate Philanthropy? Evidence from the Response to the 2004 Tsunami Relief Effort.pdf\n",
            "downloading to /content/data/SDG 10 - Reduced Inequalities/Do Employees Support Corporate Philanthropy? Evidence from Chinese Listed Companies.pdf\n",
            "downloading to /content/data/SDG 10 - Reduced Inequalities/Corporate environmental responsibility (CER) weakness, media coverage, and corporate philanthropy- Evidence from China.pdf\n",
            "downloading to /content/data/SDG 10 - Reduced Inequalities/ESSAYS ON CORPORATE PHILANTHROPY AFTER CORPORATE SOCIAL IRRESPONSIBLE INCIDENTS .pdf\n",
            "downloading to /content/data/SDG 10 - Reduced Inequalities/Quality reporting of corporate philanthropy.pdf\n",
            "downloading to /content/data/SDG 10 - Reduced Inequalities/Impact of Corporate Social Responsibility Dimensions on Firm Value- Some Evidence from Hong Kong and China.pdf\n",
            "downloading to /content/data/SDG 08 - Decent Work and Economic Growth/Challenges and Opportunities to Promote Decent Work.pdf\n",
            "downloading to /content/data/SDG 08 - Decent Work and Economic Growth/Changing Employment Conditions of the Indian Workforce.pdf\n",
            "downloading to /content/data/SDG 08 - Decent Work and Economic Growth/Pro-Poor to Inclusive Growth.pdf\n",
            "downloading to /content/data/SDG 08 - Decent Work and Economic Growth/The Place of Social Capital.pdf\n",
            "downloading to /content/data/SDG 08 - Decent Work and Economic Growth/Economic Growth in South Asia.pdf\n",
            "downloading to /content/data/SDG 08 - Decent Work and Economic Growth/ADOLESCENTS, YOUTH AND DEVELOPMENT.pdf\n"
          ],
          "name": "stdout"
        },
        {
          "output_type": "stream",
          "text": [
            "downloading to /content/data/SDG 08 - Decent Work and Economic Growth/Globalization and its effects on youth employment trends in Asia.pdf\n",
            "downloading to /content/data/SDG 08 - Decent Work and Economic Growth/Global Production Systems and Decent Work.pdf\n",
            "downloading to /content/data/SDG 08 - Decent Work and Economic Growth/Decent Work.pdf\n",
            "downloading to /content/data/SDG 08 - Decent Work and Economic Growth/Marginality_from_Myth_to_Reality.pdf\n",
            "downloading to /content/data/SDG 08 - Decent Work and Economic Growth/Rising Informality.pdf\n",
            "downloading to /content/data/SDG 08 - Decent Work and Economic Growth/Decent Work Objectives and Activities.pdf\n",
            "downloading to /content/data/SDG 08 - Decent Work and Economic Growth/Women’s economic empowerment and inclusive growth.pdf\n",
            "downloading to /content/data/SDG 08 - Decent Work and Economic Growth/Measurement of decent work.pdf\n",
            "downloading to /content/data/SDG 08 - Decent Work and Economic Growth/ORGANISING AS A CATALYST FOR PROMOTING DECENT WORK.pdf\n",
            "downloading to /content/data/SDG 08 - Decent Work and Economic Growth/Labour_Regulations_and_Labour_Standards_in_India_D.pdf\n",
            "downloading to /content/data/SDG 08 - Decent Work and Economic Growth/Informalization, Economic Growth and the Challenge.pdf\n",
            "downloading to /content/data/SDG 08 - Decent Work and Economic Growth/The Nexus of Economic Growth, Employment and Poverty Reduction.pdf\n",
            "downloading to /content/data/SDG 08 - Decent Work and Economic Growth/Inclusive Growth toward a Prosperous Asia.pdf\n",
            "downloading to /content/data/SDG 08 - Decent Work and Economic Growth/Macroeconomic policy for full and productive employment and decent work for all.pdf\n",
            "downloading to /content/data/SDG 05 - Gender Equality/Arab Spring_ Women?s Empowerment in Algeria.pdf\n",
            "downloading to /content/data/SDG 05 - Gender Equality/Queer_LGBT Nigerian Diasporic Women in the USA.pdf\n",
            "downloading to /content/data/SDG 05 - Gender Equality/The Role of Women in the Arab World.pdf\n",
            "downloading to /content/data/SDG 05 - Gender Equality/Sexual and Gender-Based Violence.pdf\n",
            "downloading to /content/data/SDG 05 - Gender Equality/Sleeping Beauty as a Metaphor.pdf\n",
            "downloading to /content/data/SDG 05 - Gender Equality/Gender Differences in Aspirations for Career and Marriage.pdf\n",
            "downloading to /content/data/SDG 05 - Gender Equality/Indian Feminists in the Legal Reform Process.pdf\n",
            "downloading to /content/data/SDG 05 - Gender Equality/Cross-Gender Casting.pdf\n",
            "downloading to /content/data/SDG 05 - Gender Equality/Anti-Capitalist Feminism and Female Complicity.pdf\n",
            "downloading to /content/data/SDG 05 - Gender Equality/Earning Power of Mothers and Children?s Time Allocation.pdf\n",
            "downloading to /content/data/SDG 05 - Gender Equality/Prevention of Sexual Harassment of Women in the Workplace.pdf\n",
            "downloading to /content/data/SDG 05 - Gender Equality/Empowering Indonesian women through building digitalmedia literacy.pdf\n",
            "downloading to /content/data/SDG 05 - Gender Equality/Gender, Employment, and Work-Family Balance Policies in Singapore.pdf\n",
            "downloading to /content/data/SDG 05 - Gender Equality/Determinants of Female?s Employment Outcomes in Vietnam.pdf\n",
            "downloading to /content/data/SDG 05 - Gender Equality/Role Performance of Elected Panchayat Leaders in India.pdf\n",
            "downloading to /content/data/SDG 05 - Gender Equality/Study of Gender as Social Practice.pdf\n",
            "downloading to /content/data/SDG 05 - Gender Equality/Gender Poverty and Inequality.pdf\n",
            "downloading to /content/data/SDG 05 - Gender Equality/Comfort Women of South Korea.pdf\n",
            "downloading to /content/data/SDG 05 - Gender Equality/Diversity in Top Level Management and Firm Performance.pdf\n",
            "downloading to /content/data/SDG 05 - Gender Equality/Keys to Women?s Liberation in Communist China.pdf\n",
            "Downloading the PDFs took 85.23138356208801 seconds\n"
          ],
          "name": "stdout"
        }
      ]
    },
    {
      "metadata": {
        "id": "wrRHh7N_0Ahh",
        "colab_type": "text"
      },
      "cell_type": "markdown",
      "source": [
        "# Reading the PDF into DF"
      ]
    },
    {
      "metadata": {
        "id": "NlQNkPkaS9RL",
        "colab_type": "code",
        "colab": {
          "base_uri": "https://localhost:8080/",
          "height": 2295
        },
        "outputId": "6ea2d361-ca22-440f-fa74-87b83adee2f0"
      },
      "cell_type": "code",
      "source": [
        "# Reading the PDF\n",
        "df = pd.DataFrame()\n",
        "succ = 0\n",
        "fail = 0\n",
        "pattern = 'SDG (\\d{2})'\n",
        "s_t = time.time()\n",
        "\n",
        "for foldername in os.listdir(local_download_path):\n",
        "  if os.path.isdir(os.path.join(local_download_path, foldername)):\n",
        "    for filename in os.listdir(os.path.join(local_download_path, foldername)):\n",
        "      try:\n",
        "        print(os.path.join(local_download_path, foldername, filename))\n",
        "\n",
        "#         Old PyPDF2 code\n",
        "#         read_pdf = PyPDF2.PdfFileReader(os.path.join(local_download_path, foldername, filename))\n",
        "#         t = ''\n",
        "#         for p in range(0, read_pdf.getNumPages()):\n",
        "#           page = read_pdf.getPage(p)\n",
        "#           page_content = page.extractText()\n",
        "#           t += str(page_content.encode('utf-8'))\n",
        "\n",
        "        # Textract code\n",
        "        t = textract.process(os.path.join(local_download_path, foldername, filename))\n",
        "\n",
        "        df=df.append({'filename': filename, 'SDG': re.search(pattern, foldername).group(1),'fulltext': t}, ignore_index=True)\n",
        "        succ += 1\n",
        "      except Exception as e: \n",
        "        print(e)\n",
        "        fail += 1\n",
        "\n",
        "print(f'''Successfully processed {succ}/{succ+fail} pdfs''')\n",
        "print(f'Reading PDFs took {time.time()-s_t} seconds')"
      ],
      "execution_count": 13,
      "outputs": [
        {
          "output_type": "stream",
          "text": [
            "/content/data/imdb_lm/tmp\n",
            "[Errno 21] Is a directory: '/content/data/imdb_lm/tmp'\n",
            "/content/data/SDG 10 - Reduced Inequalities/ESSAYS ON CORPORATE PHILANTHROPY AFTER CORPORATE SOCIAL IRRESPONSIBLE INCIDENTS .pdf\n",
            "/content/data/SDG 10 - Reduced Inequalities/Giving Circles in Asia- Newcomers to the Asian Philanthropy Landscape.pdf\n",
            "/content/data/SDG 10 - Reduced Inequalities/1251121517Corporate Philanthropy in Asia.pdf\n",
            "/content/data/SDG 10 - Reduced Inequalities/Corporate giving in Taiwan- agency cost theory vs. value enhancement theory.pdf\n",
            "/content/data/SDG 10 - Reduced Inequalities/POTENTIAL AND PROSPECTS FOR PHILANTHROPY IN IMPLEMENTING POST-2015 DEVELOPMENT GOALS.pdf\n",
            "/content/data/SDG 10 - Reduced Inequalities/acsep-working-paper-no5-ebook.pdf\n",
            "/content/data/SDG 10 - Reduced Inequalities/Do Employees Support Corporate Philanthropy? Evidence from Chinese Listed Companies.pdf\n",
            "/content/data/SDG 10 - Reduced Inequalities/Institutional Ownership and Corporate Philanthropic Giving in an Emerging Economy.pdf\n",
            "/content/data/SDG 10 - Reduced Inequalities/Reporting on Community Investment.pdf\n",
            "/content/data/SDG 10 - Reduced Inequalities/birch-corporatesocialresponsibility-2004.pdf\n",
            "/content/data/SDG 10 - Reduced Inequalities/Corporate Philanthropy Report.pdf\n",
            "/content/data/SDG 10 - Reduced Inequalities/Investigating Philanthropy Initiatives in Chinese Higher Education.pdf\n",
            "/content/data/SDG 10 - Reduced Inequalities/Stakeholder Engagement and Sustainable CorporateCommunity Investment.pdf\n",
            "/content/data/SDG 10 - Reduced Inequalities/Engaging Employees in Community Investment at Pfizer.pdf\n",
            "/content/data/SDG 10 - Reduced Inequalities/Corporate-Philanthropy-in-China.pdf\n",
            "/content/data/SDG 10 - Reduced Inequalities/JAMASocialEntImprovingGlobalHealth8pages copy.pdf\n",
            "/content/data/SDG 10 - Reduced Inequalities/The Philanthropic Times are Changing in Asia.pdf\n",
            "/content/data/SDG 10 - Reduced Inequalities/The evolution of Asia philanthropy.pdf\n",
            "/content/data/SDG 10 - Reduced Inequalities/The Business of Doing Good.pdf\n",
            "/content/data/SDG 10 - Reduced Inequalities/09-CSR in Asia A seven country study of CSR website reporting.PDF\n",
            "/content/data/SDG 10 - Reduced Inequalities/Does the Market Value Corporate Philanthropy? Evidence from the Response to the 2004 Tsunami Relief Effort.pdf\n",
            "/content/data/SDG 10 - Reduced Inequalities/Contextualising CSR in Asia_ Corporate Social Responsibility in A.pdf\n",
            "/content/data/SDG 10 - Reduced Inequalities/Beyond Corporate Social Responsibility- The Scope for Corporate Investment in Community Driven Development.pdf\n",
            "/content/data/SDG 10 - Reduced Inequalities/The strategic relevance of corporate community investments.pdf\n",
            "/content/data/SDG 10 - Reduced Inequalities/The_Dynamics_of_Corporate_Social_Responsibility_INSEAD.pdf\n",
            "/content/data/SDG 10 - Reduced Inequalities/Corporate Social Responsibility and Gender Diversity.pdf\n",
            "/content/data/SDG 10 - Reduced Inequalities/sdgs-business-reporting-analysis (Sep2017).pdf\n",
            "/content/data/SDG 10 - Reduced Inequalities/Impact of Corporate Social Responsibility Dimensions on Firm Value- Some Evidence from Hong Kong and China.pdf\n",
            "/content/data/SDG 10 - Reduced Inequalities/Corporate environmental responsibility (CER) weakness, media coverage, and corporate philanthropy- Evidence from China.pdf\n",
            "/content/data/SDG 10 - Reduced Inequalities/Corporate Measurement of Philanthropic Impacts as a Requirement for a “Happy Marriage” of Business and Society.pdf\n",
            "/content/data/SDG 10 - Reduced Inequalities/Quality reporting of corporate philanthropy.pdf\n",
            "/content/data/SDG 08 - Decent Work and Economic Growth/Marginality_from_Myth_to_Reality.pdf\n",
            "/content/data/SDG 08 - Decent Work and Economic Growth/Economic Growth in South Asia.pdf\n",
            "/content/data/SDG 08 - Decent Work and Economic Growth/Informalization, Economic Growth and the Challenge.pdf\n",
            "/content/data/SDG 08 - Decent Work and Economic Growth/Measurement of decent work.pdf\n",
            "/content/data/SDG 08 - Decent Work and Economic Growth/Labour_Regulations_and_Labour_Standards_in_India_D.pdf\n",
            "/content/data/SDG 08 - Decent Work and Economic Growth/Changing Employment Conditions of the Indian Workforce.pdf\n",
            "/content/data/SDG 08 - Decent Work and Economic Growth/Rising Informality.pdf\n",
            "/content/data/SDG 08 - Decent Work and Economic Growth/The Nexus of Economic Growth, Employment and Poverty Reduction.pdf\n",
            "/content/data/SDG 08 - Decent Work and Economic Growth/Women’s economic empowerment and inclusive growth.pdf\n",
            "/content/data/SDG 08 - Decent Work and Economic Growth/Decent Work Objectives and Activities.pdf\n",
            "/content/data/SDG 08 - Decent Work and Economic Growth/Inclusive Growth toward a Prosperous Asia.pdf\n",
            "/content/data/SDG 08 - Decent Work and Economic Growth/ADOLESCENTS, YOUTH AND DEVELOPMENT.pdf\n"
          ],
          "name": "stdout"
        },
        {
          "output_type": "stream",
          "text": [
            "/content/data/SDG 08 - Decent Work and Economic Growth/Global Production Systems and Decent Work.pdf\n",
            "/content/data/SDG 08 - Decent Work and Economic Growth/ORGANISING AS A CATALYST FOR PROMOTING DECENT WORK.pdf\n",
            "/content/data/SDG 08 - Decent Work and Economic Growth/Decent Work.pdf\n",
            "/content/data/SDG 08 - Decent Work and Economic Growth/Pro-Poor to Inclusive Growth.pdf\n",
            "/content/data/SDG 08 - Decent Work and Economic Growth/Globalization and its effects on youth employment trends in Asia.pdf\n",
            "/content/data/SDG 08 - Decent Work and Economic Growth/Challenges and Opportunities to Promote Decent Work.pdf\n",
            "/content/data/SDG 08 - Decent Work and Economic Growth/Macroeconomic policy for full and productive employment and decent work for all.pdf\n",
            "/content/data/SDG 08 - Decent Work and Economic Growth/The Place of Social Capital.pdf\n",
            "/content/data/SDG 15 - Life on Land/LASCO Carbon stocks of forest conversion APN Newsletter 2001.pdf\n",
            "/content/data/SDG 15 - Life on Land/PARKS AND TREES ACT.pdf\n",
            "/content/data/SDG 15 - Life on Land/Mekong Agreement and Procedures.pdf\n",
            "'charmap' codec can't decode byte 0x9d in position 31361: character maps to <undefined>\n",
            "/content/data/SDG 15 - Life on Land/ANIMAL PROTECTION LAWS OF SINGAPORE AND MALAYSIA.pdf\n",
            "/content/data/SDG 15 - Life on Land/Convention on the Law of the  International Watercourses.pdf\n",
            "/content/data/SDG 15 - Life on Land/Conservation Law Notes Singapore.pdf\n",
            "/content/data/SDG 15 - Life on Land/ASEAN Agreement on Transboundary Haze Pollution.pdf\n",
            "/content/data/SDG 15 - Life on Land/Conservation Law Notes.pdf\n",
            "/content/data/SDG 15 - Life on Land/Ecological indices.pdf\n",
            "/content/data/SDG 15 - Life on Land/-A FINE CITY IN A GARDEN-ENVIRONMENTAL LAW AND GOVERNANCE IN SINGAPORE.pdf\n",
            "/content/data/SDG 15 - Life on Land/Wild Animals and Birds Act.pdf\n",
            "/content/data/SDG 15 - Life on Land/UNFCC.pdf\n",
            "/content/data/SDG 15 - Life on Land/MDG 2015 rev (July 1).pdf\n",
            "/content/data/SDG 15 - Life on Land/Mekong River.pdf\n",
            "/content/data/SDG 15 - Life on Land/Agenda21.pdf\n",
            "/content/data/SDG 15 - Life on Land/Kyoto Protocol.pdf\n",
            "/content/data/SDG 15 - Life on Land/MEM notes ICM.pdf\n",
            "/content/data/SDG 15 - Life on Land/TBT.pdf\n",
            "/content/data/SDG 15 - Life on Land/WABA.pdf\n",
            "/content/data/SDG 15 - Life on Land/Reclaiming the City- Waterfront Development in Singapore.pdf\n",
            "/content/data/SDG 15 - Life on Land/ENDANGERED SPECIES (IMPORT AND EXPORT) ACT.pdf\n",
            "/content/data/SDG 15 - Life on Land/Env Laws SG.pdf\n",
            "/content/data/SDG 15 - Life on Land/THE POTENTIAL OF OCYPODE CERATOPHTHALMUS (PALLAS, 1772) AS A BIOINDICATOR OF HUMAN DISTURBANCE ON SINGAPORE BEACHES.pdf\n",
            "/content/data/SDG 15 - Life on Land/SG sustainable future, law governance and management.pdf\n",
            "/content/data/SDG 15 - Life on Land/MEM notes habitat fragmentation.pdf\n",
            "/content/data/SDG 15 - Life on Land/MEM Notes Designing nature reserves.pdf\n",
            "/content/data/SDG 15 - Life on Land/Goh and Lai_MarPollutBull2013.pdf\n",
            "/content/data/SDG 15 - Life on Land/CBD Global Biodiversity Outlook 3E 2010.pdf\n",
            "/content/data/SDG 15 - Life on Land/Pulp Mill on River Uruguay.pdf\n",
            "/content/data/SDG 05 - Gender Equality/Gender Poverty and Inequality.pdf\n",
            "/content/data/SDG 05 - Gender Equality/Indian Feminists in the Legal Reform Process.pdf\n",
            "/content/data/SDG 05 - Gender Equality/Queer_LGBT Nigerian Diasporic Women in the USA.pdf\n",
            "/content/data/SDG 05 - Gender Equality/Determinants of Female?s Employment Outcomes in Vietnam.pdf\n",
            "/content/data/SDG 05 - Gender Equality/Anti-Capitalist Feminism and Female Complicity.pdf\n",
            "/content/data/SDG 05 - Gender Equality/The Role of Women in the Arab World.pdf\n",
            "/content/data/SDG 05 - Gender Equality/Empowering Indonesian women through building digitalmedia literacy.pdf\n",
            "/content/data/SDG 05 - Gender Equality/Study of Gender as Social Practice.pdf\n",
            "/content/data/SDG 05 - Gender Equality/Arab Spring_ Women?s Empowerment in Algeria.pdf\n",
            "/content/data/SDG 05 - Gender Equality/Cross-Gender Casting.pdf\n",
            "/content/data/SDG 05 - Gender Equality/Sexual and Gender-Based Violence.pdf\n",
            "/content/data/SDG 05 - Gender Equality/Gender Differences in Aspirations for Career and Marriage.pdf\n",
            "/content/data/SDG 05 - Gender Equality/Prevention of Sexual Harassment of Women in the Workplace.pdf\n",
            "/content/data/SDG 05 - Gender Equality/Keys to Women?s Liberation in Communist China.pdf\n",
            "/content/data/SDG 05 - Gender Equality/Role Performance of Elected Panchayat Leaders in India.pdf\n",
            "/content/data/SDG 05 - Gender Equality/Diversity in Top Level Management and Firm Performance.pdf\n"
          ],
          "name": "stdout"
        },
        {
          "output_type": "stream",
          "text": [
            "/content/data/SDG 05 - Gender Equality/Earning Power of Mothers and Children?s Time Allocation.pdf\n",
            "/content/data/SDG 05 - Gender Equality/Gender, Employment, and Work-Family Balance Policies in Singapore.pdf\n",
            "/content/data/SDG 05 - Gender Equality/Sleeping Beauty as a Metaphor.pdf\n",
            "/content/data/SDG 05 - Gender Equality/Comfort Women of South Korea.pdf\n",
            "/content/data/aclImdb/models\n",
            "[Errno 21] Is a directory: '/content/data/aclImdb/models'\n",
            "/content/data/aclImdb/tmp\n",
            "[Errno 21] Is a directory: '/content/data/aclImdb/tmp'\n",
            "/content/data/SDG 12 - Responsible Consumption and Production/Jeffrey Young 1991.pdf\n",
            "/content/data/SDG 12 - Responsible Consumption and Production/Lessons from Science Need for a Rethink of Concepts in Economics.pdf\n",
            "/content/data/SDG 12 - Responsible Consumption and Production/Chapter-6  from Sinden and Thampapillai (1995) BCA.pdf\n",
            "/content/data/SDG 12 - Responsible Consumption and Production/Thermodynamics on MainStreet.pdf\n",
            "/content/data/SDG 12 - Responsible Consumption and Production/Cleveland and Ruth 1997.pdf\n",
            "/content/data/SDG 12 - Responsible Consumption and Production/Scneider and Kay.pdf\n",
            "/content/data/SDG 12 - Responsible Consumption and Production/Elias Khalil 2004.pdf\n",
            "/content/data/SDG 12 - Responsible Consumption and Production/Herman Daly 1992.pdf\n",
            "/content/data/SDG 12 - Responsible Consumption and Production/Raine Foster Potts 2006.pdf\n",
            "/content/data/SDG 12 - Responsible Consumption and Production/Capsular view of CBA (1).pdf\n",
            "/content/data/SDG 12 - Responsible Consumption and Production/Dixon 2008.pdf\n",
            "/content/data/SDG 12 - Responsible Consumption and Production/Ayres 1999.pdf\n",
            "/content/data/SDG 12 - Responsible Consumption and Production/Gowdy and Messener 1998.pdf\n",
            "/content/data/SDG 12 - Responsible Consumption and Production/Chapter-8 BCA.pdf\n",
            "/content/data/SDG 12 - Responsible Consumption and Production/104328-WP-PUBLIC-OD-Habit-and-Nudging-Catalyst-Behavioral-Sciences-022916.pdf\n",
            "/content/data/SDG 12 - Responsible Consumption and Production/IMPERFECT INFORMATION INLEARNING OF ECONOMICS.pdf\n",
            "/content/data/SDG 12 - Responsible Consumption and Production/Environmental Valuation - Knetsch 1994.pdf\n",
            "/content/data/SDG 12 - Responsible Consumption and Production/Extension of environmental accounting.pdf\n",
            "/content/data/SDG 12 - Responsible Consumption and Production/Supplement to Lecture 3.pdf\n",
            "/content/data/imdb_clas/classes.txt\n",
            "'NoneType' object has no attribute 'group'\n",
            "/content/data/imdb_clas/train.csv\n",
            "field larger than field limit (131072)\n",
            "/content/data/imdb_clas/test.csv\n",
            "field larger than field limit (131072)\n",
            "Successfully processed 118/125 pdfs\n",
            "Reading PDFs took 81.51319146156311 seconds\n"
          ],
          "name": "stdout"
        }
      ]
    },
    {
      "metadata": {
        "id": "_RJ_4obbUgiZ",
        "colab_type": "code",
        "colab": {}
      },
      "cell_type": "code",
      "source": [
        "df.to_pickle('data/df.pkl')"
      ],
      "execution_count": 0,
      "outputs": []
    },
    {
      "metadata": {
        "id": "pMIDQ0VfU2-G",
        "colab_type": "code",
        "colab": {}
      },
      "cell_type": "code",
      "source": [
        "df = pd.read_pickle('data/df.pkl')"
      ],
      "execution_count": 0,
      "outputs": []
    },
    {
      "metadata": {
        "id": "1Kmnu1CsdNtw",
        "colab_type": "code",
        "colab": {
          "base_uri": "https://localhost:8080/",
          "height": 204
        },
        "outputId": "357f614e-7afe-4015-d5b2-940cbd02c805"
      },
      "cell_type": "code",
      "source": [
        "df.head()"
      ],
      "execution_count": 17,
      "outputs": [
        {
          "output_type": "execute_result",
          "data": {
            "text/html": [
              "<div>\n",
              "<style scoped>\n",
              "    .dataframe tbody tr th:only-of-type {\n",
              "        vertical-align: middle;\n",
              "    }\n",
              "\n",
              "    .dataframe tbody tr th {\n",
              "        vertical-align: top;\n",
              "    }\n",
              "\n",
              "    .dataframe thead th {\n",
              "        text-align: right;\n",
              "    }\n",
              "</style>\n",
              "<table border=\"1\" class=\"dataframe\">\n",
              "  <thead>\n",
              "    <tr style=\"text-align: right;\">\n",
              "      <th></th>\n",
              "      <th>SDG</th>\n",
              "      <th>filename</th>\n",
              "      <th>fulltext</th>\n",
              "    </tr>\n",
              "  </thead>\n",
              "  <tbody>\n",
              "    <tr>\n",
              "      <th>0</th>\n",
              "      <td>10</td>\n",
              "      <td>ESSAYS ON CORPORATE PHILANTHROPY AFTER CORPORA...</td>\n",
              "      <td>b'ESSAYS ON CORPORATE PHILANTHROPY AFTER\\nCORP...</td>\n",
              "    </tr>\n",
              "    <tr>\n",
              "      <th>1</th>\n",
              "      <td>10</td>\n",
              "      <td>Giving Circles in Asia- Newcomers to the Asian...</td>\n",
              "      <td>b'doi: 10.9707/1944-5660.1227\\n\\nR E S U LT S\\...</td>\n",
              "    </tr>\n",
              "    <tr>\n",
              "      <th>2</th>\n",
              "      <td>10</td>\n",
              "      <td>1251121517Corporate Philanthropy in Asia.pdf</td>\n",
              "      <td>b'Corporate Philanthropy in Asia: The Philippi...</td>\n",
              "    </tr>\n",
              "    <tr>\n",
              "      <th>3</th>\n",
              "      <td>10</td>\n",
              "      <td>Corporate giving in Taiwan- agency cost theory...</td>\n",
              "      <td>b'Asia Pacific Business Review\\n\\nISSN: 1360-2...</td>\n",
              "    </tr>\n",
              "    <tr>\n",
              "      <th>4</th>\n",
              "      <td>10</td>\n",
              "      <td>POTENTIAL AND PROSPECTS FOR PHILANTHROPY IN IM...</td>\n",
              "      <td>b'Potential and Prospects for Philanthropy in ...</td>\n",
              "    </tr>\n",
              "  </tbody>\n",
              "</table>\n",
              "</div>"
            ],
            "text/plain": [
              "  SDG                                           filename  \\\n",
              "0  10  ESSAYS ON CORPORATE PHILANTHROPY AFTER CORPORA...   \n",
              "1  10  Giving Circles in Asia- Newcomers to the Asian...   \n",
              "2  10       1251121517Corporate Philanthropy in Asia.pdf   \n",
              "3  10  Corporate giving in Taiwan- agency cost theory...   \n",
              "4  10  POTENTIAL AND PROSPECTS FOR PHILANTHROPY IN IM...   \n",
              "\n",
              "                                            fulltext  \n",
              "0  b'ESSAYS ON CORPORATE PHILANTHROPY AFTER\\nCORP...  \n",
              "1  b'doi: 10.9707/1944-5660.1227\\n\\nR E S U LT S\\...  \n",
              "2  b'Corporate Philanthropy in Asia: The Philippi...  \n",
              "3  b'Asia Pacific Business Review\\n\\nISSN: 1360-2...  \n",
              "4  b'Potential and Prospects for Philanthropy in ...  "
            ]
          },
          "metadata": {
            "tags": []
          },
          "execution_count": 17
        }
      ]
    },
    {
      "metadata": {
        "id": "qh-IBvLohoD3",
        "colab_type": "code",
        "colab": {
          "base_uri": "https://localhost:8080/",
          "height": 235
        },
        "outputId": "1ca6e2e2-68b5-4ef7-806a-a8f1f1dc445f"
      },
      "cell_type": "code",
      "source": [
        "# Count of articles by SDG\n",
        "(df\n",
        " .groupby('SDG')\n",
        " .count())"
      ],
      "execution_count": 18,
      "outputs": [
        {
          "output_type": "execute_result",
          "data": {
            "text/html": [
              "<div>\n",
              "<style scoped>\n",
              "    .dataframe tbody tr th:only-of-type {\n",
              "        vertical-align: middle;\n",
              "    }\n",
              "\n",
              "    .dataframe tbody tr th {\n",
              "        vertical-align: top;\n",
              "    }\n",
              "\n",
              "    .dataframe thead th {\n",
              "        text-align: right;\n",
              "    }\n",
              "</style>\n",
              "<table border=\"1\" class=\"dataframe\">\n",
              "  <thead>\n",
              "    <tr style=\"text-align: right;\">\n",
              "      <th></th>\n",
              "      <th>filename</th>\n",
              "      <th>fulltext</th>\n",
              "    </tr>\n",
              "    <tr>\n",
              "      <th>SDG</th>\n",
              "      <th></th>\n",
              "      <th></th>\n",
              "    </tr>\n",
              "  </thead>\n",
              "  <tbody>\n",
              "    <tr>\n",
              "      <th>05</th>\n",
              "      <td>20</td>\n",
              "      <td>20</td>\n",
              "    </tr>\n",
              "    <tr>\n",
              "      <th>08</th>\n",
              "      <td>20</td>\n",
              "      <td>20</td>\n",
              "    </tr>\n",
              "    <tr>\n",
              "      <th>10</th>\n",
              "      <td>31</td>\n",
              "      <td>31</td>\n",
              "    </tr>\n",
              "    <tr>\n",
              "      <th>12</th>\n",
              "      <td>19</td>\n",
              "      <td>19</td>\n",
              "    </tr>\n",
              "    <tr>\n",
              "      <th>15</th>\n",
              "      <td>28</td>\n",
              "      <td>28</td>\n",
              "    </tr>\n",
              "  </tbody>\n",
              "</table>\n",
              "</div>"
            ],
            "text/plain": [
              "     filename  fulltext\n",
              "SDG                    \n",
              "05         20        20\n",
              "08         20        20\n",
              "10         31        31\n",
              "12         19        19\n",
              "15         28        28"
            ]
          },
          "metadata": {
            "tags": []
          },
          "execution_count": 18
        }
      ]
    },
    {
      "metadata": {
        "id": "t8kOpMD9jfYR",
        "colab_type": "code",
        "colab": {
          "base_uri": "https://localhost:8080/",
          "height": 235
        },
        "outputId": "a3c8feca-a7dd-4c92-b95c-2fb952783a66"
      },
      "cell_type": "code",
      "source": [
        "# Short article lengths, usually not read by the pdf reader correctly\n",
        "df_short =(df\n",
        "           .assign(text_len = lambda x: x.fulltext.str.len())\n",
        "           .query('text_len < 5000'))\n",
        "\n",
        "# Removing these articles from analysis\n",
        "df_usable = df[~df.filename.isin(df_short.filename)]\n",
        "\n",
        "(df_usable\n",
        " .groupby('SDG')\n",
        " .count())"
      ],
      "execution_count": 19,
      "outputs": [
        {
          "output_type": "execute_result",
          "data": {
            "text/html": [
              "<div>\n",
              "<style scoped>\n",
              "    .dataframe tbody tr th:only-of-type {\n",
              "        vertical-align: middle;\n",
              "    }\n",
              "\n",
              "    .dataframe tbody tr th {\n",
              "        vertical-align: top;\n",
              "    }\n",
              "\n",
              "    .dataframe thead th {\n",
              "        text-align: right;\n",
              "    }\n",
              "</style>\n",
              "<table border=\"1\" class=\"dataframe\">\n",
              "  <thead>\n",
              "    <tr style=\"text-align: right;\">\n",
              "      <th></th>\n",
              "      <th>filename</th>\n",
              "      <th>fulltext</th>\n",
              "    </tr>\n",
              "    <tr>\n",
              "      <th>SDG</th>\n",
              "      <th></th>\n",
              "      <th></th>\n",
              "    </tr>\n",
              "  </thead>\n",
              "  <tbody>\n",
              "    <tr>\n",
              "      <th>05</th>\n",
              "      <td>20</td>\n",
              "      <td>20</td>\n",
              "    </tr>\n",
              "    <tr>\n",
              "      <th>08</th>\n",
              "      <td>20</td>\n",
              "      <td>20</td>\n",
              "    </tr>\n",
              "    <tr>\n",
              "      <th>10</th>\n",
              "      <td>29</td>\n",
              "      <td>29</td>\n",
              "    </tr>\n",
              "    <tr>\n",
              "      <th>12</th>\n",
              "      <td>15</td>\n",
              "      <td>15</td>\n",
              "    </tr>\n",
              "    <tr>\n",
              "      <th>15</th>\n",
              "      <td>24</td>\n",
              "      <td>24</td>\n",
              "    </tr>\n",
              "  </tbody>\n",
              "</table>\n",
              "</div>"
            ],
            "text/plain": [
              "     filename  fulltext\n",
              "SDG                    \n",
              "05         20        20\n",
              "08         20        20\n",
              "10         29        29\n",
              "12         15        15\n",
              "15         24        24"
            ]
          },
          "metadata": {
            "tags": []
          },
          "execution_count": 19
        }
      ]
    },
    {
      "metadata": {
        "id": "VHTpPK1uLjUr",
        "colab_type": "code",
        "colab": {}
      },
      "cell_type": "code",
      "source": [
        "from fastai.text import *\n",
        "import html\n",
        "\n",
        "BOS = 'xbos'  # beginning-of-sentence tag\n",
        "FLD = 'xfld'  # data field tag\n",
        "\n",
        "PATH=Path('data/aclImdb/')\n",
        "\n",
        "CLAS_PATH=Path('data/imdb_clas/')\n",
        "CLAS_PATH.mkdir(exist_ok=True)\n",
        "\n",
        "LM_PATH=Path('data/imdb_lm/')\n",
        "LM_PATH.mkdir(exist_ok=True)\n",
        "\n",
        "col_names = ['labels','text']\n",
        "\n",
        "chunksize=24000"
      ],
      "execution_count": 0,
      "outputs": []
    },
    {
      "metadata": {
        "id": "syyrJbUTBQgZ",
        "colab_type": "code",
        "colab": {}
      },
      "cell_type": "code",
      "source": [
        "trn_texts,val_texts = sklearn.model_selection.train_test_split(\n",
        "    df_usable, test_size=0.1)"
      ],
      "execution_count": 0,
      "outputs": []
    },
    {
      "metadata": {
        "id": "zw40WUDoBmfL",
        "colab_type": "code",
        "colab": {
          "base_uri": "https://localhost:8080/",
          "height": 34
        },
        "outputId": "fb37029b-79a5-497e-b33f-f8f28df98a74"
      },
      "cell_type": "code",
      "source": [
        "len(trn_texts), len(val_texts)"
      ],
      "execution_count": 22,
      "outputs": [
        {
          "output_type": "execute_result",
          "data": {
            "text/plain": [
              "(97, 11)"
            ]
          },
          "metadata": {
            "tags": []
          },
          "execution_count": 22
        }
      ]
    },
    {
      "metadata": {
        "id": "bk8U303bC5H2",
        "colab_type": "code",
        "colab": {
          "base_uri": "https://localhost:8080/",
          "height": 235
        },
        "outputId": "cb169095-ec68-41c5-e53c-e612c9727c1e"
      },
      "cell_type": "code",
      "source": [
        "(trn_texts\n",
        " .groupby('SDG')\n",
        " .count())"
      ],
      "execution_count": 23,
      "outputs": [
        {
          "output_type": "execute_result",
          "data": {
            "text/html": [
              "<div>\n",
              "<style scoped>\n",
              "    .dataframe tbody tr th:only-of-type {\n",
              "        vertical-align: middle;\n",
              "    }\n",
              "\n",
              "    .dataframe tbody tr th {\n",
              "        vertical-align: top;\n",
              "    }\n",
              "\n",
              "    .dataframe thead th {\n",
              "        text-align: right;\n",
              "    }\n",
              "</style>\n",
              "<table border=\"1\" class=\"dataframe\">\n",
              "  <thead>\n",
              "    <tr style=\"text-align: right;\">\n",
              "      <th></th>\n",
              "      <th>filename</th>\n",
              "      <th>fulltext</th>\n",
              "    </tr>\n",
              "    <tr>\n",
              "      <th>SDG</th>\n",
              "      <th></th>\n",
              "      <th></th>\n",
              "    </tr>\n",
              "  </thead>\n",
              "  <tbody>\n",
              "    <tr>\n",
              "      <th>05</th>\n",
              "      <td>18</td>\n",
              "      <td>18</td>\n",
              "    </tr>\n",
              "    <tr>\n",
              "      <th>08</th>\n",
              "      <td>19</td>\n",
              "      <td>19</td>\n",
              "    </tr>\n",
              "    <tr>\n",
              "      <th>10</th>\n",
              "      <td>26</td>\n",
              "      <td>26</td>\n",
              "    </tr>\n",
              "    <tr>\n",
              "      <th>12</th>\n",
              "      <td>12</td>\n",
              "      <td>12</td>\n",
              "    </tr>\n",
              "    <tr>\n",
              "      <th>15</th>\n",
              "      <td>22</td>\n",
              "      <td>22</td>\n",
              "    </tr>\n",
              "  </tbody>\n",
              "</table>\n",
              "</div>"
            ],
            "text/plain": [
              "     filename  fulltext\n",
              "SDG                    \n",
              "05         18        18\n",
              "08         19        19\n",
              "10         26        26\n",
              "12         12        12\n",
              "15         22        22"
            ]
          },
          "metadata": {
            "tags": []
          },
          "execution_count": 23
        }
      ]
    },
    {
      "metadata": {
        "id": "i7adOPJFC7cI",
        "colab_type": "code",
        "colab": {
          "base_uri": "https://localhost:8080/",
          "height": 235
        },
        "outputId": "927a5ab4-b222-40e8-ae91-a0449edd5508"
      },
      "cell_type": "code",
      "source": [
        "(val_texts\n",
        " .groupby('SDG')\n",
        " .count())"
      ],
      "execution_count": 24,
      "outputs": [
        {
          "output_type": "execute_result",
          "data": {
            "text/html": [
              "<div>\n",
              "<style scoped>\n",
              "    .dataframe tbody tr th:only-of-type {\n",
              "        vertical-align: middle;\n",
              "    }\n",
              "\n",
              "    .dataframe tbody tr th {\n",
              "        vertical-align: top;\n",
              "    }\n",
              "\n",
              "    .dataframe thead th {\n",
              "        text-align: right;\n",
              "    }\n",
              "</style>\n",
              "<table border=\"1\" class=\"dataframe\">\n",
              "  <thead>\n",
              "    <tr style=\"text-align: right;\">\n",
              "      <th></th>\n",
              "      <th>filename</th>\n",
              "      <th>fulltext</th>\n",
              "    </tr>\n",
              "    <tr>\n",
              "      <th>SDG</th>\n",
              "      <th></th>\n",
              "      <th></th>\n",
              "    </tr>\n",
              "  </thead>\n",
              "  <tbody>\n",
              "    <tr>\n",
              "      <th>05</th>\n",
              "      <td>2</td>\n",
              "      <td>2</td>\n",
              "    </tr>\n",
              "    <tr>\n",
              "      <th>08</th>\n",
              "      <td>1</td>\n",
              "      <td>1</td>\n",
              "    </tr>\n",
              "    <tr>\n",
              "      <th>10</th>\n",
              "      <td>3</td>\n",
              "      <td>3</td>\n",
              "    </tr>\n",
              "    <tr>\n",
              "      <th>12</th>\n",
              "      <td>3</td>\n",
              "      <td>3</td>\n",
              "    </tr>\n",
              "    <tr>\n",
              "      <th>15</th>\n",
              "      <td>2</td>\n",
              "      <td>2</td>\n",
              "    </tr>\n",
              "  </tbody>\n",
              "</table>\n",
              "</div>"
            ],
            "text/plain": [
              "     filename  fulltext\n",
              "SDG                    \n",
              "05          2         2\n",
              "08          1         1\n",
              "10          3         3\n",
              "12          3         3\n",
              "15          2         2"
            ]
          },
          "metadata": {
            "tags": []
          },
          "execution_count": 24
        }
      ]
    },
    {
      "metadata": {
        "id": "alVDqogRDPVl",
        "colab_type": "text"
      },
      "cell_type": "markdown",
      "source": [
        "# Saving text in standard csv format with labels"
      ]
    },
    {
      "metadata": {
        "id": "Mz-5R0Lvqy5t",
        "colab_type": "code",
        "colab": {}
      },
      "cell_type": "code",
      "source": [
        "# TODO to save the text files in the 'standard csv format with labels' as mentioned in fastai before data processing\n",
        "# this is to facilitate the chunk processing of the text\n",
        "\n",
        "(trn_texts\n",
        " [['SDG','fulltext']]\n",
        " .rename({'SDG': 'labels', 'fulltext': 'text'}, axis = 1)\n",
        " .to_csv(CLAS_PATH/'train.csv', header=False, index=False)\n",
        ")\n",
        "\n",
        "(val_texts\n",
        " [['SDG','fulltext']]\n",
        " .rename({'SDG': 'labels', 'fulltext': 'text'}, axis = 1)\n",
        " .to_csv(CLAS_PATH/'test.csv', header=False, index=False)\n",
        ")\n",
        "\n",
        "(CLAS_PATH/'classes.txt').open('w').writelines(f'{k}\\n' for k in ids.keys())"
      ],
      "execution_count": 0,
      "outputs": []
    },
    {
      "metadata": {
        "id": "FA78SZxdDdPy",
        "colab_type": "text"
      },
      "cell_type": "markdown",
      "source": [
        "# Cleaning of text and tokenising"
      ]
    },
    {
      "metadata": {
        "id": "lnI4oj58Obrr",
        "colab_type": "code",
        "colab": {}
      },
      "cell_type": "code",
      "source": [
        "re1 = re.compile(r'  +')\n",
        "\n",
        "def fixup(x):\n",
        "    x = x.replace('#39;', \"'\").replace('amp;', '&').replace('#146;', \"'\").replace(\n",
        "        'nbsp;', ' ').replace('#36;', '$').replace('\\\\n', \"\\n\").replace('quot;', \"'\").replace(\n",
        "        '<br />', \"\\n\").replace('\\\\\"', '\"').replace('<unk>','u_n').replace(' @.@ ','.').replace(\n",
        "        ' @-@ ','-').replace('\\\\', ' \\\\ ')\n",
        "    return re1.sub(' ', html.unescape(x))    #html.unescape() Convert all named and numeric character references (e.g. &gt;, &#62;, &x3e;) in the string to the corresponding unicode(actual) characters."
      ],
      "execution_count": 0,
      "outputs": []
    },
    {
      "metadata": {
        "id": "pSxweD2PLpmL",
        "colab_type": "code",
        "colab": {}
      },
      "cell_type": "code",
      "source": [
        "def get_texts(df, n_lbls=1):\n",
        "    labels = df.iloc[:,range(n_lbls)].values.astype(np.int64)\n",
        "    texts = f'\\n{BOS} {FLD} 1 ' + df[n_lbls].astype(str)\n",
        "    for i in range(n_lbls+1, len(df.columns)): texts += f' {FLD} {i-n_lbls} ' + df[i].astype(str)\n",
        "    texts = texts.apply(fixup).values.astype(str)\n",
        "\n",
        "    tok = Tokenizer().proc_all_mp(partition_by_cores(texts))\n",
        "    return tok, list(labels)"
      ],
      "execution_count": 0,
      "outputs": []
    },
    {
      "metadata": {
        "id": "TCMOM7zuJlQZ",
        "colab_type": "code",
        "colab": {}
      },
      "cell_type": "code",
      "source": [
        "def get_all(df, n_lbls):\n",
        "    tok, labels = [], []\n",
        "    for i, r in enumerate(df):\n",
        "        print(i)\n",
        "        tok_, labels_ = get_texts(r, n_lbls)\n",
        "        tok += tok_;\n",
        "        labels += labels_\n",
        "    return tok, labels"
      ],
      "execution_count": 0,
      "outputs": []
    },
    {
      "metadata": {
        "id": "xaEWis36Jl9g",
        "colab_type": "code",
        "colab": {}
      },
      "cell_type": "code",
      "source": [
        "df_trn = pd.read_csv(CLAS_PATH/'train.csv', header=None, chunksize=chunksize)\n",
        "df_val = pd.read_csv(CLAS_PATH/'test.csv', header=None, chunksize=chunksize)"
      ],
      "execution_count": 0,
      "outputs": []
    },
    {
      "metadata": {
        "id": "B4GUMoxN6ttx",
        "colab_type": "code",
        "colab": {
          "base_uri": "https://localhost:8080/",
          "height": 51
        },
        "outputId": "477ff44b-25f5-4a93-f023-c35e0acd9be5"
      },
      "cell_type": "code",
      "source": [
        "tok_trn, trn_labels = get_all(df_trn, 1)\n",
        "tok_val, val_labels = get_all(df_val, 1)"
      ],
      "execution_count": 47,
      "outputs": [
        {
          "output_type": "stream",
          "text": [
            "0\n",
            "0\n"
          ],
          "name": "stdout"
        }
      ]
    },
    {
      "metadata": {
        "id": "xmDuN2A0DJuU",
        "colab_type": "code",
        "colab": {}
      },
      "cell_type": "code",
      "source": [
        "(LM_PATH/'tmp').mkdir(exist_ok=True)"
      ],
      "execution_count": 0,
      "outputs": []
    },
    {
      "metadata": {
        "id": "0TJQMVCRDLd0",
        "colab_type": "code",
        "colab": {}
      },
      "cell_type": "code",
      "source": [
        "np.save(LM_PATH/'tmp'/'tok_trn.npy', tok_trn)\n",
        "np.save(LM_PATH/'tmp'/'tok_val.npy', tok_val)"
      ],
      "execution_count": 0,
      "outputs": []
    },
    {
      "metadata": {
        "id": "do77eKlUDM6_",
        "colab_type": "code",
        "colab": {}
      },
      "cell_type": "code",
      "source": [
        "tok_trn = np.load(LM_PATH/'tmp'/'tok_trn.npy')\n",
        "tok_val = np.load(LM_PATH/'tmp'/'tok_val.npy')"
      ],
      "execution_count": 0,
      "outputs": []
    },
    {
      "metadata": {
        "id": "7c4wa4Xw8IYh",
        "colab_type": "code",
        "colab": {
          "base_uri": "https://localhost:8080/",
          "height": 442
        },
        "outputId": "bfc87c46-e6da-49d3-ba07-58e864fb9585"
      },
      "cell_type": "code",
      "source": [
        "freq = Counter(p for o in tok_trn for p in o)\n",
        "freq.most_common(50)"
      ],
      "execution_count": 51,
      "outputs": [
        {
          "output_type": "execute_result",
          "data": {
            "text/plain": [
              "[('\\n', 136309),\n",
              " ('\\\\', 101355),\n",
              " (',', 87671),\n",
              " ('the', 79145),\n",
              " ('.', 70453),\n",
              " ('of', 58378),\n",
              " ('and', 57940),\n",
              " ('\\n\\n', 45748),\n",
              " ('in', 35807),\n",
              " ('to', 34842),\n",
              " ('xe2', 28000),\n",
              " ('x80', 26530),\n",
              " (')', 22932),\n",
              " ('t_up', 21983),\n",
              " ('(', 21746),\n",
              " ('a', 20645),\n",
              " ('-', 18057),\n",
              " ('for', 15714),\n",
              " ('is', 12839),\n",
              " (':', 11818),\n",
              " ('that', 11489),\n",
              " ('as', 10352),\n",
              " ('on', 10306),\n",
              " ('/', 9607),\n",
              " ('with', 8493)]"
            ]
          },
          "metadata": {
            "tags": []
          },
          "execution_count": 51
        }
      ]
    },
    {
      "metadata": {
        "id": "iNwKUTzl8rN6",
        "colab_type": "code",
        "colab": {}
      },
      "cell_type": "code",
      "source": [
        "max_vocab = 60000\n",
        "min_freq = 2"
      ],
      "execution_count": 0,
      "outputs": []
    },
    {
      "metadata": {
        "id": "iBl5E-5F8rrW",
        "colab_type": "code",
        "colab": {}
      },
      "cell_type": "code",
      "source": [
        "itos = [o for o,c in freq.most_common(max_vocab) if c>min_freq]\n",
        "itos.insert(0, '_pad_')\n",
        "itos.insert(0, '_unk_')"
      ],
      "execution_count": 0,
      "outputs": []
    },
    {
      "metadata": {
        "id": "gyCCopH0D5ed",
        "colab_type": "text"
      },
      "cell_type": "markdown",
      "source": [
        "# Convert String to Int representation"
      ]
    },
    {
      "metadata": {
        "id": "0CvubN4V8t92",
        "colab_type": "code",
        "colab": {
          "base_uri": "https://localhost:8080/",
          "height": 34
        },
        "outputId": "45fac9c7-b2ce-43f9-d20e-d28a5b609979"
      },
      "cell_type": "code",
      "source": [
        "stoi = collections.defaultdict(lambda:0, {v:k for k,v in enumerate(itos)})\n",
        "len(itos)"
      ],
      "execution_count": 54,
      "outputs": [
        {
          "output_type": "execute_result",
          "data": {
            "text/plain": [
              "20425"
            ]
          },
          "metadata": {
            "tags": []
          },
          "execution_count": 54
        }
      ]
    },
    {
      "metadata": {
        "id": "5KCnJo1y80Bw",
        "colab_type": "code",
        "colab": {}
      },
      "cell_type": "code",
      "source": [
        "trn_lm = np.array([[stoi[o] for o in p] for p in tok_trn])\n",
        "val_lm = np.array([[stoi[o] for o in p] for p in tok_val])"
      ],
      "execution_count": 0,
      "outputs": []
    },
    {
      "metadata": {
        "id": "cSq8gqddDU_y",
        "colab_type": "code",
        "colab": {}
      },
      "cell_type": "code",
      "source": [
        "np.save(LM_PATH/'tmp'/'trn_ids.npy', trn_lm)\n",
        "np.save(LM_PATH/'tmp'/'val_ids.npy', val_lm)\n",
        "pickle.dump(itos, open(LM_PATH/'tmp'/'itos.pkl', 'wb'))"
      ],
      "execution_count": 0,
      "outputs": []
    },
    {
      "metadata": {
        "id": "EA7VtU22DWUZ",
        "colab_type": "code",
        "colab": {}
      },
      "cell_type": "code",
      "source": [
        "trn_lm = np.load(LM_PATH/'tmp'/'trn_ids.npy')\n",
        "val_lm = np.load(LM_PATH/'tmp'/'val_ids.npy')\n",
        "itos = pickle.load(open(LM_PATH/'tmp'/'itos.pkl', 'rb'))"
      ],
      "execution_count": 0,
      "outputs": []
    },
    {
      "metadata": {
        "id": "8kxXQFWO87-M",
        "colab_type": "code",
        "colab": {
          "base_uri": "https://localhost:8080/",
          "height": 34
        },
        "outputId": "2e9cc993-14dd-4561-c932-bb002f2f2dc1"
      },
      "cell_type": "code",
      "source": [
        "vs=len(itos)\n",
        "vs,len(trn_lm)"
      ],
      "execution_count": 58,
      "outputs": [
        {
          "output_type": "execute_result",
          "data": {
            "text/plain": [
              "(20425, 97)"
            ]
          },
          "metadata": {
            "tags": []
          },
          "execution_count": 58
        }
      ]
    },
    {
      "metadata": {
        "id": "rQiB1v1HDbOW",
        "colab_type": "text"
      },
      "cell_type": "markdown",
      "source": [
        "#Wikitext"
      ]
    },
    {
      "metadata": {
        "id": "q0KN-gkJ9Dgy",
        "colab_type": "code",
        "colab": {
          "base_uri": "https://localhost:8080/",
          "height": 2567
        },
        "outputId": "c233e4bf-28d7-4300-a3c6-dc88097cb33c"
      },
      "cell_type": "code",
      "source": [
        "! wget -nH -r -np -P {PATH} http://files.fast.ai/models/wt103/"
      ],
      "execution_count": 71,
      "outputs": [
        {
          "output_type": "stream",
          "text": [
            "--2018-06-16 15:21:07--  http://files.fast.ai/models/wt103/\n",
            "Resolving files.fast.ai (files.fast.ai)... 67.205.15.147\n",
            "Connecting to files.fast.ai (files.fast.ai)|67.205.15.147|:80... connected.\n",
            "HTTP request sent, awaiting response... 200 OK\n",
            "Length: 857 [text/html]\n",
            "Saving to: ‘data/aclImdb/models/wt103/index.html’\n",
            "\n",
            "models/wt103/index. 100%[===================>]     857  --.-KB/s    in 0s      \n",
            "\n",
            "2018-06-16 15:21:07 (88.8 MB/s) - ‘data/aclImdb/models/wt103/index.html’ saved [857/857]\n",
            "\n",
            "Loading robots.txt; please ignore errors.\n",
            "--2018-06-16 15:21:07--  http://files.fast.ai/robots.txt\n",
            "Reusing existing connection to files.fast.ai:80.\n",
            "HTTP request sent, awaiting response... 404 Not Found\n",
            "2018-06-16 15:21:07 ERROR 404: Not Found.\n",
            "\n",
            "--2018-06-16 15:21:07--  http://files.fast.ai/models/wt103/?C=N;O=D\n",
            "Reusing existing connection to files.fast.ai:80.\n",
            "HTTP request sent, awaiting response... 200 OK\n",
            "Length: 857 [text/html]\n",
            "Saving to: ‘data/aclImdb/models/wt103/index.html?C=N;O=D’\n",
            "\n",
            "models/wt103/index. 100%[===================>]     857  --.-KB/s    in 0s      \n",
            "\n",
            "2018-06-16 15:21:07 (60.6 MB/s) - ‘data/aclImdb/models/wt103/index.html?C=N;O=D’ saved [857/857]\n",
            "\n",
            "--2018-06-16 15:21:07--  http://files.fast.ai/models/wt103/?C=M;O=A\n",
            "Reusing existing connection to files.fast.ai:80.\n",
            "HTTP request sent, awaiting response... 200 OK\n",
            "Length: 857 [text/html]\n",
            "Saving to: ‘data/aclImdb/models/wt103/index.html?C=M;O=A’\n",
            "\n",
            "models/wt103/index. 100%[===================>]     857  --.-KB/s    in 0s      \n",
            "\n",
            "2018-06-16 15:21:08 (99.2 MB/s) - ‘data/aclImdb/models/wt103/index.html?C=M;O=A’ saved [857/857]\n",
            "\n",
            "--2018-06-16 15:21:08--  http://files.fast.ai/models/wt103/?C=S;O=A\n",
            "Reusing existing connection to files.fast.ai:80.\n",
            "HTTP request sent, awaiting response... 200 OK\n",
            "Length: 857 [text/html]\n",
            "Saving to: ‘data/aclImdb/models/wt103/index.html?C=S;O=A’\n",
            "\n",
            "models/wt103/index. 100%[===================>]     857  --.-KB/s    in 0s      \n",
            "\n",
            "2018-06-16 15:21:08 (96.4 MB/s) - ‘data/aclImdb/models/wt103/index.html?C=S;O=A’ saved [857/857]\n",
            "\n",
            "--2018-06-16 15:21:08--  http://files.fast.ai/models/wt103/?C=D;O=A\n",
            "Reusing existing connection to files.fast.ai:80.\n",
            "HTTP request sent, awaiting response... 200 OK\n",
            "Length: 857 [text/html]\n",
            "Saving to: ‘data/aclImdb/models/wt103/index.html?C=D;O=A’\n",
            "\n",
            "models/wt103/index. 100%[===================>]     857  --.-KB/s    in 0s      \n",
            "\n",
            "2018-06-16 15:21:08 (93.3 MB/s) - ‘data/aclImdb/models/wt103/index.html?C=D;O=A’ saved [857/857]\n",
            "\n",
            "--2018-06-16 15:21:08--  http://files.fast.ai/models/wt103/bwd_wt103.h5\n",
            "Reusing existing connection to files.fast.ai:80.\n",
            "HTTP request sent, awaiting response... 200 OK\n",
            "Length: 462387687 (441M) [text/plain]\n",
            "Saving to: ‘data/aclImdb/models/wt103/bwd_wt103.h5’\n",
            "\n",
            "models/wt103/bwd_wt 100%[===================>] 440.97M  76.9MB/s    in 5.9s    \n",
            "\n",
            "2018-06-16 15:21:14 (74.7 MB/s) - ‘data/aclImdb/models/wt103/bwd_wt103.h5’ saved [462387687/462387687]\n",
            "\n",
            "--2018-06-16 15:21:14--  http://files.fast.ai/models/wt103/bwd_wt103_enc.h5\n",
            "Reusing existing connection to files.fast.ai:80.\n",
            "HTTP request sent, awaiting response... 200 OK\n",
            "Length: 462387634 (441M) [text/plain]\n",
            "Saving to: ‘data/aclImdb/models/wt103/bwd_wt103_enc.h5’\n",
            "\n",
            "         models/wt1   3%[                    ]  15.23M  76.2MB/s               "
          ],
          "name": "stdout"
        },
        {
          "output_type": "stream",
          "text": [
            "models/wt103/bwd_wt 100%[===================>] 440.97M  74.5MB/s    in 5.9s    \n",
            "\n",
            "2018-06-16 15:21:19 (75.4 MB/s) - ‘data/aclImdb/models/wt103/bwd_wt103_enc.h5’ saved [462387634/462387634]\n",
            "\n",
            "--2018-06-16 15:21:19--  http://files.fast.ai/models/wt103/fwd_wt103.h5\n",
            "Reusing existing connection to files.fast.ai:80.\n",
            "HTTP request sent, awaiting response... 200 OK\n",
            "Length: 462387687 (441M) [text/plain]\n",
            "Saving to: ‘data/aclImdb/models/wt103/fwd_wt103.h5’\n",
            "\n",
            "models/wt103/fwd_wt 100%[===================>] 440.97M  94.4MB/s    in 5.1s    \n",
            "\n",
            "2018-06-16 15:21:24 (87.1 MB/s) - ‘data/aclImdb/models/wt103/fwd_wt103.h5’ saved [462387687/462387687]\n",
            "\n",
            "--2018-06-16 15:21:24--  http://files.fast.ai/models/wt103/fwd_wt103_enc.h5\n",
            "Reusing existing connection to files.fast.ai:80.\n",
            "HTTP request sent, awaiting response... 200 OK\n",
            "Length: 462387634 (441M) [text/plain]\n",
            "Saving to: ‘data/aclImdb/models/wt103/fwd_wt103_enc.h5’\n",
            "\n",
            "models/wt103/fwd_wt 100%[===================>] 440.97M   102MB/s    in 4.3s    \n",
            "\n",
            "2018-06-16 15:21:29 (102 MB/s) - ‘data/aclImdb/models/wt103/fwd_wt103_enc.h5’ saved [462387634/462387634]\n",
            "\n",
            "--2018-06-16 15:21:29--  http://files.fast.ai/models/wt103/itos_wt103.pkl\n",
            "Reusing existing connection to files.fast.ai:80.\n",
            "HTTP request sent, awaiting response... 200 OK\n",
            "Length: 4161252 (4.0M) [text/plain]\n",
            "Saving to: ‘data/aclImdb/models/wt103/itos_wt103.pkl’\n",
            "\n",
            "models/wt103/itos_w 100%[===================>]   3.97M  --.-KB/s    in 0.04s   \n",
            "\n",
            "2018-06-16 15:21:29 (109 MB/s) - ‘data/aclImdb/models/wt103/itos_wt103.pkl’ saved [4161252/4161252]\n",
            "\n",
            "--2018-06-16 15:21:29--  http://files.fast.ai/models/wt103/?C=N;O=A\n",
            "Reusing existing connection to files.fast.ai:80.\n",
            "HTTP request sent, awaiting response... 200 OK\n",
            "Length: 857 [text/html]\n",
            "Saving to: ‘data/aclImdb/models/wt103/index.html?C=N;O=A’\n",
            "\n",
            "models/wt103/index. 100%[===================>]     857  --.-KB/s    in 0s      \n",
            "\n",
            "2018-06-16 15:21:29 (94.6 MB/s) - ‘data/aclImdb/models/wt103/index.html?C=N;O=A’ saved [857/857]\n",
            "\n",
            "--2018-06-16 15:21:29--  http://files.fast.ai/models/wt103/?C=M;O=D\n",
            "Reusing existing connection to files.fast.ai:80.\n",
            "HTTP request sent, awaiting response... 200 OK\n",
            "Length: 857 [text/html]\n",
            "Saving to: ‘data/aclImdb/models/wt103/index.html?C=M;O=D’\n",
            "\n",
            "models/wt103/index. 100%[===================>]     857  --.-KB/s    in 0s      \n",
            "\n",
            "2018-06-16 15:21:29 (92.0 MB/s) - ‘data/aclImdb/models/wt103/index.html?C=M;O=D’ saved [857/857]\n",
            "\n",
            "--2018-06-16 15:21:29--  http://files.fast.ai/models/wt103/?C=S;O=D\n",
            "Reusing existing connection to files.fast.ai:80.\n",
            "HTTP request sent, awaiting response... 200 OK\n",
            "Length: 857 [text/html]\n",
            "Saving to: ‘data/aclImdb/models/wt103/index.html?C=S;O=D’\n",
            "\n",
            "models/wt103/index. 100%[===================>]     857  --.-KB/s    in 0s      \n",
            "\n",
            "2018-06-16 15:21:29 (85.1 MB/s) - ‘data/aclImdb/models/wt103/index.html?C=S;O=D’ saved [857/857]\n",
            "\n",
            "--2018-06-16 15:21:29--  http://files.fast.ai/models/wt103/?C=D;O=D\n",
            "Reusing existing connection to files.fast.ai:80.\n",
            "HTTP request sent, awaiting response... 200 OK\n",
            "Length: 857 [text/html]\n",
            "Saving to: ‘data/aclImdb/models/wt103/index.html?C=D;O=D’\n",
            "\n",
            "models/wt103/index. 100%[===================>]     857  --.-KB/s    in 0s      \n",
            "\n",
            "2018-06-16 15:21:29 (87.6 MB/s) - ‘data/aclImdb/models/wt103/index.html?C=D;O=D’ saved [857/857]\n",
            "\n",
            "FINISHED --2018-06-16 15:21:29--\n",
            "Total wall clock time: 22s\n",
            "Downloaded: 14 files, 1.7G in 21s (83.4 MB/s)\n"
          ],
          "name": "stdout"
        }
      ]
    },
    {
      "metadata": {
        "id": "yGmg_Rkr9Zpe",
        "colab_type": "code",
        "colab": {}
      },
      "cell_type": "code",
      "source": [
        "em_sz,nh,nl = 400,1150,3"
      ],
      "execution_count": 0,
      "outputs": []
    },
    {
      "metadata": {
        "id": "EmnxhOI_9bbU",
        "colab_type": "code",
        "colab": {}
      },
      "cell_type": "code",
      "source": [
        "PRE_PATH = PATH/'models'/'wt103'\n",
        "PRE_LM_PATH = PRE_PATH/'fwd_wt103.h5'"
      ],
      "execution_count": 0,
      "outputs": []
    },
    {
      "metadata": {
        "id": "pavw1ilu9czi",
        "colab_type": "code",
        "colab": {}
      },
      "cell_type": "code",
      "source": [
        "wgts = torch.load(PRE_LM_PATH, map_location=lambda storage, loc: storage)"
      ],
      "execution_count": 0,
      "outputs": []
    },
    {
      "metadata": {
        "id": "nLY2dO1m9hEK",
        "colab_type": "code",
        "colab": {}
      },
      "cell_type": "code",
      "source": [
        "enc_wgts = to_np(wgts['0.encoder.weight'])\n",
        "row_m = enc_wgts.mean(0)"
      ],
      "execution_count": 0,
      "outputs": []
    },
    {
      "metadata": {
        "id": "VRLHb7p_9kD0",
        "colab_type": "code",
        "colab": {}
      },
      "cell_type": "code",
      "source": [
        "itos2 = pickle.load((PRE_PATH/'itos_wt103.pkl').open('rb'))\n",
        "stoi2 = collections.defaultdict(lambda:-1, {v:k for k,v in enumerate(itos2)})"
      ],
      "execution_count": 0,
      "outputs": []
    },
    {
      "metadata": {
        "id": "9xnR_Tj59n9x",
        "colab_type": "code",
        "colab": {}
      },
      "cell_type": "code",
      "source": [
        "new_w = np.zeros((vs, em_sz), dtype=np.float32)\n",
        "for i,w in enumerate(itos):\n",
        "    r = stoi2[w]\n",
        "    new_w[i] = enc_wgts[r] if r>=0 else row_m"
      ],
      "execution_count": 0,
      "outputs": []
    },
    {
      "metadata": {
        "id": "ZcwZ-JBy9qOn",
        "colab_type": "code",
        "colab": {}
      },
      "cell_type": "code",
      "source": [
        "wgts['0.encoder.weight'] = T(new_w)\n",
        "wgts['0.encoder_with_dropout.embed.weight'] = T(np.copy(new_w))\n",
        "wgts['1.decoder.weight'] = T(np.copy(new_w))"
      ],
      "execution_count": 0,
      "outputs": []
    },
    {
      "metadata": {
        "id": "ACX3upeh9tpq",
        "colab_type": "code",
        "colab": {}
      },
      "cell_type": "code",
      "source": [
        "wd=1e-7\n",
        "bptt=70\n",
        "bs=52\n",
        "opt_fn = partial(optim.Adam, betas=(0.8, 0.99))"
      ],
      "execution_count": 0,
      "outputs": []
    },
    {
      "metadata": {
        "id": "vh4JOM349zXo",
        "colab_type": "code",
        "colab": {}
      },
      "cell_type": "code",
      "source": [
        "trn_dl = LanguageModelLoader(np.concatenate(trn_lm), bs, bptt)\n",
        "val_dl = LanguageModelLoader(np.concatenate(val_lm), bs, bptt)\n",
        "md = LanguageModelData(PATH, 1, vs, trn_dl, val_dl, bs=bs, bptt=bptt)"
      ],
      "execution_count": 0,
      "outputs": []
    },
    {
      "metadata": {
        "id": "4yWB4mrkE0Xi",
        "colab_type": "code",
        "colab": {}
      },
      "cell_type": "code",
      "source": [
        "drops = np.array([0.25, 0.1, 0.2, 0.02, 0.15])*0.7"
      ],
      "execution_count": 0,
      "outputs": []
    },
    {
      "metadata": {
        "id": "PCW2ssn7E5j7",
        "colab_type": "code",
        "colab": {}
      },
      "cell_type": "code",
      "source": [
        "learner= md.get_model(opt_fn, em_sz, nh, nl, \n",
        "    dropouti=drops[0], dropout=drops[1], wdrop=drops[2], dropoute=drops[3], dropouth=drops[4])\n",
        "\n",
        "learner.metrics = [accuracy]\n",
        "learner.freeze_to(-1)"
      ],
      "execution_count": 0,
      "outputs": []
    },
    {
      "metadata": {
        "id": "Xkqfdr4KE8pS",
        "colab_type": "code",
        "colab": {}
      },
      "cell_type": "code",
      "source": [
        "learner.model.load_state_dict(wgts)"
      ],
      "execution_count": 0,
      "outputs": []
    },
    {
      "metadata": {
        "id": "jqbcB_XdE-j9",
        "colab_type": "code",
        "colab": {}
      },
      "cell_type": "code",
      "source": [
        "lr=1e-2\n",
        "lrs = lr"
      ],
      "execution_count": 0,
      "outputs": []
    },
    {
      "metadata": {
        "id": "lVgtX8voRcEw",
        "colab_type": "code",
        "colab": {
          "base_uri": "https://localhost:8080/",
          "height": 85
        },
        "outputId": "3d4f5082-29f2-4042-8756-720ddaa34d30"
      },
      "cell_type": "code",
      "source": [
        "learner.fit(lrs/2, 1, wds=wd, use_clr=(32,2), cycle_len=1)"
      ],
      "execution_count": 112,
      "outputs": [
        {
          "output_type": "display_data",
          "data": {
            "application/vnd.jupyter.widget-view+json": {
              "model_id": "4dbc33842a524feab6df98edd14c278d",
              "version_minor": 0,
              "version_major": 2
            },
            "text/plain": [
              "HBox(children=(IntProgress(value=0, description='Epoch', max=1), HTML(value='')))"
            ]
          },
          "metadata": {
            "tags": []
          }
        },
        {
          "output_type": "stream",
          "text": [
            "epoch      trn_loss   val_loss   accuracy   \n",
            "    0      4.330887   4.086457   0.3066    \n"
          ],
          "name": "stdout"
        },
        {
          "output_type": "execute_result",
          "data": {
            "text/plain": [
              "[array([4.08646]), 0.30660021152251804]"
            ]
          },
          "metadata": {
            "tags": []
          },
          "execution_count": 112
        }
      ]
    },
    {
      "metadata": {
        "id": "AjBRpeBgbGJT",
        "colab_type": "code",
        "colab": {}
      },
      "cell_type": "code",
      "source": [
        "learner.save('lm_last_ft')"
      ],
      "execution_count": 0,
      "outputs": []
    },
    {
      "metadata": {
        "id": "4M4pHVhQ7iVy",
        "colab_type": "code",
        "colab": {}
      },
      "cell_type": "code",
      "source": [
        "learner.load('lm_last_ft')"
      ],
      "execution_count": 0,
      "outputs": []
    },
    {
      "metadata": {
        "id": "lrCV-Pdx7j3A",
        "colab_type": "code",
        "colab": {}
      },
      "cell_type": "code",
      "source": [
        "learner.unfreeze()"
      ],
      "execution_count": 0,
      "outputs": []
    },
    {
      "metadata": {
        "id": "-rpHWZJ87pKk",
        "colab_type": "code",
        "colab": {
          "base_uri": "https://localhost:8080/",
          "height": 68
        },
        "outputId": "cfa4cbab-5206-48d6-dafa-1278fa89e7c3"
      },
      "cell_type": "code",
      "source": [
        "learner.lr_find(start_lr=lrs/10, end_lr=lrs*10, linear=True)"
      ],
      "execution_count": 114,
      "outputs": [
        {
          "output_type": "display_data",
          "data": {
            "application/vnd.jupyter.widget-view+json": {
              "model_id": "5c28af0beb6841f0a27bb9e9c835e989",
              "version_minor": 0,
              "version_major": 2
            },
            "text/plain": [
              "HBox(children=(IntProgress(value=0, description='Epoch', max=1), HTML(value='')))"
            ]
          },
          "metadata": {
            "tags": []
          }
        },
        {
          "output_type": "stream",
          "text": [
            "epoch      trn_loss   val_loss   accuracy   \n",
            "    0      6.789178   6.580545   0.170425  \n"
          ],
          "name": "stdout"
        }
      ]
    },
    {
      "metadata": {
        "id": "AP0z0Rs_7s5c",
        "colab_type": "code",
        "colab": {
          "base_uri": "https://localhost:8080/",
          "height": 287
        },
        "outputId": "59d081e1-4a41-48e6-c5e8-4686cd15b63b"
      },
      "cell_type": "code",
      "source": [
        "learner.sched.plot()"
      ],
      "execution_count": 108,
      "outputs": [
        {
          "output_type": "display_data",
          "data": {
            "image/png": "[encoded data removed]",
            "text/plain": [
              "<matplotlib.figure.Figure at 0x7f2faaa3ddd8>"
            ]
          },
          "metadata": {
            "tags": []
          }
        }
      ]
    },
    {
      "metadata": {
        "id": "5lWAizAO-_L1",
        "colab_type": "code",
        "colab": {
          "base_uri": "https://localhost:8080/",
          "height": 153
        },
        "outputId": "ebe525cb-37ef-4501-8523-8ea16b918a0a"
      },
      "cell_type": "code",
      "source": [
        "learner.fit(lrs, 1, wds=wd, use_clr=(20,5), cycle_len=5)"
      ],
      "execution_count": 99,
      "outputs": [
        {
          "output_type": "display_data",
          "data": {
            "application/vnd.jupyter.widget-view+json": {
              "model_id": "f7a5fb3a4088450785536709c0b4a60d",
              "version_minor": 0,
              "version_major": 2
            },
            "text/plain": [
              "HBox(children=(IntProgress(value=0, description='Epoch', max=5), HTML(value='')))"
            ]
          },
          "metadata": {
            "tags": []
          }
        },
        {
          "output_type": "stream",
          "text": [
            "epoch      trn_loss   val_loss   accuracy   \n",
            "    0      3.806221   3.930713   0.331292  \n",
            " 16%|█▋        | 97/595 [00:48<04:11,  1.98it/s, loss=3.62]"
          ],
          "name": "stdout"
        },
        {
          "output_type": "stream",
          "text": [
            "    1      3.419546   3.84743    0.34378   \n",
            " 33%|███▎      | 194/595 [01:38<03:22,  1.98it/s, loss=3.21]"
          ],
          "name": "stdout"
        },
        {
          "output_type": "stream",
          "text": [
            "    2      3.154111   3.79273    0.349253  \n",
            " 42%|████▏     | 250/595 [02:05<02:53,  1.99it/s, loss=2.86]"
          ],
          "name": "stdout"
        },
        {
          "output_type": "stream",
          "text": [
            "    3      2.916837   3.760001   0.353512  \n",
            " 47%|████▋     | 282/595 [02:21<02:36,  1.99it/s, loss=2.66]"
          ],
          "name": "stdout"
        },
        {
          "output_type": "stream",
          "text": [
            "    4      2.779528   3.754481   0.356239  \n"
          ],
          "name": "stdout"
        },
        {
          "output_type": "execute_result",
          "data": {
            "text/plain": [
              "[array([3.75448]), 0.3562389444082211]"
            ]
          },
          "metadata": {
            "tags": []
          },
          "execution_count": 99
        }
      ]
    },
    {
      "metadata": {
        "id": "h5ISFx8Y_DPw",
        "colab_type": "code",
        "colab": {}
      },
      "cell_type": "code",
      "source": [
        "learner.save('lm5')"
      ],
      "execution_count": 0,
      "outputs": []
    },
    {
      "metadata": {
        "id": "TpxIA3XG_Evh",
        "colab_type": "code",
        "colab": {}
      },
      "cell_type": "code",
      "source": [
        "learner.save_encoder('lm5_enc')"
      ],
      "execution_count": 0,
      "outputs": []
    },
    {
      "metadata": {
        "id": "kNFlbpkP_GFp",
        "colab_type": "code",
        "colab": {
          "base_uri": "https://localhost:8080/",
          "height": 269
        },
        "outputId": "c40aa986-8432-45b1-90a7-a68350dff2a8"
      },
      "cell_type": "code",
      "source": [
        "learner.sched.plot_loss()"
      ],
      "execution_count": 102,
      "outputs": [
        {
          "output_type": "display_data",
          "data": {
            "image/png": "[encoded data removed]",
            "text/plain": [
              "<matplotlib.figure.Figure at 0x7f3040c4a710>"
            ]
          },
          "metadata": {
            "tags": []
          }
        }
      ]
    }
  ]
}