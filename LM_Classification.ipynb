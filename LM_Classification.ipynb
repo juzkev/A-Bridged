{
  "nbformat": 4,
  "nbformat_minor": 0,
  "metadata": {
    "colab": {
      "name": "LM Classification.ipynb",
      "version": "0.3.2",
      "provenance": [],
      "collapsed_sections": []
    },
    "kernelspec": {
      "name": "python3",
      "display_name": "Python 3"
    },
    "accelerator": "GPU"
  },
  "cells": [
    {
      "cell_type": "markdown",
      "metadata": {
        "id": "view-in-github",
        "colab_type": "text"
      },
      "source": [
        "[View in Colaboratory](https://colab.research.google.com/github/juzkev/A-Bridged/blob/master/LM_Classification.ipynb)"
      ]
    },
    {
      "metadata": {
        "id": "FfX-bueFzyxt",
        "colab_type": "text"
      },
      "cell_type": "markdown",
      "source": [
        "#Imports"
      ]
    },
    {
      "metadata": {
        "id": "YVGvM7IOWo5Y",
        "colab_type": "code",
        "colab": {
          "base_uri": "https://localhost:8080/",
          "height": 34
        },
        "outputId": "4ad2a3e3-3335-40de-8517-dea288f66a7f"
      },
      "cell_type": "code",
      "source": [
        "# Time\n",
        "import time\n",
        "start_t = time.time()\n",
        "\n",
        "# Google Drive\n",
        "!pip install -U -q PyDrive\n",
        "import os\n",
        "from pydrive.auth import GoogleAuth\n",
        "from pydrive.drive import GoogleDrive\n",
        "from google.colab import auth\n",
        "from oauth2client.client import GoogleCredentials\n",
        "\n",
        "# 1. Authenticate and create the PyDrive client.\n",
        "auth.authenticate_user()\n",
        "gauth = GoogleAuth()\n",
        "gauth.credentials = GoogleCredentials.get_application_default()\n",
        "drive = GoogleDrive(gauth)\n",
        "\n",
        "# PyPDF2\n",
        "# !pip install pypdf2\n",
        "# import PyPDF2\n",
        "\n",
        "#textract\n",
        "!apt-get install python-dev libxml2-dev libxslt1-dev antiword unrtf poppler-utils pstotext tesseract-ocr flac ffmpeg lame libmad0 libsox-fmt-mp3 sox libjpeg-dev swig libpulse-dev\n",
        "!pip install textract\n",
        "import textract\n",
        "\n",
        "# DS essentials\n",
        "import pandas as pd\n",
        "import numpy as np\n",
        "\n",
        "# NLP\n",
        "import re\n",
        "\n",
        "\n",
        "\n",
        "##### Additional Setup for Google Colab Fast AI & PyTorch #####\n",
        "\n",
        "## Install Pytorch and torchvision\n",
        "!pip install http://download.pytorch.org/whl/cu80/torch-0.3.1-cp36-cp36m-linux_x86_64.whl torchvision \n",
        "  \n",
        "# ## Install Fastai (Github version)\n",
        "# !git clone https://github.com/fastai/fastai.git\n",
        "# !pip install -r fastai/requirements.txt\n",
        "# !pip install ./fastai\n",
        "\n",
        "#Install Fastai (pip)\n",
        "!pip install fastai\n",
        "\n",
        "## Install libSM\n",
        "### The import of fastai is will throw an error that this library is missing. So, Installing the same.\n",
        "!apt update && apt install -y libsm6 libxext6\n",
        "\n",
        "\n",
        "# Install Spacy required for fastai.text\n",
        "!pip install -U spacy\n",
        "!python -m spacy download en\n",
        "\n",
        "print(f'Set up Process took {time.time() - start_t} seconds')"
      ],
      "execution_count": 5,
      "outputs": [
        {
          "output_type": "stream",
          "text": [
            "Set up Process took 38.49512004852295 seconds\n"
          ],
          "name": "stdout"
        }
      ]
    },
    {
      "metadata": {
        "id": "bGuLTvaABI4B",
        "colab_type": "code",
        "colab": {
          "base_uri": "https://localhost:8080/",
          "height": 289
        },
        "outputId": "4c1cea7e-ff16-4b54-bd62-0429395eb108"
      },
      "cell_type": "code",
      "source": [
        "# GPU status\n",
        "!ln -sf /opt/bin/nvidia-smi /usr/bin/nvidia-smi\n",
        "!nvidia-smi"
      ],
      "execution_count": 49,
      "outputs": [
        {
          "output_type": "stream",
          "text": [
            "Fri Jun 15 00:52:06 2018       \r\n",
            "+-----------------------------------------------------------------------------+\r\n",
            "| NVIDIA-SMI 384.111                Driver Version: 384.111                   |\r\n",
            "|-------------------------------+----------------------+----------------------+\r\n",
            "| GPU  Name        Persistence-M| Bus-Id        Disp.A | Volatile Uncorr. ECC |\r\n",
            "| Fan  Temp  Perf  Pwr:Usage/Cap|         Memory-Usage | GPU-Util  Compute M. |\r\n",
            "|===============================+======================+======================|\r\n",
            "|   0  Tesla K80           Off  | 00000000:00:04.0 Off |                    0 |\r\n",
            "| N/A   39C    P0    69W / 149W |    992MiB / 11439MiB |      0%      Default |\r\n",
            "+-------------------------------+----------------------+----------------------+\r\n",
            "                                                                               \r\n",
            "+-----------------------------------------------------------------------------+\r\n",
            "| Processes:                                                       GPU Memory |\r\n",
            "|  GPU       PID   Type   Process name                             Usage      |\r\n",
            "|=============================================================================|\r\n",
            "+-----------------------------------------------------------------------------+\r\n"
          ],
          "name": "stdout"
        }
      ]
    },
    {
      "metadata": {
        "id": "y4BmnKY_z5F4",
        "colab_type": "text"
      },
      "cell_type": "markdown",
      "source": [
        "# Downloading PDFs from Google Drive"
      ]
    },
    {
      "metadata": {
        "id": "828julC_FLBF",
        "colab_type": "code",
        "colab": {
          "base_uri": "https://localhost:8080/",
          "height": 2074
        },
        "collapsed": true,
        "outputId": "393555ac-bd9e-4cf2-aab9-a6b916c038d0"
      },
      "cell_type": "code",
      "source": [
        "# choose a local (colab) directory to store the data.\n",
        "start_t = time.time()\n",
        "\n",
        "local_download_path = os.path.expanduser('~/data')\n",
        "try:\n",
        "  os.makedirs(local_download_path)\n",
        "except: pass\n",
        "\n",
        "ids = {'SDG 15 - Life on Land': '16O4EAd9uQomSH5CBy8zvZklCUujk8yzn',\n",
        "      'SDG 12 - Responsible Consumption and Production': '1h1n9hVcrT73a1sh9cuJDBmW0erBRa_ZS',\n",
        "      'SDG 10 - Reduced Inequalities': '1SLumvZ4n4BJM3zmXdIUWEplcjx2JGMN-',\n",
        "      'SDG 08 - Decent Work and Economic Growth': '1jIm9xN6PiGvnGQ9Xu0OSUZHsexuTTTaC',\n",
        "      'SDG 05 - Gender Equality': '116grOjLbS7j79UPvNEz0jEb3WR-4BVMX'}\n",
        "\n",
        "def download_files(ids):\n",
        "  for name, id in ids.items():\n",
        "    try:\n",
        "      os.makedirs(os.path.join(local_download_path, name))\n",
        "    except: pass\n",
        "    file_list = drive.ListFile(\n",
        "        {'q': f\"'{id}' in parents\"}).GetList()\n",
        "\n",
        "    for f in file_list:\n",
        "      # 3. Create & download by id.\n",
        "#       print('title: %s, id: %s' % (f['title'], f['id']))\n",
        "      fname = os.path.join(local_download_path, name, f['title'])\n",
        "      print('downloading to {}'.format(fname))\n",
        "      try:\n",
        "        f_ = drive.CreateFile({'id': f['id']})\n",
        "        f_.GetContentFile(fname)\n",
        "      except:pass\n",
        "      \n",
        "download_files(ids)\n",
        "\n",
        "print(f'Downloading the PDFs took {time.time() - start_t} seconds')"
      ],
      "execution_count": 7,
      "outputs": [
        {
          "output_type": "stream",
          "text": [
            "downloading to /content/data/SDG 15 - Life on Land/Reclaiming the City- Waterfront Development in Singapore.pdf\n",
            "downloading to /content/data/SDG 15 - Life on Land/ANIMAL PROTECTION LAWS OF SINGAPORE AND MALAYSIA.pdf\n",
            "downloading to /content/data/SDG 15 - Life on Land/SG sustainable future, law governance and management.pdf\n",
            "downloading to /content/data/SDG 15 - Life on Land/-A FINE CITY IN A GARDEN-ENVIRONMENTAL LAW AND GOVERNANCE IN SINGAPORE.pdf\n",
            "downloading to /content/data/SDG 15 - Life on Land/Kyoto Protocol.pdf\n",
            "downloading to /content/data/SDG 15 - Life on Land/Convention on the Law of the  International Watercourses.pdf\n",
            "downloading to /content/data/SDG 15 - Life on Land/Mekong River.pdf\n",
            "downloading to /content/data/SDG 15 - Life on Land/Pulp Mill on River Uruguay.pdf\n",
            "downloading to /content/data/SDG 15 - Life on Land/Mekong Agreement and Procedures.pdf\n",
            "downloading to /content/data/SDG 15 - Life on Land/UNFCC.pdf\n",
            "downloading to /content/data/SDG 15 - Life on Land/Env Laws SG.pdf\n",
            "downloading to /content/data/SDG 15 - Life on Land/Conservation Law Notes Singapore.pdf\n",
            "downloading to /content/data/SDG 15 - Life on Land/Conservation Law Notes.pdf\n",
            "downloading to /content/data/SDG 15 - Life on Land/MDG 2015 rev (July 1).pdf\n",
            "downloading to /content/data/SDG 15 - Life on Land/Agenda21.pdf\n",
            "downloading to /content/data/SDG 15 - Life on Land/ASEAN Agreement on Transboundary Haze Pollution.pdf\n",
            "downloading to /content/data/SDG 15 - Life on Land/MEM notes ICM.pdf\n",
            "downloading to /content/data/SDG 15 - Life on Land/MEM notes habitat fragmentation.pdf\n",
            "downloading to /content/data/SDG 15 - Life on Land/MEM Notes Designing nature reserves.pdf\n",
            "downloading to /content/data/SDG 15 - Life on Land/TBT.pdf\n",
            "downloading to /content/data/SDG 15 - Life on Land/Goh and Lai_MarPollutBull2013.pdf\n",
            "downloading to /content/data/SDG 15 - Life on Land/Ecological indices.pdf\n",
            "downloading to /content/data/SDG 15 - Life on Land/ENDANGERED SPECIES (IMPORT AND EXPORT) ACT.pdf\n",
            "downloading to /content/data/SDG 15 - Life on Land/PARKS AND TREES ACT.pdf\n",
            "downloading to /content/data/SDG 15 - Life on Land/Wild Animals and Birds Act.pdf\n",
            "downloading to /content/data/SDG 15 - Life on Land/WABA.pdf\n",
            "downloading to /content/data/SDG 15 - Life on Land/THE POTENTIAL OF OCYPODE CERATOPHTHALMUS (PALLAS, 1772) AS A BIOINDICATOR OF HUMAN DISTURBANCE ON SINGAPORE BEACHES.pdf\n",
            "downloading to /content/data/SDG 15 - Life on Land/CBD Global Biodiversity Outlook 3E 2010.pdf\n",
            "downloading to /content/data/SDG 15 - Life on Land/LASCO Carbon stocks of forest conversion APN Newsletter 2001.pdf\n",
            "downloading to /content/data/SDG 12 - Responsible Consumption and Production/Book\n",
            "downloading to /content/data/SDG 12 - Responsible Consumption and Production/Extension of environmental accounting.pdf\n",
            "downloading to /content/data/SDG 12 - Responsible Consumption and Production/Capsular view of CBA (1).pdf\n",
            "downloading to /content/data/SDG 12 - Responsible Consumption and Production/Chapter-8 BCA.pdf\n",
            "downloading to /content/data/SDG 12 - Responsible Consumption and Production/Environmental Valuation - Knetsch 1994.pdf\n",
            "downloading to /content/data/SDG 12 - Responsible Consumption and Production/Chapter-6  from Sinden and Thampapillai (1995) BCA.pdf\n",
            "downloading to /content/data/SDG 12 - Responsible Consumption and Production/Dixon 2008.pdf\n",
            "downloading to /content/data/SDG 12 - Responsible Consumption and Production/104328-WP-PUBLIC-OD-Habit-and-Nudging-Catalyst-Behavioral-Sciences-022916.pdf\n",
            "downloading to /content/data/SDG 12 - Responsible Consumption and Production/Lessons from Science Need for a Rethink of Concepts in Economics.pdf\n",
            "downloading to /content/data/SDG 12 - Responsible Consumption and Production/IMPERFECT INFORMATION INLEARNING OF ECONOMICS.pdf\n",
            "downloading to /content/data/SDG 12 - Responsible Consumption and Production/Thermodynamics on MainStreet.pdf\n",
            "downloading to /content/data/SDG 12 - Responsible Consumption and Production/Scneider and Kay.pdf\n",
            "downloading to /content/data/SDG 12 - Responsible Consumption and Production/Raine Foster Potts 2006.pdf\n",
            "downloading to /content/data/SDG 12 - Responsible Consumption and Production/Jeffrey Young 1991.pdf\n",
            "downloading to /content/data/SDG 12 - Responsible Consumption and Production/Herman Daly 1992.pdf\n",
            "downloading to /content/data/SDG 12 - Responsible Consumption and Production/Gowdy and Messener 1998.pdf\n",
            "downloading to /content/data/SDG 12 - Responsible Consumption and Production/Elias Khalil 2004.pdf\n"
          ],
          "name": "stdout"
        },
        {
          "output_type": "stream",
          "text": [
            "downloading to /content/data/SDG 12 - Responsible Consumption and Production/Cleveland and Ruth 1997.pdf\n",
            "downloading to /content/data/SDG 12 - Responsible Consumption and Production/Ayres 1999.pdf\n",
            "downloading to /content/data/SDG 12 - Responsible Consumption and Production/Supplement to Lecture 3.pdf\n",
            "downloading to /content/data/SDG 10 - Reduced Inequalities/birch-corporatesocialresponsibility-2004.pdf\n",
            "downloading to /content/data/SDG 10 - Reduced Inequalities/The_Dynamics_of_Corporate_Social_Responsibility_INSEAD.pdf\n",
            "downloading to /content/data/SDG 10 - Reduced Inequalities/1251121517Corporate Philanthropy in Asia.pdf\n",
            "downloading to /content/data/SDG 10 - Reduced Inequalities/Contextualising CSR in Asia_ Corporate Social Responsibility in A.pdf\n",
            "downloading to /content/data/SDG 10 - Reduced Inequalities/Engaging Employees in Community Investment at Pfizer.pdf\n",
            "downloading to /content/data/SDG 10 - Reduced Inequalities/Stakeholder Engagement and Sustainable CorporateCommunity Investment.pdf\n",
            "downloading to /content/data/SDG 10 - Reduced Inequalities/The strategic relevance of corporate community investments.pdf\n",
            "downloading to /content/data/SDG 10 - Reduced Inequalities/Beyond Corporate Social Responsibility- The Scope for Corporate Investment in Community Driven Development.pdf\n",
            "downloading to /content/data/SDG 10 - Reduced Inequalities/Corporate Philanthropy Report.pdf\n",
            "downloading to /content/data/SDG 10 - Reduced Inequalities/Reporting on Community Investment.pdf\n",
            "downloading to /content/data/SDG 10 - Reduced Inequalities/09-CSR in Asia A seven country study of CSR website reporting.PDF\n",
            "downloading to /content/data/SDG 10 - Reduced Inequalities/sdgs-business-reporting-analysis (Sep2017).pdf\n",
            "downloading to /content/data/SDG 10 - Reduced Inequalities/The Philanthropic Times are Changing in Asia.pdf\n",
            "downloading to /content/data/SDG 10 - Reduced Inequalities/JAMASocialEntImprovingGlobalHealth8pages copy.pdf\n",
            "downloading to /content/data/SDG 10 - Reduced Inequalities/acsep-working-paper-no5-ebook.pdf\n",
            "downloading to /content/data/SDG 10 - Reduced Inequalities/POTENTIAL AND PROSPECTS FOR PHILANTHROPY IN IMPLEMENTING POST-2015 DEVELOPMENT GOALS.pdf\n",
            "downloading to /content/data/SDG 10 - Reduced Inequalities/The evolution of Asia philanthropy.pdf\n",
            "downloading to /content/data/SDG 10 - Reduced Inequalities/Corporate-Philanthropy-in-China.pdf\n",
            "downloading to /content/data/SDG 10 - Reduced Inequalities/Corporate Measurement of Philanthropic Impacts as a Requirement for a “Happy Marriage” of Business and Society.pdf\n",
            "downloading to /content/data/SDG 10 - Reduced Inequalities/Investigating Philanthropy Initiatives in Chinese Higher Education.pdf\n",
            "downloading to /content/data/SDG 10 - Reduced Inequalities/Corporate giving in Taiwan- agency cost theory vs. value enhancement theory.pdf\n",
            "downloading to /content/data/SDG 10 - Reduced Inequalities/Corporate Social Responsibility and Gender Diversity.pdf\n",
            "downloading to /content/data/SDG 10 - Reduced Inequalities/Giving Circles in Asia- Newcomers to the Asian Philanthropy Landscape.pdf\n",
            "downloading to /content/data/SDG 10 - Reduced Inequalities/Institutional Ownership and Corporate Philanthropic Giving in an Emerging Economy.pdf\n",
            "downloading to /content/data/SDG 10 - Reduced Inequalities/The Business of Doing Good.pdf\n",
            "downloading to /content/data/SDG 10 - Reduced Inequalities/Does the Market Value Corporate Philanthropy? Evidence from the Response to the 2004 Tsunami Relief Effort.pdf\n",
            "downloading to /content/data/SDG 10 - Reduced Inequalities/Do Employees Support Corporate Philanthropy? Evidence from Chinese Listed Companies.pdf\n",
            "downloading to /content/data/SDG 10 - Reduced Inequalities/Corporate environmental responsibility (CER) weakness, media coverage, and corporate philanthropy- Evidence from China.pdf\n",
            "downloading to /content/data/SDG 10 - Reduced Inequalities/ESSAYS ON CORPORATE PHILANTHROPY AFTER CORPORATE SOCIAL IRRESPONSIBLE INCIDENTS .pdf\n",
            "downloading to /content/data/SDG 10 - Reduced Inequalities/Quality reporting of corporate philanthropy.pdf\n",
            "downloading to /content/data/SDG 10 - Reduced Inequalities/Impact of Corporate Social Responsibility Dimensions on Firm Value- Some Evidence from Hong Kong and China.pdf\n",
            "downloading to /content/data/SDG 08 - Decent Work and Economic Growth/Challenges and Opportunities to Promote Decent Work.pdf\n",
            "downloading to /content/data/SDG 08 - Decent Work and Economic Growth/Changing Employment Conditions of the Indian Workforce.pdf\n",
            "downloading to /content/data/SDG 08 - Decent Work and Economic Growth/Pro-Poor to Inclusive Growth.pdf\n",
            "downloading to /content/data/SDG 08 - Decent Work and Economic Growth/The Place of Social Capital.pdf\n",
            "downloading to /content/data/SDG 08 - Decent Work and Economic Growth/Economic Growth in South Asia.pdf\n",
            "downloading to /content/data/SDG 08 - Decent Work and Economic Growth/ADOLESCENTS, YOUTH AND DEVELOPMENT.pdf\n"
          ],
          "name": "stdout"
        },
        {
          "output_type": "stream",
          "text": [
            "downloading to /content/data/SDG 08 - Decent Work and Economic Growth/Globalization and its effects on youth employment trends in Asia.pdf\n",
            "downloading to /content/data/SDG 08 - Decent Work and Economic Growth/Global Production Systems and Decent Work.pdf\n",
            "downloading to /content/data/SDG 08 - Decent Work and Economic Growth/Decent Work.pdf\n",
            "downloading to /content/data/SDG 08 - Decent Work and Economic Growth/Marginality_from_Myth_to_Reality.pdf\n",
            "downloading to /content/data/SDG 08 - Decent Work and Economic Growth/Rising Informality.pdf\n",
            "downloading to /content/data/SDG 08 - Decent Work and Economic Growth/Decent Work Objectives and Activities.pdf\n",
            "downloading to /content/data/SDG 08 - Decent Work and Economic Growth/Women’s economic empowerment and inclusive growth.pdf\n",
            "downloading to /content/data/SDG 08 - Decent Work and Economic Growth/Measurement of decent work.pdf\n",
            "downloading to /content/data/SDG 08 - Decent Work and Economic Growth/ORGANISING AS A CATALYST FOR PROMOTING DECENT WORK.pdf\n",
            "downloading to /content/data/SDG 08 - Decent Work and Economic Growth/Labour_Regulations_and_Labour_Standards_in_India_D.pdf\n",
            "downloading to /content/data/SDG 08 - Decent Work and Economic Growth/Informalization, Economic Growth and the Challenge.pdf\n",
            "downloading to /content/data/SDG 08 - Decent Work and Economic Growth/The Nexus of Economic Growth, Employment and Poverty Reduction.pdf\n",
            "downloading to /content/data/SDG 08 - Decent Work and Economic Growth/Inclusive Growth toward a Prosperous Asia.pdf\n",
            "downloading to /content/data/SDG 08 - Decent Work and Economic Growth/Macroeconomic policy for full and productive employment and decent work for all.pdf\n",
            "downloading to /content/data/SDG 05 - Gender Equality/Arab Spring_ Women?s Empowerment in Algeria.pdf\n",
            "downloading to /content/data/SDG 05 - Gender Equality/Queer_LGBT Nigerian Diasporic Women in the USA.pdf\n",
            "downloading to /content/data/SDG 05 - Gender Equality/The Role of Women in the Arab World.pdf\n",
            "downloading to /content/data/SDG 05 - Gender Equality/Sexual and Gender-Based Violence.pdf\n",
            "downloading to /content/data/SDG 05 - Gender Equality/Sleeping Beauty as a Metaphor.pdf\n",
            "downloading to /content/data/SDG 05 - Gender Equality/Gender Differences in Aspirations for Career and Marriage.pdf\n",
            "downloading to /content/data/SDG 05 - Gender Equality/Indian Feminists in the Legal Reform Process.pdf\n",
            "downloading to /content/data/SDG 05 - Gender Equality/Cross-Gender Casting.pdf\n",
            "downloading to /content/data/SDG 05 - Gender Equality/Anti-Capitalist Feminism and Female Complicity.pdf\n",
            "downloading to /content/data/SDG 05 - Gender Equality/Earning Power of Mothers and Children?s Time Allocation.pdf\n",
            "downloading to /content/data/SDG 05 - Gender Equality/Prevention of Sexual Harassment of Women in the Workplace.pdf\n",
            "downloading to /content/data/SDG 05 - Gender Equality/Empowering Indonesian women through building digitalmedia literacy.pdf\n",
            "downloading to /content/data/SDG 05 - Gender Equality/Gender, Employment, and Work-Family Balance Policies in Singapore.pdf\n",
            "downloading to /content/data/SDG 05 - Gender Equality/Determinants of Female?s Employment Outcomes in Vietnam.pdf\n",
            "downloading to /content/data/SDG 05 - Gender Equality/Role Performance of Elected Panchayat Leaders in India.pdf\n",
            "downloading to /content/data/SDG 05 - Gender Equality/Study of Gender as Social Practice.pdf\n",
            "downloading to /content/data/SDG 05 - Gender Equality/Gender Poverty and Inequality.pdf\n",
            "downloading to /content/data/SDG 05 - Gender Equality/Comfort Women of South Korea.pdf\n",
            "downloading to /content/data/SDG 05 - Gender Equality/Diversity in Top Level Management and Firm Performance.pdf\n",
            "downloading to /content/data/SDG 05 - Gender Equality/Keys to Women?s Liberation in Communist China.pdf\n",
            "Downloading the PDFs took 105.999990940094 seconds\n"
          ],
          "name": "stdout"
        }
      ]
    },
    {
      "metadata": {
        "id": "wrRHh7N_0Ahh",
        "colab_type": "text"
      },
      "cell_type": "markdown",
      "source": [
        "# Reading the PDF into DF"
      ]
    },
    {
      "metadata": {
        "id": "NlQNkPkaS9RL",
        "colab_type": "code",
        "colab": {
          "base_uri": "https://localhost:8080/",
          "height": 2091
        },
        "outputId": "a4e12ddd-f3b4-448b-dab7-6b8327cfb9d4"
      },
      "cell_type": "code",
      "source": [
        "# Reading the PDF\n",
        "df = pd.DataFrame()\n",
        "succ = 0\n",
        "fail = 0\n",
        "pattern = 'SDG (\\d{2})'\n",
        "s_t = time.time()\n",
        "\n",
        "for foldername in os.listdir(local_download_path):\n",
        "  for filename in os.listdir(os.path.join(local_download_path, foldername)):\n",
        "    try:\n",
        "      print(os.path.join(local_download_path, foldername, filename))\n",
        "      \n",
        "      # Old PyPDF2 code\n",
        "#       read_pdf = PyPDF2.PdfFileReader(os.path.join(local_download_path, foldername, filename))\n",
        "#       t = ''\n",
        "#       for p in range(0, read_pdf.getNumPages()):\n",
        "#         page = read_pdf.getPage(p)\n",
        "#         page_content = page.extractText()\n",
        "#         t += str(page_content.encode('utf-8'))\n",
        "\n",
        "      # Textract code\n",
        "      t = textract.process(os.path.join(local_download_path, foldername, filename))\n",
        "    \n",
        "      df=df.append({'filename': filename, 'SDG': re.search(pattern, foldername).group(1),'fulltext': t}, ignore_index=True)\n",
        "      succ += 1\n",
        "    except Exception as e: \n",
        "      print(e)\n",
        "      fail += 1\n",
        "\n",
        "print(f'''Successfully processed {succ}/{succ+fail} pdfs''')\n",
        "print(f'Reading PDFs took {time.time()-s_t} seconds')"
      ],
      "execution_count": 8,
      "outputs": [
        {
          "output_type": "stream",
          "text": [
            "/content/data/SDG 05 - Gender Equality/Cross-Gender Casting.pdf\n",
            "/content/data/SDG 05 - Gender Equality/Keys to Women?s Liberation in Communist China.pdf\n",
            "/content/data/SDG 05 - Gender Equality/Determinants of Female?s Employment Outcomes in Vietnam.pdf\n",
            "/content/data/SDG 05 - Gender Equality/Arab Spring_ Women?s Empowerment in Algeria.pdf\n",
            "/content/data/SDG 05 - Gender Equality/Gender Differences in Aspirations for Career and Marriage.pdf\n",
            "/content/data/SDG 05 - Gender Equality/Comfort Women of South Korea.pdf\n",
            "/content/data/SDG 05 - Gender Equality/Indian Feminists in the Legal Reform Process.pdf\n",
            "/content/data/SDG 05 - Gender Equality/Anti-Capitalist Feminism and Female Complicity.pdf\n",
            "/content/data/SDG 05 - Gender Equality/Queer_LGBT Nigerian Diasporic Women in the USA.pdf\n",
            "/content/data/SDG 05 - Gender Equality/Gender Poverty and Inequality.pdf\n",
            "/content/data/SDG 05 - Gender Equality/Study of Gender as Social Practice.pdf\n",
            "/content/data/SDG 05 - Gender Equality/Sexual and Gender-Based Violence.pdf\n",
            "/content/data/SDG 05 - Gender Equality/Earning Power of Mothers and Children?s Time Allocation.pdf\n",
            "/content/data/SDG 05 - Gender Equality/Prevention of Sexual Harassment of Women in the Workplace.pdf\n",
            "/content/data/SDG 05 - Gender Equality/Sleeping Beauty as a Metaphor.pdf\n",
            "/content/data/SDG 05 - Gender Equality/Empowering Indonesian women through building digitalmedia literacy.pdf\n",
            "/content/data/SDG 05 - Gender Equality/The Role of Women in the Arab World.pdf\n",
            "/content/data/SDG 05 - Gender Equality/Role Performance of Elected Panchayat Leaders in India.pdf\n",
            "/content/data/SDG 05 - Gender Equality/Gender, Employment, and Work-Family Balance Policies in Singapore.pdf\n",
            "/content/data/SDG 05 - Gender Equality/Diversity in Top Level Management and Firm Performance.pdf\n",
            "/content/data/SDG 15 - Life on Land/UNFCC.pdf\n",
            "/content/data/SDG 15 - Life on Land/ANIMAL PROTECTION LAWS OF SINGAPORE AND MALAYSIA.pdf\n",
            "/content/data/SDG 15 - Life on Land/Env Laws SG.pdf\n",
            "/content/data/SDG 15 - Life on Land/Mekong River.pdf\n",
            "/content/data/SDG 15 - Life on Land/Reclaiming the City- Waterfront Development in Singapore.pdf\n",
            "/content/data/SDG 15 - Life on Land/PARKS AND TREES ACT.pdf\n",
            "/content/data/SDG 15 - Life on Land/Convention on the Law of the  International Watercourses.pdf\n",
            "/content/data/SDG 15 - Life on Land/-A FINE CITY IN A GARDEN-ENVIRONMENTAL LAW AND GOVERNANCE IN SINGAPORE.pdf\n",
            "/content/data/SDG 15 - Life on Land/TBT.pdf\n",
            "/content/data/SDG 15 - Life on Land/SG sustainable future, law governance and management.pdf\n",
            "/content/data/SDG 15 - Life on Land/THE POTENTIAL OF OCYPODE CERATOPHTHALMUS (PALLAS, 1772) AS A BIOINDICATOR OF HUMAN DISTURBANCE ON SINGAPORE BEACHES.pdf\n",
            "/content/data/SDG 15 - Life on Land/Goh and Lai_MarPollutBull2013.pdf\n",
            "/content/data/SDG 15 - Life on Land/MEM Notes Designing nature reserves.pdf\n",
            "/content/data/SDG 15 - Life on Land/Conservation Law Notes.pdf\n",
            "/content/data/SDG 15 - Life on Land/Agenda21.pdf\n",
            "/content/data/SDG 15 - Life on Land/MEM notes habitat fragmentation.pdf\n",
            "/content/data/SDG 15 - Life on Land/ENDANGERED SPECIES (IMPORT AND EXPORT) ACT.pdf\n",
            "/content/data/SDG 15 - Life on Land/LASCO Carbon stocks of forest conversion APN Newsletter 2001.pdf\n",
            "/content/data/SDG 15 - Life on Land/MDG 2015 rev (July 1).pdf\n",
            "/content/data/SDG 15 - Life on Land/Wild Animals and Birds Act.pdf\n",
            "/content/data/SDG 15 - Life on Land/ASEAN Agreement on Transboundary Haze Pollution.pdf\n",
            "/content/data/SDG 15 - Life on Land/Mekong Agreement and Procedures.pdf\n",
            "'charmap' codec can't decode byte 0x9d in position 31361: character maps to <undefined>\n",
            "/content/data/SDG 15 - Life on Land/WABA.pdf\n",
            "/content/data/SDG 15 - Life on Land/Kyoto Protocol.pdf\n",
            "/content/data/SDG 15 - Life on Land/Pulp Mill on River Uruguay.pdf\n",
            "/content/data/SDG 15 - Life on Land/CBD Global Biodiversity Outlook 3E 2010.pdf\n",
            "/content/data/SDG 15 - Life on Land/Conservation Law Notes Singapore.pdf\n",
            "/content/data/SDG 15 - Life on Land/MEM notes ICM.pdf\n",
            "/content/data/SDG 15 - Life on Land/Ecological indices.pdf\n",
            "/content/data/SDG 10 - Reduced Inequalities/birch-corporatesocialresponsibility-2004.pdf\n",
            "/content/data/SDG 10 - Reduced Inequalities/1251121517Corporate Philanthropy in Asia.pdf\n",
            "/content/data/SDG 10 - Reduced Inequalities/Corporate-Philanthropy-in-China.pdf\n",
            "/content/data/SDG 10 - Reduced Inequalities/Do Employees Support Corporate Philanthropy? Evidence from Chinese Listed Companies.pdf\n",
            "/content/data/SDG 10 - Reduced Inequalities/Giving Circles in Asia- Newcomers to the Asian Philanthropy Landscape.pdf\n",
            "/content/data/SDG 10 - Reduced Inequalities/The_Dynamics_of_Corporate_Social_Responsibility_INSEAD.pdf\n",
            "/content/data/SDG 10 - Reduced Inequalities/Corporate giving in Taiwan- agency cost theory vs. value enhancement theory.pdf\n",
            "/content/data/SDG 10 - Reduced Inequalities/The strategic relevance of corporate community investments.pdf\n"
          ],
          "name": "stdout"
        },
        {
          "output_type": "stream",
          "text": [
            "/content/data/SDG 10 - Reduced Inequalities/Stakeholder Engagement and Sustainable CorporateCommunity Investment.pdf\n",
            "/content/data/SDG 10 - Reduced Inequalities/The Philanthropic Times are Changing in Asia.pdf\n",
            "/content/data/SDG 10 - Reduced Inequalities/Corporate Social Responsibility and Gender Diversity.pdf\n",
            "/content/data/SDG 10 - Reduced Inequalities/Corporate Measurement of Philanthropic Impacts as a Requirement for a “Happy Marriage” of Business and Society.pdf\n",
            "/content/data/SDG 10 - Reduced Inequalities/Investigating Philanthropy Initiatives in Chinese Higher Education.pdf\n",
            "/content/data/SDG 10 - Reduced Inequalities/Reporting on Community Investment.pdf\n",
            "/content/data/SDG 10 - Reduced Inequalities/ESSAYS ON CORPORATE PHILANTHROPY AFTER CORPORATE SOCIAL IRRESPONSIBLE INCIDENTS .pdf\n",
            "/content/data/SDG 10 - Reduced Inequalities/JAMASocialEntImprovingGlobalHealth8pages copy.pdf\n",
            "/content/data/SDG 10 - Reduced Inequalities/Quality reporting of corporate philanthropy.pdf\n",
            "/content/data/SDG 10 - Reduced Inequalities/Contextualising CSR in Asia_ Corporate Social Responsibility in A.pdf\n",
            "/content/data/SDG 10 - Reduced Inequalities/The evolution of Asia philanthropy.pdf\n",
            "/content/data/SDG 10 - Reduced Inequalities/Does the Market Value Corporate Philanthropy? Evidence from the Response to the 2004 Tsunami Relief Effort.pdf\n",
            "/content/data/SDG 10 - Reduced Inequalities/Institutional Ownership and Corporate Philanthropic Giving in an Emerging Economy.pdf\n",
            "/content/data/SDG 10 - Reduced Inequalities/sdgs-business-reporting-analysis (Sep2017).pdf\n",
            "/content/data/SDG 10 - Reduced Inequalities/Beyond Corporate Social Responsibility- The Scope for Corporate Investment in Community Driven Development.pdf\n",
            "/content/data/SDG 10 - Reduced Inequalities/Impact of Corporate Social Responsibility Dimensions on Firm Value- Some Evidence from Hong Kong and China.pdf\n",
            "/content/data/SDG 10 - Reduced Inequalities/Corporate environmental responsibility (CER) weakness, media coverage, and corporate philanthropy- Evidence from China.pdf\n",
            "/content/data/SDG 10 - Reduced Inequalities/POTENTIAL AND PROSPECTS FOR PHILANTHROPY IN IMPLEMENTING POST-2015 DEVELOPMENT GOALS.pdf\n",
            "/content/data/SDG 10 - Reduced Inequalities/The Business of Doing Good.pdf\n",
            "/content/data/SDG 10 - Reduced Inequalities/Corporate Philanthropy Report.pdf\n",
            "/content/data/SDG 10 - Reduced Inequalities/09-CSR in Asia A seven country study of CSR website reporting.PDF\n",
            "/content/data/SDG 10 - Reduced Inequalities/Engaging Employees in Community Investment at Pfizer.pdf\n",
            "/content/data/SDG 10 - Reduced Inequalities/acsep-working-paper-no5-ebook.pdf\n",
            "/content/data/SDG 12 - Responsible Consumption and Production/Chapter-6  from Sinden and Thampapillai (1995) BCA.pdf\n",
            "/content/data/SDG 12 - Responsible Consumption and Production/Lessons from Science Need for a Rethink of Concepts in Economics.pdf\n",
            "/content/data/SDG 12 - Responsible Consumption and Production/Raine Foster Potts 2006.pdf\n",
            "/content/data/SDG 12 - Responsible Consumption and Production/Jeffrey Young 1991.pdf\n",
            "/content/data/SDG 12 - Responsible Consumption and Production/Herman Daly 1992.pdf\n",
            "/content/data/SDG 12 - Responsible Consumption and Production/Extension of environmental accounting.pdf\n",
            "/content/data/SDG 12 - Responsible Consumption and Production/IMPERFECT INFORMATION INLEARNING OF ECONOMICS.pdf\n",
            "/content/data/SDG 12 - Responsible Consumption and Production/Dixon 2008.pdf\n",
            "/content/data/SDG 12 - Responsible Consumption and Production/Scneider and Kay.pdf\n",
            "/content/data/SDG 12 - Responsible Consumption and Production/104328-WP-PUBLIC-OD-Habit-and-Nudging-Catalyst-Behavioral-Sciences-022916.pdf\n",
            "/content/data/SDG 12 - Responsible Consumption and Production/Thermodynamics on MainStreet.pdf\n",
            "/content/data/SDG 12 - Responsible Consumption and Production/Cleveland and Ruth 1997.pdf\n",
            "/content/data/SDG 12 - Responsible Consumption and Production/Chapter-8 BCA.pdf\n",
            "/content/data/SDG 12 - Responsible Consumption and Production/Capsular view of CBA (1).pdf\n",
            "/content/data/SDG 12 - Responsible Consumption and Production/Ayres 1999.pdf\n",
            "/content/data/SDG 12 - Responsible Consumption and Production/Environmental Valuation - Knetsch 1994.pdf\n",
            "/content/data/SDG 12 - Responsible Consumption and Production/Gowdy and Messener 1998.pdf\n",
            "/content/data/SDG 12 - Responsible Consumption and Production/Elias Khalil 2004.pdf\n",
            "/content/data/SDG 12 - Responsible Consumption and Production/Supplement to Lecture 3.pdf\n",
            "/content/data/SDG 08 - Decent Work and Economic Growth/Pro-Poor to Inclusive Growth.pdf\n",
            "/content/data/SDG 08 - Decent Work and Economic Growth/Labour_Regulations_and_Labour_Standards_in_India_D.pdf\n",
            "/content/data/SDG 08 - Decent Work and Economic Growth/ADOLESCENTS, YOUTH AND DEVELOPMENT.pdf\n",
            "/content/data/SDG 08 - Decent Work and Economic Growth/The Nexus of Economic Growth, Employment and Poverty Reduction.pdf\n",
            "/content/data/SDG 08 - Decent Work and Economic Growth/Women’s economic empowerment and inclusive growth.pdf\n",
            "/content/data/SDG 08 - Decent Work and Economic Growth/Economic Growth in South Asia.pdf\n"
          ],
          "name": "stdout"
        },
        {
          "output_type": "stream",
          "text": [
            "/content/data/SDG 08 - Decent Work and Economic Growth/Rising Informality.pdf\n",
            "/content/data/SDG 08 - Decent Work and Economic Growth/ORGANISING AS A CATALYST FOR PROMOTING DECENT WORK.pdf\n",
            "/content/data/SDG 08 - Decent Work and Economic Growth/Changing Employment Conditions of the Indian Workforce.pdf\n",
            "/content/data/SDG 08 - Decent Work and Economic Growth/Globalization and its effects on youth employment trends in Asia.pdf\n",
            "/content/data/SDG 08 - Decent Work and Economic Growth/Marginality_from_Myth_to_Reality.pdf\n",
            "/content/data/SDG 08 - Decent Work and Economic Growth/Macroeconomic policy for full and productive employment and decent work for all.pdf\n",
            "/content/data/SDG 08 - Decent Work and Economic Growth/Global Production Systems and Decent Work.pdf\n",
            "/content/data/SDG 08 - Decent Work and Economic Growth/The Place of Social Capital.pdf\n",
            "/content/data/SDG 08 - Decent Work and Economic Growth/Measurement of decent work.pdf\n",
            "/content/data/SDG 08 - Decent Work and Economic Growth/Decent Work Objectives and Activities.pdf\n",
            "/content/data/SDG 08 - Decent Work and Economic Growth/Inclusive Growth toward a Prosperous Asia.pdf\n",
            "/content/data/SDG 08 - Decent Work and Economic Growth/Decent Work.pdf\n",
            "/content/data/SDG 08 - Decent Work and Economic Growth/Challenges and Opportunities to Promote Decent Work.pdf\n",
            "/content/data/SDG 08 - Decent Work and Economic Growth/Informalization, Economic Growth and the Challenge.pdf\n",
            "Successfully processed 118/119 pdfs\n",
            "Reading PDFs took 76.68389081954956 seconds\n"
          ],
          "name": "stdout"
        }
      ]
    },
    {
      "metadata": {
        "id": "1Kmnu1CsdNtw",
        "colab_type": "code",
        "colab": {
          "base_uri": "https://localhost:8080/",
          "height": 204
        },
        "outputId": "2673275c-96c5-4062-cf58-648a7230b10b"
      },
      "cell_type": "code",
      "source": [
        "df.head()"
      ],
      "execution_count": 9,
      "outputs": [
        {
          "output_type": "execute_result",
          "data": {
            "text/html": [
              "<div>\n",
              "<style scoped>\n",
              "    .dataframe tbody tr th:only-of-type {\n",
              "        vertical-align: middle;\n",
              "    }\n",
              "\n",
              "    .dataframe tbody tr th {\n",
              "        vertical-align: top;\n",
              "    }\n",
              "\n",
              "    .dataframe thead th {\n",
              "        text-align: right;\n",
              "    }\n",
              "</style>\n",
              "<table border=\"1\" class=\"dataframe\">\n",
              "  <thead>\n",
              "    <tr style=\"text-align: right;\">\n",
              "      <th></th>\n",
              "      <th>SDG</th>\n",
              "      <th>filename</th>\n",
              "      <th>fulltext</th>\n",
              "    </tr>\n",
              "  </thead>\n",
              "  <tbody>\n",
              "    <tr>\n",
              "      <th>0</th>\n",
              "      <td>05</td>\n",
              "      <td>Cross-Gender Casting.pdf</td>\n",
              "      <td>b\"Journal of International Women's Studies\\nVo...</td>\n",
              "    </tr>\n",
              "    <tr>\n",
              "      <th>1</th>\n",
              "      <td>05</td>\n",
              "      <td>Keys to Women?s Liberation in Communist China.pdf</td>\n",
              "      <td>b'Journal of International Women\\'s Studies\\nV...</td>\n",
              "    </tr>\n",
              "    <tr>\n",
              "      <th>2</th>\n",
              "      <td>05</td>\n",
              "      <td>Determinants of Female?s Employment Outcomes i...</td>\n",
              "      <td>b'Journal of International Women\\'s Studies\\nV...</td>\n",
              "    </tr>\n",
              "    <tr>\n",
              "      <th>3</th>\n",
              "      <td>05</td>\n",
              "      <td>Arab Spring_ Women?s Empowerment in Algeria.pdf</td>\n",
              "      <td>b'Journal of International Women\\'s Studies\\nV...</td>\n",
              "    </tr>\n",
              "    <tr>\n",
              "      <th>4</th>\n",
              "      <td>05</td>\n",
              "      <td>Gender Differences in Aspirations for Career a...</td>\n",
              "      <td>b\"Journal of International Women's Studies\\nVo...</td>\n",
              "    </tr>\n",
              "  </tbody>\n",
              "</table>\n",
              "</div>"
            ],
            "text/plain": [
              "  SDG                                           filename  \\\n",
              "0  05                           Cross-Gender Casting.pdf   \n",
              "1  05  Keys to Women?s Liberation in Communist China.pdf   \n",
              "2  05  Determinants of Female?s Employment Outcomes i...   \n",
              "3  05    Arab Spring_ Women?s Empowerment in Algeria.pdf   \n",
              "4  05  Gender Differences in Aspirations for Career a...   \n",
              "\n",
              "                                            fulltext  \n",
              "0  b\"Journal of International Women's Studies\\nVo...  \n",
              "1  b'Journal of International Women\\'s Studies\\nV...  \n",
              "2  b'Journal of International Women\\'s Studies\\nV...  \n",
              "3  b'Journal of International Women\\'s Studies\\nV...  \n",
              "4  b\"Journal of International Women's Studies\\nVo...  "
            ]
          },
          "metadata": {
            "tags": []
          },
          "execution_count": 9
        }
      ]
    },
    {
      "metadata": {
        "id": "qh-IBvLohoD3",
        "colab_type": "code",
        "colab": {
          "base_uri": "https://localhost:8080/",
          "height": 235
        },
        "outputId": "36a9f0c2-ea77-488b-f3d1-e0950d02a403"
      },
      "cell_type": "code",
      "source": [
        "# Count of articles by SDG\n",
        "(df\n",
        " .groupby('SDG')\n",
        " .count())"
      ],
      "execution_count": 10,
      "outputs": [
        {
          "output_type": "execute_result",
          "data": {
            "text/html": [
              "<div>\n",
              "<style scoped>\n",
              "    .dataframe tbody tr th:only-of-type {\n",
              "        vertical-align: middle;\n",
              "    }\n",
              "\n",
              "    .dataframe tbody tr th {\n",
              "        vertical-align: top;\n",
              "    }\n",
              "\n",
              "    .dataframe thead th {\n",
              "        text-align: right;\n",
              "    }\n",
              "</style>\n",
              "<table border=\"1\" class=\"dataframe\">\n",
              "  <thead>\n",
              "    <tr style=\"text-align: right;\">\n",
              "      <th></th>\n",
              "      <th>filename</th>\n",
              "      <th>fulltext</th>\n",
              "    </tr>\n",
              "    <tr>\n",
              "      <th>SDG</th>\n",
              "      <th></th>\n",
              "      <th></th>\n",
              "    </tr>\n",
              "  </thead>\n",
              "  <tbody>\n",
              "    <tr>\n",
              "      <th>05</th>\n",
              "      <td>20</td>\n",
              "      <td>20</td>\n",
              "    </tr>\n",
              "    <tr>\n",
              "      <th>08</th>\n",
              "      <td>20</td>\n",
              "      <td>20</td>\n",
              "    </tr>\n",
              "    <tr>\n",
              "      <th>10</th>\n",
              "      <td>31</td>\n",
              "      <td>31</td>\n",
              "    </tr>\n",
              "    <tr>\n",
              "      <th>12</th>\n",
              "      <td>19</td>\n",
              "      <td>19</td>\n",
              "    </tr>\n",
              "    <tr>\n",
              "      <th>15</th>\n",
              "      <td>28</td>\n",
              "      <td>28</td>\n",
              "    </tr>\n",
              "  </tbody>\n",
              "</table>\n",
              "</div>"
            ],
            "text/plain": [
              "     filename  fulltext\n",
              "SDG                    \n",
              "05         20        20\n",
              "08         20        20\n",
              "10         31        31\n",
              "12         19        19\n",
              "15         28        28"
            ]
          },
          "metadata": {
            "tags": []
          },
          "execution_count": 10
        }
      ]
    },
    {
      "metadata": {
        "id": "t8kOpMD9jfYR",
        "colab_type": "code",
        "colab": {
          "base_uri": "https://localhost:8080/",
          "height": 235
        },
        "outputId": "2b1ce5f2-f662-4691-a6d4-7376e49517c7"
      },
      "cell_type": "code",
      "source": [
        "# Short article lengths, usually not read by the pdf reader correctly\n",
        "df_short =(df\n",
        "           .assign(text_len = lambda x: x.fulltext.str.len())\n",
        "           .query('text_len < 5000'))\n",
        "\n",
        "# Removing these articles from analysis\n",
        "df_usable = df[~df.filename.isin(df_short.filename)]\n",
        "\n",
        "(df_usable\n",
        " .groupby('SDG')\n",
        " .count())"
      ],
      "execution_count": 11,
      "outputs": [
        {
          "output_type": "execute_result",
          "data": {
            "text/html": [
              "<div>\n",
              "<style scoped>\n",
              "    .dataframe tbody tr th:only-of-type {\n",
              "        vertical-align: middle;\n",
              "    }\n",
              "\n",
              "    .dataframe tbody tr th {\n",
              "        vertical-align: top;\n",
              "    }\n",
              "\n",
              "    .dataframe thead th {\n",
              "        text-align: right;\n",
              "    }\n",
              "</style>\n",
              "<table border=\"1\" class=\"dataframe\">\n",
              "  <thead>\n",
              "    <tr style=\"text-align: right;\">\n",
              "      <th></th>\n",
              "      <th>filename</th>\n",
              "      <th>fulltext</th>\n",
              "    </tr>\n",
              "    <tr>\n",
              "      <th>SDG</th>\n",
              "      <th></th>\n",
              "      <th></th>\n",
              "    </tr>\n",
              "  </thead>\n",
              "  <tbody>\n",
              "    <tr>\n",
              "      <th>05</th>\n",
              "      <td>20</td>\n",
              "      <td>20</td>\n",
              "    </tr>\n",
              "    <tr>\n",
              "      <th>08</th>\n",
              "      <td>20</td>\n",
              "      <td>20</td>\n",
              "    </tr>\n",
              "    <tr>\n",
              "      <th>10</th>\n",
              "      <td>29</td>\n",
              "      <td>29</td>\n",
              "    </tr>\n",
              "    <tr>\n",
              "      <th>12</th>\n",
              "      <td>15</td>\n",
              "      <td>15</td>\n",
              "    </tr>\n",
              "    <tr>\n",
              "      <th>15</th>\n",
              "      <td>24</td>\n",
              "      <td>24</td>\n",
              "    </tr>\n",
              "  </tbody>\n",
              "</table>\n",
              "</div>"
            ],
            "text/plain": [
              "     filename  fulltext\n",
              "SDG                    \n",
              "05         20        20\n",
              "08         20        20\n",
              "10         29        29\n",
              "12         15        15\n",
              "15         24        24"
            ]
          },
          "metadata": {
            "tags": []
          },
          "execution_count": 11
        }
      ]
    },
    {
      "metadata": {
        "id": "VHTpPK1uLjUr",
        "colab_type": "code",
        "colab": {}
      },
      "cell_type": "code",
      "source": [
        "from fastai.text import *\n",
        "import html\n",
        "\n",
        "BOS = 'xbos'  # beginning-of-sentence tag\n",
        "FLD = 'xfld'  # data field tag\n",
        "\n",
        "PATH=Path('data/aclImdb/')\n",
        "\n",
        "CLAS_PATH=Path('data/imdb_clas/')\n",
        "CLAS_PATH.mkdir(exist_ok=True)\n",
        "\n",
        "LM_PATH=Path('data/imdb_lm/')\n",
        "LM_PATH.mkdir(exist_ok=True)\n",
        "\n",
        "col_names = ['labels','text']\n",
        "\n",
        "chunksize=24000"
      ],
      "execution_count": 0,
      "outputs": []
    },
    {
      "metadata": {
        "id": "syyrJbUTBQgZ",
        "colab_type": "code",
        "colab": {}
      },
      "cell_type": "code",
      "source": [
        "trn_texts,val_texts = sklearn.model_selection.train_test_split(\n",
        "    df_usable, test_size=0.1)"
      ],
      "execution_count": 0,
      "outputs": []
    },
    {
      "metadata": {
        "id": "zw40WUDoBmfL",
        "colab_type": "code",
        "colab": {
          "base_uri": "https://localhost:8080/",
          "height": 34
        },
        "outputId": "e5f7b5d9-9f10-47c3-f0c5-bb260b37e16f"
      },
      "cell_type": "code",
      "source": [
        "len(trn_texts), len(val_texts)"
      ],
      "execution_count": 14,
      "outputs": [
        {
          "output_type": "execute_result",
          "data": {
            "text/plain": [
              "(97, 11)"
            ]
          },
          "metadata": {
            "tags": []
          },
          "execution_count": 14
        }
      ]
    },
    {
      "metadata": {
        "id": "bk8U303bC5H2",
        "colab_type": "code",
        "colab": {
          "base_uri": "https://localhost:8080/",
          "height": 235
        },
        "outputId": "72018eec-0b1a-4671-9d3e-20dfb55e5048"
      },
      "cell_type": "code",
      "source": [
        "(trn_texts\n",
        " .groupby('SDG')\n",
        " .count())"
      ],
      "execution_count": 15,
      "outputs": [
        {
          "output_type": "execute_result",
          "data": {
            "text/html": [
              "<div>\n",
              "<style scoped>\n",
              "    .dataframe tbody tr th:only-of-type {\n",
              "        vertical-align: middle;\n",
              "    }\n",
              "\n",
              "    .dataframe tbody tr th {\n",
              "        vertical-align: top;\n",
              "    }\n",
              "\n",
              "    .dataframe thead th {\n",
              "        text-align: right;\n",
              "    }\n",
              "</style>\n",
              "<table border=\"1\" class=\"dataframe\">\n",
              "  <thead>\n",
              "    <tr style=\"text-align: right;\">\n",
              "      <th></th>\n",
              "      <th>filename</th>\n",
              "      <th>fulltext</th>\n",
              "    </tr>\n",
              "    <tr>\n",
              "      <th>SDG</th>\n",
              "      <th></th>\n",
              "      <th></th>\n",
              "    </tr>\n",
              "  </thead>\n",
              "  <tbody>\n",
              "    <tr>\n",
              "      <th>05</th>\n",
              "      <td>18</td>\n",
              "      <td>18</td>\n",
              "    </tr>\n",
              "    <tr>\n",
              "      <th>08</th>\n",
              "      <td>18</td>\n",
              "      <td>18</td>\n",
              "    </tr>\n",
              "    <tr>\n",
              "      <th>10</th>\n",
              "      <td>29</td>\n",
              "      <td>29</td>\n",
              "    </tr>\n",
              "    <tr>\n",
              "      <th>12</th>\n",
              "      <td>14</td>\n",
              "      <td>14</td>\n",
              "    </tr>\n",
              "    <tr>\n",
              "      <th>15</th>\n",
              "      <td>18</td>\n",
              "      <td>18</td>\n",
              "    </tr>\n",
              "  </tbody>\n",
              "</table>\n",
              "</div>"
            ],
            "text/plain": [
              "     filename  fulltext\n",
              "SDG                    \n",
              "05         18        18\n",
              "08         18        18\n",
              "10         29        29\n",
              "12         14        14\n",
              "15         18        18"
            ]
          },
          "metadata": {
            "tags": []
          },
          "execution_count": 15
        }
      ]
    },
    {
      "metadata": {
        "id": "i7adOPJFC7cI",
        "colab_type": "code",
        "colab": {
          "base_uri": "https://localhost:8080/",
          "height": 204
        },
        "outputId": "ad227c31-6f2c-4529-af37-3d6fe644471e"
      },
      "cell_type": "code",
      "source": [
        "(val_texts\n",
        " .groupby('SDG')\n",
        " .count())"
      ],
      "execution_count": 16,
      "outputs": [
        {
          "output_type": "execute_result",
          "data": {
            "text/html": [
              "<div>\n",
              "<style scoped>\n",
              "    .dataframe tbody tr th:only-of-type {\n",
              "        vertical-align: middle;\n",
              "    }\n",
              "\n",
              "    .dataframe tbody tr th {\n",
              "        vertical-align: top;\n",
              "    }\n",
              "\n",
              "    .dataframe thead th {\n",
              "        text-align: right;\n",
              "    }\n",
              "</style>\n",
              "<table border=\"1\" class=\"dataframe\">\n",
              "  <thead>\n",
              "    <tr style=\"text-align: right;\">\n",
              "      <th></th>\n",
              "      <th>filename</th>\n",
              "      <th>fulltext</th>\n",
              "    </tr>\n",
              "    <tr>\n",
              "      <th>SDG</th>\n",
              "      <th></th>\n",
              "      <th></th>\n",
              "    </tr>\n",
              "  </thead>\n",
              "  <tbody>\n",
              "    <tr>\n",
              "      <th>05</th>\n",
              "      <td>2</td>\n",
              "      <td>2</td>\n",
              "    </tr>\n",
              "    <tr>\n",
              "      <th>08</th>\n",
              "      <td>2</td>\n",
              "      <td>2</td>\n",
              "    </tr>\n",
              "    <tr>\n",
              "      <th>12</th>\n",
              "      <td>1</td>\n",
              "      <td>1</td>\n",
              "    </tr>\n",
              "    <tr>\n",
              "      <th>15</th>\n",
              "      <td>6</td>\n",
              "      <td>6</td>\n",
              "    </tr>\n",
              "  </tbody>\n",
              "</table>\n",
              "</div>"
            ],
            "text/plain": [
              "     filename  fulltext\n",
              "SDG                    \n",
              "05          2         2\n",
              "08          2         2\n",
              "12          1         1\n",
              "15          6         6"
            ]
          },
          "metadata": {
            "tags": []
          },
          "execution_count": 16
        }
      ]
    },
    {
      "metadata": {
        "id": "alVDqogRDPVl",
        "colab_type": "text"
      },
      "cell_type": "markdown",
      "source": [
        "# Saving text in standard csv format with labels"
      ]
    },
    {
      "metadata": {
        "id": "Mz-5R0Lvqy5t",
        "colab_type": "code",
        "colab": {}
      },
      "cell_type": "code",
      "source": [
        "# TODO to save the text files in the 'standard csv format with labels' as mentioned in fastai before data processing\n",
        "# this is to facilitate the chunk processing of the text\n",
        "\n",
        "(trn_texts\n",
        " [['SDG','fulltext']]\n",
        " .rename({'SDG': 'labels', 'fulltext': 'text'}, axis = 1)\n",
        " .to_csv(CLAS_PATH/'train.csv', header=False, index=False)\n",
        ")\n",
        "\n",
        "(val_texts\n",
        " [['SDG','fulltext']]\n",
        " .rename({'SDG': 'labels', 'fulltext': 'text'}, axis = 1)\n",
        " .to_csv(CLAS_PATH/'test.csv', header=False, index=False)\n",
        ")\n",
        "\n",
        "(CLAS_PATH/'classes.txt').open('w').writelines(f'{k}\\n' for k in ids.keys())"
      ],
      "execution_count": 0,
      "outputs": []
    },
    {
      "metadata": {
        "id": "FA78SZxdDdPy",
        "colab_type": "text"
      },
      "cell_type": "markdown",
      "source": [
        "# Cleaning of text and tokenising"
      ]
    },
    {
      "metadata": {
        "id": "lnI4oj58Obrr",
        "colab_type": "code",
        "colab": {}
      },
      "cell_type": "code",
      "source": [
        "re1 = re.compile(r'  +')\n",
        "\n",
        "def fixup(x):\n",
        "    x = x.replace('#39;', \"'\").replace('amp;', '&').replace('#146;', \"'\").replace(\n",
        "        'nbsp;', ' ').replace('#36;', '$').replace('\\\\n', \"\\n\").replace('quot;', \"'\").replace(\n",
        "        '<br />', \"\\n\").replace('\\\\\"', '\"').replace('<unk>','u_n').replace(' @.@ ','.').replace(\n",
        "        ' @-@ ','-').replace('\\\\', ' \\\\ ')\n",
        "    return re1.sub(' ', html.unescape(x))    #html.unescape() Convert all named and numeric character references (e.g. &gt;, &#62;, &x3e;) in the string to the corresponding unicode(actual) characters."
      ],
      "execution_count": 0,
      "outputs": []
    },
    {
      "metadata": {
        "id": "pSxweD2PLpmL",
        "colab_type": "code",
        "colab": {}
      },
      "cell_type": "code",
      "source": [
        "def get_texts(df, n_lbls=1):\n",
        "    labels = df.iloc[:,range(n_lbls)].values.astype(np.int64)\n",
        "    texts = f'\\n{BOS} {FLD} 1 ' + df[n_lbls].astype(str)\n",
        "    for i in range(n_lbls+1, len(df.columns)): texts += f' {FLD} {i-n_lbls} ' + df[i].astype(str)\n",
        "    texts = texts.apply(fixup).values.astype(str)\n",
        "\n",
        "    tok = Tokenizer().proc_all_mp(partition_by_cores(texts))\n",
        "    return tok, list(labels)"
      ],
      "execution_count": 0,
      "outputs": []
    },
    {
      "metadata": {
        "id": "TCMOM7zuJlQZ",
        "colab_type": "code",
        "colab": {}
      },
      "cell_type": "code",
      "source": [
        "def get_all(df, n_lbls):\n",
        "    tok, labels = [], []\n",
        "    for i, r in enumerate(df):\n",
        "        print(i)\n",
        "        tok_, labels_ = get_texts(r, n_lbls)\n",
        "        tok += tok_;\n",
        "        labels += labels_\n",
        "    return tok, labels"
      ],
      "execution_count": 0,
      "outputs": []
    },
    {
      "metadata": {
        "id": "xaEWis36Jl9g",
        "colab_type": "code",
        "colab": {}
      },
      "cell_type": "code",
      "source": [
        "df_trn = pd.read_csv(CLAS_PATH/'train.csv', header=None, chunksize=chunksize)\n",
        "df_val = pd.read_csv(CLAS_PATH/'test.csv', header=None, chunksize=chunksize)"
      ],
      "execution_count": 0,
      "outputs": []
    },
    {
      "metadata": {
        "id": "B4GUMoxN6ttx",
        "colab_type": "code",
        "colab": {
          "base_uri": "https://localhost:8080/",
          "height": 51
        },
        "outputId": "33432690-e3ab-4ef7-ea2a-bf05c08d08e1"
      },
      "cell_type": "code",
      "source": [
        "tok_trn, trn_labels = get_all(df_trn, 1)\n",
        "tok_val, val_labels = get_all(df_val, 1)"
      ],
      "execution_count": 22,
      "outputs": [
        {
          "output_type": "stream",
          "text": [
            "0\n",
            "0\n"
          ],
          "name": "stdout"
        }
      ]
    },
    {
      "metadata": {
        "id": "xmDuN2A0DJuU",
        "colab_type": "code",
        "colab": {}
      },
      "cell_type": "code",
      "source": [
        "(LM_PATH/'tmp').mkdir(exist_ok=True)"
      ],
      "execution_count": 0,
      "outputs": []
    },
    {
      "metadata": {
        "id": "0TJQMVCRDLd0",
        "colab_type": "code",
        "colab": {}
      },
      "cell_type": "code",
      "source": [
        "np.save(LM_PATH/'tmp'/'tok_trn.npy', tok_trn)\n",
        "np.save(LM_PATH/'tmp'/'tok_val.npy', tok_val)"
      ],
      "execution_count": 0,
      "outputs": []
    },
    {
      "metadata": {
        "id": "do77eKlUDM6_",
        "colab_type": "code",
        "colab": {}
      },
      "cell_type": "code",
      "source": [
        "tok_trn = np.load(LM_PATH/'tmp'/'tok_trn.npy')\n",
        "tok_val = np.load(LM_PATH/'tmp'/'tok_val.npy')"
      ],
      "execution_count": 0,
      "outputs": []
    },
    {
      "metadata": {
        "id": "7c4wa4Xw8IYh",
        "colab_type": "code",
        "colab": {
          "base_uri": "https://localhost:8080/",
          "height": 442
        },
        "outputId": "7ed1c331-bd39-41a8-9097-168138660328"
      },
      "cell_type": "code",
      "source": [
        "freq = Counter(p for o in tok_trn for p in o)\n",
        "freq.most_common(25)"
      ],
      "execution_count": 26,
      "outputs": [
        {
          "output_type": "execute_result",
          "data": {
            "text/plain": [
              "[('\\n', 123532),\n",
              " ('\\\\', 95952),\n",
              " (',', 79187),\n",
              " ('the', 70302),\n",
              " ('.', 65118),\n",
              " ('of', 50227),\n",
              " ('and', 45756),\n",
              " ('\\n\\n', 39613),\n",
              " ('in', 31381),\n",
              " ('to', 29933),\n",
              " ('xe2', 26550),\n",
              " ('x80', 24950),\n",
              " (')', 22500),\n",
              " ('(', 21269),\n",
              " ('t_up', 20864),\n",
              " ('a', 19322),\n",
              " ('-', 15670),\n",
              " ('for', 13173),\n",
              " ('is', 12214),\n",
              " (':', 11063),\n",
              " ('that', 10496),\n",
              " ('as', 9054),\n",
              " ('on', 8977),\n",
              " ('/', 8676),\n",
              " ('\\n\\n ', 7520)]"
            ]
          },
          "metadata": {
            "tags": []
          },
          "execution_count": 26
        }
      ]
    },
    {
      "metadata": {
        "id": "iNwKUTzl8rN6",
        "colab_type": "code",
        "colab": {}
      },
      "cell_type": "code",
      "source": [
        "max_vocab = 60000\n",
        "min_freq = 2"
      ],
      "execution_count": 0,
      "outputs": []
    },
    {
      "metadata": {
        "id": "iBl5E-5F8rrW",
        "colab_type": "code",
        "colab": {}
      },
      "cell_type": "code",
      "source": [
        "itos = [o for o,c in freq.most_common(max_vocab) if c>min_freq]\n",
        "itos.insert(0, '_pad_')\n",
        "itos.insert(0, '_unk_')"
      ],
      "execution_count": 0,
      "outputs": []
    },
    {
      "metadata": {
        "id": "gyCCopH0D5ed",
        "colab_type": "text"
      },
      "cell_type": "markdown",
      "source": [
        "# Convert String to Int representation"
      ]
    },
    {
      "metadata": {
        "id": "0CvubN4V8t92",
        "colab_type": "code",
        "colab": {
          "base_uri": "https://localhost:8080/",
          "height": 34
        },
        "outputId": "8eef3da2-c0bb-4492-ac02-d824cc963bea"
      },
      "cell_type": "code",
      "source": [
        "stoi = collections.defaultdict(lambda:0, {v:k for k,v in enumerate(itos)})\n",
        "len(itos)"
      ],
      "execution_count": 29,
      "outputs": [
        {
          "output_type": "execute_result",
          "data": {
            "text/plain": [
              "20059"
            ]
          },
          "metadata": {
            "tags": []
          },
          "execution_count": 29
        }
      ]
    },
    {
      "metadata": {
        "id": "5KCnJo1y80Bw",
        "colab_type": "code",
        "colab": {}
      },
      "cell_type": "code",
      "source": [
        "trn_lm = np.array([[stoi[o] for o in p] for p in tok_trn])\n",
        "val_lm = np.array([[stoi[o] for o in p] for p in tok_val])"
      ],
      "execution_count": 0,
      "outputs": []
    },
    {
      "metadata": {
        "id": "cSq8gqddDU_y",
        "colab_type": "code",
        "colab": {}
      },
      "cell_type": "code",
      "source": [
        "np.save(LM_PATH/'tmp'/'trn_ids.npy', trn_lm)\n",
        "np.save(LM_PATH/'tmp'/'val_ids.npy', val_lm)\n",
        "pickle.dump(itos, open(LM_PATH/'tmp'/'itos.pkl', 'wb'))"
      ],
      "execution_count": 0,
      "outputs": []
    },
    {
      "metadata": {
        "id": "EA7VtU22DWUZ",
        "colab_type": "code",
        "colab": {}
      },
      "cell_type": "code",
      "source": [
        "trn_lm = np.load(LM_PATH/'tmp'/'trn_ids.npy')\n",
        "val_lm = np.load(LM_PATH/'tmp'/'val_ids.npy')\n",
        "itos = pickle.load(open(LM_PATH/'tmp'/'itos.pkl', 'rb'))"
      ],
      "execution_count": 0,
      "outputs": []
    },
    {
      "metadata": {
        "id": "8kxXQFWO87-M",
        "colab_type": "code",
        "colab": {
          "base_uri": "https://localhost:8080/",
          "height": 34
        },
        "outputId": "0f3c84a9-c838-44ec-96e8-f533566db0bf"
      },
      "cell_type": "code",
      "source": [
        "vs=len(itos)\n",
        "vs,len(trn_lm)"
      ],
      "execution_count": 33,
      "outputs": [
        {
          "output_type": "execute_result",
          "data": {
            "text/plain": [
              "(20059, 97)"
            ]
          },
          "metadata": {
            "tags": []
          },
          "execution_count": 33
        }
      ]
    },
    {
      "metadata": {
        "id": "rQiB1v1HDbOW",
        "colab_type": "text"
      },
      "cell_type": "markdown",
      "source": [
        "#Wikitext"
      ]
    },
    {
      "metadata": {
        "id": "q0KN-gkJ9Dgy",
        "colab_type": "code",
        "colab": {
          "base_uri": "https://localhost:8080/",
          "height": 2567
        },
        "outputId": "262f6769-10b9-4511-ee40-1a29e44fbf0b"
      },
      "cell_type": "code",
      "source": [
        "! wget -nH -r -np -P {PATH} http://files.fast.ai/models/wt103/"
      ],
      "execution_count": 34,
      "outputs": [
        {
          "output_type": "stream",
          "text": [
            "--2018-06-15 00:49:09--  http://files.fast.ai/models/wt103/\n",
            "Resolving files.fast.ai (files.fast.ai)... 67.205.15.147\n",
            "Connecting to files.fast.ai (files.fast.ai)|67.205.15.147|:80... connected.\n",
            "HTTP request sent, awaiting response... 200 OK\n",
            "Length: 857 [text/html]\n",
            "Saving to: ‘data/aclImdb/models/wt103/index.html’\n",
            "\n",
            "models/wt103/index. 100%[===================>]     857  --.-KB/s    in 0s      \n",
            "\n",
            "2018-06-15 00:49:09 (114 MB/s) - ‘data/aclImdb/models/wt103/index.html’ saved [857/857]\n",
            "\n",
            "Loading robots.txt; please ignore errors.\n",
            "--2018-06-15 00:49:09--  http://files.fast.ai/robots.txt\n",
            "Reusing existing connection to files.fast.ai:80.\n",
            "HTTP request sent, awaiting response... 404 Not Found\n",
            "2018-06-15 00:49:09 ERROR 404: Not Found.\n",
            "\n",
            "--2018-06-15 00:49:09--  http://files.fast.ai/models/wt103/?C=N;O=D\n",
            "Reusing existing connection to files.fast.ai:80.\n",
            "HTTP request sent, awaiting response... 200 OK\n",
            "Length: 857 [text/html]\n",
            "Saving to: ‘data/aclImdb/models/wt103/index.html?C=N;O=D’\n",
            "\n",
            "models/wt103/index. 100%[===================>]     857  --.-KB/s    in 0s      \n",
            "\n",
            "2018-06-15 00:49:09 (5.76 MB/s) - ‘data/aclImdb/models/wt103/index.html?C=N;O=D’ saved [857/857]\n",
            "\n",
            "--2018-06-15 00:49:09--  http://files.fast.ai/models/wt103/?C=M;O=A\n",
            "Reusing existing connection to files.fast.ai:80.\n",
            "HTTP request sent, awaiting response... 200 OK\n",
            "Length: 857 [text/html]\n",
            "Saving to: ‘data/aclImdb/models/wt103/index.html?C=M;O=A’\n",
            "\n",
            "models/wt103/index. 100%[===================>]     857  --.-KB/s    in 0s      \n",
            "\n",
            "2018-06-15 00:49:09 (122 MB/s) - ‘data/aclImdb/models/wt103/index.html?C=M;O=A’ saved [857/857]\n",
            "\n",
            "--2018-06-15 00:49:09--  http://files.fast.ai/models/wt103/?C=S;O=A\n",
            "Reusing existing connection to files.fast.ai:80.\n",
            "HTTP request sent, awaiting response... 200 OK\n",
            "Length: 857 [text/html]\n",
            "Saving to: ‘data/aclImdb/models/wt103/index.html?C=S;O=A’\n",
            "\n",
            "models/wt103/index. 100%[===================>]     857  --.-KB/s    in 0s      \n",
            "\n",
            "2018-06-15 00:49:09 (110 MB/s) - ‘data/aclImdb/models/wt103/index.html?C=S;O=A’ saved [857/857]\n",
            "\n",
            "--2018-06-15 00:49:09--  http://files.fast.ai/models/wt103/?C=D;O=A\n",
            "Reusing existing connection to files.fast.ai:80.\n",
            "HTTP request sent, awaiting response... 200 OK\n",
            "Length: 857 [text/html]\n",
            "Saving to: ‘data/aclImdb/models/wt103/index.html?C=D;O=A’\n",
            "\n",
            "models/wt103/index. 100%[===================>]     857  --.-KB/s    in 0s      \n",
            "\n",
            "2018-06-15 00:49:09 (115 MB/s) - ‘data/aclImdb/models/wt103/index.html?C=D;O=A’ saved [857/857]\n",
            "\n",
            "--2018-06-15 00:49:09--  http://files.fast.ai/models/wt103/bwd_wt103.h5\n",
            "Reusing existing connection to files.fast.ai:80.\n",
            "HTTP request sent, awaiting response... 200 OK\n",
            "Length: 462387687 (441M) [text/plain]\n",
            "Saving to: ‘data/aclImdb/models/wt103/bwd_wt103.h5’\n",
            "\n",
            "models/wt103/bwd_wt 100%[===================>] 440.97M   111MB/s    in 4.0s    \n",
            "\n",
            "2018-06-15 00:49:13 (109 MB/s) - ‘data/aclImdb/models/wt103/bwd_wt103.h5’ saved [462387687/462387687]\n",
            "\n",
            "--2018-06-15 00:49:13--  http://files.fast.ai/models/wt103/bwd_wt103_enc.h5\n",
            "Reusing existing connection to files.fast.ai:80.\n",
            "HTTP request sent, awaiting response... 200 OK\n",
            "Length: 462387634 (441M) [text/plain]\n",
            "Saving to: ‘data/aclImdb/models/wt103/bwd_wt103_enc.h5’\n",
            "\n",
            "models/wt103/bwd_wt  44%[=======>            ] 196.00M  97.4MB/s               "
          ],
          "name": "stdout"
        },
        {
          "output_type": "stream",
          "text": [
            "models/wt103/bwd_wt 100%[===================>] 440.97M  78.0MB/s    in 5.2s    \n",
            "\n",
            "2018-06-15 00:49:19 (85.6 MB/s) - ‘data/aclImdb/models/wt103/bwd_wt103_enc.h5’ saved [462387634/462387634]\n",
            "\n",
            "--2018-06-15 00:49:19--  http://files.fast.ai/models/wt103/fwd_wt103.h5\n",
            "Reusing existing connection to files.fast.ai:80.\n",
            "HTTP request sent, awaiting response... 200 OK\n",
            "Length: 462387687 (441M) [text/plain]\n",
            "Saving to: ‘data/aclImdb/models/wt103/fwd_wt103.h5’\n",
            "\n",
            "models/wt103/fwd_wt 100%[===================>] 440.97M  78.1MB/s    in 6.2s    \n",
            "\n",
            "2018-06-15 00:49:25 (70.9 MB/s) - ‘data/aclImdb/models/wt103/fwd_wt103.h5’ saved [462387687/462387687]\n",
            "\n",
            "--2018-06-15 00:49:25--  http://files.fast.ai/models/wt103/fwd_wt103_enc.h5\n",
            "Reusing existing connection to files.fast.ai:80.\n",
            "HTTP request sent, awaiting response... 200 OK\n",
            "Length: 462387634 (441M) [text/plain]\n",
            "Saving to: ‘data/aclImdb/models/wt103/fwd_wt103_enc.h5’\n",
            "\n",
            "models/wt103/fwd_wt 100%[===================>] 440.97M  85.9MB/s    in 5.2s    \n",
            "\n",
            "2018-06-15 00:49:30 (84.7 MB/s) - ‘data/aclImdb/models/wt103/fwd_wt103_enc.h5’ saved [462387634/462387634]\n",
            "\n",
            "--2018-06-15 00:49:30--  http://files.fast.ai/models/wt103/itos_wt103.pkl\n",
            "Reusing existing connection to files.fast.ai:80.\n",
            "HTTP request sent, awaiting response... 200 OK\n",
            "Length: 4161252 (4.0M) [text/plain]\n",
            "Saving to: ‘data/aclImdb/models/wt103/itos_wt103.pkl’\n",
            "\n",
            "models/wt103/itos_w 100%[===================>]   3.97M  --.-KB/s    in 0.04s   \n",
            "\n",
            "2018-06-15 00:49:30 (99.7 MB/s) - ‘data/aclImdb/models/wt103/itos_wt103.pkl’ saved [4161252/4161252]\n",
            "\n",
            "--2018-06-15 00:49:30--  http://files.fast.ai/models/wt103/?C=N;O=A\n",
            "Reusing existing connection to files.fast.ai:80.\n",
            "HTTP request sent, awaiting response... 200 OK\n",
            "Length: 857 [text/html]\n",
            "Saving to: ‘data/aclImdb/models/wt103/index.html?C=N;O=A’\n",
            "\n",
            "models/wt103/index. 100%[===================>]     857  --.-KB/s    in 0s      \n",
            "\n",
            "2018-06-15 00:49:30 (108 MB/s) - ‘data/aclImdb/models/wt103/index.html?C=N;O=A’ saved [857/857]\n",
            "\n",
            "--2018-06-15 00:49:30--  http://files.fast.ai/models/wt103/?C=M;O=D\n",
            "Reusing existing connection to files.fast.ai:80.\n",
            "HTTP request sent, awaiting response... 200 OK\n",
            "Length: 857 [text/html]\n",
            "Saving to: ‘data/aclImdb/models/wt103/index.html?C=M;O=D’\n",
            "\n",
            "models/wt103/index. 100%[===================>]     857  --.-KB/s    in 0s      \n",
            "\n",
            "2018-06-15 00:49:30 (99.9 MB/s) - ‘data/aclImdb/models/wt103/index.html?C=M;O=D’ saved [857/857]\n",
            "\n",
            "--2018-06-15 00:49:30--  http://files.fast.ai/models/wt103/?C=S;O=D\n",
            "Reusing existing connection to files.fast.ai:80.\n",
            "HTTP request sent, awaiting response... 200 OK\n",
            "Length: 857 [text/html]\n",
            "Saving to: ‘data/aclImdb/models/wt103/index.html?C=S;O=D’\n",
            "\n",
            "models/wt103/index. 100%[===================>]     857  --.-KB/s    in 0s      \n",
            "\n",
            "2018-06-15 00:49:30 (105 MB/s) - ‘data/aclImdb/models/wt103/index.html?C=S;O=D’ saved [857/857]\n",
            "\n",
            "--2018-06-15 00:49:30--  http://files.fast.ai/models/wt103/?C=D;O=D\n",
            "Reusing existing connection to files.fast.ai:80.\n",
            "HTTP request sent, awaiting response... 200 OK\n",
            "Length: 857 [text/html]\n",
            "Saving to: ‘data/aclImdb/models/wt103/index.html?C=D;O=D’\n",
            "\n",
            "models/wt103/index. 100%[===================>]     857  --.-KB/s    in 0s      \n",
            "\n",
            "2018-06-15 00:49:30 (99.4 MB/s) - ‘data/aclImdb/models/wt103/index.html?C=D;O=D’ saved [857/857]\n",
            "\n",
            "FINISHED --2018-06-15 00:49:30--\n",
            "Total wall clock time: 21s\n",
            "Downloaded: 14 files, 1.7G in 21s (85.5 MB/s)\n"
          ],
          "name": "stdout"
        }
      ]
    },
    {
      "metadata": {
        "id": "yGmg_Rkr9Zpe",
        "colab_type": "code",
        "colab": {}
      },
      "cell_type": "code",
      "source": [
        "em_sz,nh,nl = 400,1150,3"
      ],
      "execution_count": 0,
      "outputs": []
    },
    {
      "metadata": {
        "id": "EmnxhOI_9bbU",
        "colab_type": "code",
        "colab": {}
      },
      "cell_type": "code",
      "source": [
        "PRE_PATH = PATH/'models'/'wt103'\n",
        "PRE_LM_PATH = PRE_PATH/'fwd_wt103.h5'"
      ],
      "execution_count": 0,
      "outputs": []
    },
    {
      "metadata": {
        "id": "pavw1ilu9czi",
        "colab_type": "code",
        "colab": {}
      },
      "cell_type": "code",
      "source": [
        "wgts = torch.load(PRE_LM_PATH, map_location=lambda storage, loc: storage)"
      ],
      "execution_count": 0,
      "outputs": []
    },
    {
      "metadata": {
        "id": "nLY2dO1m9hEK",
        "colab_type": "code",
        "colab": {}
      },
      "cell_type": "code",
      "source": [
        "enc_wgts = to_np(wgts['0.encoder.weight'])\n",
        "row_m = enc_wgts.mean(0)"
      ],
      "execution_count": 0,
      "outputs": []
    },
    {
      "metadata": {
        "id": "VRLHb7p_9kD0",
        "colab_type": "code",
        "colab": {}
      },
      "cell_type": "code",
      "source": [
        "itos2 = pickle.load((PRE_PATH/'itos_wt103.pkl').open('rb'))\n",
        "stoi2 = collections.defaultdict(lambda:-1, {v:k for k,v in enumerate(itos2)})"
      ],
      "execution_count": 0,
      "outputs": []
    },
    {
      "metadata": {
        "id": "9xnR_Tj59n9x",
        "colab_type": "code",
        "colab": {}
      },
      "cell_type": "code",
      "source": [
        "new_w = np.zeros((vs, em_sz), dtype=np.float32)\n",
        "for i,w in enumerate(itos):\n",
        "    r = stoi2[w]\n",
        "    new_w[i] = enc_wgts[r] if r>=0 else row_m"
      ],
      "execution_count": 0,
      "outputs": []
    },
    {
      "metadata": {
        "id": "ZcwZ-JBy9qOn",
        "colab_type": "code",
        "colab": {}
      },
      "cell_type": "code",
      "source": [
        "wgts['0.encoder.weight'] = T(new_w)\n",
        "wgts['0.encoder_with_dropout.embed.weight'] = T(np.copy(new_w))\n",
        "wgts['1.decoder.weight'] = T(np.copy(new_w))"
      ],
      "execution_count": 0,
      "outputs": []
    },
    {
      "metadata": {
        "id": "ACX3upeh9tpq",
        "colab_type": "code",
        "colab": {}
      },
      "cell_type": "code",
      "source": [
        "wd=1e-7\n",
        "bptt=70\n",
        "bs=52\n",
        "opt_fn = partial(optim.Adam, betas=(0.8, 0.99))"
      ],
      "execution_count": 0,
      "outputs": []
    },
    {
      "metadata": {
        "id": "vh4JOM349zXo",
        "colab_type": "code",
        "colab": {}
      },
      "cell_type": "code",
      "source": [
        "trn_dl = LanguageModelLoader(np.concatenate(trn_lm), bs, bptt)\n",
        "val_dl = LanguageModelLoader(np.concatenate(val_lm), bs, bptt)\n",
        "md = LanguageModelData(PATH, 1, vs, trn_dl, val_dl, bs=bs, bptt=bptt)"
      ],
      "execution_count": 0,
      "outputs": []
    },
    {
      "metadata": {
        "id": "4yWB4mrkE0Xi",
        "colab_type": "code",
        "colab": {}
      },
      "cell_type": "code",
      "source": [
        "drops = np.array([0.25, 0.1, 0.2, 0.02, 0.15])*0.7"
      ],
      "execution_count": 0,
      "outputs": []
    },
    {
      "metadata": {
        "id": "PCW2ssn7E5j7",
        "colab_type": "code",
        "colab": {}
      },
      "cell_type": "code",
      "source": [
        "learner= md.get_model(opt_fn, em_sz, nh, nl, \n",
        "    dropouti=drops[0], dropout=drops[1], wdrop=drops[2], dropoute=drops[3], dropouth=drops[4])\n",
        "\n",
        "learner.metrics = [accuracy]\n",
        "learner.freeze_to(-1)"
      ],
      "execution_count": 0,
      "outputs": []
    },
    {
      "metadata": {
        "id": "Xkqfdr4KE8pS",
        "colab_type": "code",
        "colab": {}
      },
      "cell_type": "code",
      "source": [
        "learner.model.load_state_dict(wgts)"
      ],
      "execution_count": 0,
      "outputs": []
    },
    {
      "metadata": {
        "id": "jqbcB_XdE-j9",
        "colab_type": "code",
        "colab": {}
      },
      "cell_type": "code",
      "source": [
        "lr=1e-3\n",
        "lrs = lr"
      ],
      "execution_count": 0,
      "outputs": []
    },
    {
      "metadata": {
        "id": "lVgtX8voRcEw",
        "colab_type": "code",
        "colab": {
          "base_uri": "https://localhost:8080/",
          "height": 85
        },
        "outputId": "f61a1a8f-461e-4cf2-f170-a9b7aaf98a23"
      },
      "cell_type": "code",
      "source": [
        "learner.fit(lrs/2, 1, wds=wd, use_clr=(32,2), cycle_len=1)"
      ],
      "execution_count": 56,
      "outputs": [
        {
          "output_type": "display_data",
          "data": {
            "application/vnd.jupyter.widget-view+json": {
              "model_id": "475c08db1be04866af5d729098150428",
              "version_minor": 0,
              "version_major": 2
            },
            "text/plain": [
              "HBox(children=(IntProgress(value=0, description='Epoch', max=1), HTML(value='')))"
            ]
          },
          "metadata": {
            "tags": []
          }
        },
        {
          "output_type": "stream",
          "text": [
            "epoch      trn_loss   val_loss   accuracy   \n",
            "    0      5.277584   4.921897   0.234921  \n"
          ],
          "name": "stdout"
        },
        {
          "output_type": "execute_result",
          "data": {
            "text/plain": [
              "[array([4.9219]), 0.2349206958485346]"
            ]
          },
          "metadata": {
            "tags": []
          },
          "execution_count": 56
        }
      ]
    },
    {
      "metadata": {
        "id": "AjBRpeBgbGJT",
        "colab_type": "code",
        "colab": {}
      },
      "cell_type": "code",
      "source": [
        "learner.save('lm_last_ft')"
      ],
      "execution_count": 0,
      "outputs": []
    },
    {
      "metadata": {
        "id": "4M4pHVhQ7iVy",
        "colab_type": "code",
        "colab": {}
      },
      "cell_type": "code",
      "source": [
        "learner.load('lm_last_ft')"
      ],
      "execution_count": 0,
      "outputs": []
    },
    {
      "metadata": {
        "id": "lrCV-Pdx7j3A",
        "colab_type": "code",
        "colab": {}
      },
      "cell_type": "code",
      "source": [
        "learner.unfreeze()"
      ],
      "execution_count": 0,
      "outputs": []
    },
    {
      "metadata": {
        "id": "-rpHWZJ87pKk",
        "colab_type": "code",
        "colab": {
          "base_uri": "https://localhost:8080/",
          "height": 68
        },
        "outputId": "fbac602d-034a-4d45-8fa9-c214b09eaf76"
      },
      "cell_type": "code",
      "source": [
        "learner.lr_find(start_lr=lrs, end_lr=lrs*10, linear=True)"
      ],
      "execution_count": 62,
      "outputs": [
        {
          "output_type": "display_data",
          "data": {
            "application/vnd.jupyter.widget-view+json": {
              "model_id": "3a8c08c3f6e747d29ec08ba9b59af219",
              "version_minor": 0,
              "version_major": 2
            },
            "text/plain": [
              "HBox(children=(IntProgress(value=0, description='Epoch', max=1), HTML(value='')))"
            ]
          },
          "metadata": {
            "tags": []
          }
        },
        {
          "output_type": "stream",
          "text": [
            "epoch      trn_loss   val_loss   accuracy   \n",
            "    0      6.62558    6.696222   0.135009  \n"
          ],
          "name": "stdout"
        }
      ]
    },
    {
      "metadata": {
        "id": "AP0z0Rs_7s5c",
        "colab_type": "code",
        "colab": {
          "base_uri": "https://localhost:8080/",
          "height": 365
        },
        "outputId": "ed38336d-b8d7-4bcc-f9f5-778fa59d5f0d"
      },
      "cell_type": "code",
      "source": [
        "learner.sched.plot()"
      ],
      "execution_count": 63,
      "outputs": [
        {
          "output_type": "display_data",
          "data": {
            "image/png": "[encoded data removed]",
            "text/plain": [
              "<matplotlib.figure.Figure at 0x7f94c9868630>"
            ]
          },
          "metadata": {
            "tags": []
          }
        }
      ]
    },
    {
      "metadata": {
        "id": "5lWAizAO-_L1",
        "colab_type": "code",
        "colab": {
          "base_uri": "https://localhost:8080/",
          "height": 170
        },
        "outputId": "c93a0a7a-771d-4f1f-9b9d-b34b9023a250"
      },
      "cell_type": "code",
      "source": [
        "learner.fit(lrs, 1, wds=wd, use_clr=(20,10), cycle_len=15)"
      ],
      "execution_count": 0,
      "outputs": [
        {
          "output_type": "display_data",
          "data": {
            "application/vnd.jupyter.widget-view+json": {
              "model_id": "dd2af60ed818437b848b116c5af7ae37",
              "version_minor": 0,
              "version_major": 2
            },
            "text/plain": [
              "HBox(children=(IntProgress(value=0, description='Epoch', max=15), HTML(value='')))"
            ]
          },
          "metadata": {
            "tags": []
          }
        },
        {
          "output_type": "stream",
          "text": [
            "epoch      trn_loss   val_loss   accuracy   \n",
            "    0      4.061642   3.952086   0.296544  \n",
            " 23%|██▎       | 122/533 [01:01<03:27,  1.98it/s, loss=3.83]"
          ],
          "name": "stdout"
        },
        {
          "output_type": "stream",
          "text": [
            "    1      3.622464   3.802402   0.310622  \n",
            " 46%|████▌     | 244/533 [02:00<02:23,  2.02it/s, loss=3.4] "
          ],
          "name": "stdout"
        },
        {
          "output_type": "stream",
          "text": [
            "    2      3.348712   3.740809   0.317561  \n",
            " 59%|█████▉    | 315/533 [02:36<01:48,  2.01it/s, loss=3.21]"
          ],
          "name": "stdout"
        },
        {
          "output_type": "stream",
          "text": [
            "    3      3.158924   3.717919   0.321224  \n",
            " 67%|██████▋   | 356/533 [02:55<01:27,  2.03it/s, loss=3.03]"
          ],
          "name": "stdout"
        },
        {
          "output_type": "stream",
          "text": [
            "    4      3.008513   3.713541   0.322606  \n",
            " 71%|███████   | 379/533 [03:09<01:17,  2.00it/s, loss=2.92]"
          ],
          "name": "stdout"
        },
        {
          "output_type": "stream",
          "text": [
            "    5      2.926967   3.695769   0.32617   \n",
            "  8%|▊         | 42/533 [00:21<04:08,  1.98it/s, loss=2.91]"
          ],
          "name": "stdout"
        }
      ]
    },
    {
      "metadata": {
        "id": "h5ISFx8Y_DPw",
        "colab_type": "code",
        "colab": {}
      },
      "cell_type": "code",
      "source": [
        "learner.save('lm1')"
      ],
      "execution_count": 0,
      "outputs": []
    },
    {
      "metadata": {
        "id": "TpxIA3XG_Evh",
        "colab_type": "code",
        "colab": {}
      },
      "cell_type": "code",
      "source": [
        "learner.save_encoder('lm1_enc')"
      ],
      "execution_count": 0,
      "outputs": []
    },
    {
      "metadata": {
        "id": "kNFlbpkP_GFp",
        "colab_type": "code",
        "colab": {}
      },
      "cell_type": "code",
      "source": [
        "learner.sched.plot_loss()"
      ],
      "execution_count": 0,
      "outputs": []
    }
  ]
}