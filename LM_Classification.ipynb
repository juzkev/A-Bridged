{
  "nbformat": 4,
  "nbformat_minor": 0,
  "metadata": {
    "colab": {
      "name": "LM Classification.ipynb",
      "version": "0.3.2",
      "provenance": [],
      "collapsed_sections": [],
      "include_colab_link": true
    },
    "kernelspec": {
      "name": "python3",
      "display_name": "Python 3"
    },
    "accelerator": "GPU"
  },
  "cells": [
    {
      "cell_type": "markdown",
      "metadata": {
        "id": "view-in-github",
        "colab_type": "text"
      },
      "source": [
        "[View in Colaboratory](https://colab.research.google.com/github/juzkev/A-Bridged/blob/master/LM_Classification.ipynb)"
      ]
    },
    {
      "metadata": {
        "id": "xPPAYBD3B_-g",
        "colab_type": "text"
      },
      "cell_type": "markdown",
      "source": [
        "# Setup Libs"
      ]
    },
    {
      "metadata": {
        "id": "YVGvM7IOWo5Y",
        "colab_type": "code",
        "colab": {
          "base_uri": "https://localhost:8080/",
          "height": 5103
        },
        "outputId": "fa9971a8-f90a-4f0c-a999-a3fee6a3e890"
      },
      "cell_type": "code",
      "source": [
        "# Time\n",
        "import time\n",
        "start_t = time.time()\n",
        "\n",
        "# Google Drive\n",
        "!pip install -U -q PyDrive\n",
        "import os\n",
        "from pydrive.auth import GoogleAuth\n",
        "from pydrive.drive import GoogleDrive\n",
        "from google.colab import auth\n",
        "from oauth2client.client import GoogleCredentials\n",
        "\n",
        "# 1. Authenticate and create the PyDrive client.\n",
        "auth.authenticate_user()\n",
        "gauth = GoogleAuth()\n",
        "gauth.credentials = GoogleCredentials.get_application_default()\n",
        "drive = GoogleDrive(gauth)\n",
        "\n",
        "# PyPDF2\n",
        "# !pip install pypdf2\n",
        "# import PyPDF2\n",
        "\n",
        "#textract\n",
        "!apt-get install python-dev libxml2-dev libxslt1-dev antiword unrtf poppler-utils pstotext tesseract-ocr flac ffmpeg lame libmad0 libsox-fmt-mp3 sox libjpeg-dev swig libpulse-dev\n",
        "!pip install textract\n",
        "import textract\n",
        "\n",
        "# DS essentials\n",
        "import pandas as pd\n",
        "import numpy as np\n",
        "\n",
        "# NLP\n",
        "import re\n",
        "\n",
        "\n",
        "\n",
        "##### Additional Setup for Google Colab Fast AI & PyTorch #####\n",
        "\n",
        "## Install Pytorch and torchvision\n",
        "!pip install http://download.pytorch.org/whl/cu80/torch-0.3.1-cp36-cp36m-linux_x86_64.whl torchvision \n",
        "  \n",
        "# ## Install Fastai (Github version)\n",
        "!git clone https://github.com/fastai/fastai.git\n",
        "!pip install -r fastai/requirements.txt\n",
        "!pip install ./fastai\n",
        "\n",
        "#Install Fastai (pip)\n",
        "# !pip install fastai\n",
        "\n",
        "## Install libSM\n",
        "### The import of fastai is will throw an error that this library is missing. So, Installing the same.\n",
        "!apt update && apt install -y libsm6 libxext6\n",
        "\n",
        "\n",
        "# Install Spacy required for fastai.text\n",
        "!pip install -U spacy\n",
        "!python -m spacy download en\n",
        "\n",
        "print(f'Set up Process took {time.time() - start_t} seconds')"
      ],
      "execution_count": 3,
      "outputs": [
        {
          "output_type": "stream",
          "text": [
            "\u001b[31mtextract 1.6.1 has requirement chardet==2.3.0, but you'll have chardet 3.0.4 which is incompatible.\u001b[0m\r\n",
            "\u001b[31mtextract 1.6.1 has requirement six==1.10.0, but you'll have six 1.11.0 which is incompatible.\u001b[0m\r\n",
            "\u001b[31mplotnine 0.3.0 has requirement scipy>=1.0.0, but you'll have scipy 0.19.1 which is incompatible.\u001b[0m\n",
            "Reading package lists... Done\n",
            "Building dependency tree       \n",
            "Reading state information... Done\n",
            "libjpeg-dev is already the newest version (8c-2ubuntu8).\n",
            "libxslt1-dev is already the newest version (1.1.29-2.1ubuntu1).\n",
            "python-dev is already the newest version (2.7.14-2ubuntu1).\n",
            "antiword is already the newest version (0.37-11).\n",
            "ffmpeg is already the newest version (7:3.3.4-2).\n",
            "flac is already the newest version (1.3.2-1).\n",
            "lame is already the newest version (3.99.5+repack1-9build1).\n",
            "libmad0 is already the newest version (0.15.1b-8ubuntu1).\n",
            "libsox-fmt-mp3 is already the newest version (14.4.1-5build1).\n",
            "pstotext is already the newest version (1.9-6).\n",
            "sox is already the newest version (14.4.1-5build1).\n",
            "swig is already the newest version (3.0.10-1.2).\n",
            "tesseract-ocr is already the newest version (3.04.01-6).\n",
            "unrtf is already the newest version (0.21.9-clean-3).\n",
            "libpulse-dev is already the newest version (1:10.0-2ubuntu3.1).\n",
            "libxml2-dev is already the newest version (2.9.4+dfsg1-4ubuntu1.2).\n",
            "poppler-utils is already the newest version (0.57.0-2ubuntu4.3).\n",
            "0 upgraded, 0 newly installed, 0 to remove and 6 not upgraded.\n",
            "Requirement already satisfied: textract in /usr/local/lib/python3.6/dist-packages (1.6.1)\n",
            "Requirement already satisfied: xlrd==1.0.0 in /usr/local/lib/python3.6/dist-packages (from textract) (1.0.0)\n",
            "Collecting chardet==2.3.0 (from textract)\n",
            "  Using cached https://files.pythonhosted.org/packages/7e/5c/605ca2daa5cf21c87690d8fe6ab05a6f2278c451f4ede6456dd26453f4bd/chardet-2.3.0-py2.py3-none-any.whl\n",
            "Requirement already satisfied: SpeechRecognition==3.6.3 in /usr/local/lib/python3.6/dist-packages (from textract) (3.6.3)\n",
            "Requirement already satisfied: pocketsphinx==0.1.3 in /usr/local/lib/python3.6/dist-packages (from textract) (0.1.3)\n",
            "Requirement already satisfied: EbookLib==0.15 in /usr/local/lib/python3.6/dist-packages (from textract) (0.15)\n",
            "Requirement already satisfied: beautifulsoup4==4.5.3 in /usr/local/lib/python3.6/dist-packages (from textract) (4.5.3)\n",
            "Requirement already satisfied: argcomplete==1.8.2 in /usr/local/lib/python3.6/dist-packages (from textract) (1.8.2)\n",
            "Collecting six==1.10.0 (from textract)\n",
            "  Using cached https://files.pythonhosted.org/packages/c8/0a/b6723e1bc4c516cb687841499455a8505b44607ab535be01091c0f24f079/six-1.10.0-py2.py3-none-any.whl\n",
            "Requirement already satisfied: docx2txt==0.6 in /usr/local/lib/python3.6/dist-packages (from textract) (0.6)\n",
            "Requirement already satisfied: python-pptx==0.6.5 in /usr/local/lib/python3.6/dist-packages (from textract) (0.6.5)\n",
            "Requirement already satisfied: lxml in /usr/local/lib/python3.6/dist-packages (from EbookLib==0.15->textract) (4.2.3)\n",
            "Requirement already satisfied: Pillow>=2.6.1 in /usr/local/lib/python3.6/dist-packages (from python-pptx==0.6.5->textract) (5.1.0)\n",
            "Requirement already satisfied: XlsxWriter>=0.5.7 in /usr/local/lib/python3.6/dist-packages (from python-pptx==0.6.5->textract) (1.0.5)\n",
            "\u001b[31mrequests 2.18.4 has requirement chardet<3.1.0,>=3.0.2, but you'll have chardet 2.3.0 which is incompatible.\u001b[0m\n",
            "\u001b[31mplotnine 0.3.0 has requirement scipy>=1.0.0, but you'll have scipy 0.19.1 which is incompatible.\u001b[0m\n",
            "Installing collected packages: chardet, six\n",
            "  Found existing installation: chardet 3.0.4\n",
            "    Uninstalling chardet-3.0.4:\n",
            "      Successfully uninstalled chardet-3.0.4\n",
            "  Found existing installation: six 1.11.0\n",
            "    Uninstalling six-1.11.0:\n",
            "      Successfully uninstalled six-1.11.0\n",
            "Successfully installed chardet-2.3.0 six-1.10.0\n",
            "Requirement already satisfied: torch==0.3.1 from http://download.pytorch.org/whl/cu80/torch-0.3.1-cp36-cp36m-linux_x86_64.whl in /usr/local/lib/python3.6/dist-packages (0.3.1)\n",
            "Requirement already satisfied: torchvision in /usr/local/lib/python3.6/dist-packages (0.2.1)\n",
            "Requirement already satisfied: numpy in /usr/local/lib/python3.6/dist-packages (from torch==0.3.1) (1.14.5)\n",
            "Requirement already satisfied: pyyaml in /usr/local/lib/python3.6/dist-packages (from torch==0.3.1) (3.12)\n",
            "Requirement already satisfied: six in /usr/local/lib/python3.6/dist-packages (from torchvision) (1.10.0)\n",
            "Requirement already satisfied: pillow>=4.1.1 in /usr/local/lib/python3.6/dist-packages (from torchvision) (5.1.0)\n",
            "\u001b[31mrequests 2.18.4 has requirement chardet<3.1.0,>=3.0.2, but you'll have chardet 2.3.0 which is incompatible.\u001b[0m\n",
            "\u001b[31mplotnine 0.3.0 has requirement scipy>=1.0.0, but you'll have scipy 0.19.1 which is incompatible.\u001b[0m\n",
            "fatal: destination path 'fastai' already exists and is not an empty directory.\n",
            "Requirement already satisfied: bcolz>=1.1.2 in /usr/local/lib/python3.6/dist-packages (from -r fastai/requirements.txt (line 1)) (1.2.1)\n",
            "Requirement already satisfied: bleach>=2.0.0 in /usr/local/lib/python3.6/dist-packages (from -r fastai/requirements.txt (line 2)) (2.1.3)\n",
            "Requirement already satisfied: certifi>=2016.2.28 in /usr/local/lib/python3.6/dist-packages (from -r fastai/requirements.txt (line 3)) (2018.4.16)\n",
            "Requirement already satisfied: cycler>=0.10.0 in /usr/local/lib/python3.6/dist-packages (from -r fastai/requirements.txt (line 4)) (0.10.0)\n",
            "Requirement already satisfied: decorator>=4.1.2 in /usr/local/lib/python3.6/dist-packages (from -r fastai/requirements.txt (line 5)) (4.3.0)\n",
            "Requirement already satisfied: entrypoints>=0.2.3 in /usr/local/lib/python3.6/dist-packages (from -r fastai/requirements.txt (line 6)) (0.2.3)\n",
            "Requirement already satisfied: graphviz>=0.8.2 in /usr/local/lib/python3.6/dist-packages (from -r fastai/requirements.txt (line 7)) (0.8.3)\n",
            "Requirement already satisfied: html5lib>=0.999999999 in /usr/local/lib/python3.6/dist-packages (from -r fastai/requirements.txt (line 8)) (1.0.1)\n",
            "Requirement already satisfied: ipykernel>=4.6.1 in /usr/local/lib/python3.6/dist-packages (from -r fastai/requirements.txt (line 9)) (4.6.1)\n",
            "Requirement already satisfied: ipython>=6.2.0 in /usr/local/lib/python3.6/dist-packages (from -r fastai/requirements.txt (line 10)) (6.4.0)\n",
            "Requirement already satisfied: ipython-genutils>=0.2.0 in /usr/local/lib/python3.6/dist-packages (from -r fastai/requirements.txt (line 11)) (0.2.0)\n",
            "Requirement already satisfied: ipywidgets>=7.0.1 in /usr/local/lib/python3.6/dist-packages (from -r fastai/requirements.txt (line 12)) (7.2.1)\n",
            "Requirement already satisfied: isoweek>=1.3.3 in /usr/local/lib/python3.6/dist-packages (from -r fastai/requirements.txt (line 13)) (1.3.3)\n",
            "Requirement already satisfied: jedi>=0.10.2 in /usr/local/lib/python3.6/dist-packages (from -r fastai/requirements.txt (line 14)) (0.12.1)\n",
            "Requirement already satisfied: Jinja2>=2.9.6 in /usr/local/lib/python3.6/dist-packages (from -r fastai/requirements.txt (line 15)) (2.10)\n",
            "Requirement already satisfied: jsonschema>=2.6.0 in /usr/local/lib/python3.6/dist-packages (from -r fastai/requirements.txt (line 16)) (2.6.0)\n",
            "Requirement already satisfied: jupyter>=1.0.0 in /usr/local/lib/python3.6/dist-packages (from -r fastai/requirements.txt (line 17)) (1.0.0)\n",
            "Requirement already satisfied: jupyter-client>=5.1.0 in /usr/local/lib/python3.6/dist-packages (from -r fastai/requirements.txt (line 18)) (5.2.3)\n",
            "Requirement already satisfied: jupyter-console>=5.2.0 in /usr/local/lib/python3.6/dist-packages (from -r fastai/requirements.txt (line 19)) (5.2.0)\n",
            "Requirement already satisfied: jupyter-core>=4.3.0 in /usr/local/lib/python3.6/dist-packages (from -r fastai/requirements.txt (line 20)) (4.4.0)\n",
            "Requirement already satisfied: MarkupSafe>=1.0 in /usr/local/lib/python3.6/dist-packages (from -r fastai/requirements.txt (line 21)) (1.0)\n",
            "Requirement already satisfied: matplotlib>=2.0.2 in /usr/local/lib/python3.6/dist-packages (from -r fastai/requirements.txt (line 22)) (2.1.2)\n",
            "Requirement already satisfied: mistune>=0.7.4 in /usr/local/lib/python3.6/dist-packages (from -r fastai/requirements.txt (line 23)) (0.8.3)\n",
            "Requirement already satisfied: nbconvert>=5.3.1 in /usr/local/lib/python3.6/dist-packages (from -r fastai/requirements.txt (line 24)) (5.3.1)\n",
            "Requirement already satisfied: nbformat>=4.4.0 in /usr/local/lib/python3.6/dist-packages (from -r fastai/requirements.txt (line 25)) (4.4.0)\n",
            "Requirement already satisfied: notebook>=5.1.0 in /usr/local/lib/python3.6/dist-packages (from -r fastai/requirements.txt (line 26)) (5.2.2)\n",
            "Requirement already satisfied: numpy>=1.13.1 in /usr/local/lib/python3.6/dist-packages (from -r fastai/requirements.txt (line 27)) (1.14.5)\n",
            "Requirement already satisfied: olefile>=0.44 in /usr/local/lib/python3.6/dist-packages (from -r fastai/requirements.txt (line 28)) (0.45.1)\n",
            "Requirement already satisfied: opencv-python>=3.3.0.10 in /usr/local/lib/python3.6/dist-packages (from -r fastai/requirements.txt (line 29)) (3.4.1.15)\n",
            "Requirement already satisfied: pandas>=0.20.3 in /usr/local/lib/python3.6/dist-packages (from -r fastai/requirements.txt (line 30)) (0.22.0)\n",
            "Requirement already satisfied: pandas_summary>=0.0.41 in /usr/local/lib/python3.6/dist-packages (from -r fastai/requirements.txt (line 31)) (0.0.41)\n",
            "Requirement already satisfied: pandocfilters>=1.4.2 in /usr/local/lib/python3.6/dist-packages (from -r fastai/requirements.txt (line 32)) (1.4.2)\n",
            "Requirement already satisfied: pexpect>=4.2.1 in /usr/local/lib/python3.6/dist-packages (from -r fastai/requirements.txt (line 33)) (4.6.0)\n",
            "Requirement already satisfied: pickleshare>=0.7.4 in /usr/local/lib/python3.6/dist-packages (from -r fastai/requirements.txt (line 34)) (0.7.4)\n",
            "Requirement already satisfied: Pillow>=4.2.1 in /usr/local/lib/python3.6/dist-packages (from -r fastai/requirements.txt (line 35)) (5.1.0)\n",
            "Requirement already satisfied: prompt-toolkit>=1.0.15 in /usr/local/lib/python3.6/dist-packages (from -r fastai/requirements.txt (line 36)) (1.0.15)\n",
            "Requirement already satisfied: ptyprocess>=0.5.2 in /usr/local/lib/python3.6/dist-packages (from -r fastai/requirements.txt (line 37)) (0.6.0)\n",
            "Requirement already satisfied: Pygments>=2.2.0 in /usr/local/lib/python3.6/dist-packages (from -r fastai/requirements.txt (line 38)) (2.2.0)\n",
            "Requirement already satisfied: pyparsing>=2.2.0 in /usr/local/lib/python3.6/dist-packages (from -r fastai/requirements.txt (line 39)) (2.2.0)\n",
            "Requirement already satisfied: pytest>=3.5.0 in /usr/local/lib/python3.6/dist-packages (from -r fastai/requirements.txt (line 40)) (3.6.2)\n",
            "Requirement already satisfied: python-dateutil>=2.6.1 in /usr/local/lib/python3.6/dist-packages (from -r fastai/requirements.txt (line 41)) (2.7.3)\n",
            "Requirement already satisfied: pytz>=2017.2 in /usr/local/lib/python3.6/dist-packages (from -r fastai/requirements.txt (line 42)) (2018.4)\n",
            "Requirement already satisfied: PyYAML>=3.12 in /usr/local/lib/python3.6/dist-packages (from -r fastai/requirements.txt (line 43)) (3.12)\n",
            "Requirement already satisfied: pyzmq>=16.0.2 in /usr/local/lib/python3.6/dist-packages (from -r fastai/requirements.txt (line 44)) (16.0.4)\n",
            "Requirement already satisfied: qtconsole>=4.3.1 in /usr/local/lib/python3.6/dist-packages (from -r fastai/requirements.txt (line 45)) (4.3.1)\n"
          ],
          "name": "stdout"
        },
        {
          "output_type": "stream",
          "text": [
            "Requirement already satisfied: scipy>=0.19.1 in /usr/local/lib/python3.6/dist-packages (from -r fastai/requirements.txt (line 46)) (0.19.1)\r\n",
            "Requirement already satisfied: seaborn>=0.8.1 in /usr/local/lib/python3.6/dist-packages (from -r fastai/requirements.txt (line 47)) (0.8.1)\r\n",
            "Requirement already satisfied: simplegeneric>=0.8.1 in /usr/local/lib/python3.6/dist-packages (from -r fastai/requirements.txt (line 48)) (0.8.1)\r\n",
            "Collecting six>=1.11.0 (from -r fastai/requirements.txt (line 49))\r\n",
            "  Using cached https://files.pythonhosted.org/packages/67/4b/141a581104b1f6397bfa78ac9d43d8ad29a7ca43ea90a2d863fe3056e86a/six-1.11.0-py2.py3-none-any.whl\n",
            "Requirement already satisfied: sklearn_pandas>=1.6.0 in /usr/local/lib/python3.6/dist-packages (from -r fastai/requirements.txt (line 50)) (1.6.0)\n",
            "Requirement already satisfied: terminado>=0.6 in /usr/local/lib/python3.6/dist-packages (from -r fastai/requirements.txt (line 51)) (0.8.1)\n",
            "Requirement already satisfied: testpath>=0.3.1 in /usr/local/lib/python3.6/dist-packages (from -r fastai/requirements.txt (line 52)) (0.3.1)\n",
            "Requirement already satisfied: torch<0.4 in /usr/local/lib/python3.6/dist-packages (from -r fastai/requirements.txt (line 53)) (0.3.1)\n",
            "Requirement already satisfied: torchtext>=0.2.3 in /usr/local/lib/python3.6/dist-packages (from -r fastai/requirements.txt (line 54)) (0.2.3)\n",
            "Requirement already satisfied: torchvision>=0.2.0 in /usr/local/lib/python3.6/dist-packages (from -r fastai/requirements.txt (line 55)) (0.2.1)\n",
            "Requirement already satisfied: tornado<5,>=4.5.2 in /usr/local/lib/python3.6/dist-packages (from -r fastai/requirements.txt (line 56)) (4.5.3)\n",
            "Requirement already satisfied: tqdm>=4.15.0 in /usr/local/lib/python3.6/dist-packages (from -r fastai/requirements.txt (line 57)) (4.23.4)\n",
            "Requirement already satisfied: traitlets>=4.3.2 in /usr/local/lib/python3.6/dist-packages (from -r fastai/requirements.txt (line 58)) (4.3.2)\n",
            "Requirement already satisfied: wcwidth>=0.1.7 in /usr/local/lib/python3.6/dist-packages (from -r fastai/requirements.txt (line 59)) (0.1.7)\n",
            "Requirement already satisfied: webencodings>=0.5.1 in /usr/local/lib/python3.6/dist-packages (from -r fastai/requirements.txt (line 60)) (0.5.1)\n",
            "Requirement already satisfied: widgetsnbextension>=3.0.3 in /usr/local/lib/python3.6/dist-packages (from -r fastai/requirements.txt (line 61)) (3.2.1)\n",
            "Requirement already satisfied: spacy>=2.0.11 in /usr/local/lib/python3.6/dist-packages (from -r fastai/requirements.txt (line 62)) (2.0.11)\n",
            "Requirement already satisfied: setuptools>=18.5 in /usr/local/lib/python3.6/dist-packages (from ipython>=6.2.0->-r fastai/requirements.txt (line 10)) (39.1.0)\n",
            "Requirement already satisfied: backcall in /usr/local/lib/python3.6/dist-packages (from ipython>=6.2.0->-r fastai/requirements.txt (line 10)) (0.1.0)\n",
            "Requirement already satisfied: parso>=0.3.0 in /usr/local/lib/python3.6/dist-packages (from jedi>=0.10.2->-r fastai/requirements.txt (line 14)) (0.3.0)\n",
            "Requirement already satisfied: pluggy<0.7,>=0.5 in /usr/local/lib/python3.6/dist-packages (from pytest>=3.5.0->-r fastai/requirements.txt (line 40)) (0.6.0)\n",
            "Requirement already satisfied: more-itertools>=4.0.0 in /usr/local/lib/python3.6/dist-packages (from pytest>=3.5.0->-r fastai/requirements.txt (line 40)) (4.2.0)\n",
            "Requirement already satisfied: attrs>=17.4.0 in /usr/local/lib/python3.6/dist-packages (from pytest>=3.5.0->-r fastai/requirements.txt (line 40)) (18.1.0)\n",
            "Requirement already satisfied: atomicwrites>=1.0 in /usr/local/lib/python3.6/dist-packages (from pytest>=3.5.0->-r fastai/requirements.txt (line 40)) (1.1.5)\n",
            "Requirement already satisfied: py>=1.5.0 in /usr/local/lib/python3.6/dist-packages (from pytest>=3.5.0->-r fastai/requirements.txt (line 40)) (1.5.4)\n",
            "Requirement already satisfied: scikit-learn>=0.15.0 in /usr/local/lib/python3.6/dist-packages (from sklearn_pandas>=1.6.0->-r fastai/requirements.txt (line 50)) (0.19.1)\n",
            "Requirement already satisfied: requests in /usr/local/lib/python3.6/dist-packages (from torchtext>=0.2.3->-r fastai/requirements.txt (line 54)) (2.18.4)\n",
            "Requirement already satisfied: plac<1.0.0,>=0.9.6 in /usr/local/lib/python3.6/dist-packages (from spacy>=2.0.11->-r fastai/requirements.txt (line 62)) (0.9.6)\n",
            "Requirement already satisfied: regex==2017.4.5 in /usr/local/lib/python3.6/dist-packages (from spacy>=2.0.11->-r fastai/requirements.txt (line 62)) (2017.4.5)\n",
            "Requirement already satisfied: thinc<6.11.0,>=6.10.1 in /usr/local/lib/python3.6/dist-packages (from spacy>=2.0.11->-r fastai/requirements.txt (line 62)) (6.10.2)\n",
            "Requirement already satisfied: pathlib in /usr/local/lib/python3.6/dist-packages (from spacy>=2.0.11->-r fastai/requirements.txt (line 62)) (1.0.1)\n",
            "Requirement already satisfied: ujson>=1.35 in /usr/local/lib/python3.6/dist-packages (from spacy>=2.0.11->-r fastai/requirements.txt (line 62)) (1.35)\n",
            "Requirement already satisfied: cymem<1.32,>=1.30 in /usr/local/lib/python3.6/dist-packages (from spacy>=2.0.11->-r fastai/requirements.txt (line 62)) (1.31.2)\n",
            "Requirement already satisfied: murmurhash<0.29,>=0.28 in /usr/local/lib/python3.6/dist-packages (from spacy>=2.0.11->-r fastai/requirements.txt (line 62)) (0.28.0)\n",
            "Requirement already satisfied: dill<0.3,>=0.2 in /usr/local/lib/python3.6/dist-packages (from spacy>=2.0.11->-r fastai/requirements.txt (line 62)) (0.2.8.2)\n",
            "Requirement already satisfied: preshed<2.0.0,>=1.0.0 in /usr/local/lib/python3.6/dist-packages (from spacy>=2.0.11->-r fastai/requirements.txt (line 62)) (1.0.0)\n",
            "Requirement already satisfied: urllib3<1.23,>=1.21.1 in /usr/local/lib/python3.6/dist-packages (from requests->torchtext>=0.2.3->-r fastai/requirements.txt (line 54)) (1.22)\n",
            "Collecting chardet<3.1.0,>=3.0.2 (from requests->torchtext>=0.2.3->-r fastai/requirements.txt (line 54))\n",
            "  Using cached https://files.pythonhosted.org/packages/bc/a9/01ffebfb562e4274b6487b4bb1ddec7ca55ec7510b22e4c51f14098443b8/chardet-3.0.4-py2.py3-none-any.whl\n",
            "Requirement already satisfied: idna<2.7,>=2.5 in /usr/local/lib/python3.6/dist-packages (from requests->torchtext>=0.2.3->-r fastai/requirements.txt (line 54)) (2.6)\n",
            "Requirement already satisfied: termcolor in /usr/local/lib/python3.6/dist-packages (from thinc<6.11.0,>=6.10.1->spacy>=2.0.11->-r fastai/requirements.txt (line 62)) (1.1.0)\n",
            "Requirement already satisfied: wrapt in /usr/local/lib/python3.6/dist-packages (from thinc<6.11.0,>=6.10.1->spacy>=2.0.11->-r fastai/requirements.txt (line 62)) (1.10.11)\n",
            "Requirement already satisfied: msgpack-python in /usr/local/lib/python3.6/dist-packages (from thinc<6.11.0,>=6.10.1->spacy>=2.0.11->-r fastai/requirements.txt (line 62)) (0.5.6)\n",
            "Requirement already satisfied: msgpack-numpy==0.4.1 in /usr/local/lib/python3.6/dist-packages (from thinc<6.11.0,>=6.10.1->spacy>=2.0.11->-r fastai/requirements.txt (line 62)) (0.4.1)\n",
            "Requirement already satisfied: cytoolz<0.9,>=0.8 in /usr/local/lib/python3.6/dist-packages (from thinc<6.11.0,>=6.10.1->spacy>=2.0.11->-r fastai/requirements.txt (line 62)) (0.8.2)\n",
            "Requirement already satisfied: toolz>=0.8.0 in /usr/local/lib/python3.6/dist-packages (from cytoolz<0.9,>=0.8->thinc<6.11.0,>=6.10.1->spacy>=2.0.11->-r fastai/requirements.txt (line 62)) (0.9.0)\n",
            "\u001b[31mtextract 1.6.1 has requirement chardet==2.3.0, but you'll have chardet 3.0.4 which is incompatible.\u001b[0m\n",
            "\u001b[31mtextract 1.6.1 has requirement six==1.10.0, but you'll have six 1.11.0 which is incompatible.\u001b[0m\n",
            "\u001b[31mplotnine 0.3.0 has requirement scipy>=1.0.0, but you'll have scipy 0.19.1 which is incompatible.\u001b[0m\n",
            "Installing collected packages: six, chardet\n",
            "  Found existing installation: six 1.10.0\n",
            "    Uninstalling six-1.10.0:\n",
            "      Successfully uninstalled six-1.10.0\n",
            "  Found existing installation: chardet 2.3.0\n",
            "    Uninstalling chardet-2.3.0:\n",
            "      Successfully uninstalled chardet-2.3.0\n",
            "Successfully installed chardet-3.0.4 six-1.11.0\n",
            "Processing ./fastai\n",
            "Requirement already satisfied: bcolz in /usr/local/lib/python3.6/dist-packages (from fastai==0.7.0) (1.2.1)\n",
            "Requirement already satisfied: bleach in /usr/local/lib/python3.6/dist-packages (from fastai==0.7.0) (2.1.3)\n",
            "Requirement already satisfied: certifi in /usr/local/lib/python3.6/dist-packages (from fastai==0.7.0) (2018.4.16)\n",
            "Requirement already satisfied: cycler in /usr/local/lib/python3.6/dist-packages (from fastai==0.7.0) (0.10.0)\n",
            "Requirement already satisfied: decorator in /usr/local/lib/python3.6/dist-packages (from fastai==0.7.0) (4.3.0)\n",
            "Requirement already satisfied: entrypoints in /usr/local/lib/python3.6/dist-packages (from fastai==0.7.0) (0.2.3)\n",
            "Requirement already satisfied: feather-format in /usr/local/lib/python3.6/dist-packages (from fastai==0.7.0) (0.4.0)\n",
            "Requirement already satisfied: graphviz in /usr/local/lib/python3.6/dist-packages (from fastai==0.7.0) (0.8.3)\n",
            "Requirement already satisfied: html5lib in /usr/local/lib/python3.6/dist-packages (from fastai==0.7.0) (1.0.1)\n",
            "Requirement already satisfied: ipykernel in /usr/local/lib/python3.6/dist-packages (from fastai==0.7.0) (4.6.1)\n",
            "Requirement already satisfied: ipython in /usr/local/lib/python3.6/dist-packages (from fastai==0.7.0) (6.4.0)\n",
            "Requirement already satisfied: ipython-genutils in /usr/local/lib/python3.6/dist-packages (from fastai==0.7.0) (0.2.0)\n",
            "Requirement already satisfied: ipywidgets in /usr/local/lib/python3.6/dist-packages (from fastai==0.7.0) (7.2.1)\n",
            "Requirement already satisfied: isoweek in /usr/local/lib/python3.6/dist-packages (from fastai==0.7.0) (1.3.3)\n",
            "Requirement already satisfied: jedi in /usr/local/lib/python3.6/dist-packages (from fastai==0.7.0) (0.12.1)\n",
            "Requirement already satisfied: Jinja2 in /usr/local/lib/python3.6/dist-packages (from fastai==0.7.0) (2.10)\n",
            "Requirement already satisfied: jsonschema in /usr/local/lib/python3.6/dist-packages (from fastai==0.7.0) (2.6.0)\n",
            "Requirement already satisfied: jupyter in /usr/local/lib/python3.6/dist-packages (from fastai==0.7.0) (1.0.0)\n",
            "Requirement already satisfied: MarkupSafe in /usr/local/lib/python3.6/dist-packages (from fastai==0.7.0) (1.0)\n",
            "Requirement already satisfied: matplotlib in /usr/local/lib/python3.6/dist-packages (from fastai==0.7.0) (2.1.2)\n",
            "Requirement already satisfied: numpy in /usr/local/lib/python3.6/dist-packages (from fastai==0.7.0) (1.14.5)\n",
            "Requirement already satisfied: opencv-python in /usr/local/lib/python3.6/dist-packages (from fastai==0.7.0) (3.4.1.15)\n",
            "Requirement already satisfied: pandas in /usr/local/lib/python3.6/dist-packages (from fastai==0.7.0) (0.22.0)\n",
            "Requirement already satisfied: pandas_summary in /usr/local/lib/python3.6/dist-packages (from fastai==0.7.0) (0.0.41)\n",
            "Requirement already satisfied: pickleshare in /usr/local/lib/python3.6/dist-packages (from fastai==0.7.0) (0.7.4)\n",
            "Requirement already satisfied: Pillow in /usr/local/lib/python3.6/dist-packages (from fastai==0.7.0) (5.1.0)\n",
            "Requirement already satisfied: plotnine in /usr/local/lib/python3.6/dist-packages (from fastai==0.7.0) (0.3.0)\n",
            "Requirement already satisfied: ptyprocess in /usr/local/lib/python3.6/dist-packages (from fastai==0.7.0) (0.6.0)\n",
            "Requirement already satisfied: Pygments in /usr/local/lib/python3.6/dist-packages (from fastai==0.7.0) (2.2.0)\n",
            "Requirement already satisfied: pyparsing in /usr/local/lib/python3.6/dist-packages (from fastai==0.7.0) (2.2.0)\n",
            "Requirement already satisfied: python-dateutil in /usr/local/lib/python3.6/dist-packages (from fastai==0.7.0) (2.7.3)\n",
            "Requirement already satisfied: pytz in /usr/local/lib/python3.6/dist-packages (from fastai==0.7.0) (2018.4)\n",
            "Requirement already satisfied: PyYAML in /usr/local/lib/python3.6/dist-packages (from fastai==0.7.0) (3.12)\n",
            "Requirement already satisfied: pyzmq in /usr/local/lib/python3.6/dist-packages (from fastai==0.7.0) (16.0.4)\n",
            "Requirement already satisfied: scipy in /usr/local/lib/python3.6/dist-packages (from fastai==0.7.0) (0.19.1)\n",
            "Requirement already satisfied: seaborn in /usr/local/lib/python3.6/dist-packages (from fastai==0.7.0) (0.8.1)\n",
            "Requirement already satisfied: simplegeneric in /usr/local/lib/python3.6/dist-packages (from fastai==0.7.0) (0.8.1)\n",
            "Requirement already satisfied: sklearn_pandas in /usr/local/lib/python3.6/dist-packages (from fastai==0.7.0) (1.6.0)\n"
          ],
          "name": "stdout"
        },
        {
          "output_type": "stream",
          "text": [
            "Requirement already satisfied: testpath in /usr/local/lib/python3.6/dist-packages (from fastai==0.7.0) (0.3.1)\r\n",
            "Requirement already satisfied: torch<0.4 in /usr/local/lib/python3.6/dist-packages (from fastai==0.7.0) (0.3.1)\r\n",
            "Requirement already satisfied: torchtext in /usr/local/lib/python3.6/dist-packages (from fastai==0.7.0) (0.2.3)\r\n",
            "Requirement already satisfied: torchvision in /usr/local/lib/python3.6/dist-packages (from fastai==0.7.0) (0.2.1)\r\n",
            "Requirement already satisfied: tornado in /usr/local/lib/python3.6/dist-packages (from fastai==0.7.0) (4.5.3)\r\n",
            "Requirement already satisfied: tqdm in /usr/local/lib/python3.6/dist-packages (from fastai==0.7.0) (4.23.4)\r\n",
            "Requirement already satisfied: traitlets in /usr/local/lib/python3.6/dist-packages (from fastai==0.7.0) (4.3.2)\r\n",
            "Requirement already satisfied: wcwidth in /usr/local/lib/python3.6/dist-packages (from fastai==0.7.0) (0.1.7)\r\n",
            "Requirement already satisfied: webencodings in /usr/local/lib/python3.6/dist-packages (from fastai==0.7.0) (0.5.1)\r\n",
            "Requirement already satisfied: widgetsnbextension in /usr/local/lib/python3.6/dist-packages (from fastai==0.7.0) (3.2.1)\r\n",
            "Requirement already satisfied: six in /usr/local/lib/python3.6/dist-packages (from bleach->fastai==0.7.0) (1.11.0)\r\n",
            "Requirement already satisfied: pyarrow>=0.4.0 in /usr/local/lib/python3.6/dist-packages (from feather-format->fastai==0.7.0) (0.9.0)\r\n",
            "Requirement already satisfied: jupyter-client in /usr/local/lib/python3.6/dist-packages (from ipykernel->fastai==0.7.0) (5.2.3)\n",
            "Requirement already satisfied: pexpect; sys_platform != \"win32\" in /usr/local/lib/python3.6/dist-packages (from ipython->fastai==0.7.0) (4.6.0)\n",
            "Requirement already satisfied: setuptools>=18.5 in /usr/local/lib/python3.6/dist-packages (from ipython->fastai==0.7.0) (39.1.0)\n",
            "Requirement already satisfied: backcall in /usr/local/lib/python3.6/dist-packages (from ipython->fastai==0.7.0) (0.1.0)\n",
            "Requirement already satisfied: prompt-toolkit<2.0.0,>=1.0.15 in /usr/local/lib/python3.6/dist-packages (from ipython->fastai==0.7.0) (1.0.15)\n",
            "Requirement already satisfied: nbformat>=4.2.0 in /usr/local/lib/python3.6/dist-packages (from ipywidgets->fastai==0.7.0) (4.4.0)\n",
            "Requirement already satisfied: parso>=0.3.0 in /usr/local/lib/python3.6/dist-packages (from jedi->fastai==0.7.0) (0.3.0)\n",
            "Requirement already satisfied: nbconvert in /usr/local/lib/python3.6/dist-packages (from jupyter->fastai==0.7.0) (5.3.1)\n",
            "Requirement already satisfied: notebook in /usr/local/lib/python3.6/dist-packages (from jupyter->fastai==0.7.0) (5.2.2)\n",
            "Requirement already satisfied: qtconsole in /usr/local/lib/python3.6/dist-packages (from jupyter->fastai==0.7.0) (4.3.1)\n",
            "Requirement already satisfied: jupyter-console in /usr/local/lib/python3.6/dist-packages (from jupyter->fastai==0.7.0) (5.2.0)\n",
            "Requirement already satisfied: mizani>=0.4.1 in /usr/local/lib/python3.6/dist-packages (from plotnine->fastai==0.7.0) (0.4.6)\n",
            "Requirement already satisfied: statsmodels>=0.8.0 in /usr/local/lib/python3.6/dist-packages (from plotnine->fastai==0.7.0) (0.8.0)\n",
            "Requirement already satisfied: patsy>=0.4.1 in /usr/local/lib/python3.6/dist-packages (from plotnine->fastai==0.7.0) (0.5.0)\n",
            "Requirement already satisfied: scikit-learn>=0.15.0 in /usr/local/lib/python3.6/dist-packages (from sklearn_pandas->fastai==0.7.0) (0.19.1)\n",
            "Requirement already satisfied: requests in /usr/local/lib/python3.6/dist-packages (from torchtext->fastai==0.7.0) (2.18.4)\n",
            "Requirement already satisfied: jupyter-core in /usr/local/lib/python3.6/dist-packages (from jupyter-client->ipykernel->fastai==0.7.0) (4.4.0)\n",
            "Requirement already satisfied: mistune>=0.7.4 in /usr/local/lib/python3.6/dist-packages (from nbconvert->jupyter->fastai==0.7.0) (0.8.3)\n",
            "Requirement already satisfied: pandocfilters>=1.4.1 in /usr/local/lib/python3.6/dist-packages (from nbconvert->jupyter->fastai==0.7.0) (1.4.2)\n",
            "Requirement already satisfied: terminado>=0.3.3; sys_platform != \"win32\" in /usr/local/lib/python3.6/dist-packages (from notebook->jupyter->fastai==0.7.0) (0.8.1)\n",
            "Requirement already satisfied: palettable in /usr/local/lib/python3.6/dist-packages (from mizani>=0.4.1->plotnine->fastai==0.7.0) (3.1.1)\n",
            "Requirement already satisfied: idna<2.7,>=2.5 in /usr/local/lib/python3.6/dist-packages (from requests->torchtext->fastai==0.7.0) (2.6)\n",
            "Requirement already satisfied: urllib3<1.23,>=1.21.1 in /usr/local/lib/python3.6/dist-packages (from requests->torchtext->fastai==0.7.0) (1.22)\n",
            "Requirement already satisfied: chardet<3.1.0,>=3.0.2 in /usr/local/lib/python3.6/dist-packages (from requests->torchtext->fastai==0.7.0) (3.0.4)\n",
            "Building wheels for collected packages: fastai\n",
            "  Running setup.py bdist_wheel for fastai ... \u001b[?25l-\b \b\\\b \bdone\n",
            "\u001b[?25h  Stored in directory: /tmp/pip-ephem-wheel-cache-osvd6u_1/wheels/7f/c5/2c/a27fe207aca95898ce43c805d56bc99c9440532d301c42567d\n",
            "Successfully built fastai\n",
            "\u001b[31mtextract 1.6.1 has requirement chardet==2.3.0, but you'll have chardet 3.0.4 which is incompatible.\u001b[0m\n",
            "\u001b[31mtextract 1.6.1 has requirement six==1.10.0, but you'll have six 1.11.0 which is incompatible.\u001b[0m\n",
            "\u001b[31mplotnine 0.3.0 has requirement scipy>=1.0.0, but you'll have scipy 0.19.1 which is incompatible.\u001b[0m\n",
            "Installing collected packages: fastai\n",
            "  Found existing installation: fastai 0.7.0\n",
            "    Uninstalling fastai-0.7.0:\n",
            "      Successfully uninstalled fastai-0.7.0\n",
            "Successfully installed fastai-0.7.0\n",
            "Get:1 http://security.ubuntu.com/ubuntu artful-security InRelease [83.2 kB]\n",
            "Hit:2 http://archive.ubuntu.com/ubuntu artful InRelease\n",
            "Get:3 http://archive.ubuntu.com/ubuntu artful-updates InRelease [88.7 kB]\n",
            "Get:4 http://archive.ubuntu.com/ubuntu artful-backports InRelease [74.6 kB]\n",
            "0% [3 InRelease gpgv 88.7 kB]\u001b[0m"
          ],
          "name": "stdout"
        },
        {
          "output_type": "stream",
          "text": [
            "Fetched 247 kB in 0s (268 kB/s)\n",
            "Reading package lists... Done\n",
            "Building dependency tree       \n",
            "Reading state information... Done\n",
            "6 packages can be upgraded. Run 'apt list --upgradable' to see them.\n",
            "Reading package lists... Done\n",
            "Building dependency tree       \n",
            "Reading state information... Done\n",
            "libsm6 is already the newest version (2:1.2.2-1).\n",
            "libxext6 is already the newest version (2:1.3.3-1).\n",
            "0 upgraded, 0 newly installed, 0 to remove and 6 not upgraded.\n",
            "Requirement already up-to-date: spacy in /usr/local/lib/python3.6/dist-packages (2.0.11)\n",
            "Requirement not upgraded as not directly required: pathlib in /usr/local/lib/python3.6/dist-packages (from spacy) (1.0.1)\n",
            "Requirement not upgraded as not directly required: dill<0.3,>=0.2 in /usr/local/lib/python3.6/dist-packages (from spacy) (0.2.8.2)\n",
            "Requirement not upgraded as not directly required: preshed<2.0.0,>=1.0.0 in /usr/local/lib/python3.6/dist-packages (from spacy) (1.0.0)\n",
            "Requirement not upgraded as not directly required: plac<1.0.0,>=0.9.6 in /usr/local/lib/python3.6/dist-packages (from spacy) (0.9.6)\n",
            "Requirement not upgraded as not directly required: numpy>=1.7 in /usr/local/lib/python3.6/dist-packages (from spacy) (1.14.5)\n",
            "Requirement not upgraded as not directly required: cymem<1.32,>=1.30 in /usr/local/lib/python3.6/dist-packages (from spacy) (1.31.2)\n",
            "Requirement not upgraded as not directly required: thinc<6.11.0,>=6.10.1 in /usr/local/lib/python3.6/dist-packages (from spacy) (6.10.2)\n",
            "Requirement not upgraded as not directly required: ujson>=1.35 in /usr/local/lib/python3.6/dist-packages (from spacy) (1.35)\n",
            "Requirement not upgraded as not directly required: murmurhash<0.29,>=0.28 in /usr/local/lib/python3.6/dist-packages (from spacy) (0.28.0)\n",
            "Requirement not upgraded as not directly required: regex==2017.4.5 in /usr/local/lib/python3.6/dist-packages (from spacy) (2017.4.5)\n",
            "Requirement not upgraded as not directly required: cytoolz<0.9,>=0.8 in /usr/local/lib/python3.6/dist-packages (from thinc<6.11.0,>=6.10.1->spacy) (0.8.2)\n",
            "Requirement not upgraded as not directly required: termcolor in /usr/local/lib/python3.6/dist-packages (from thinc<6.11.0,>=6.10.1->spacy) (1.1.0)\n",
            "Requirement not upgraded as not directly required: msgpack-python in /usr/local/lib/python3.6/dist-packages (from thinc<6.11.0,>=6.10.1->spacy) (0.5.6)\n",
            "Requirement not upgraded as not directly required: tqdm<5.0.0,>=4.10.0 in /usr/local/lib/python3.6/dist-packages (from thinc<6.11.0,>=6.10.1->spacy) (4.23.4)\n",
            "Requirement not upgraded as not directly required: msgpack-numpy==0.4.1 in /usr/local/lib/python3.6/dist-packages (from thinc<6.11.0,>=6.10.1->spacy) (0.4.1)\n",
            "Requirement not upgraded as not directly required: six<2.0.0,>=1.10.0 in /usr/local/lib/python3.6/dist-packages (from thinc<6.11.0,>=6.10.1->spacy) (1.11.0)\n",
            "Requirement not upgraded as not directly required: wrapt in /usr/local/lib/python3.6/dist-packages (from thinc<6.11.0,>=6.10.1->spacy) (1.10.11)\n",
            "Requirement not upgraded as not directly required: toolz>=0.8.0 in /usr/local/lib/python3.6/dist-packages (from cytoolz<0.9,>=0.8->thinc<6.11.0,>=6.10.1->spacy) (0.9.0)\n",
            "\u001b[31mtextract 1.6.1 has requirement chardet==2.3.0, but you'll have chardet 3.0.4 which is incompatible.\u001b[0m\n",
            "\u001b[31mtextract 1.6.1 has requirement six==1.10.0, but you'll have six 1.11.0 which is incompatible.\u001b[0m\n",
            "\u001b[31mplotnine 0.3.0 has requirement scipy>=1.0.0, but you'll have scipy 0.19.1 which is incompatible.\u001b[0m\n",
            "Collecting https://github.com/explosion/spacy-models/releases/download/en_core_web_sm-2.0.0/en_core_web_sm-2.0.0.tar.gz\n",
            "\u001b[?25l  Downloading https://github.com/explosion/spacy-models/releases/download/en_core_web_sm-2.0.0/en_core_web_sm-2.0.0.tar.gz (37.4MB)\n",
            "\u001b[K    89% |████████████████████████████▊   | 33.6MB 27.0MB/s eta 0:00:01"
          ],
          "name": "stdout"
        },
        {
          "output_type": "stream",
          "text": [
            "\u001b[K    100% |████████████████████████████████| 37.4MB 47.0MB/s \n",
            "\u001b[?25hRequirement already satisfied (use --upgrade to upgrade): en-core-web-sm==2.0.0 from https://github.com/explosion/spacy-models/releases/download/en_core_web_sm-2.0.0/en_core_web_sm-2.0.0.tar.gz in /usr/local/lib/python3.6/dist-packages\n",
            "\n",
            "\u001b[93m    Linking successful\u001b[0m\n",
            "    /usr/local/lib/python3.6/dist-packages/en_core_web_sm -->\n",
            "    /usr/local/lib/python3.6/dist-packages/spacy/data/en\n",
            "\n",
            "    You can now load the model via spacy.load('en')\n",
            "\n",
            "Set up Process took 30.55848217010498 seconds\n"
          ],
          "name": "stdout"
        }
      ]
    },
    {
      "metadata": {
        "id": "bGuLTvaABI4B",
        "colab_type": "code",
        "colab": {
          "base_uri": "https://localhost:8080/",
          "height": 312
        },
        "outputId": "e78452ba-7691-44e8-93db-8d1b1636934e"
      },
      "cell_type": "code",
      "source": [
        "# GPU status\n",
        "!ln -sf /opt/bin/nvidia-smi /usr/bin/nvidia-smi\n",
        "!nvidia-smi"
      ],
      "execution_count": 2,
      "outputs": [
        {
          "output_type": "stream",
          "text": [
            "Sun Jul  1 08:51:39 2018       \r\n",
            "+-----------------------------------------------------------------------------+\r\n",
            "| NVIDIA-SMI 384.111                Driver Version: 384.111                   |\r\n",
            "|-------------------------------+----------------------+----------------------+\r\n",
            "| GPU  Name        Persistence-M| Bus-Id        Disp.A | Volatile Uncorr. ECC |\r\n",
            "| Fan  Temp  Perf  Pwr:Usage/Cap|         Memory-Usage | GPU-Util  Compute M. |\r\n",
            "|===============================+======================+======================|\r\n",
            "|   0  Tesla K80           Off  | 00000000:00:04.0 Off |                    0 |\r\n",
            "| N/A   28C    P8    25W / 149W |      0MiB / 11439MiB |      0%      Default |\r\n",
            "+-------------------------------+----------------------+----------------------+\r\n",
            "                                                                               \r\n",
            "+-----------------------------------------------------------------------------+\r\n",
            "| Processes:                                                       GPU Memory |\r\n",
            "|  GPU       PID   Type   Process name                             Usage      |\r\n",
            "|=============================================================================|\r\n",
            "|  No running processes found                                                 |\r\n",
            "+-----------------------------------------------------------------------------+\r\n"
          ],
          "name": "stdout"
        }
      ]
    },
    {
      "metadata": {
        "id": "FfX-bueFzyxt",
        "colab_type": "text"
      },
      "cell_type": "markdown",
      "source": [
        "# Export saved files"
      ]
    },
    {
      "metadata": {
        "id": "HSRIhObePT30",
        "colab_type": "code",
        "colab": {
          "base_uri": "https://localhost:8080/",
          "height": 578
        },
        "outputId": "206f43d4-2800-48db-be21-33879f516623"
      },
      "cell_type": "code",
      "source": [
        "# EXPORT\n",
        "\n",
        "filename = 'export1906.tar.gz'\n",
        "\n",
        "print('Archiving files')\n",
        "!tar --exclude='./data/aclImdb/models/wt103' -cvzf {filename} ./data/aclImdb ./data/imdb_clas ./data/imdb_lm ./data/df.pkl\n",
        "\n",
        "!ls -l -h\n",
        "\n",
        "# Google Drive\n",
        "!pip install -U -q PyDrive\n",
        "import os\n",
        "from pydrive.auth import GoogleAuth\n",
        "from pydrive.drive import GoogleDrive\n",
        "from google.colab import auth\n",
        "from oauth2client.client import GoogleCredentials\n",
        "\n",
        "# 1. Authenticate and create the PyDrive client.\n",
        "auth.authenticate_user()\n",
        "gauth = GoogleAuth()\n",
        "gauth.credentials = GoogleCredentials.get_application_default()\n",
        "drive = GoogleDrive(gauth)\n",
        "\n",
        "fid = '1oVM1krBOzXbxgDN9hq8UqQjMxrgvLwzB'     # /DS/A-Bridged\n",
        "\n",
        "f = drive.CreateFile({\"parents\": [{\"kind\": \"drive#fileLink\", \"id\": fid}]})\n",
        "f.SetContentFile(filename)\n",
        "f.Upload()\n",
        "print('Created file %s with mimeType %s' % (f['title'], f['mimeType']))"
      ],
      "execution_count": 79,
      "outputs": [
        {
          "output_type": "stream",
          "text": [
            "Archiving files\n",
            "./data/aclImdb/\n",
            "./data/aclImdb/tmp/\n",
            "./data/aclImdb/models/\n",
            "./data/aclImdb/models/lm_last_ft.h5\n",
            "./data/aclImdb/models/lm5_enc.h5\n",
            "./data/aclImdb/models/tmp.h5\n",
            "./data/aclImdb/models/lm5.h5\n",
            "./data/imdb_clas/\n",
            "./data/imdb_clas/train.csv\n",
            "./data/imdb_clas/classes.txt\n",
            "./data/imdb_clas/test.csv\n",
            "./data/imdb_lm/\n",
            "./data/imdb_lm/tmp/\n",
            "./data/imdb_lm/tmp/tok_trn.npy\n",
            "./data/imdb_lm/tmp/tok_val.npy\n",
            "./data/imdb_lm/tmp/itos.pkl\n",
            "./data/imdb_lm/tmp/val_ids.npy\n",
            "./data/imdb_lm/tmp/trn_ids.npy\n",
            "./data/df.pkl\n",
            "total 423M\n",
            "drwxr-xr-x 10 root root 4.0K Jun 19 13:38 data\n",
            "drwxr-xr-x  1 root root 4.0K Jun 19 13:22 datalab\n",
            "-rw-r--r--  1 root root 423M Jun 19 15:16 export1906.tar.gz\n",
            "drwxr-xr-x  8 root root 4.0K Jun 19 13:25 fastai\n",
            "-rw-r--r--  1 root root  24K Jun 19 15:04 losses.npy\n",
            "-rw-r--r--  1 root root  17K Jun 19 15:04 loss_plot.png\n",
            "\u001b[31mtextract 1.6.1 has requirement chardet==2.3.0, but you'll have chardet 3.0.4 which is incompatible.\u001b[0m\n",
            "\u001b[31mtextract 1.6.1 has requirement six==1.10.0, but you'll have six 1.11.0 which is incompatible.\u001b[0m\n",
            "\u001b[31mtensorboard 1.8.0 has requirement bleach==1.5.0, but you'll have bleach 2.1.3 which is incompatible.\u001b[0m\n",
            "\u001b[31mtensorboard 1.8.0 has requirement html5lib==0.9999999, but you'll have html5lib 1.0.1 which is incompatible.\u001b[0m\n",
            "\u001b[31mplotnine 0.3.0 has requirement scipy>=1.0.0, but you'll have scipy 0.19.1 which is incompatible.\u001b[0m\n",
            "Created file export1906.tar.gz with mimeType application/x-tar\n"
          ],
          "name": "stdout"
        }
      ]
    },
    {
      "metadata": {
        "id": "HO8_oLGnCTFA",
        "colab_type": "text"
      },
      "cell_type": "markdown",
      "source": [
        "# Import saved files"
      ]
    },
    {
      "metadata": {
        "id": "SFJsCYQCQCnp",
        "colab_type": "code",
        "colab": {
          "base_uri": "https://localhost:8080/",
          "height": 425
        },
        "outputId": "22e11205-d706-4f30-da7b-2ec0a8f29e80"
      },
      "cell_type": "code",
      "source": [
        "# Google Drive\n",
        "!pip install -U -q PyDrive\n",
        "import os\n",
        "from pydrive.auth import GoogleAuth\n",
        "from pydrive.drive import GoogleDrive\n",
        "from google.colab import auth\n",
        "from oauth2client.client import GoogleCredentials\n",
        "\n",
        "import re\n",
        "\n",
        "# 1. Authenticate and create the PyDrive client.\n",
        "auth.authenticate_user()\n",
        "gauth = GoogleAuth()\n",
        "gauth.credentials = GoogleCredentials.get_application_default()\n",
        "drive = GoogleDrive(gauth)\n",
        "\n",
        "file_list = drive.ListFile(\n",
        "        {'q': f\"'1oVM1krBOzXbxgDN9hq8UqQjMxrgvLwzB' in parents\"}).GetList()\n",
        "\n",
        "for f in file_list:\n",
        "  if re.match(r'export.*\\.tar\\.gz', f['title']):\n",
        "    if f['labels']['trashed'] == False:\n",
        "      f_ = drive.CreateFile({'id': f['id']})\n",
        "      f_.GetContentFile(f['title'])\n",
        "      print('Created file %s with mimeType %s' % (f_['title'], f_['mimeType']))\n",
        "      print('Extracting files')\n",
        "      !tar -xvzf {f_['title']}\n",
        "      \n",
        "      \n",
        "# Import all the variables\n"
      ],
      "execution_count": 3,
      "outputs": [
        {
          "output_type": "stream",
          "text": [
            "\u001b[31mtextract 1.6.1 has requirement chardet==2.3.0, but you'll have chardet 3.0.4 which is incompatible.\u001b[0m\r\n",
            "\u001b[31mtextract 1.6.1 has requirement six==1.10.0, but you'll have six 1.11.0 which is incompatible.\u001b[0m\r\n",
            "\u001b[31mplotnine 0.3.0 has requirement scipy>=1.0.0, but you'll have scipy 0.19.1 which is incompatible.\u001b[0m\r\n",
            "Created file export1906.tar.gz with mimeType application/x-tar\n",
            "Extracting files\n",
            "./data/aclImdb/\n",
            "./data/aclImdb/tmp/\n",
            "./data/aclImdb/models/\n",
            "./data/aclImdb/models/lm_last_ft.h5\n",
            "./data/aclImdb/models/lm5_enc.h5\n",
            "./data/aclImdb/models/tmp.h5\n",
            "./data/aclImdb/models/lm5.h5\n",
            "./data/imdb_clas/\n",
            "./data/imdb_clas/train.csv\n",
            "./data/imdb_clas/classes.txt\n",
            "./data/imdb_clas/test.csv\n",
            "./data/imdb_lm/\n",
            "./data/imdb_lm/tmp/\n",
            "./data/imdb_lm/tmp/tok_trn.npy\n",
            "./data/imdb_lm/tmp/tok_val.npy\n",
            "./data/imdb_lm/tmp/itos.pkl\n",
            "./data/imdb_lm/tmp/val_ids.npy\n",
            "./data/imdb_lm/tmp/trn_ids.npy\n",
            "./data/df.pkl\n"
          ],
          "name": "stdout"
        }
      ]
    },
    {
      "metadata": {
        "id": "y4BmnKY_z5F4",
        "colab_type": "text"
      },
      "cell_type": "markdown",
      "source": [
        "# Downloading PDFs from Google Drive"
      ]
    },
    {
      "metadata": {
        "id": "828julC_FLBF",
        "colab_type": "code",
        "colab": {
          "base_uri": "https://localhost:8080/",
          "height": 2074
        },
        "outputId": "c9dab824-f9a8-41f8-9f20-80bcaf2c7ddb"
      },
      "cell_type": "code",
      "source": [
        "# choose a local (colab) directory to store the data.\n",
        "start_t = time.time()\n",
        "\n",
        "local_download_path = os.path.expanduser('~/data')\n",
        "try:\n",
        "  os.makedirs(local_download_path)\n",
        "except: pass\n",
        "\n",
        "ids = {'SDG 15 - Life on Land': '16O4EAd9uQomSH5CBy8zvZklCUujk8yzn',\n",
        "      'SDG 12 - Responsible Consumption and Production': '1h1n9hVcrT73a1sh9cuJDBmW0erBRa_ZS',\n",
        "      'SDG 10 - Reduced Inequalities': '1SLumvZ4n4BJM3zmXdIUWEplcjx2JGMN-',\n",
        "      'SDG 08 - Decent Work and Economic Growth': '1jIm9xN6PiGvnGQ9Xu0OSUZHsexuTTTaC',\n",
        "      'SDG 05 - Gender Equality': '116grOjLbS7j79UPvNEz0jEb3WR-4BVMX'}\n",
        "\n",
        "def download_files(ids):\n",
        "  for name, id in ids.items():\n",
        "    try:\n",
        "      os.makedirs(os.path.join(local_download_path, name))\n",
        "    except: pass\n",
        "    file_list = drive.ListFile(\n",
        "        {'q': f\"'{id}' in parents\"}).GetList()\n",
        "\n",
        "    for f in file_list:\n",
        "      # 3. Create & download by id.\n",
        "#       print('title: %s, id: %s' % (f['title'], f['id']))\n",
        "      fname = os.path.join(local_download_path, name, f['title'])\n",
        "      print('downloading to {}'.format(fname))\n",
        "      try:\n",
        "        f_ = drive.CreateFile({'id': f['id']})\n",
        "        f_.GetContentFile(fname)\n",
        "      except:pass\n",
        "      \n",
        "download_files(ids)\n",
        "\n",
        "print(f'Downloading the PDFs took {time.time() - start_t} seconds')"
      ],
      "execution_count": 4,
      "outputs": [
        {
          "output_type": "stream",
          "text": [
            "downloading to /content/data/SDG 15 - Life on Land/Reclaiming the City- Waterfront Development in Singapore.pdf\n",
            "downloading to /content/data/SDG 15 - Life on Land/ANIMAL PROTECTION LAWS OF SINGAPORE AND MALAYSIA.pdf\n",
            "downloading to /content/data/SDG 15 - Life on Land/SG sustainable future, law governance and management.pdf\n",
            "downloading to /content/data/SDG 15 - Life on Land/-A FINE CITY IN A GARDEN-ENVIRONMENTAL LAW AND GOVERNANCE IN SINGAPORE.pdf\n",
            "downloading to /content/data/SDG 15 - Life on Land/Kyoto Protocol.pdf\n",
            "downloading to /content/data/SDG 15 - Life on Land/Convention on the Law of the  International Watercourses.pdf\n",
            "downloading to /content/data/SDG 15 - Life on Land/Mekong River.pdf\n",
            "downloading to /content/data/SDG 15 - Life on Land/Pulp Mill on River Uruguay.pdf\n",
            "downloading to /content/data/SDG 15 - Life on Land/Mekong Agreement and Procedures.pdf\n",
            "downloading to /content/data/SDG 15 - Life on Land/UNFCC.pdf\n",
            "downloading to /content/data/SDG 15 - Life on Land/Env Laws SG.pdf\n",
            "downloading to /content/data/SDG 15 - Life on Land/Conservation Law Notes Singapore.pdf\n",
            "downloading to /content/data/SDG 15 - Life on Land/Conservation Law Notes.pdf\n",
            "downloading to /content/data/SDG 15 - Life on Land/MDG 2015 rev (July 1).pdf\n",
            "downloading to /content/data/SDG 15 - Life on Land/Agenda21.pdf\n",
            "downloading to /content/data/SDG 15 - Life on Land/ASEAN Agreement on Transboundary Haze Pollution.pdf\n",
            "downloading to /content/data/SDG 15 - Life on Land/MEM notes ICM.pdf\n",
            "downloading to /content/data/SDG 15 - Life on Land/MEM notes habitat fragmentation.pdf\n",
            "downloading to /content/data/SDG 15 - Life on Land/MEM Notes Designing nature reserves.pdf\n",
            "downloading to /content/data/SDG 15 - Life on Land/TBT.pdf\n",
            "downloading to /content/data/SDG 15 - Life on Land/Goh and Lai_MarPollutBull2013.pdf\n",
            "downloading to /content/data/SDG 15 - Life on Land/Ecological indices.pdf\n",
            "downloading to /content/data/SDG 15 - Life on Land/ENDANGERED SPECIES (IMPORT AND EXPORT) ACT.pdf\n",
            "downloading to /content/data/SDG 15 - Life on Land/PARKS AND TREES ACT.pdf\n",
            "downloading to /content/data/SDG 15 - Life on Land/Wild Animals and Birds Act.pdf\n",
            "downloading to /content/data/SDG 15 - Life on Land/WABA.pdf\n",
            "downloading to /content/data/SDG 15 - Life on Land/THE POTENTIAL OF OCYPODE CERATOPHTHALMUS (PALLAS, 1772) AS A BIOINDICATOR OF HUMAN DISTURBANCE ON SINGAPORE BEACHES.pdf\n",
            "downloading to /content/data/SDG 15 - Life on Land/CBD Global Biodiversity Outlook 3E 2010.pdf\n",
            "downloading to /content/data/SDG 15 - Life on Land/LASCO Carbon stocks of forest conversion APN Newsletter 2001.pdf\n",
            "downloading to /content/data/SDG 12 - Responsible Consumption and Production/Book\n",
            "downloading to /content/data/SDG 12 - Responsible Consumption and Production/Extension of environmental accounting.pdf\n",
            "downloading to /content/data/SDG 12 - Responsible Consumption and Production/Capsular view of CBA (1).pdf\n",
            "downloading to /content/data/SDG 12 - Responsible Consumption and Production/Chapter-8 BCA.pdf\n",
            "downloading to /content/data/SDG 12 - Responsible Consumption and Production/Environmental Valuation - Knetsch 1994.pdf\n",
            "downloading to /content/data/SDG 12 - Responsible Consumption and Production/Chapter-6  from Sinden and Thampapillai (1995) BCA.pdf\n",
            "downloading to /content/data/SDG 12 - Responsible Consumption and Production/Dixon 2008.pdf\n",
            "downloading to /content/data/SDG 12 - Responsible Consumption and Production/104328-WP-PUBLIC-OD-Habit-and-Nudging-Catalyst-Behavioral-Sciences-022916.pdf\n",
            "downloading to /content/data/SDG 12 - Responsible Consumption and Production/Lessons from Science Need for a Rethink of Concepts in Economics.pdf\n",
            "downloading to /content/data/SDG 12 - Responsible Consumption and Production/IMPERFECT INFORMATION INLEARNING OF ECONOMICS.pdf\n",
            "downloading to /content/data/SDG 12 - Responsible Consumption and Production/Thermodynamics on MainStreet.pdf\n",
            "downloading to /content/data/SDG 12 - Responsible Consumption and Production/Scneider and Kay.pdf\n",
            "downloading to /content/data/SDG 12 - Responsible Consumption and Production/Raine Foster Potts 2006.pdf\n",
            "downloading to /content/data/SDG 12 - Responsible Consumption and Production/Jeffrey Young 1991.pdf\n",
            "downloading to /content/data/SDG 12 - Responsible Consumption and Production/Herman Daly 1992.pdf\n",
            "downloading to /content/data/SDG 12 - Responsible Consumption and Production/Gowdy and Messener 1998.pdf\n",
            "downloading to /content/data/SDG 12 - Responsible Consumption and Production/Elias Khalil 2004.pdf\n"
          ],
          "name": "stdout"
        },
        {
          "output_type": "stream",
          "text": [
            "downloading to /content/data/SDG 12 - Responsible Consumption and Production/Cleveland and Ruth 1997.pdf\n",
            "downloading to /content/data/SDG 12 - Responsible Consumption and Production/Ayres 1999.pdf\n",
            "downloading to /content/data/SDG 12 - Responsible Consumption and Production/Supplement to Lecture 3.pdf\n",
            "downloading to /content/data/SDG 10 - Reduced Inequalities/birch-corporatesocialresponsibility-2004.pdf\n",
            "downloading to /content/data/SDG 10 - Reduced Inequalities/The_Dynamics_of_Corporate_Social_Responsibility_INSEAD.pdf\n",
            "downloading to /content/data/SDG 10 - Reduced Inequalities/1251121517Corporate Philanthropy in Asia.pdf\n",
            "downloading to /content/data/SDG 10 - Reduced Inequalities/Contextualising CSR in Asia_ Corporate Social Responsibility in A.pdf\n",
            "downloading to /content/data/SDG 10 - Reduced Inequalities/Engaging Employees in Community Investment at Pfizer.pdf\n",
            "downloading to /content/data/SDG 10 - Reduced Inequalities/Stakeholder Engagement and Sustainable CorporateCommunity Investment.pdf\n",
            "downloading to /content/data/SDG 10 - Reduced Inequalities/The strategic relevance of corporate community investments.pdf\n",
            "downloading to /content/data/SDG 10 - Reduced Inequalities/Beyond Corporate Social Responsibility- The Scope for Corporate Investment in Community Driven Development.pdf\n",
            "downloading to /content/data/SDG 10 - Reduced Inequalities/Corporate Philanthropy Report.pdf\n",
            "downloading to /content/data/SDG 10 - Reduced Inequalities/Reporting on Community Investment.pdf\n",
            "downloading to /content/data/SDG 10 - Reduced Inequalities/09-CSR in Asia A seven country study of CSR website reporting.PDF\n",
            "downloading to /content/data/SDG 10 - Reduced Inequalities/sdgs-business-reporting-analysis (Sep2017).pdf\n",
            "downloading to /content/data/SDG 10 - Reduced Inequalities/The Philanthropic Times are Changing in Asia.pdf\n",
            "downloading to /content/data/SDG 10 - Reduced Inequalities/JAMASocialEntImprovingGlobalHealth8pages copy.pdf\n",
            "downloading to /content/data/SDG 10 - Reduced Inequalities/acsep-working-paper-no5-ebook.pdf\n",
            "downloading to /content/data/SDG 10 - Reduced Inequalities/POTENTIAL AND PROSPECTS FOR PHILANTHROPY IN IMPLEMENTING POST-2015 DEVELOPMENT GOALS.pdf\n",
            "downloading to /content/data/SDG 10 - Reduced Inequalities/The evolution of Asia philanthropy.pdf\n",
            "downloading to /content/data/SDG 10 - Reduced Inequalities/Corporate-Philanthropy-in-China.pdf\n",
            "downloading to /content/data/SDG 10 - Reduced Inequalities/Corporate Measurement of Philanthropic Impacts as a Requirement for a “Happy Marriage” of Business and Society.pdf\n",
            "downloading to /content/data/SDG 10 - Reduced Inequalities/Investigating Philanthropy Initiatives in Chinese Higher Education.pdf\n",
            "downloading to /content/data/SDG 10 - Reduced Inequalities/Corporate giving in Taiwan- agency cost theory vs. value enhancement theory.pdf\n",
            "downloading to /content/data/SDG 10 - Reduced Inequalities/Corporate Social Responsibility and Gender Diversity.pdf\n",
            "downloading to /content/data/SDG 10 - Reduced Inequalities/Giving Circles in Asia- Newcomers to the Asian Philanthropy Landscape.pdf\n",
            "downloading to /content/data/SDG 10 - Reduced Inequalities/Institutional Ownership and Corporate Philanthropic Giving in an Emerging Economy.pdf\n",
            "downloading to /content/data/SDG 10 - Reduced Inequalities/The Business of Doing Good.pdf\n",
            "downloading to /content/data/SDG 10 - Reduced Inequalities/Does the Market Value Corporate Philanthropy? Evidence from the Response to the 2004 Tsunami Relief Effort.pdf\n",
            "downloading to /content/data/SDG 10 - Reduced Inequalities/Do Employees Support Corporate Philanthropy? Evidence from Chinese Listed Companies.pdf\n",
            "downloading to /content/data/SDG 10 - Reduced Inequalities/Corporate environmental responsibility (CER) weakness, media coverage, and corporate philanthropy- Evidence from China.pdf\n",
            "downloading to /content/data/SDG 10 - Reduced Inequalities/ESSAYS ON CORPORATE PHILANTHROPY AFTER CORPORATE SOCIAL IRRESPONSIBLE INCIDENTS .pdf\n",
            "downloading to /content/data/SDG 10 - Reduced Inequalities/Quality reporting of corporate philanthropy.pdf\n",
            "downloading to /content/data/SDG 10 - Reduced Inequalities/Impact of Corporate Social Responsibility Dimensions on Firm Value- Some Evidence from Hong Kong and China.pdf\n",
            "downloading to /content/data/SDG 08 - Decent Work and Economic Growth/Challenges and Opportunities to Promote Decent Work.pdf\n",
            "downloading to /content/data/SDG 08 - Decent Work and Economic Growth/Changing Employment Conditions of the Indian Workforce.pdf\n",
            "downloading to /content/data/SDG 08 - Decent Work and Economic Growth/Pro-Poor to Inclusive Growth.pdf\n",
            "downloading to /content/data/SDG 08 - Decent Work and Economic Growth/The Place of Social Capital.pdf\n",
            "downloading to /content/data/SDG 08 - Decent Work and Economic Growth/Economic Growth in South Asia.pdf\n",
            "downloading to /content/data/SDG 08 - Decent Work and Economic Growth/ADOLESCENTS, YOUTH AND DEVELOPMENT.pdf\n"
          ],
          "name": "stdout"
        },
        {
          "output_type": "stream",
          "text": [
            "downloading to /content/data/SDG 08 - Decent Work and Economic Growth/Globalization and its effects on youth employment trends in Asia.pdf\n",
            "downloading to /content/data/SDG 08 - Decent Work and Economic Growth/Global Production Systems and Decent Work.pdf\n",
            "downloading to /content/data/SDG 08 - Decent Work and Economic Growth/Decent Work.pdf\n",
            "downloading to /content/data/SDG 08 - Decent Work and Economic Growth/Marginality_from_Myth_to_Reality.pdf\n",
            "downloading to /content/data/SDG 08 - Decent Work and Economic Growth/Rising Informality.pdf\n",
            "downloading to /content/data/SDG 08 - Decent Work and Economic Growth/Decent Work Objectives and Activities.pdf\n",
            "downloading to /content/data/SDG 08 - Decent Work and Economic Growth/Women’s economic empowerment and inclusive growth.pdf\n",
            "downloading to /content/data/SDG 08 - Decent Work and Economic Growth/Measurement of decent work.pdf\n",
            "downloading to /content/data/SDG 08 - Decent Work and Economic Growth/ORGANISING AS A CATALYST FOR PROMOTING DECENT WORK.pdf\n",
            "downloading to /content/data/SDG 08 - Decent Work and Economic Growth/Labour_Regulations_and_Labour_Standards_in_India_D.pdf\n",
            "downloading to /content/data/SDG 08 - Decent Work and Economic Growth/Informalization, Economic Growth and the Challenge.pdf\n",
            "downloading to /content/data/SDG 08 - Decent Work and Economic Growth/The Nexus of Economic Growth, Employment and Poverty Reduction.pdf\n",
            "downloading to /content/data/SDG 08 - Decent Work and Economic Growth/Inclusive Growth toward a Prosperous Asia.pdf\n",
            "downloading to /content/data/SDG 08 - Decent Work and Economic Growth/Macroeconomic policy for full and productive employment and decent work for all.pdf\n",
            "downloading to /content/data/SDG 05 - Gender Equality/Arab Spring_ Women?s Empowerment in Algeria.pdf\n",
            "downloading to /content/data/SDG 05 - Gender Equality/Queer_LGBT Nigerian Diasporic Women in the USA.pdf\n",
            "downloading to /content/data/SDG 05 - Gender Equality/The Role of Women in the Arab World.pdf\n",
            "downloading to /content/data/SDG 05 - Gender Equality/Sexual and Gender-Based Violence.pdf\n",
            "downloading to /content/data/SDG 05 - Gender Equality/Sleeping Beauty as a Metaphor.pdf\n",
            "downloading to /content/data/SDG 05 - Gender Equality/Gender Differences in Aspirations for Career and Marriage.pdf\n",
            "downloading to /content/data/SDG 05 - Gender Equality/Indian Feminists in the Legal Reform Process.pdf\n",
            "downloading to /content/data/SDG 05 - Gender Equality/Cross-Gender Casting.pdf\n",
            "downloading to /content/data/SDG 05 - Gender Equality/Anti-Capitalist Feminism and Female Complicity.pdf\n",
            "downloading to /content/data/SDG 05 - Gender Equality/Earning Power of Mothers and Children?s Time Allocation.pdf\n",
            "downloading to /content/data/SDG 05 - Gender Equality/Prevention of Sexual Harassment of Women in the Workplace.pdf\n",
            "downloading to /content/data/SDG 05 - Gender Equality/Empowering Indonesian women through building digitalmedia literacy.pdf\n",
            "downloading to /content/data/SDG 05 - Gender Equality/Gender, Employment, and Work-Family Balance Policies in Singapore.pdf\n",
            "downloading to /content/data/SDG 05 - Gender Equality/Determinants of Female?s Employment Outcomes in Vietnam.pdf\n",
            "downloading to /content/data/SDG 05 - Gender Equality/Role Performance of Elected Panchayat Leaders in India.pdf\n",
            "downloading to /content/data/SDG 05 - Gender Equality/Study of Gender as Social Practice.pdf\n",
            "downloading to /content/data/SDG 05 - Gender Equality/Gender Poverty and Inequality.pdf\n",
            "downloading to /content/data/SDG 05 - Gender Equality/Comfort Women of South Korea.pdf\n",
            "downloading to /content/data/SDG 05 - Gender Equality/Diversity in Top Level Management and Firm Performance.pdf\n",
            "downloading to /content/data/SDG 05 - Gender Equality/Keys to Women?s Liberation in Communist China.pdf\n",
            "Downloading the PDFs took 91.32652497291565 seconds\n"
          ],
          "name": "stdout"
        }
      ]
    },
    {
      "metadata": {
        "id": "wrRHh7N_0Ahh",
        "colab_type": "text"
      },
      "cell_type": "markdown",
      "source": [
        "# Reading the PDF into DF"
      ]
    },
    {
      "metadata": {
        "id": "NlQNkPkaS9RL",
        "colab_type": "code",
        "colab": {
          "base_uri": "https://localhost:8080/",
          "height": 2091
        },
        "outputId": "1a36c546-2014-4fd8-8560-3fab790fa9dc"
      },
      "cell_type": "code",
      "source": [
        "# Reading the PDF\n",
        "df = pd.DataFrame()\n",
        "succ = 0\n",
        "fail = 0\n",
        "pattern = 'SDG (\\d{2})'\n",
        "s_t = time.time()\n",
        "\n",
        "for foldername in os.listdir(local_download_path):\n",
        "  if os.path.isdir(os.path.join(local_download_path, foldername)):\n",
        "    for filename in os.listdir(os.path.join(local_download_path, foldername)):\n",
        "      try:\n",
        "        print(os.path.join(local_download_path, foldername, filename))\n",
        "\n",
        "#         Old PyPDF2 code\n",
        "#         read_pdf = PyPDF2.PdfFileReader(os.path.join(local_download_path, foldername, filename))\n",
        "#         t = ''\n",
        "#         for p in range(0, read_pdf.getNumPages()):\n",
        "#           page = read_pdf.getPage(p)\n",
        "#           page_content = page.extractText()\n",
        "#           t += str(page_content.encode('utf-8'))\n",
        "\n",
        "        # Textract code\n",
        "        t = textract.process(os.path.join(local_download_path, foldername, filename))\n",
        "\n",
        "        df=df.append({'filename': filename, 'SDG': re.search(pattern, foldername).group(1),'fulltext': t}, ignore_index=True)\n",
        "        succ += 1\n",
        "      except Exception as e: \n",
        "        print(e)\n",
        "        fail += 1\n",
        "\n",
        "print(f'''Successfully processed {succ}/{succ+fail} pdfs''')\n",
        "print(f'Reading PDFs took {time.time()-s_t} seconds')"
      ],
      "execution_count": 5,
      "outputs": [
        {
          "output_type": "stream",
          "text": [
            "/content/data/SDG 08 - Decent Work and Economic Growth/Marginality_from_Myth_to_Reality.pdf\n",
            "/content/data/SDG 08 - Decent Work and Economic Growth/Decent Work Objectives and Activities.pdf\n",
            "/content/data/SDG 08 - Decent Work and Economic Growth/The Place of Social Capital.pdf\n",
            "/content/data/SDG 08 - Decent Work and Economic Growth/Labour_Regulations_and_Labour_Standards_in_India_D.pdf\n",
            "/content/data/SDG 08 - Decent Work and Economic Growth/Global Production Systems and Decent Work.pdf\n",
            "/content/data/SDG 08 - Decent Work and Economic Growth/Rising Informality.pdf\n",
            "/content/data/SDG 08 - Decent Work and Economic Growth/Challenges and Opportunities to Promote Decent Work.pdf\n",
            "/content/data/SDG 08 - Decent Work and Economic Growth/Informalization, Economic Growth and the Challenge.pdf\n",
            "/content/data/SDG 08 - Decent Work and Economic Growth/ORGANISING AS A CATALYST FOR PROMOTING DECENT WORK.pdf\n",
            "/content/data/SDG 08 - Decent Work and Economic Growth/Women’s economic empowerment and inclusive growth.pdf\n",
            "/content/data/SDG 08 - Decent Work and Economic Growth/Pro-Poor to Inclusive Growth.pdf\n",
            "/content/data/SDG 08 - Decent Work and Economic Growth/Globalization and its effects on youth employment trends in Asia.pdf\n",
            "/content/data/SDG 08 - Decent Work and Economic Growth/Inclusive Growth toward a Prosperous Asia.pdf\n",
            "/content/data/SDG 08 - Decent Work and Economic Growth/The Nexus of Economic Growth, Employment and Poverty Reduction.pdf\n",
            "/content/data/SDG 08 - Decent Work and Economic Growth/ADOLESCENTS, YOUTH AND DEVELOPMENT.pdf\n",
            "/content/data/SDG 08 - Decent Work and Economic Growth/Decent Work.pdf\n",
            "/content/data/SDG 08 - Decent Work and Economic Growth/Changing Employment Conditions of the Indian Workforce.pdf\n",
            "/content/data/SDG 08 - Decent Work and Economic Growth/Measurement of decent work.pdf\n",
            "/content/data/SDG 08 - Decent Work and Economic Growth/Macroeconomic policy for full and productive employment and decent work for all.pdf\n",
            "/content/data/SDG 08 - Decent Work and Economic Growth/Economic Growth in South Asia.pdf\n",
            "/content/data/SDG 10 - Reduced Inequalities/ESSAYS ON CORPORATE PHILANTHROPY AFTER CORPORATE SOCIAL IRRESPONSIBLE INCIDENTS .pdf\n",
            "/content/data/SDG 10 - Reduced Inequalities/The strategic relevance of corporate community investments.pdf\n",
            "/content/data/SDG 10 - Reduced Inequalities/Do Employees Support Corporate Philanthropy? Evidence from Chinese Listed Companies.pdf\n",
            "/content/data/SDG 10 - Reduced Inequalities/Does the Market Value Corporate Philanthropy? Evidence from the Response to the 2004 Tsunami Relief Effort.pdf\n",
            "/content/data/SDG 10 - Reduced Inequalities/The_Dynamics_of_Corporate_Social_Responsibility_INSEAD.pdf\n",
            "/content/data/SDG 10 - Reduced Inequalities/Corporate giving in Taiwan- agency cost theory vs. value enhancement theory.pdf\n",
            "/content/data/SDG 10 - Reduced Inequalities/1251121517Corporate Philanthropy in Asia.pdf\n",
            "/content/data/SDG 10 - Reduced Inequalities/Investigating Philanthropy Initiatives in Chinese Higher Education.pdf\n",
            "/content/data/SDG 10 - Reduced Inequalities/Contextualising CSR in Asia_ Corporate Social Responsibility in A.pdf\n",
            "/content/data/SDG 10 - Reduced Inequalities/acsep-working-paper-no5-ebook.pdf\n",
            "/content/data/SDG 10 - Reduced Inequalities/birch-corporatesocialresponsibility-2004.pdf\n",
            "/content/data/SDG 10 - Reduced Inequalities/Giving Circles in Asia- Newcomers to the Asian Philanthropy Landscape.pdf\n",
            "/content/data/SDG 10 - Reduced Inequalities/Beyond Corporate Social Responsibility- The Scope for Corporate Investment in Community Driven Development.pdf\n",
            "/content/data/SDG 10 - Reduced Inequalities/The Business of Doing Good.pdf\n",
            "/content/data/SDG 10 - Reduced Inequalities/Corporate-Philanthropy-in-China.pdf\n",
            "/content/data/SDG 10 - Reduced Inequalities/The evolution of Asia philanthropy.pdf\n",
            "/content/data/SDG 10 - Reduced Inequalities/09-CSR in Asia A seven country study of CSR website reporting.PDF\n",
            "/content/data/SDG 10 - Reduced Inequalities/Corporate Measurement of Philanthropic Impacts as a Requirement for a “Happy Marriage” of Business and Society.pdf\n",
            "/content/data/SDG 10 - Reduced Inequalities/Impact of Corporate Social Responsibility Dimensions on Firm Value- Some Evidence from Hong Kong and China.pdf\n",
            "/content/data/SDG 10 - Reduced Inequalities/Corporate environmental responsibility (CER) weakness, media coverage, and corporate philanthropy- Evidence from China.pdf\n",
            "/content/data/SDG 10 - Reduced Inequalities/sdgs-business-reporting-analysis (Sep2017).pdf\n",
            "/content/data/SDG 10 - Reduced Inequalities/Quality reporting of corporate philanthropy.pdf\n",
            "/content/data/SDG 10 - Reduced Inequalities/Corporate Philanthropy Report.pdf\n",
            "/content/data/SDG 10 - Reduced Inequalities/Reporting on Community Investment.pdf\n",
            "/content/data/SDG 10 - Reduced Inequalities/Institutional Ownership and Corporate Philanthropic Giving in an Emerging Economy.pdf\n",
            "/content/data/SDG 10 - Reduced Inequalities/The Philanthropic Times are Changing in Asia.pdf\n",
            "/content/data/SDG 10 - Reduced Inequalities/JAMASocialEntImprovingGlobalHealth8pages copy.pdf\n"
          ],
          "name": "stdout"
        },
        {
          "output_type": "stream",
          "text": [
            "/content/data/SDG 10 - Reduced Inequalities/Corporate Social Responsibility and Gender Diversity.pdf\n",
            "/content/data/SDG 10 - Reduced Inequalities/Engaging Employees in Community Investment at Pfizer.pdf\n",
            "/content/data/SDG 10 - Reduced Inequalities/Stakeholder Engagement and Sustainable CorporateCommunity Investment.pdf\n",
            "/content/data/SDG 10 - Reduced Inequalities/POTENTIAL AND PROSPECTS FOR PHILANTHROPY IN IMPLEMENTING POST-2015 DEVELOPMENT GOALS.pdf\n",
            "/content/data/SDG 12 - Responsible Consumption and Production/Gowdy and Messener 1998.pdf\n",
            "/content/data/SDG 12 - Responsible Consumption and Production/Chapter-8 BCA.pdf\n",
            "/content/data/SDG 12 - Responsible Consumption and Production/Thermodynamics on MainStreet.pdf\n",
            "/content/data/SDG 12 - Responsible Consumption and Production/IMPERFECT INFORMATION INLEARNING OF ECONOMICS.pdf\n",
            "/content/data/SDG 12 - Responsible Consumption and Production/Elias Khalil 2004.pdf\n",
            "/content/data/SDG 12 - Responsible Consumption and Production/Extension of environmental accounting.pdf\n",
            "/content/data/SDG 12 - Responsible Consumption and Production/Cleveland and Ruth 1997.pdf\n",
            "/content/data/SDG 12 - Responsible Consumption and Production/Lessons from Science Need for a Rethink of Concepts in Economics.pdf\n",
            "/content/data/SDG 12 - Responsible Consumption and Production/Scneider and Kay.pdf\n",
            "/content/data/SDG 12 - Responsible Consumption and Production/Supplement to Lecture 3.pdf\n",
            "/content/data/SDG 12 - Responsible Consumption and Production/Jeffrey Young 1991.pdf\n",
            "/content/data/SDG 12 - Responsible Consumption and Production/Dixon 2008.pdf\n",
            "/content/data/SDG 12 - Responsible Consumption and Production/104328-WP-PUBLIC-OD-Habit-and-Nudging-Catalyst-Behavioral-Sciences-022916.pdf\n",
            "/content/data/SDG 12 - Responsible Consumption and Production/Environmental Valuation - Knetsch 1994.pdf\n",
            "/content/data/SDG 12 - Responsible Consumption and Production/Capsular view of CBA (1).pdf\n",
            "/content/data/SDG 12 - Responsible Consumption and Production/Raine Foster Potts 2006.pdf\n",
            "/content/data/SDG 12 - Responsible Consumption and Production/Chapter-6  from Sinden and Thampapillai (1995) BCA.pdf\n",
            "/content/data/SDG 12 - Responsible Consumption and Production/Herman Daly 1992.pdf\n",
            "/content/data/SDG 12 - Responsible Consumption and Production/Ayres 1999.pdf\n",
            "/content/data/SDG 15 - Life on Land/Mekong River.pdf\n",
            "/content/data/SDG 15 - Life on Land/ENDANGERED SPECIES (IMPORT AND EXPORT) ACT.pdf\n",
            "/content/data/SDG 15 - Life on Land/MEM Notes Designing nature reserves.pdf\n",
            "/content/data/SDG 15 - Life on Land/MEM notes habitat fragmentation.pdf\n",
            "/content/data/SDG 15 - Life on Land/MDG 2015 rev (July 1).pdf\n",
            "/content/data/SDG 15 - Life on Land/-A FINE CITY IN A GARDEN-ENVIRONMENTAL LAW AND GOVERNANCE IN SINGAPORE.pdf\n",
            "/content/data/SDG 15 - Life on Land/CBD Global Biodiversity Outlook 3E 2010.pdf\n",
            "/content/data/SDG 15 - Life on Land/MEM notes ICM.pdf\n",
            "/content/data/SDG 15 - Life on Land/Goh and Lai_MarPollutBull2013.pdf\n",
            "/content/data/SDG 15 - Life on Land/Ecological indices.pdf\n",
            "/content/data/SDG 15 - Life on Land/THE POTENTIAL OF OCYPODE CERATOPHTHALMUS (PALLAS, 1772) AS A BIOINDICATOR OF HUMAN DISTURBANCE ON SINGAPORE BEACHES.pdf\n",
            "/content/data/SDG 15 - Life on Land/Conservation Law Notes Singapore.pdf\n",
            "/content/data/SDG 15 - Life on Land/Pulp Mill on River Uruguay.pdf\n",
            "/content/data/SDG 15 - Life on Land/Conservation Law Notes.pdf\n",
            "/content/data/SDG 15 - Life on Land/Agenda21.pdf\n",
            "/content/data/SDG 15 - Life on Land/Wild Animals and Birds Act.pdf\n",
            "/content/data/SDG 15 - Life on Land/Mekong Agreement and Procedures.pdf\n",
            "'charmap' codec can't decode byte 0x9d in position 31361: character maps to <undefined>\n",
            "/content/data/SDG 15 - Life on Land/TBT.pdf\n",
            "/content/data/SDG 15 - Life on Land/Reclaiming the City- Waterfront Development in Singapore.pdf\n",
            "/content/data/SDG 15 - Life on Land/ASEAN Agreement on Transboundary Haze Pollution.pdf\n",
            "/content/data/SDG 15 - Life on Land/LASCO Carbon stocks of forest conversion APN Newsletter 2001.pdf\n",
            "/content/data/SDG 15 - Life on Land/ANIMAL PROTECTION LAWS OF SINGAPORE AND MALAYSIA.pdf\n",
            "/content/data/SDG 15 - Life on Land/Convention on the Law of the  International Watercourses.pdf\n",
            "/content/data/SDG 15 - Life on Land/UNFCC.pdf\n",
            "/content/data/SDG 15 - Life on Land/PARKS AND TREES ACT.pdf\n",
            "/content/data/SDG 15 - Life on Land/Kyoto Protocol.pdf\n",
            "/content/data/SDG 15 - Life on Land/Env Laws SG.pdf\n",
            "/content/data/SDG 15 - Life on Land/SG sustainable future, law governance and management.pdf\n",
            "/content/data/SDG 15 - Life on Land/WABA.pdf\n",
            "/content/data/SDG 05 - Gender Equality/Prevention of Sexual Harassment of Women in the Workplace.pdf\n",
            "/content/data/SDG 05 - Gender Equality/Role Performance of Elected Panchayat Leaders in India.pdf\n",
            "/content/data/SDG 05 - Gender Equality/Sleeping Beauty as a Metaphor.pdf\n"
          ],
          "name": "stdout"
        },
        {
          "output_type": "stream",
          "text": [
            "/content/data/SDG 05 - Gender Equality/Comfort Women of South Korea.pdf\n",
            "/content/data/SDG 05 - Gender Equality/Sexual and Gender-Based Violence.pdf\n",
            "/content/data/SDG 05 - Gender Equality/Arab Spring_ Women?s Empowerment in Algeria.pdf\n",
            "/content/data/SDG 05 - Gender Equality/Earning Power of Mothers and Children?s Time Allocation.pdf\n",
            "/content/data/SDG 05 - Gender Equality/Study of Gender as Social Practice.pdf\n",
            "/content/data/SDG 05 - Gender Equality/Cross-Gender Casting.pdf\n",
            "/content/data/SDG 05 - Gender Equality/Diversity in Top Level Management and Firm Performance.pdf\n",
            "/content/data/SDG 05 - Gender Equality/Gender, Employment, and Work-Family Balance Policies in Singapore.pdf\n",
            "/content/data/SDG 05 - Gender Equality/Queer_LGBT Nigerian Diasporic Women in the USA.pdf\n",
            "/content/data/SDG 05 - Gender Equality/Determinants of Female?s Employment Outcomes in Vietnam.pdf\n",
            "/content/data/SDG 05 - Gender Equality/Indian Feminists in the Legal Reform Process.pdf\n",
            "/content/data/SDG 05 - Gender Equality/Empowering Indonesian women through building digitalmedia literacy.pdf\n",
            "/content/data/SDG 05 - Gender Equality/The Role of Women in the Arab World.pdf\n",
            "/content/data/SDG 05 - Gender Equality/Keys to Women?s Liberation in Communist China.pdf\n",
            "/content/data/SDG 05 - Gender Equality/Gender Poverty and Inequality.pdf\n",
            "/content/data/SDG 05 - Gender Equality/Gender Differences in Aspirations for Career and Marriage.pdf\n",
            "/content/data/SDG 05 - Gender Equality/Anti-Capitalist Feminism and Female Complicity.pdf\n",
            "Successfully processed 118/119 pdfs\n",
            "Reading PDFs took 74.4043231010437 seconds\n"
          ],
          "name": "stdout"
        }
      ]
    },
    {
      "metadata": {
        "id": "_RJ_4obbUgiZ",
        "colab_type": "code",
        "colab": {}
      },
      "cell_type": "code",
      "source": [
        "df.to_pickle('data/df.pkl')"
      ],
      "execution_count": 0,
      "outputs": []
    },
    {
      "metadata": {
        "id": "pMIDQ0VfU2-G",
        "colab_type": "code",
        "colab": {}
      },
      "cell_type": "code",
      "source": [
        "df = pd.read_pickle('data/df.pkl')"
      ],
      "execution_count": 0,
      "outputs": []
    },
    {
      "metadata": {
        "id": "1Kmnu1CsdNtw",
        "colab_type": "code",
        "colab": {
          "base_uri": "https://localhost:8080/",
          "height": 204
        },
        "outputId": "87ba067e-75bf-4c77-ebf7-9230249b5f87"
      },
      "cell_type": "code",
      "source": [
        "df.head()"
      ],
      "execution_count": 8,
      "outputs": [
        {
          "output_type": "execute_result",
          "data": {
            "text/html": [
              "<div>\n",
              "<style scoped>\n",
              "    .dataframe tbody tr th:only-of-type {\n",
              "        vertical-align: middle;\n",
              "    }\n",
              "\n",
              "    .dataframe tbody tr th {\n",
              "        vertical-align: top;\n",
              "    }\n",
              "\n",
              "    .dataframe thead th {\n",
              "        text-align: right;\n",
              "    }\n",
              "</style>\n",
              "<table border=\"1\" class=\"dataframe\">\n",
              "  <thead>\n",
              "    <tr style=\"text-align: right;\">\n",
              "      <th></th>\n",
              "      <th>SDG</th>\n",
              "      <th>filename</th>\n",
              "      <th>fulltext</th>\n",
              "    </tr>\n",
              "  </thead>\n",
              "  <tbody>\n",
              "    <tr>\n",
              "      <th>0</th>\n",
              "      <td>08</td>\n",
              "      <td>Marginality_from_Myth_to_Reality.pdf</td>\n",
              "      <td>b'MARGINALITY FROM MYTH TO REALITY\\nTHE FAVELA...</td>\n",
              "    </tr>\n",
              "    <tr>\n",
              "      <th>1</th>\n",
              "      <td>08</td>\n",
              "      <td>Decent Work Objectives and Activities.pdf</td>\n",
              "      <td>b'IILS\\nPrice: 30 Swiss francs\\n\\nILO\\n\\nThe v...</td>\n",
              "    </tr>\n",
              "    <tr>\n",
              "      <th>2</th>\n",
              "      <td>08</td>\n",
              "      <td>The Place of Social Capital.pdf</td>\n",
              "      <td>b'See discussions, stats, and author pro\\xef\\x...</td>\n",
              "    </tr>\n",
              "    <tr>\n",
              "      <th>3</th>\n",
              "      <td>08</td>\n",
              "      <td>Labour_Regulations_and_Labour_Standards_in_Ind...</td>\n",
              "      <td>b'See discussions, stats, and author pro\\xef\\x...</td>\n",
              "    </tr>\n",
              "    <tr>\n",
              "      <th>4</th>\n",
              "      <td>08</td>\n",
              "      <td>Global Production Systems and Decent Work.pdf</td>\n",
              "      <td>b\"Global Production Systems and Decent Work\\n\\...</td>\n",
              "    </tr>\n",
              "  </tbody>\n",
              "</table>\n",
              "</div>"
            ],
            "text/plain": [
              "  SDG                                           filename  \\\n",
              "0  08               Marginality_from_Myth_to_Reality.pdf   \n",
              "1  08          Decent Work Objectives and Activities.pdf   \n",
              "2  08                    The Place of Social Capital.pdf   \n",
              "3  08  Labour_Regulations_and_Labour_Standards_in_Ind...   \n",
              "4  08      Global Production Systems and Decent Work.pdf   \n",
              "\n",
              "                                            fulltext  \n",
              "0  b'MARGINALITY FROM MYTH TO REALITY\\nTHE FAVELA...  \n",
              "1  b'IILS\\nPrice: 30 Swiss francs\\n\\nILO\\n\\nThe v...  \n",
              "2  b'See discussions, stats, and author pro\\xef\\x...  \n",
              "3  b'See discussions, stats, and author pro\\xef\\x...  \n",
              "4  b\"Global Production Systems and Decent Work\\n\\...  "
            ]
          },
          "metadata": {
            "tags": []
          },
          "execution_count": 8
        }
      ]
    },
    {
      "metadata": {
        "id": "qh-IBvLohoD3",
        "colab_type": "code",
        "colab": {
          "base_uri": "https://localhost:8080/",
          "height": 235
        },
        "outputId": "b4cc7486-4078-41c0-92e8-528cc7481a8f"
      },
      "cell_type": "code",
      "source": [
        "# Count of articles by SDG\n",
        "(df\n",
        " .groupby('SDG')\n",
        " .count())"
      ],
      "execution_count": 9,
      "outputs": [
        {
          "output_type": "execute_result",
          "data": {
            "text/html": [
              "<div>\n",
              "<style scoped>\n",
              "    .dataframe tbody tr th:only-of-type {\n",
              "        vertical-align: middle;\n",
              "    }\n",
              "\n",
              "    .dataframe tbody tr th {\n",
              "        vertical-align: top;\n",
              "    }\n",
              "\n",
              "    .dataframe thead th {\n",
              "        text-align: right;\n",
              "    }\n",
              "</style>\n",
              "<table border=\"1\" class=\"dataframe\">\n",
              "  <thead>\n",
              "    <tr style=\"text-align: right;\">\n",
              "      <th></th>\n",
              "      <th>filename</th>\n",
              "      <th>fulltext</th>\n",
              "    </tr>\n",
              "    <tr>\n",
              "      <th>SDG</th>\n",
              "      <th></th>\n",
              "      <th></th>\n",
              "    </tr>\n",
              "  </thead>\n",
              "  <tbody>\n",
              "    <tr>\n",
              "      <th>05</th>\n",
              "      <td>20</td>\n",
              "      <td>20</td>\n",
              "    </tr>\n",
              "    <tr>\n",
              "      <th>08</th>\n",
              "      <td>20</td>\n",
              "      <td>20</td>\n",
              "    </tr>\n",
              "    <tr>\n",
              "      <th>10</th>\n",
              "      <td>31</td>\n",
              "      <td>31</td>\n",
              "    </tr>\n",
              "    <tr>\n",
              "      <th>12</th>\n",
              "      <td>19</td>\n",
              "      <td>19</td>\n",
              "    </tr>\n",
              "    <tr>\n",
              "      <th>15</th>\n",
              "      <td>28</td>\n",
              "      <td>28</td>\n",
              "    </tr>\n",
              "  </tbody>\n",
              "</table>\n",
              "</div>"
            ],
            "text/plain": [
              "     filename  fulltext\n",
              "SDG                    \n",
              "05         20        20\n",
              "08         20        20\n",
              "10         31        31\n",
              "12         19        19\n",
              "15         28        28"
            ]
          },
          "metadata": {
            "tags": []
          },
          "execution_count": 9
        }
      ]
    },
    {
      "metadata": {
        "id": "t8kOpMD9jfYR",
        "colab_type": "code",
        "colab": {
          "base_uri": "https://localhost:8080/",
          "height": 235
        },
        "outputId": "a095d0dd-9f4f-4f5a-b5c7-73feb7ba1b37"
      },
      "cell_type": "code",
      "source": [
        "# Short article lengths, usually not read by the pdf reader correctly\n",
        "df_short =(df\n",
        "           .assign(text_len = lambda x: x.fulltext.str.len())\n",
        "           .query('text_len < 5000'))\n",
        "\n",
        "# Removing these articles from analysis\n",
        "df_usable = df[~df.filename.isin(df_short.filename)]\n",
        "\n",
        "(df_usable\n",
        " .groupby('SDG')\n",
        " .count())"
      ],
      "execution_count": 10,
      "outputs": [
        {
          "output_type": "execute_result",
          "data": {
            "text/html": [
              "<div>\n",
              "<style scoped>\n",
              "    .dataframe tbody tr th:only-of-type {\n",
              "        vertical-align: middle;\n",
              "    }\n",
              "\n",
              "    .dataframe tbody tr th {\n",
              "        vertical-align: top;\n",
              "    }\n",
              "\n",
              "    .dataframe thead th {\n",
              "        text-align: right;\n",
              "    }\n",
              "</style>\n",
              "<table border=\"1\" class=\"dataframe\">\n",
              "  <thead>\n",
              "    <tr style=\"text-align: right;\">\n",
              "      <th></th>\n",
              "      <th>filename</th>\n",
              "      <th>fulltext</th>\n",
              "    </tr>\n",
              "    <tr>\n",
              "      <th>SDG</th>\n",
              "      <th></th>\n",
              "      <th></th>\n",
              "    </tr>\n",
              "  </thead>\n",
              "  <tbody>\n",
              "    <tr>\n",
              "      <th>05</th>\n",
              "      <td>20</td>\n",
              "      <td>20</td>\n",
              "    </tr>\n",
              "    <tr>\n",
              "      <th>08</th>\n",
              "      <td>20</td>\n",
              "      <td>20</td>\n",
              "    </tr>\n",
              "    <tr>\n",
              "      <th>10</th>\n",
              "      <td>29</td>\n",
              "      <td>29</td>\n",
              "    </tr>\n",
              "    <tr>\n",
              "      <th>12</th>\n",
              "      <td>15</td>\n",
              "      <td>15</td>\n",
              "    </tr>\n",
              "    <tr>\n",
              "      <th>15</th>\n",
              "      <td>24</td>\n",
              "      <td>24</td>\n",
              "    </tr>\n",
              "  </tbody>\n",
              "</table>\n",
              "</div>"
            ],
            "text/plain": [
              "     filename  fulltext\n",
              "SDG                    \n",
              "05         20        20\n",
              "08         20        20\n",
              "10         29        29\n",
              "12         15        15\n",
              "15         24        24"
            ]
          },
          "metadata": {
            "tags": []
          },
          "execution_count": 10
        }
      ]
    },
    {
      "metadata": {
        "id": "Jw1ofCy-EJl6",
        "colab_type": "text"
      },
      "cell_type": "markdown",
      "source": [
        "# Start of Fastai Stuff"
      ]
    },
    {
      "metadata": {
        "id": "VHTpPK1uLjUr",
        "colab_type": "code",
        "colab": {}
      },
      "cell_type": "code",
      "source": [
        "from fastai.text import *\n",
        "import html\n",
        "\n",
        "BOS = 'xbos'  # beginning-of-sentence tag\n",
        "FLD = 'xfld'  # data field tag\n",
        "\n",
        "PATH=Path('data/aclImdb/')\n",
        "\n",
        "CLAS_PATH=Path('data/imdb_clas/')\n",
        "CLAS_PATH.mkdir(exist_ok=True)\n",
        "\n",
        "LM_PATH=Path('data/imdb_lm/')\n",
        "LM_PATH.mkdir(exist_ok=True)\n",
        "\n",
        "col_names = ['labels','text']\n",
        "\n",
        "chunksize=24000"
      ],
      "execution_count": 0,
      "outputs": []
    },
    {
      "metadata": {
        "id": "syyrJbUTBQgZ",
        "colab_type": "code",
        "colab": {}
      },
      "cell_type": "code",
      "source": [
        "trn_texts,val_texts = sklearn.model_selection.train_test_split(\n",
        "    df_usable, test_size=0.1)"
      ],
      "execution_count": 0,
      "outputs": []
    },
    {
      "metadata": {
        "id": "zw40WUDoBmfL",
        "colab_type": "code",
        "colab": {
          "base_uri": "https://localhost:8080/",
          "height": 34
        },
        "outputId": "d896b9d2-e011-4565-8bae-e94a459a7630"
      },
      "cell_type": "code",
      "source": [
        "len(trn_texts), len(val_texts)"
      ],
      "execution_count": 13,
      "outputs": [
        {
          "output_type": "execute_result",
          "data": {
            "text/plain": [
              "(97, 11)"
            ]
          },
          "metadata": {
            "tags": []
          },
          "execution_count": 13
        }
      ]
    },
    {
      "metadata": {
        "id": "bk8U303bC5H2",
        "colab_type": "code",
        "colab": {
          "base_uri": "https://localhost:8080/",
          "height": 235
        },
        "outputId": "c9cbcf26-2262-4df5-db38-e88c7a9a785f"
      },
      "cell_type": "code",
      "source": [
        "(trn_texts\n",
        " .groupby('SDG')\n",
        " .count())"
      ],
      "execution_count": 14,
      "outputs": [
        {
          "output_type": "execute_result",
          "data": {
            "text/html": [
              "<div>\n",
              "<style scoped>\n",
              "    .dataframe tbody tr th:only-of-type {\n",
              "        vertical-align: middle;\n",
              "    }\n",
              "\n",
              "    .dataframe tbody tr th {\n",
              "        vertical-align: top;\n",
              "    }\n",
              "\n",
              "    .dataframe thead th {\n",
              "        text-align: right;\n",
              "    }\n",
              "</style>\n",
              "<table border=\"1\" class=\"dataframe\">\n",
              "  <thead>\n",
              "    <tr style=\"text-align: right;\">\n",
              "      <th></th>\n",
              "      <th>filename</th>\n",
              "      <th>fulltext</th>\n",
              "    </tr>\n",
              "    <tr>\n",
              "      <th>SDG</th>\n",
              "      <th></th>\n",
              "      <th></th>\n",
              "    </tr>\n",
              "  </thead>\n",
              "  <tbody>\n",
              "    <tr>\n",
              "      <th>05</th>\n",
              "      <td>17</td>\n",
              "      <td>17</td>\n",
              "    </tr>\n",
              "    <tr>\n",
              "      <th>08</th>\n",
              "      <td>17</td>\n",
              "      <td>17</td>\n",
              "    </tr>\n",
              "    <tr>\n",
              "      <th>10</th>\n",
              "      <td>27</td>\n",
              "      <td>27</td>\n",
              "    </tr>\n",
              "    <tr>\n",
              "      <th>12</th>\n",
              "      <td>13</td>\n",
              "      <td>13</td>\n",
              "    </tr>\n",
              "    <tr>\n",
              "      <th>15</th>\n",
              "      <td>23</td>\n",
              "      <td>23</td>\n",
              "    </tr>\n",
              "  </tbody>\n",
              "</table>\n",
              "</div>"
            ],
            "text/plain": [
              "     filename  fulltext\n",
              "SDG                    \n",
              "05         17        17\n",
              "08         17        17\n",
              "10         27        27\n",
              "12         13        13\n",
              "15         23        23"
            ]
          },
          "metadata": {
            "tags": []
          },
          "execution_count": 14
        }
      ]
    },
    {
      "metadata": {
        "id": "i7adOPJFC7cI",
        "colab_type": "code",
        "colab": {
          "base_uri": "https://localhost:8080/",
          "height": 235
        },
        "outputId": "ee06b8a2-6a83-4829-ba46-074de8ca9170"
      },
      "cell_type": "code",
      "source": [
        "(val_texts\n",
        " .groupby('SDG')\n",
        " .count())"
      ],
      "execution_count": 15,
      "outputs": [
        {
          "output_type": "execute_result",
          "data": {
            "text/html": [
              "<div>\n",
              "<style scoped>\n",
              "    .dataframe tbody tr th:only-of-type {\n",
              "        vertical-align: middle;\n",
              "    }\n",
              "\n",
              "    .dataframe tbody tr th {\n",
              "        vertical-align: top;\n",
              "    }\n",
              "\n",
              "    .dataframe thead th {\n",
              "        text-align: right;\n",
              "    }\n",
              "</style>\n",
              "<table border=\"1\" class=\"dataframe\">\n",
              "  <thead>\n",
              "    <tr style=\"text-align: right;\">\n",
              "      <th></th>\n",
              "      <th>filename</th>\n",
              "      <th>fulltext</th>\n",
              "    </tr>\n",
              "    <tr>\n",
              "      <th>SDG</th>\n",
              "      <th></th>\n",
              "      <th></th>\n",
              "    </tr>\n",
              "  </thead>\n",
              "  <tbody>\n",
              "    <tr>\n",
              "      <th>05</th>\n",
              "      <td>3</td>\n",
              "      <td>3</td>\n",
              "    </tr>\n",
              "    <tr>\n",
              "      <th>08</th>\n",
              "      <td>3</td>\n",
              "      <td>3</td>\n",
              "    </tr>\n",
              "    <tr>\n",
              "      <th>10</th>\n",
              "      <td>2</td>\n",
              "      <td>2</td>\n",
              "    </tr>\n",
              "    <tr>\n",
              "      <th>12</th>\n",
              "      <td>2</td>\n",
              "      <td>2</td>\n",
              "    </tr>\n",
              "    <tr>\n",
              "      <th>15</th>\n",
              "      <td>1</td>\n",
              "      <td>1</td>\n",
              "    </tr>\n",
              "  </tbody>\n",
              "</table>\n",
              "</div>"
            ],
            "text/plain": [
              "     filename  fulltext\n",
              "SDG                    \n",
              "05          3         3\n",
              "08          3         3\n",
              "10          2         2\n",
              "12          2         2\n",
              "15          1         1"
            ]
          },
          "metadata": {
            "tags": []
          },
          "execution_count": 15
        }
      ]
    },
    {
      "metadata": {
        "id": "alVDqogRDPVl",
        "colab_type": "text"
      },
      "cell_type": "markdown",
      "source": [
        "# Saving text in standard csv format with labels"
      ]
    },
    {
      "metadata": {
        "id": "nJ4YlMQ_FjY-",
        "colab_type": "code",
        "colab": {}
      },
      "cell_type": "code",
      "source": [
        "# Shuffle the texts using np.random.permutation\n",
        "np.random.seed(42)\n",
        "trn_idx = np.random.permutation(len(trn_texts))\n",
        "val_idx = np.random.permutation(len(val_texts))\n",
        "\n",
        "trn_texts = trn_texts.reset_index(drop = True).loc[trn_idx,:]\n",
        "val_texts = val_texts.reset_index(drop = True).loc[val_idx,:]"
      ],
      "execution_count": 0,
      "outputs": []
    },
    {
      "metadata": {
        "id": "Mz-5R0Lvqy5t",
        "colab_type": "code",
        "colab": {}
      },
      "cell_type": "code",
      "source": [
        "# Save the text files in the 'standard csv format with labels'\n",
        "(trn_texts\n",
        " [['SDG','fulltext']]\n",
        " .rename({'SDG': 'labels', 'fulltext': 'text'}, axis = 1)\n",
        " .to_csv(CLAS_PATH/'train.csv', header=False, index=False)\n",
        ")\n",
        "\n",
        "(val_texts\n",
        " [['SDG','fulltext']]\n",
        " .rename({'SDG': 'labels', 'fulltext': 'text'}, axis = 1)\n",
        " .to_csv(CLAS_PATH/'test.csv', header=False, index=False)\n",
        ")\n",
        "\n",
        "(CLAS_PATH/'classes.txt').open('w').writelines(f'{k}\\n' for k in ids.keys())"
      ],
      "execution_count": 0,
      "outputs": []
    },
    {
      "metadata": {
        "id": "m_BCdtu7HXUJ",
        "colab_type": "code",
        "colab": {}
      },
      "cell_type": "code",
      "source": [
        "# Repeat for LM\n",
        "df_trn = pd.DataFrame({'text':trn_texts['fulltext'], 'labels':[0]*len(trn_texts)}, columns=col_names)\n",
        "df_val = pd.DataFrame({'text':val_texts['fulltext'], 'labels':[0]*len(val_texts)}, columns=col_names)\n",
        "\n",
        "df_trn.to_csv(LM_PATH/'train.csv', header=False, index=False)\n",
        "df_val.to_csv(LM_PATH/'test.csv', header=False, index=False)"
      ],
      "execution_count": 0,
      "outputs": []
    },
    {
      "metadata": {
        "id": "FA78SZxdDdPy",
        "colab_type": "text"
      },
      "cell_type": "markdown",
      "source": [
        "# Language model tokens\n",
        "\n",
        "In this section, we start cleaning up the messy text. There are 2 main activities we need to perform:\n",
        "\n",
        "1. Clean up extra spaces, tab chars, new ln chars and other characters and replace them with standard ones\n",
        "2. Use the awesome spacy library to tokenize the data. Since spacy does not provide a parallel/multicore version of the tokenizer, the fastai library adds this functionality. This parallel version uses all the cores of your CPUs and runs much faster than the serial version of the spacy tokenizer.   \n",
        "\n",
        "Tokenization is the process of splitting the text into separate tokens so that each token can be assigned a unique index. This means we can convert the text into integer indexes our models can use.\n",
        "\n",
        "We use an appropriate chunksize as the tokenization process is memory intensive"
      ]
    },
    {
      "metadata": {
        "id": "lnI4oj58Obrr",
        "colab_type": "code",
        "colab": {}
      },
      "cell_type": "code",
      "source": [
        "re1 = re.compile(r'  +')\n",
        "\n",
        "def fixup(x):\n",
        "    x = x.replace('#39;', \"'\").replace('amp;', '&').replace('#146;', \"'\").replace(\n",
        "        'nbsp;', ' ').replace('#36;', '$').replace('\\\\n', \"\\n\").replace('quot;', \"'\").replace(\n",
        "        '<br />', \"\\n\").replace('\\\\\"', '\"').replace('<unk>','u_n').replace(' @.@ ','.').replace(\n",
        "        ' @-@ ','-').replace('\\\\', ' \\\\ ')\n",
        "    return re1.sub(' ', html.unescape(x))    #html.unescape() Convert all named and numeric character references (e.g. &gt;, &#62;, &x3e;) in the string to the corresponding unicode(actual) characters."
      ],
      "execution_count": 0,
      "outputs": []
    },
    {
      "metadata": {
        "id": "pSxweD2PLpmL",
        "colab_type": "code",
        "colab": {}
      },
      "cell_type": "code",
      "source": [
        "def get_texts(df, n_lbls=1):\n",
        "    labels = df.iloc[:,range(n_lbls)].values.astype(np.int64)\n",
        "    texts = f'\\n{BOS} {FLD} 1 ' + df[n_lbls].astype(str)\n",
        "    for i in range(n_lbls+1, len(df.columns)): texts += f' {FLD} {i-n_lbls} ' + df[i].astype(str)\n",
        "    texts = texts.apply(fixup).values.astype(str)\n",
        "\n",
        "    tok = Tokenizer().proc_all_mp(partition_by_cores(texts)) # Parallelised spacy tokenisation\n",
        "    return tok, list(labels)"
      ],
      "execution_count": 0,
      "outputs": []
    },
    {
      "metadata": {
        "id": "TCMOM7zuJlQZ",
        "colab_type": "code",
        "colab": {}
      },
      "cell_type": "code",
      "source": [
        "def get_all(df, n_lbls):\n",
        "    tok, labels = [], []\n",
        "    for i, r in enumerate(df):\n",
        "        print(i)\n",
        "        tok_, labels_ = get_texts(r, n_lbls)\n",
        "        tok += tok_;\n",
        "        labels += labels_\n",
        "    return tok, labels"
      ],
      "execution_count": 0,
      "outputs": []
    },
    {
      "metadata": {
        "id": "xaEWis36Jl9g",
        "colab_type": "code",
        "colab": {}
      },
      "cell_type": "code",
      "source": [
        "df_trn = pd.read_csv(LM_PATH/'train.csv', header=None, chunksize=chunksize)\n",
        "df_val = pd.read_csv(LM_PATH/'test.csv', header=None, chunksize=chunksize)"
      ],
      "execution_count": 0,
      "outputs": []
    },
    {
      "metadata": {
        "id": "B4GUMoxN6ttx",
        "colab_type": "code",
        "colab": {
          "base_uri": "https://localhost:8080/",
          "height": 51
        },
        "outputId": "81ff4eca-528c-4121-b2ce-db4a8e08d05c"
      },
      "cell_type": "code",
      "source": [
        "tok_trn, trn_labels = get_all(df_trn, 1)\n",
        "tok_val, val_labels = get_all(df_val, 1)"
      ],
      "execution_count": 23,
      "outputs": [
        {
          "output_type": "stream",
          "text": [
            "0\n",
            "0\n"
          ],
          "name": "stdout"
        }
      ]
    },
    {
      "metadata": {
        "id": "xmDuN2A0DJuU",
        "colab_type": "code",
        "colab": {}
      },
      "cell_type": "code",
      "source": [
        "(LM_PATH/'tmp').mkdir(exist_ok=True)"
      ],
      "execution_count": 0,
      "outputs": []
    },
    {
      "metadata": {
        "id": "0TJQMVCRDLd0",
        "colab_type": "code",
        "colab": {}
      },
      "cell_type": "code",
      "source": [
        "np.save(LM_PATH/'tmp'/'tok_trn.npy', tok_trn)\n",
        "np.save(LM_PATH/'tmp'/'tok_val.npy', tok_val)"
      ],
      "execution_count": 0,
      "outputs": []
    },
    {
      "metadata": {
        "id": "do77eKlUDM6_",
        "colab_type": "code",
        "colab": {}
      },
      "cell_type": "code",
      "source": [
        "tok_trn = np.load(LM_PATH/'tmp'/'tok_trn.npy')\n",
        "tok_val = np.load(LM_PATH/'tmp'/'tok_val.npy')"
      ],
      "execution_count": 0,
      "outputs": []
    },
    {
      "metadata": {
        "id": "7c4wa4Xw8IYh",
        "colab_type": "code",
        "colab": {
          "base_uri": "https://localhost:8080/",
          "height": 867
        },
        "outputId": "3fc0ced2-d2fe-4abb-db61-fd21cbbf9382"
      },
      "cell_type": "code",
      "source": [
        "freq = Counter(p for o in tok_trn for p in o)\n",
        "freq.most_common(50)"
      ],
      "execution_count": 27,
      "outputs": [
        {
          "output_type": "execute_result",
          "data": {
            "text/plain": [
              "[('\\n', 119252),\n",
              " ('\\\\', 86145),\n",
              " (',', 76024),\n",
              " ('the', 67305),\n",
              " ('.', 61877),\n",
              " ('of', 50548),\n",
              " ('and', 50283),\n",
              " ('\\n\\n', 41830),\n",
              " ('to', 30192),\n",
              " ('in', 29778),\n",
              " ('xe2', 23135),\n",
              " ('x80', 21641),\n",
              " (')', 20610),\n",
              " ('(', 19242),\n",
              " ('a', 17663),\n",
              " ('t_up', 17300),\n",
              " ('-', 15645),\n",
              " ('for', 13248),\n",
              " ('is', 10673),\n",
              " (':', 10139),\n",
              " ('that', 9911),\n",
              " ('on', 8749),\n",
              " ('as', 8730),\n",
              " ('or', 7360),\n",
              " ('with', 7206),\n",
              " ('by', 7183),\n",
              " ('are', 7040),\n",
              " ('/', 6963),\n",
              " ('\\n\\n ', 6726),\n",
              " (';', 6419),\n",
              " ('be', 6195),\n",
              " ('this', 5943),\n",
              " ('\\n ', 5353),\n",
              " ('from', 5215),\n",
              " ('social', 4468),\n",
              " ('at', 4257),\n",
              " ('it', 4159),\n",
              " ('an', 4123),\n",
              " ('not', 4043),\n",
              " ('their', 3958),\n",
              " ('development', 3920),\n",
              " ('have', 3704),\n",
              " ('x99s', 3600),\n",
              " ('women', 3505),\n",
              " ('has', 3149),\n",
              " ('work', 3002),\n",
              " ('which', 2960),\n",
              " ('1', 2949),\n",
              " ('x9d', 2892),\n",
              " ('countries', 2848)]"
            ]
          },
          "metadata": {
            "tags": []
          },
          "execution_count": 27
        }
      ]
    },
    {
      "metadata": {
        "id": "iNwKUTzl8rN6",
        "colab_type": "code",
        "colab": {}
      },
      "cell_type": "code",
      "source": [
        "max_vocab = 60000\n",
        "min_freq = 2"
      ],
      "execution_count": 0,
      "outputs": []
    },
    {
      "metadata": {
        "id": "iBl5E-5F8rrW",
        "colab_type": "code",
        "colab": {}
      },
      "cell_type": "code",
      "source": [
        "# convert eat word token into an interger representation\n",
        "itos = [o for o,c in freq.most_common(max_vocab) if c>min_freq]\n",
        "itos.insert(0, '_pad_')\n",
        "itos.insert(0, '_unk_')"
      ],
      "execution_count": 0,
      "outputs": []
    },
    {
      "metadata": {
        "id": "gyCCopH0D5ed",
        "colab_type": "text"
      },
      "cell_type": "markdown",
      "source": [
        "We create a reverse mapping called stoi which is useful to lookup the index of a given token. stoi also has the same number of elements as itos. We use a high performance container called collections.defaultdict to store our stoi mapping."
      ]
    },
    {
      "metadata": {
        "id": "0CvubN4V8t92",
        "colab_type": "code",
        "colab": {
          "base_uri": "https://localhost:8080/",
          "height": 34
        },
        "outputId": "46e85020-5003-4f48-f9cd-34464da0928d"
      },
      "cell_type": "code",
      "source": [
        "stoi = collections.defaultdict(lambda:0, {v:k for k,v in enumerate(itos)})\n",
        "len(itos)"
      ],
      "execution_count": 30,
      "outputs": [
        {
          "output_type": "execute_result",
          "data": {
            "text/plain": [
              "18659"
            ]
          },
          "metadata": {
            "tags": []
          },
          "execution_count": 30
        }
      ]
    },
    {
      "metadata": {
        "id": "5KCnJo1y80Bw",
        "colab_type": "code",
        "colab": {}
      },
      "cell_type": "code",
      "source": [
        "trn_lm = np.array([[stoi[o] for o in p] for p in tok_trn])\n",
        "val_lm = np.array([[stoi[o] for o in p] for p in tok_val])"
      ],
      "execution_count": 0,
      "outputs": []
    },
    {
      "metadata": {
        "id": "cSq8gqddDU_y",
        "colab_type": "code",
        "colab": {}
      },
      "cell_type": "code",
      "source": [
        "np.save(LM_PATH/'tmp'/'trn_ids.npy', trn_lm)\n",
        "np.save(LM_PATH/'tmp'/'val_ids.npy', val_lm)\n",
        "pickle.dump(itos, open(LM_PATH/'tmp'/'itos.pkl', 'wb'))"
      ],
      "execution_count": 0,
      "outputs": []
    },
    {
      "metadata": {
        "id": "EA7VtU22DWUZ",
        "colab_type": "code",
        "colab": {}
      },
      "cell_type": "code",
      "source": [
        "trn_lm = np.load(LM_PATH/'tmp'/'trn_ids.npy')\n",
        "val_lm = np.load(LM_PATH/'tmp'/'val_ids.npy')\n",
        "itos = pickle.load(open(LM_PATH/'tmp'/'itos.pkl', 'rb'))"
      ],
      "execution_count": 0,
      "outputs": []
    },
    {
      "metadata": {
        "id": "8kxXQFWO87-M",
        "colab_type": "code",
        "colab": {
          "base_uri": "https://localhost:8080/",
          "height": 34
        },
        "outputId": "300c679e-623a-4388-dd7f-71a4dae2985f"
      },
      "cell_type": "code",
      "source": [
        "vs=len(itos)\n",
        "vs,len(trn_lm)"
      ],
      "execution_count": 34,
      "outputs": [
        {
          "output_type": "execute_result",
          "data": {
            "text/plain": [
              "(18659, 97)"
            ]
          },
          "metadata": {
            "tags": []
          },
          "execution_count": 34
        }
      ]
    },
    {
      "metadata": {
        "id": "rQiB1v1HDbOW",
        "colab_type": "text"
      },
      "cell_type": "markdown",
      "source": [
        "#Wikitext"
      ]
    },
    {
      "metadata": {
        "id": "q0KN-gkJ9Dgy",
        "colab_type": "code",
        "colab": {
          "base_uri": "https://localhost:8080/",
          "height": 2567
        },
        "outputId": "3a7110da-58cb-41fa-9f9a-8d4264ef61f4"
      },
      "cell_type": "code",
      "source": [
        "! wget -nH -r -np -P {PATH} http://files.fast.ai/models/wt103/"
      ],
      "execution_count": 35,
      "outputs": [
        {
          "output_type": "stream",
          "text": [
            "--2018-07-01 13:09:36--  http://files.fast.ai/models/wt103/\n",
            "Resolving files.fast.ai (files.fast.ai)... 67.205.15.147\n",
            "Connecting to files.fast.ai (files.fast.ai)|67.205.15.147|:80... connected.\n",
            "HTTP request sent, awaiting response... 200 OK\n",
            "Length: 857 [text/html]\n",
            "Saving to: ‘data/aclImdb/models/wt103/index.html’\n",
            "\n",
            "models/wt103/index. 100%[===================>]     857  --.-KB/s    in 0s      \n",
            "\n",
            "2018-07-01 13:09:36 (109 MB/s) - ‘data/aclImdb/models/wt103/index.html’ saved [857/857]\n",
            "\n",
            "Loading robots.txt; please ignore errors.\n",
            "--2018-07-01 13:09:36--  http://files.fast.ai/robots.txt\n",
            "Reusing existing connection to files.fast.ai:80.\n",
            "HTTP request sent, awaiting response... 404 Not Found\n",
            "2018-07-01 13:09:36 ERROR 404: Not Found.\n",
            "\n",
            "--2018-07-01 13:09:36--  http://files.fast.ai/models/wt103/?C=N;O=D\n",
            "Reusing existing connection to files.fast.ai:80.\n",
            "HTTP request sent, awaiting response... 200 OK\n",
            "Length: 857 [text/html]\n",
            "Saving to: ‘data/aclImdb/models/wt103/index.html?C=N;O=D’\n",
            "\n",
            "models/wt103/index. 100%[===================>]     857  --.-KB/s    in 0s      \n",
            "\n",
            "2018-07-01 13:09:36 (122 MB/s) - ‘data/aclImdb/models/wt103/index.html?C=N;O=D’ saved [857/857]\n",
            "\n",
            "--2018-07-01 13:09:36--  http://files.fast.ai/models/wt103/?C=M;O=A\n",
            "Reusing existing connection to files.fast.ai:80.\n",
            "HTTP request sent, awaiting response... 200 OK\n",
            "Length: 857 [text/html]\n",
            "Saving to: ‘data/aclImdb/models/wt103/index.html?C=M;O=A’\n",
            "\n",
            "models/wt103/index. 100%[===================>]     857  --.-KB/s    in 0s      \n",
            "\n",
            "2018-07-01 13:09:36 (134 MB/s) - ‘data/aclImdb/models/wt103/index.html?C=M;O=A’ saved [857/857]\n",
            "\n",
            "--2018-07-01 13:09:36--  http://files.fast.ai/models/wt103/?C=S;O=A\n",
            "Reusing existing connection to files.fast.ai:80.\n",
            "HTTP request sent, awaiting response... 200 OK\n",
            "Length: 857 [text/html]\n",
            "Saving to: ‘data/aclImdb/models/wt103/index.html?C=S;O=A’\n",
            "\n",
            "models/wt103/index. 100%[===================>]     857  --.-KB/s    in 0s      \n",
            "\n",
            "2018-07-01 13:09:36 (24.8 MB/s) - ‘data/aclImdb/models/wt103/index.html?C=S;O=A’ saved [857/857]\n",
            "\n",
            "--2018-07-01 13:09:36--  http://files.fast.ai/models/wt103/?C=D;O=A\n",
            "Reusing existing connection to files.fast.ai:80.\n",
            "HTTP request sent, awaiting response... 200 OK\n",
            "Length: 857 [text/html]\n",
            "Saving to: ‘data/aclImdb/models/wt103/index.html?C=D;O=A’\n",
            "\n",
            "models/wt103/index. 100%[===================>]     857  --.-KB/s    in 0s      \n",
            "\n",
            "2018-07-01 13:09:36 (139 MB/s) - ‘data/aclImdb/models/wt103/index.html?C=D;O=A’ saved [857/857]\n",
            "\n",
            "--2018-07-01 13:09:36--  http://files.fast.ai/models/wt103/bwd_wt103.h5\n",
            "Reusing existing connection to files.fast.ai:80.\n",
            "HTTP request sent, awaiting response... 200 OK\n",
            "Length: 462387687 (441M) [text/plain]\n",
            "Saving to: ‘data/aclImdb/models/wt103/bwd_wt103.h5’\n",
            "\n",
            "models/wt103/bwd_wt 100%[===================>] 440.97M   112MB/s    in 4.0s    \n",
            "\n",
            "2018-07-01 13:09:40 (110 MB/s) - ‘data/aclImdb/models/wt103/bwd_wt103.h5’ saved [462387687/462387687]\n",
            "\n",
            "--2018-07-01 13:09:40--  http://files.fast.ai/models/wt103/bwd_wt103_enc.h5\n",
            "Reusing existing connection to files.fast.ai:80.\n",
            "HTTP request sent, awaiting response... 200 OK\n",
            "Length: 462387634 (441M) [text/plain]\n",
            "Saving to: ‘data/aclImdb/models/wt103/bwd_wt103_enc.h5’\n",
            "\n",
            "models/wt103/bwd_wt  50%[=========>          ] 223.62M   112MB/s               "
          ],
          "name": "stdout"
        },
        {
          "output_type": "stream",
          "text": [
            "models/wt103/bwd_wt 100%[===================>] 440.97M   112MB/s    in 4.0s    \n",
            "\n",
            "2018-07-01 13:09:44 (111 MB/s) - ‘data/aclImdb/models/wt103/bwd_wt103_enc.h5’ saved [462387634/462387634]\n",
            "\n",
            "--2018-07-01 13:09:44--  http://files.fast.ai/models/wt103/fwd_wt103.h5\n",
            "Reusing existing connection to files.fast.ai:80.\n",
            "HTTP request sent, awaiting response... 200 OK\n",
            "Length: 462387687 (441M) [text/plain]\n",
            "Saving to: ‘data/aclImdb/models/wt103/fwd_wt103.h5’\n",
            "\n",
            "models/wt103/fwd_wt 100%[===================>] 440.97M   111MB/s    in 4.0s    \n",
            "\n",
            "2018-07-01 13:09:48 (111 MB/s) - ‘data/aclImdb/models/wt103/fwd_wt103.h5’ saved [462387687/462387687]\n",
            "\n",
            "--2018-07-01 13:09:48--  http://files.fast.ai/models/wt103/fwd_wt103_enc.h5\n",
            "Reusing existing connection to files.fast.ai:80.\n",
            "HTTP request sent, awaiting response... 200 OK\n",
            "Length: 462387634 (441M) [text/plain]\n",
            "Saving to: ‘data/aclImdb/models/wt103/fwd_wt103_enc.h5’\n",
            "\n",
            "models/wt103/fwd_wt 100%[===================>] 440.97M   111MB/s    in 4.0s    \n",
            "\n",
            "2018-07-01 13:09:52 (111 MB/s) - ‘data/aclImdb/models/wt103/fwd_wt103_enc.h5’ saved [462387634/462387634]\n",
            "\n",
            "--2018-07-01 13:09:52--  http://files.fast.ai/models/wt103/itos_wt103.pkl\n",
            "Reusing existing connection to files.fast.ai:80.\n",
            "HTTP request sent, awaiting response... 200 OK\n",
            "Length: 4161252 (4.0M) [text/plain]\n",
            "Saving to: ‘data/aclImdb/models/wt103/itos_wt103.pkl’\n",
            "\n",
            "models/wt103/itos_w 100%[===================>]   3.97M  --.-KB/s    in 0.04s   \n",
            "\n",
            "2018-07-01 13:09:52 (111 MB/s) - ‘data/aclImdb/models/wt103/itos_wt103.pkl’ saved [4161252/4161252]\n",
            "\n",
            "--2018-07-01 13:09:52--  http://files.fast.ai/models/wt103/?C=N;O=A\n",
            "Reusing existing connection to files.fast.ai:80.\n",
            "HTTP request sent, awaiting response... 200 OK\n",
            "Length: 857 [text/html]\n",
            "Saving to: ‘data/aclImdb/models/wt103/index.html?C=N;O=A’\n",
            "\n",
            "models/wt103/index. 100%[===================>]     857  --.-KB/s    in 0s      \n",
            "\n",
            "2018-07-01 13:09:52 (120 MB/s) - ‘data/aclImdb/models/wt103/index.html?C=N;O=A’ saved [857/857]\n",
            "\n",
            "--2018-07-01 13:09:52--  http://files.fast.ai/models/wt103/?C=M;O=D\n",
            "Reusing existing connection to files.fast.ai:80.\n",
            "HTTP request sent, awaiting response... 200 OK\n",
            "Length: 857 [text/html]\n",
            "Saving to: ‘data/aclImdb/models/wt103/index.html?C=M;O=D’\n",
            "\n",
            "models/wt103/index. 100%[===================>]     857  --.-KB/s    in 0s      \n",
            "\n",
            "2018-07-01 13:09:52 (122 MB/s) - ‘data/aclImdb/models/wt103/index.html?C=M;O=D’ saved [857/857]\n",
            "\n",
            "--2018-07-01 13:09:52--  http://files.fast.ai/models/wt103/?C=S;O=D\n",
            "Reusing existing connection to files.fast.ai:80.\n",
            "HTTP request sent, awaiting response... 200 OK\n",
            "Length: 857 [text/html]\n",
            "Saving to: ‘data/aclImdb/models/wt103/index.html?C=S;O=D’\n",
            "\n",
            "models/wt103/index. 100%[===================>]     857  --.-KB/s    in 0s      \n",
            "\n",
            "2018-07-01 13:09:52 (119 MB/s) - ‘data/aclImdb/models/wt103/index.html?C=S;O=D’ saved [857/857]\n",
            "\n",
            "--2018-07-01 13:09:52--  http://files.fast.ai/models/wt103/?C=D;O=D\n",
            "Reusing existing connection to files.fast.ai:80.\n",
            "HTTP request sent, awaiting response... 200 OK\n",
            "Length: 857 [text/html]\n",
            "Saving to: ‘data/aclImdb/models/wt103/index.html?C=D;O=D’\n",
            "\n",
            "models/wt103/index. 100%[===================>]     857  --.-KB/s    in 0s      \n",
            "\n",
            "2018-07-01 13:09:52 (104 MB/s) - ‘data/aclImdb/models/wt103/index.html?C=D;O=D’ saved [857/857]\n",
            "\n",
            "FINISHED --2018-07-01 13:09:52--\n",
            "Total wall clock time: 16s\n",
            "Downloaded: 14 files, 1.7G in 16s (111 MB/s)\n"
          ],
          "name": "stdout"
        }
      ]
    },
    {
      "metadata": {
        "id": "heGcNc6vLPr4",
        "colab_type": "text"
      },
      "cell_type": "markdown",
      "source": [
        "The pre-trained LM weights have an embedding size of 400, 1150 hidden units and just 3 layers. We need to match these values with the target IMDB LM so that the weights can be loaded up."
      ]
    },
    {
      "metadata": {
        "id": "yGmg_Rkr9Zpe",
        "colab_type": "code",
        "colab": {}
      },
      "cell_type": "code",
      "source": [
        "em_sz,nh,nl = 400,1150,3"
      ],
      "execution_count": 0,
      "outputs": []
    },
    {
      "metadata": {
        "id": "EmnxhOI_9bbU",
        "colab_type": "code",
        "colab": {}
      },
      "cell_type": "code",
      "source": [
        "PRE_PATH = PATH/'models'/'wt103'\n",
        "PRE_LM_PATH = PRE_PATH/'fwd_wt103.h5'"
      ],
      "execution_count": 0,
      "outputs": []
    },
    {
      "metadata": {
        "id": "pavw1ilu9czi",
        "colab_type": "code",
        "colab": {}
      },
      "cell_type": "code",
      "source": [
        "wgts = torch.load(PRE_LM_PATH, map_location=lambda storage, loc: storage)"
      ],
      "execution_count": 0,
      "outputs": []
    },
    {
      "metadata": {
        "id": "lbH6FrowLZEz",
        "colab_type": "text"
      },
      "cell_type": "markdown",
      "source": [
        "We calculate the mean of the layer0 encoder weights. This can be used to assign weights to unknown tokens when we transfer to target IMDB LM."
      ]
    },
    {
      "metadata": {
        "id": "nLY2dO1m9hEK",
        "colab_type": "code",
        "colab": {}
      },
      "cell_type": "code",
      "source": [
        "enc_wgts = to_np(wgts['0.encoder.weight'])\n",
        "row_m = enc_wgts.mean(0)"
      ],
      "execution_count": 0,
      "outputs": []
    },
    {
      "metadata": {
        "id": "VRLHb7p_9kD0",
        "colab_type": "code",
        "colab": {}
      },
      "cell_type": "code",
      "source": [
        "itos2 = pickle.load((PRE_PATH/'itos_wt103.pkl').open('rb'))\n",
        "stoi2 = collections.defaultdict(lambda:-1, {v:k for k,v in enumerate(itos2)})"
      ],
      "execution_count": 0,
      "outputs": []
    },
    {
      "metadata": {
        "id": "pw5bicQk9NiI",
        "colab_type": "text"
      },
      "cell_type": "markdown",
      "source": [
        "Before we try to transfer the knowledge from wikitext to the IMDB LM, we match up the vocab words and their indexes. We use the defaultdict container once again, to assign mean weights to unknown IMDB tokens that do not exist in wikitext103."
      ]
    },
    {
      "metadata": {
        "id": "9xnR_Tj59n9x",
        "colab_type": "code",
        "colab": {}
      },
      "cell_type": "code",
      "source": [
        "new_w = np.zeros((vs, em_sz), dtype=np.float32)\n",
        "for i,w in enumerate(itos):\n",
        "    r = stoi2[w]\n",
        "    new_w[i] = enc_wgts[r] if r>=0 else row_m"
      ],
      "execution_count": 0,
      "outputs": []
    },
    {
      "metadata": {
        "id": "ubCm9pYD9gqx",
        "colab_type": "text"
      },
      "cell_type": "markdown",
      "source": [
        "We now overwrite the weights into the wgts odict. The decoder module, which we will explore in detail is also loaded with the same weights due to an idea called weight tying."
      ]
    },
    {
      "metadata": {
        "id": "ZcwZ-JBy9qOn",
        "colab_type": "code",
        "colab": {}
      },
      "cell_type": "code",
      "source": [
        "wgts['0.encoder.weight'] = T(new_w)\n",
        "wgts['0.encoder_with_dropout.embed.weight'] = T(np.copy(new_w))\n",
        "wgts['1.decoder.weight'] = T(np.copy(new_w))"
      ],
      "execution_count": 0,
      "outputs": []
    },
    {
      "metadata": {
        "id": "2SBhse5w9oC2",
        "colab_type": "text"
      },
      "cell_type": "markdown",
      "source": [
        "# Language Model\n",
        "\n",
        "It is fairly straightforward to create a new language model using the fastai library. Like every other lesson, our model will have a backbone and a custom head. The backbone in our case is the IMDB LM pre-trained with wikitext and the custom head is a linear classifier. In this section we will focus on the backbone LM and the next section will talk about the classifier custom head.\n",
        "\n",
        "bptt (also known traditionally in NLP LM as ngrams) in fastai LMs is approximated to a std. deviation around 70, by perturbing the sequence length on a per-batch basis. This is akin to shuffling our data in computer vision, only that in NLP we cannot shuffle inputs and we have to maintain statefulness.\n",
        "\n",
        "Since we are predicting words using ngrams, we want our next batch to line up with the end-points of the previous mini-batch's items. batch-size is constant and but the fastai library expands and contracts bptt each mini-batch using a clever stochastic implementation of a batch. (original credits attributed to Smerity)"
      ]
    },
    {
      "metadata": {
        "id": "ACX3upeh9tpq",
        "colab_type": "code",
        "colab": {}
      },
      "cell_type": "code",
      "source": [
        "wd=1e-7\n",
        "bptt=70\n",
        "bs=52\n",
        "opt_fn = partial(optim.Adam, betas=(0.8, 0.99))"
      ],
      "execution_count": 0,
      "outputs": []
    },
    {
      "metadata": {
        "id": "-uHMebYe97Lx",
        "colab_type": "text"
      },
      "cell_type": "markdown",
      "source": [
        "The goal of the LM is to learn to predict a word/token given a preceeding set of words(tokens). We take all the movie reviews in both the 90k training set and 10k validation set and concatenate them to form long strings of tokens. In fastai, we use the LanguageModelLoader to create a data loader which makes it easy to create and use bptt sized mini batches. The LanguageModelLoader takes a concatenated string of tokens and returns a loader.\n",
        "\n",
        "We have a special modeldata object class for LMs called LanguageModelData to which we can pass the training and validation loaders and get in return the model itself."
      ]
    },
    {
      "metadata": {
        "id": "vh4JOM349zXo",
        "colab_type": "code",
        "colab": {}
      },
      "cell_type": "code",
      "source": [
        "trn_dl = LanguageModelLoader(np.concatenate(trn_lm), bs, bptt)\n",
        "val_dl = LanguageModelLoader(np.concatenate(val_lm), bs, bptt)\n",
        "md = LanguageModelData(PATH, 1, vs, trn_dl, val_dl, bs=bs, bptt=bptt)"
      ],
      "execution_count": 0,
      "outputs": []
    },
    {
      "metadata": {
        "id": "74JfvQAH-EQa",
        "colab_type": "text"
      },
      "cell_type": "markdown",
      "source": [
        "We setup the dropouts for the model - these values have been chosen after experimentation. If you need to update them for custom LMs, you can change the weighting factor (0.7 here) based on the amount of data you have. For more data, you can reduce dropout factor and for small datasets, you can reduce overfitting by choosing a higher dropout factor. No other dropout value requires tuning"
      ]
    },
    {
      "metadata": {
        "id": "4yWB4mrkE0Xi",
        "colab_type": "code",
        "colab": {}
      },
      "cell_type": "code",
      "source": [
        "drops = np.array([0.25, 0.1, 0.2, 0.02, 0.15])*0.7"
      ],
      "execution_count": 0,
      "outputs": []
    },
    {
      "metadata": {
        "id": "wBba8D7x-Han",
        "colab_type": "text"
      },
      "cell_type": "markdown",
      "source": [
        "We first tune the last embedding layer so that the missing tokens initialized with mean weights get tuned properly. So we freeze everything except the last layer.\n",
        "\n",
        "We also keep track of the accuracy metric."
      ]
    },
    {
      "metadata": {
        "id": "PCW2ssn7E5j7",
        "colab_type": "code",
        "colab": {}
      },
      "cell_type": "code",
      "source": [
        "learner= md.get_model(opt_fn, em_sz, nh, nl, \n",
        "    dropouti=drops[0], dropout=drops[1], wdrop=drops[2], dropoute=drops[3], dropouth=drops[4])\n",
        "\n",
        "learner.metrics = [accuracy]\n",
        "learner.freeze_to(-1)"
      ],
      "execution_count": 0,
      "outputs": []
    },
    {
      "metadata": {
        "id": "Xkqfdr4KE8pS",
        "colab_type": "code",
        "colab": {}
      },
      "cell_type": "code",
      "source": [
        "learner.model.load_state_dict(wgts)"
      ],
      "execution_count": 0,
      "outputs": []
    },
    {
      "metadata": {
        "id": "u5N2atn2-M7n",
        "colab_type": "text"
      },
      "cell_type": "markdown",
      "source": [
        "\n",
        "We set learning rates and fit our IMDB LM. We first run one epoch to tune the last layer which contains the embedding weights. This should help the missing tokens in the wikitext103 learn better weights."
      ]
    },
    {
      "metadata": {
        "id": "jqbcB_XdE-j9",
        "colab_type": "code",
        "colab": {}
      },
      "cell_type": "code",
      "source": [
        "lr=1e-3\n",
        "lrs = lr"
      ],
      "execution_count": 0,
      "outputs": []
    },
    {
      "metadata": {
        "id": "lVgtX8voRcEw",
        "colab_type": "code",
        "colab": {
          "base_uri": "https://localhost:8080/",
          "height": 102
        },
        "outputId": "9911555b-bff4-4659-8ad0-a6d5465ef726"
      },
      "cell_type": "code",
      "source": [
        "learner.fit(lrs/2, 1, wds=wd, use_clr=(32,2), cycle_len=1)"
      ],
      "execution_count": 49,
      "outputs": [
        {
          "output_type": "display_data",
          "data": {
            "application/vnd.jupyter.widget-view+json": {
              "model_id": "ef605feea05c4ebc96f8b210530ed2c6",
              "version_minor": 0,
              "version_major": 2
            },
            "text/plain": [
              "HBox(children=(IntProgress(value=0, description='Epoch', max=1), HTML(value='')))"
            ]
          },
          "metadata": {
            "tags": []
          }
        },
        {
          "output_type": "stream",
          "text": [
            "epoch      trn_loss   val_loss   accuracy   \n",
            "    0      5.234451   4.881458   0.258342  \n",
            "\n"
          ],
          "name": "stdout"
        },
        {
          "output_type": "execute_result",
          "data": {
            "text/plain": [
              "[array([4.88146]), 0.25834173690681617]"
            ]
          },
          "metadata": {
            "tags": []
          },
          "execution_count": 49
        }
      ]
    },
    {
      "metadata": {
        "id": "pVZ7SQMF-UZ2",
        "colab_type": "text"
      },
      "cell_type": "markdown",
      "source": [
        "Note that we print out accuracy and keep track of how often we end up predicting the target word correctly. While this is a good metric to check, it is not part of our loss function as it can get quite bumpy. We only minimize cross-entropy loss in the LM.\n",
        "\n",
        "The exponent of the cross-entropy loss is called the perplexity of the LM. (low perplexity is better)."
      ]
    },
    {
      "metadata": {
        "id": "AjBRpeBgbGJT",
        "colab_type": "code",
        "colab": {}
      },
      "cell_type": "code",
      "source": [
        "learner.save('lm_last_ft')"
      ],
      "execution_count": 0,
      "outputs": []
    },
    {
      "metadata": {
        "id": "4M4pHVhQ7iVy",
        "colab_type": "code",
        "colab": {}
      },
      "cell_type": "code",
      "source": [
        "learner.load('lm_last_ft')"
      ],
      "execution_count": 0,
      "outputs": []
    },
    {
      "metadata": {
        "id": "lrCV-Pdx7j3A",
        "colab_type": "code",
        "colab": {}
      },
      "cell_type": "code",
      "source": [
        "learner.unfreeze()"
      ],
      "execution_count": 0,
      "outputs": []
    },
    {
      "metadata": {
        "id": "-rpHWZJ87pKk",
        "colab_type": "code",
        "colab": {
          "base_uri": "https://localhost:8080/",
          "height": 85
        },
        "outputId": "18c6d4bf-d90c-4b95-b829-e4ce49f57842"
      },
      "cell_type": "code",
      "source": [
        "learner.lr_find(start_lr=lrs/10, end_lr=lrs*10, linear=True)"
      ],
      "execution_count": 53,
      "outputs": [
        {
          "output_type": "display_data",
          "data": {
            "application/vnd.jupyter.widget-view+json": {
              "model_id": "071eb333f4a54f4a89b80173f05417c5",
              "version_minor": 0,
              "version_major": 2
            },
            "text/plain": [
              "HBox(children=(IntProgress(value=0, description='Epoch', max=1), HTML(value='')))"
            ]
          },
          "metadata": {
            "tags": []
          }
        },
        {
          "output_type": "stream",
          "text": [
            "epoch      trn_loss   val_loss   accuracy   \n",
            "    0      3.82846    4.216038   0.302291  \n",
            "\n"
          ],
          "name": "stdout"
        }
      ]
    },
    {
      "metadata": {
        "id": "AP0z0Rs_7s5c",
        "colab_type": "code",
        "colab": {
          "base_uri": "https://localhost:8080/",
          "height": 365
        },
        "outputId": "11ee0be8-9d6d-40ee-8ef8-c900cd2a6853"
      },
      "cell_type": "code",
      "source": [
        "learner.sched.plot()"
      ],
      "execution_count": 54,
      "outputs": [
        {
          "output_type": "display_data",
          "data": {
            "image/png": "[encoded data removed]",
            "text/plain": [
              "<matplotlib.figure.Figure at 0x7f7293b84e10>"
            ]
          },
          "metadata": {
            "tags": []
          }
        }
      ]
    },
    {
      "metadata": {
        "id": "5lWAizAO-_L1",
        "colab_type": "code",
        "colab": {
          "base_uri": "https://localhost:8080/",
          "height": 340
        },
        "outputId": "d9418df5-ab96-4fdd-f87b-14f926a0185d"
      },
      "cell_type": "code",
      "source": [
        "learner.fit(lrs, 1, wds=wd, use_clr=(20,10), cycle_len=15)"
      ],
      "execution_count": 55,
      "outputs": [
        {
          "output_type": "display_data",
          "data": {
            "application/vnd.jupyter.widget-view+json": {
              "model_id": "1f7b173fc5f7464ba0b3b0f79e9b0c03",
              "version_minor": 0,
              "version_major": 2
            },
            "text/plain": [
              "HBox(children=(IntProgress(value=0, description='Epoch', max=15), HTML(value='')))"
            ]
          },
          "metadata": {
            "tags": []
          }
        },
        {
          "output_type": "stream",
          "text": [
            "epoch      trn_loss   val_loss   accuracy   \n",
            "    0      3.987739   3.927304   0.323248  \n",
            " 91%|█████████ | 465/513 [03:43<00:23,  2.08it/s, loss=3.63]"
          ],
          "name": "stdout"
        },
        {
          "output_type": "stream",
          "text": [
            "    1      3.534939   3.789653   0.338761  \n",
            "    2      3.273458   3.724744   0.347093  \n",
            " 57%|█████▋    | 294/513 [02:24<01:47,  2.03it/s, loss=3.15]"
          ],
          "name": "stdout"
        },
        {
          "output_type": "stream",
          "text": [
            "    3      3.114349   3.70565    0.349744  \n",
            "    4      2.953759   3.714017   0.350765  \n",
            " 44%|████▍     | 226/513 [01:49<02:19,  2.06it/s, loss=2.88]"
          ],
          "name": "stdout"
        },
        {
          "output_type": "stream",
          "text": [
            "    5      2.847605   3.727183   0.350746  \n",
            "    6      2.752987   3.746918   0.351676  \n",
            " 38%|███▊      | 197/513 [01:35<02:33,  2.06it/s, loss=2.69]"
          ],
          "name": "stdout"
        },
        {
          "output_type": "stream",
          "text": [
            "    7      2.65797    3.760386   0.350953  \n",
            "    8      2.657912   3.742609   0.350181  \n",
            " 36%|███▋      | 186/513 [01:32<02:42,  2.01it/s, loss=2.55]"
          ],
          "name": "stdout"
        },
        {
          "output_type": "stream",
          "text": [
            "    9      2.524598   3.783914   0.352039  \n",
            "    10     2.484835   3.802349   0.351602  \n",
            " 35%|███▌      | 182/513 [01:29<02:42,  2.04it/s, loss=2.44]"
          ],
          "name": "stdout"
        },
        {
          "output_type": "stream",
          "text": [
            "    11     2.536594   3.773056   0.351746  \n",
            "    12     2.453032   3.802576   0.35141   \n",
            " 35%|███▌      | 180/513 [01:28<02:43,  2.04it/s, loss=2.37]"
          ],
          "name": "stdout"
        },
        {
          "output_type": "stream",
          "text": [
            "    13     2.388077   3.830738   0.35125   \n",
            "    14     2.41046    3.832655   0.35119   \n",
            "\n"
          ],
          "name": "stdout"
        },
        {
          "output_type": "execute_result",
          "data": {
            "text/plain": [
              "[array([3.83265]), 0.35118972516256913]"
            ]
          },
          "metadata": {
            "tags": []
          },
          "execution_count": 55
        }
      ]
    },
    {
      "metadata": {
        "id": "wrwUdjwi-jEh",
        "colab_type": "text"
      },
      "cell_type": "markdown",
      "source": [
        "We save the trained model weights and separately save the encoder part of the LM model as well. This will serve as our backbone in the classification task model."
      ]
    },
    {
      "metadata": {
        "id": "h5ISFx8Y_DPw",
        "colab_type": "code",
        "colab": {}
      },
      "cell_type": "code",
      "source": [
        "learner.save('lm5')"
      ],
      "execution_count": 0,
      "outputs": []
    },
    {
      "metadata": {
        "id": "TpxIA3XG_Evh",
        "colab_type": "code",
        "colab": {}
      },
      "cell_type": "code",
      "source": [
        "learner.save_encoder('lm5_enc')"
      ],
      "execution_count": 0,
      "outputs": []
    },
    {
      "metadata": {
        "id": "kNFlbpkP_GFp",
        "colab_type": "code",
        "colab": {
          "base_uri": "https://localhost:8080/",
          "height": 347
        },
        "outputId": "1d169efd-fe5e-4a8f-d9fd-afa3c1bab2d9"
      },
      "cell_type": "code",
      "source": [
        "learner.sched.plot_loss()"
      ],
      "execution_count": 58,
      "outputs": [
        {
          "output_type": "display_data",
          "data": {
            "image/png": "[encoded data removed]",
            "text/plain": [
              "<matplotlib.figure.Figure at 0x7f72950dff28>"
            ]
          },
          "metadata": {
            "tags": []
          }
        }
      ]
    },
    {
      "metadata": {
        "id": "iiXGY8-Ie2KS",
        "colab_type": "text"
      },
      "cell_type": "markdown",
      "source": [
        "# Classifier Token\n",
        "The classifier model is basically a linear layer custom head on top of the LM backbone. Setting up the classifier data is similar to the LM data setup except that we cannot use the unsup movie reviews this time."
      ]
    },
    {
      "metadata": {
        "id": "PLGGS7-l_97_",
        "colab_type": "code",
        "colab": {}
      },
      "cell_type": "code",
      "source": [
        "df_trn = pd.read_csv(CLAS_PATH/'train.csv', header=None, chunksize=chunksize)\n",
        "df_val = pd.read_csv(CLAS_PATH/'test.csv', header=None, chunksize=chunksize)"
      ],
      "execution_count": 0,
      "outputs": []
    },
    {
      "metadata": {
        "id": "_tRMWHRR-xue",
        "colab_type": "code",
        "colab": {
          "base_uri": "https://localhost:8080/",
          "height": 51
        },
        "outputId": "edc8d844-05c7-4dd5-c665-d01cce5b15e9"
      },
      "cell_type": "code",
      "source": [
        "tok_trn, trn_labels = get_all(df_trn, 1)\n",
        "tok_val, val_labels = get_all(df_val, 1)"
      ],
      "execution_count": 60,
      "outputs": [
        {
          "output_type": "stream",
          "text": [
            "0\n",
            "0\n"
          ],
          "name": "stdout"
        }
      ]
    },
    {
      "metadata": {
        "id": "YQ3KT2FQ_6YP",
        "colab_type": "code",
        "colab": {}
      },
      "cell_type": "code",
      "source": [
        "(CLAS_PATH/'tmp').mkdir(exist_ok=True)\n",
        "\n",
        "np.save(CLAS_PATH/'tmp'/'tok_trn.npy', tok_trn)\n",
        "np.save(CLAS_PATH/'tmp'/'tok_val.npy', tok_val)\n",
        "\n",
        "np.save(CLAS_PATH/'tmp'/'trn_labels.npy', trn_labels)\n",
        "np.save(CLAS_PATH/'tmp'/'val_labels.npy', val_labels)"
      ],
      "execution_count": 0,
      "outputs": []
    },
    {
      "metadata": {
        "id": "QduJnETNAB1O",
        "colab_type": "code",
        "colab": {}
      },
      "cell_type": "code",
      "source": [
        "tok_trn = np.load(CLAS_PATH/'tmp'/'tok_trn.npy')\n",
        "tok_val = np.load(CLAS_PATH/'tmp'/'tok_val.npy')"
      ],
      "execution_count": 0,
      "outputs": []
    },
    {
      "metadata": {
        "id": "jhyWO9n-AD5s",
        "colab_type": "code",
        "colab": {
          "base_uri": "https://localhost:8080/",
          "height": 34
        },
        "outputId": "f004bc8e-8b3b-4928-cb76-03eebc604880"
      },
      "cell_type": "code",
      "source": [
        "itos = pickle.load((LM_PATH/'tmp'/'itos.pkl').open('rb'))\n",
        "stoi = collections.defaultdict(lambda:0, {v:k for k,v in enumerate(itos)})\n",
        "len(itos)"
      ],
      "execution_count": 67,
      "outputs": [
        {
          "output_type": "execute_result",
          "data": {
            "text/plain": [
              "18659"
            ]
          },
          "metadata": {
            "tags": []
          },
          "execution_count": 67
        }
      ]
    },
    {
      "metadata": {
        "id": "c0SqqKi3AFp5",
        "colab_type": "code",
        "colab": {}
      },
      "cell_type": "code",
      "source": [
        "trn_clas = np.array([[stoi[o] for o in p] for p in tok_trn])\n",
        "val_clas = np.array([[stoi[o] for o in p] for p in tok_val])"
      ],
      "execution_count": 0,
      "outputs": []
    },
    {
      "metadata": {
        "id": "3Z3Y1usLAHcG",
        "colab_type": "code",
        "colab": {}
      },
      "cell_type": "code",
      "source": [
        "np.save(CLAS_PATH/'tmp'/'trn_ids.npy', trn_clas)\n",
        "np.save(CLAS_PATH/'tmp'/'val_ids.npy', val_clas)"
      ],
      "execution_count": 0,
      "outputs": []
    },
    {
      "metadata": {
        "id": "ogS3q6RhAJe-",
        "colab_type": "text"
      },
      "cell_type": "markdown",
      "source": [
        "# Classifier\n",
        "Now we can create our final model, a classifier which is really a custom linear head over our trained IMDB backbone. The steps to create the classifier model are similar to the ones for the LM."
      ]
    },
    {
      "metadata": {
        "id": "R6YZoD4CAMpM",
        "colab_type": "code",
        "colab": {}
      },
      "cell_type": "code",
      "source": [
        "trn_clas = np.load(CLAS_PATH/'tmp'/'trn_ids.npy')\n",
        "val_clas = np.load(CLAS_PATH/'tmp'/'val_ids.npy')"
      ],
      "execution_count": 0,
      "outputs": []
    },
    {
      "metadata": {
        "id": "1jIRoSG1APdO",
        "colab_type": "code",
        "colab": {}
      },
      "cell_type": "code",
      "source": [
        "trn_labels = np.squeeze(np.load(CLAS_PATH/'tmp'/'trn_labels.npy'))\n",
        "val_labels = np.squeeze(np.load(CLAS_PATH/'tmp'/'val_labels.npy'))"
      ],
      "execution_count": 0,
      "outputs": []
    },
    {
      "metadata": {
        "id": "lgKUi7LhAQ7y",
        "colab_type": "code",
        "colab": {}
      },
      "cell_type": "code",
      "source": [
        "bptt,em_sz,nh,nl = 70,400,1150,3\n",
        "vs = len(itos)\n",
        "opt_fn = partial(optim.Adam, betas=(0.8, 0.99))\n",
        "bs = 48"
      ],
      "execution_count": 0,
      "outputs": []
    },
    {
      "metadata": {
        "id": "4-_auW71AaP3",
        "colab_type": "code",
        "colab": {}
      },
      "cell_type": "code",
      "source": [
        "min_lbl = trn_labels.min()\n",
        "trn_labels -= min_lbl\n",
        "val_labels -= min_lbl\n",
        "c=int(trn_labels.max())+1"
      ],
      "execution_count": 0,
      "outputs": []
    },
    {
      "metadata": {
        "id": "GbXm352tAgmO",
        "colab_type": "text"
      },
      "cell_type": "markdown",
      "source": [
        "In the classifier, unlike LM, we need to read a movie review at a time and learn to predict the it's sentiment as pos/neg. We do not deal with equal bptt size batches, so we have to pad the sequences to the same length in each batch. To create batches of similar sized movie reviews, we use a sortish sampler method invented by @Smerity and @jekbradbury\n",
        "\n",
        "The sortishSampler cuts down the overall number of padding tokens the classifier ends up seeing."
      ]
    },
    {
      "metadata": {
        "id": "IpAj1yeUAcHe",
        "colab_type": "code",
        "colab": {}
      },
      "cell_type": "code",
      "source": [
        "trn_ds = TextDataset(trn_clas, trn_labels)\n",
        "val_ds = TextDataset(val_clas, val_labels)\n",
        "trn_samp = SortishSampler(trn_clas, key=lambda x: len(trn_clas[x]), bs=bs//2)\n",
        "val_samp = SortSampler(val_clas, key=lambda x: len(val_clas[x]))\n",
        "trn_dl = DataLoader(trn_ds, bs//2, transpose=True, num_workers=1, pad_idx=1, sampler=trn_samp)\n",
        "val_dl = DataLoader(val_ds, bs, transpose=True, num_workers=1, pad_idx=1, sampler=val_samp)\n",
        "md = ModelData(PATH, trn_dl, val_dl)"
      ],
      "execution_count": 0,
      "outputs": []
    },
    {
      "metadata": {
        "id": "XTFfGc2_Ai7I",
        "colab_type": "code",
        "colab": {}
      },
      "cell_type": "code",
      "source": [
        "dps = np.array([0.4,0.5,0.05,0.3,0.4])*0.5"
      ],
      "execution_count": 0,
      "outputs": []
    },
    {
      "metadata": {
        "id": "8G6gVY3xAkrN",
        "colab_type": "code",
        "colab": {}
      },
      "cell_type": "code",
      "source": [
        "m = get_rnn_classifier(bptt, 20*70, c, vs, emb_sz=em_sz, n_hid=nh, n_layers=nl, pad_token=1,\n",
        "          layers=[em_sz*3, 50, c], drops=[dps[4], 0.1],\n",
        "          dropouti=dps[0], wdrop=dps[1], dropoute=dps[2], dropouth=dps[3])"
      ],
      "execution_count": 0,
      "outputs": []
    },
    {
      "metadata": {
        "id": "xYpH08s9Anaf",
        "colab_type": "code",
        "colab": {}
      },
      "cell_type": "code",
      "source": [
        "opt_fn = partial(optim.Adam, betas=(0.7, 0.99))"
      ],
      "execution_count": 0,
      "outputs": []
    },
    {
      "metadata": {
        "id": "fgJn4nobAp9e",
        "colab_type": "code",
        "colab": {}
      },
      "cell_type": "code",
      "source": [
        "learn = RNN_Learner(md, TextModel(to_gpu(m)), opt_fn=opt_fn)\n",
        "learn.reg_fn = partial(seq2seq_reg, alpha=2, beta=1)\n",
        "learn.clip=25.\n",
        "learn.metrics = [accuracy]"
      ],
      "execution_count": 0,
      "outputs": []
    },
    {
      "metadata": {
        "id": "iqohS_C8AsDG",
        "colab_type": "code",
        "colab": {}
      },
      "cell_type": "code",
      "source": [
        "lr=3e-3\n",
        "lrm = 2.6\n",
        "lrs = np.array([lr/(lrm**4), lr/(lrm**3), lr/(lrm**2), lr/lrm, lr])"
      ],
      "execution_count": 0,
      "outputs": []
    },
    {
      "metadata": {
        "id": "d2TA6GjZAwsJ",
        "colab_type": "code",
        "colab": {}
      },
      "cell_type": "code",
      "source": [
        "lrs=np.array([1e-4,1e-4,1e-4,1e-3,1e-2])"
      ],
      "execution_count": 0,
      "outputs": []
    },
    {
      "metadata": {
        "id": "ibdmMM5xAy8s",
        "colab_type": "code",
        "colab": {}
      },
      "cell_type": "code",
      "source": [
        "wd = 1e-7\n",
        "wd = 0\n",
        "learn.load_encoder('lm5_enc')"
      ],
      "execution_count": 0,
      "outputs": []
    },
    {
      "metadata": {
        "id": "s0UaLFsGA0lp",
        "colab_type": "code",
        "colab": {}
      },
      "cell_type": "code",
      "source": [
        "learn.freeze_to(-1)"
      ],
      "execution_count": 0,
      "outputs": []
    },
    {
      "metadata": {
        "id": "FqQd14LwA6Hu",
        "colab_type": "code",
        "colab": {
          "base_uri": "https://localhost:8080/",
          "height": 1781
        },
        "outputId": "6cc7e5c1-cdf0-4921-d242-12732697f9af"
      },
      "cell_type": "code",
      "source": [
        "learn.lr_find(lrs/1000)\n",
        "learn.sched.plot()"
      ],
      "execution_count": 83,
      "outputs": [
        {
          "output_type": "display_data",
          "data": {
            "application/vnd.jupyter.widget-view+json": {
              "model_id": "c6d3d56471be468eb57f0c4652d064a6",
              "version_minor": 0,
              "version_major": 2
            },
            "text/plain": [
              "HBox(children=(IntProgress(value=0, description='Epoch', max=1), HTML(value='')))"
            ]
          },
          "metadata": {
            "tags": []
          }
        },
        {
          "output_type": "stream",
          "text": [
            " 80%|████████  | 4/5 [06:03<01:30, 90.97s/it, loss=2.38] "
          ],
          "name": "stdout"
        },
        {
          "output_type": "error",
          "ename": "ValueError",
          "evalue": "ignored",
          "traceback": [
            "\u001b[0;31m---------------------------------------------------------------------------\u001b[0m",
            "\u001b[0;31mValueError\u001b[0m                                Traceback (most recent call last)",
            "\u001b[0;32m<ipython-input-83-9b045eb09223>\u001b[0m in \u001b[0;36m<module>\u001b[0;34m()\u001b[0m\n\u001b[0;32m----> 1\u001b[0;31m \u001b[0mlearn\u001b[0m\u001b[0;34m.\u001b[0m\u001b[0mlr_find\u001b[0m\u001b[0;34m(\u001b[0m\u001b[0mlrs\u001b[0m\u001b[0;34m/\u001b[0m\u001b[0;36m1000\u001b[0m\u001b[0;34m)\u001b[0m\u001b[0;34m\u001b[0m\u001b[0m\n\u001b[0m\u001b[1;32m      2\u001b[0m \u001b[0mlearn\u001b[0m\u001b[0;34m.\u001b[0m\u001b[0msched\u001b[0m\u001b[0;34m.\u001b[0m\u001b[0mplot\u001b[0m\u001b[0;34m(\u001b[0m\u001b[0;34m)\u001b[0m\u001b[0;34m\u001b[0m\u001b[0m\n",
            "\u001b[0;32m/usr/local/lib/python3.6/dist-packages/fastai/learner.py\u001b[0m in \u001b[0;36mlr_find\u001b[0;34m(self, start_lr, end_lr, wds, linear, **kwargs)\u001b[0m\n\u001b[1;32m    328\u001b[0m         \u001b[0mlayer_opt\u001b[0m \u001b[0;34m=\u001b[0m \u001b[0mself\u001b[0m\u001b[0;34m.\u001b[0m\u001b[0mget_layer_opt\u001b[0m\u001b[0;34m(\u001b[0m\u001b[0mstart_lr\u001b[0m\u001b[0;34m,\u001b[0m \u001b[0mwds\u001b[0m\u001b[0;34m)\u001b[0m\u001b[0;34m\u001b[0m\u001b[0m\n\u001b[1;32m    329\u001b[0m         \u001b[0mself\u001b[0m\u001b[0;34m.\u001b[0m\u001b[0msched\u001b[0m \u001b[0;34m=\u001b[0m \u001b[0mLR_Finder\u001b[0m\u001b[0;34m(\u001b[0m\u001b[0mlayer_opt\u001b[0m\u001b[0;34m,\u001b[0m \u001b[0mlen\u001b[0m\u001b[0;34m(\u001b[0m\u001b[0mself\u001b[0m\u001b[0;34m.\u001b[0m\u001b[0mdata\u001b[0m\u001b[0;34m.\u001b[0m\u001b[0mtrn_dl\u001b[0m\u001b[0;34m)\u001b[0m\u001b[0;34m,\u001b[0m \u001b[0mend_lr\u001b[0m\u001b[0;34m,\u001b[0m \u001b[0mlinear\u001b[0m\u001b[0;34m=\u001b[0m\u001b[0mlinear\u001b[0m\u001b[0;34m)\u001b[0m\u001b[0;34m\u001b[0m\u001b[0m\n\u001b[0;32m--> 330\u001b[0;31m         \u001b[0mself\u001b[0m\u001b[0;34m.\u001b[0m\u001b[0mfit_gen\u001b[0m\u001b[0;34m(\u001b[0m\u001b[0mself\u001b[0m\u001b[0;34m.\u001b[0m\u001b[0mmodel\u001b[0m\u001b[0;34m,\u001b[0m \u001b[0mself\u001b[0m\u001b[0;34m.\u001b[0m\u001b[0mdata\u001b[0m\u001b[0;34m,\u001b[0m \u001b[0mlayer_opt\u001b[0m\u001b[0;34m,\u001b[0m \u001b[0;36m1\u001b[0m\u001b[0;34m,\u001b[0m \u001b[0;34m**\u001b[0m\u001b[0mkwargs\u001b[0m\u001b[0;34m)\u001b[0m\u001b[0;34m\u001b[0m\u001b[0m\n\u001b[0m\u001b[1;32m    331\u001b[0m         \u001b[0mself\u001b[0m\u001b[0;34m.\u001b[0m\u001b[0mload\u001b[0m\u001b[0;34m(\u001b[0m\u001b[0;34m'tmp'\u001b[0m\u001b[0;34m)\u001b[0m\u001b[0;34m\u001b[0m\u001b[0m\n\u001b[1;32m    332\u001b[0m \u001b[0;34m\u001b[0m\u001b[0m\n",
            "\u001b[0;32m/usr/local/lib/python3.6/dist-packages/fastai/learner.py\u001b[0m in \u001b[0;36mfit_gen\u001b[0;34m(self, model, data, layer_opt, n_cycle, cycle_len, cycle_mult, cycle_save_name, best_save_name, use_clr, use_clr_beta, metrics, callbacks, use_wd_sched, norm_wds, wds_sched_mult, use_swa, swa_start, swa_eval_freq, **kwargs)\u001b[0m\n\u001b[1;32m    232\u001b[0m             \u001b[0mmetrics\u001b[0m\u001b[0;34m=\u001b[0m\u001b[0mmetrics\u001b[0m\u001b[0;34m,\u001b[0m \u001b[0mcallbacks\u001b[0m\u001b[0;34m=\u001b[0m\u001b[0mcallbacks\u001b[0m\u001b[0;34m,\u001b[0m \u001b[0mreg_fn\u001b[0m\u001b[0;34m=\u001b[0m\u001b[0mself\u001b[0m\u001b[0;34m.\u001b[0m\u001b[0mreg_fn\u001b[0m\u001b[0;34m,\u001b[0m \u001b[0mclip\u001b[0m\u001b[0;34m=\u001b[0m\u001b[0mself\u001b[0m\u001b[0;34m.\u001b[0m\u001b[0mclip\u001b[0m\u001b[0;34m,\u001b[0m \u001b[0mfp16\u001b[0m\u001b[0;34m=\u001b[0m\u001b[0mself\u001b[0m\u001b[0;34m.\u001b[0m\u001b[0mfp16\u001b[0m\u001b[0;34m,\u001b[0m\u001b[0;34m\u001b[0m\u001b[0m\n\u001b[1;32m    233\u001b[0m             \u001b[0mswa_model\u001b[0m\u001b[0;34m=\u001b[0m\u001b[0mself\u001b[0m\u001b[0;34m.\u001b[0m\u001b[0mswa_model\u001b[0m \u001b[0;32mif\u001b[0m \u001b[0muse_swa\u001b[0m \u001b[0;32melse\u001b[0m \u001b[0;32mNone\u001b[0m\u001b[0;34m,\u001b[0m \u001b[0mswa_start\u001b[0m\u001b[0;34m=\u001b[0m\u001b[0mswa_start\u001b[0m\u001b[0;34m,\u001b[0m\u001b[0;34m\u001b[0m\u001b[0m\n\u001b[0;32m--> 234\u001b[0;31m             swa_eval_freq=swa_eval_freq, **kwargs)\n\u001b[0m\u001b[1;32m    235\u001b[0m \u001b[0;34m\u001b[0m\u001b[0m\n\u001b[1;32m    236\u001b[0m     \u001b[0;32mdef\u001b[0m \u001b[0mget_layer_groups\u001b[0m\u001b[0;34m(\u001b[0m\u001b[0mself\u001b[0m\u001b[0;34m)\u001b[0m\u001b[0;34m:\u001b[0m \u001b[0;32mreturn\u001b[0m \u001b[0mself\u001b[0m\u001b[0;34m.\u001b[0m\u001b[0mmodels\u001b[0m\u001b[0;34m.\u001b[0m\u001b[0mget_layer_groups\u001b[0m\u001b[0;34m(\u001b[0m\u001b[0;34m)\u001b[0m\u001b[0;34m\u001b[0m\u001b[0m\n",
            "\u001b[0;32m/usr/local/lib/python3.6/dist-packages/fastai/model.py\u001b[0m in \u001b[0;36mfit\u001b[0;34m(model, data, n_epochs, opt, crit, metrics, callbacks, stepper, swa_model, swa_start, swa_eval_freq, **kwargs)\u001b[0m\n\u001b[1;32m    138\u001b[0m             \u001b[0mbatch_num\u001b[0m \u001b[0;34m+=\u001b[0m \u001b[0;36m1\u001b[0m\u001b[0;34m\u001b[0m\u001b[0m\n\u001b[1;32m    139\u001b[0m             \u001b[0;32mfor\u001b[0m \u001b[0mcb\u001b[0m \u001b[0;32min\u001b[0m \u001b[0mcallbacks\u001b[0m\u001b[0;34m:\u001b[0m \u001b[0mcb\u001b[0m\u001b[0;34m.\u001b[0m\u001b[0mon_batch_begin\u001b[0m\u001b[0;34m(\u001b[0m\u001b[0;34m)\u001b[0m\u001b[0;34m\u001b[0m\u001b[0m\n\u001b[0;32m--> 140\u001b[0;31m             \u001b[0mloss\u001b[0m \u001b[0;34m=\u001b[0m \u001b[0mmodel_stepper\u001b[0m\u001b[0;34m.\u001b[0m\u001b[0mstep\u001b[0m\u001b[0;34m(\u001b[0m\u001b[0mV\u001b[0m\u001b[0;34m(\u001b[0m\u001b[0mx\u001b[0m\u001b[0;34m)\u001b[0m\u001b[0;34m,\u001b[0m\u001b[0mV\u001b[0m\u001b[0;34m(\u001b[0m\u001b[0my\u001b[0m\u001b[0;34m)\u001b[0m\u001b[0;34m,\u001b[0m \u001b[0mepoch\u001b[0m\u001b[0;34m)\u001b[0m\u001b[0;34m\u001b[0m\u001b[0m\n\u001b[0m\u001b[1;32m    141\u001b[0m             \u001b[0mavg_loss\u001b[0m \u001b[0;34m=\u001b[0m \u001b[0mavg_loss\u001b[0m \u001b[0;34m*\u001b[0m \u001b[0mavg_mom\u001b[0m \u001b[0;34m+\u001b[0m \u001b[0mloss\u001b[0m \u001b[0;34m*\u001b[0m \u001b[0;34m(\u001b[0m\u001b[0;36m1\u001b[0m\u001b[0;34m-\u001b[0m\u001b[0mavg_mom\u001b[0m\u001b[0;34m)\u001b[0m\u001b[0;34m\u001b[0m\u001b[0m\n\u001b[1;32m    142\u001b[0m             \u001b[0mdebias_loss\u001b[0m \u001b[0;34m=\u001b[0m \u001b[0mavg_loss\u001b[0m \u001b[0;34m/\u001b[0m \u001b[0;34m(\u001b[0m\u001b[0;36m1\u001b[0m \u001b[0;34m-\u001b[0m \u001b[0mavg_mom\u001b[0m\u001b[0;34m**\u001b[0m\u001b[0mbatch_num\u001b[0m\u001b[0;34m)\u001b[0m\u001b[0;34m\u001b[0m\u001b[0m\n",
            "\u001b[0;32m/usr/local/lib/python3.6/dist-packages/fastai/model.py\u001b[0m in \u001b[0;36mstep\u001b[0;34m(self, xs, y, epoch)\u001b[0m\n\u001b[1;32m     48\u001b[0m     \u001b[0;32mdef\u001b[0m \u001b[0mstep\u001b[0m\u001b[0;34m(\u001b[0m\u001b[0mself\u001b[0m\u001b[0;34m,\u001b[0m \u001b[0mxs\u001b[0m\u001b[0;34m,\u001b[0m \u001b[0my\u001b[0m\u001b[0;34m,\u001b[0m \u001b[0mepoch\u001b[0m\u001b[0;34m)\u001b[0m\u001b[0;34m:\u001b[0m\u001b[0;34m\u001b[0m\u001b[0m\n\u001b[1;32m     49\u001b[0m         \u001b[0mxtra\u001b[0m \u001b[0;34m=\u001b[0m \u001b[0;34m[\u001b[0m\u001b[0;34m]\u001b[0m\u001b[0;34m\u001b[0m\u001b[0m\n\u001b[0;32m---> 50\u001b[0;31m         \u001b[0moutput\u001b[0m \u001b[0;34m=\u001b[0m \u001b[0mself\u001b[0m\u001b[0;34m.\u001b[0m\u001b[0mm\u001b[0m\u001b[0;34m(\u001b[0m\u001b[0;34m*\u001b[0m\u001b[0mxs\u001b[0m\u001b[0;34m)\u001b[0m\u001b[0;34m\u001b[0m\u001b[0m\n\u001b[0m\u001b[1;32m     51\u001b[0m         \u001b[0;32mif\u001b[0m \u001b[0misinstance\u001b[0m\u001b[0;34m(\u001b[0m\u001b[0moutput\u001b[0m\u001b[0;34m,\u001b[0m\u001b[0mtuple\u001b[0m\u001b[0;34m)\u001b[0m\u001b[0;34m:\u001b[0m \u001b[0moutput\u001b[0m\u001b[0;34m,\u001b[0m\u001b[0;34m*\u001b[0m\u001b[0mxtra\u001b[0m \u001b[0;34m=\u001b[0m \u001b[0moutput\u001b[0m\u001b[0;34m\u001b[0m\u001b[0m\n\u001b[1;32m     52\u001b[0m         \u001b[0;32mif\u001b[0m \u001b[0mself\u001b[0m\u001b[0;34m.\u001b[0m\u001b[0mfp16\u001b[0m\u001b[0;34m:\u001b[0m \u001b[0mself\u001b[0m\u001b[0;34m.\u001b[0m\u001b[0mm\u001b[0m\u001b[0;34m.\u001b[0m\u001b[0mzero_grad\u001b[0m\u001b[0;34m(\u001b[0m\u001b[0;34m)\u001b[0m\u001b[0;34m\u001b[0m\u001b[0m\n",
            "\u001b[0;32m/usr/local/lib/python3.6/dist-packages/torch/nn/modules/module.py\u001b[0m in \u001b[0;36m__call__\u001b[0;34m(self, *input, **kwargs)\u001b[0m\n\u001b[1;32m    355\u001b[0m             \u001b[0mresult\u001b[0m \u001b[0;34m=\u001b[0m \u001b[0mself\u001b[0m\u001b[0;34m.\u001b[0m\u001b[0m_slow_forward\u001b[0m\u001b[0;34m(\u001b[0m\u001b[0;34m*\u001b[0m\u001b[0minput\u001b[0m\u001b[0;34m,\u001b[0m \u001b[0;34m**\u001b[0m\u001b[0mkwargs\u001b[0m\u001b[0;34m)\u001b[0m\u001b[0;34m\u001b[0m\u001b[0m\n\u001b[1;32m    356\u001b[0m         \u001b[0;32melse\u001b[0m\u001b[0;34m:\u001b[0m\u001b[0;34m\u001b[0m\u001b[0m\n\u001b[0;32m--> 357\u001b[0;31m             \u001b[0mresult\u001b[0m \u001b[0;34m=\u001b[0m \u001b[0mself\u001b[0m\u001b[0;34m.\u001b[0m\u001b[0mforward\u001b[0m\u001b[0;34m(\u001b[0m\u001b[0;34m*\u001b[0m\u001b[0minput\u001b[0m\u001b[0;34m,\u001b[0m \u001b[0;34m**\u001b[0m\u001b[0mkwargs\u001b[0m\u001b[0;34m)\u001b[0m\u001b[0;34m\u001b[0m\u001b[0m\n\u001b[0m\u001b[1;32m    358\u001b[0m         \u001b[0;32mfor\u001b[0m \u001b[0mhook\u001b[0m \u001b[0;32min\u001b[0m \u001b[0mself\u001b[0m\u001b[0;34m.\u001b[0m\u001b[0m_forward_hooks\u001b[0m\u001b[0;34m.\u001b[0m\u001b[0mvalues\u001b[0m\u001b[0;34m(\u001b[0m\u001b[0;34m)\u001b[0m\u001b[0;34m:\u001b[0m\u001b[0;34m\u001b[0m\u001b[0m\n\u001b[1;32m    359\u001b[0m             \u001b[0mhook_result\u001b[0m \u001b[0;34m=\u001b[0m \u001b[0mhook\u001b[0m\u001b[0;34m(\u001b[0m\u001b[0mself\u001b[0m\u001b[0;34m,\u001b[0m \u001b[0minput\u001b[0m\u001b[0;34m,\u001b[0m \u001b[0mresult\u001b[0m\u001b[0;34m)\u001b[0m\u001b[0;34m\u001b[0m\u001b[0m\n",
            "\u001b[0;32m/usr/local/lib/python3.6/dist-packages/torch/nn/modules/container.py\u001b[0m in \u001b[0;36mforward\u001b[0;34m(self, input)\u001b[0m\n\u001b[1;32m     65\u001b[0m     \u001b[0;32mdef\u001b[0m \u001b[0mforward\u001b[0m\u001b[0;34m(\u001b[0m\u001b[0mself\u001b[0m\u001b[0;34m,\u001b[0m \u001b[0minput\u001b[0m\u001b[0;34m)\u001b[0m\u001b[0;34m:\u001b[0m\u001b[0;34m\u001b[0m\u001b[0m\n\u001b[1;32m     66\u001b[0m         \u001b[0;32mfor\u001b[0m \u001b[0mmodule\u001b[0m \u001b[0;32min\u001b[0m \u001b[0mself\u001b[0m\u001b[0;34m.\u001b[0m\u001b[0m_modules\u001b[0m\u001b[0;34m.\u001b[0m\u001b[0mvalues\u001b[0m\u001b[0;34m(\u001b[0m\u001b[0;34m)\u001b[0m\u001b[0;34m:\u001b[0m\u001b[0;34m\u001b[0m\u001b[0m\n\u001b[0;32m---> 67\u001b[0;31m             \u001b[0minput\u001b[0m \u001b[0;34m=\u001b[0m \u001b[0mmodule\u001b[0m\u001b[0;34m(\u001b[0m\u001b[0minput\u001b[0m\u001b[0;34m)\u001b[0m\u001b[0;34m\u001b[0m\u001b[0m\n\u001b[0m\u001b[1;32m     68\u001b[0m         \u001b[0;32mreturn\u001b[0m \u001b[0minput\u001b[0m\u001b[0;34m\u001b[0m\u001b[0m\n\u001b[1;32m     69\u001b[0m \u001b[0;34m\u001b[0m\u001b[0m\n",
            "\u001b[0;32m/usr/local/lib/python3.6/dist-packages/torch/nn/modules/module.py\u001b[0m in \u001b[0;36m__call__\u001b[0;34m(self, *input, **kwargs)\u001b[0m\n\u001b[1;32m    355\u001b[0m             \u001b[0mresult\u001b[0m \u001b[0;34m=\u001b[0m \u001b[0mself\u001b[0m\u001b[0;34m.\u001b[0m\u001b[0m_slow_forward\u001b[0m\u001b[0;34m(\u001b[0m\u001b[0;34m*\u001b[0m\u001b[0minput\u001b[0m\u001b[0;34m,\u001b[0m \u001b[0;34m**\u001b[0m\u001b[0mkwargs\u001b[0m\u001b[0;34m)\u001b[0m\u001b[0;34m\u001b[0m\u001b[0m\n\u001b[1;32m    356\u001b[0m         \u001b[0;32melse\u001b[0m\u001b[0;34m:\u001b[0m\u001b[0;34m\u001b[0m\u001b[0m\n\u001b[0;32m--> 357\u001b[0;31m             \u001b[0mresult\u001b[0m \u001b[0;34m=\u001b[0m \u001b[0mself\u001b[0m\u001b[0;34m.\u001b[0m\u001b[0mforward\u001b[0m\u001b[0;34m(\u001b[0m\u001b[0;34m*\u001b[0m\u001b[0minput\u001b[0m\u001b[0;34m,\u001b[0m \u001b[0;34m**\u001b[0m\u001b[0mkwargs\u001b[0m\u001b[0;34m)\u001b[0m\u001b[0;34m\u001b[0m\u001b[0m\n\u001b[0m\u001b[1;32m    358\u001b[0m         \u001b[0;32mfor\u001b[0m \u001b[0mhook\u001b[0m \u001b[0;32min\u001b[0m \u001b[0mself\u001b[0m\u001b[0;34m.\u001b[0m\u001b[0m_forward_hooks\u001b[0m\u001b[0;34m.\u001b[0m\u001b[0mvalues\u001b[0m\u001b[0;34m(\u001b[0m\u001b[0;34m)\u001b[0m\u001b[0;34m:\u001b[0m\u001b[0;34m\u001b[0m\u001b[0m\n\u001b[1;32m    359\u001b[0m             \u001b[0mhook_result\u001b[0m \u001b[0;34m=\u001b[0m \u001b[0mhook\u001b[0m\u001b[0;34m(\u001b[0m\u001b[0mself\u001b[0m\u001b[0;34m,\u001b[0m \u001b[0minput\u001b[0m\u001b[0;34m,\u001b[0m \u001b[0mresult\u001b[0m\u001b[0;34m)\u001b[0m\u001b[0;34m\u001b[0m\u001b[0m\n",
            "\u001b[0;32m/usr/local/lib/python3.6/dist-packages/fastai/lm_rnn.py\u001b[0m in \u001b[0;36mforward\u001b[0;34m(self, input)\u001b[0m\n\u001b[1;32m    190\u001b[0m         \u001b[0mx\u001b[0m \u001b[0;34m=\u001b[0m \u001b[0mtorch\u001b[0m\u001b[0;34m.\u001b[0m\u001b[0mcat\u001b[0m\u001b[0;34m(\u001b[0m\u001b[0;34m[\u001b[0m\u001b[0moutput\u001b[0m\u001b[0;34m[\u001b[0m\u001b[0;34m-\u001b[0m\u001b[0;36m1\u001b[0m\u001b[0;34m]\u001b[0m\u001b[0;34m,\u001b[0m \u001b[0mmxpool\u001b[0m\u001b[0;34m,\u001b[0m \u001b[0mavgpool\u001b[0m\u001b[0;34m]\u001b[0m\u001b[0;34m,\u001b[0m \u001b[0;36m1\u001b[0m\u001b[0;34m)\u001b[0m\u001b[0;34m\u001b[0m\u001b[0m\n\u001b[1;32m    191\u001b[0m         \u001b[0;32mfor\u001b[0m \u001b[0ml\u001b[0m \u001b[0;32min\u001b[0m \u001b[0mself\u001b[0m\u001b[0;34m.\u001b[0m\u001b[0mlayers\u001b[0m\u001b[0;34m:\u001b[0m\u001b[0;34m\u001b[0m\u001b[0m\n\u001b[0;32m--> 192\u001b[0;31m             \u001b[0ml_x\u001b[0m \u001b[0;34m=\u001b[0m \u001b[0ml\u001b[0m\u001b[0;34m(\u001b[0m\u001b[0mx\u001b[0m\u001b[0;34m)\u001b[0m\u001b[0;34m\u001b[0m\u001b[0m\n\u001b[0m\u001b[1;32m    193\u001b[0m             \u001b[0mx\u001b[0m \u001b[0;34m=\u001b[0m \u001b[0mF\u001b[0m\u001b[0;34m.\u001b[0m\u001b[0mrelu\u001b[0m\u001b[0;34m(\u001b[0m\u001b[0ml_x\u001b[0m\u001b[0;34m)\u001b[0m\u001b[0;34m\u001b[0m\u001b[0m\n\u001b[1;32m    194\u001b[0m         \u001b[0;32mreturn\u001b[0m \u001b[0ml_x\u001b[0m\u001b[0;34m,\u001b[0m \u001b[0mraw_outputs\u001b[0m\u001b[0;34m,\u001b[0m \u001b[0moutputs\u001b[0m\u001b[0;34m\u001b[0m\u001b[0m\n",
            "\u001b[0;32m/usr/local/lib/python3.6/dist-packages/torch/nn/modules/module.py\u001b[0m in \u001b[0;36m__call__\u001b[0;34m(self, *input, **kwargs)\u001b[0m\n\u001b[1;32m    355\u001b[0m             \u001b[0mresult\u001b[0m \u001b[0;34m=\u001b[0m \u001b[0mself\u001b[0m\u001b[0;34m.\u001b[0m\u001b[0m_slow_forward\u001b[0m\u001b[0;34m(\u001b[0m\u001b[0;34m*\u001b[0m\u001b[0minput\u001b[0m\u001b[0;34m,\u001b[0m \u001b[0;34m**\u001b[0m\u001b[0mkwargs\u001b[0m\u001b[0;34m)\u001b[0m\u001b[0;34m\u001b[0m\u001b[0m\n\u001b[1;32m    356\u001b[0m         \u001b[0;32melse\u001b[0m\u001b[0;34m:\u001b[0m\u001b[0;34m\u001b[0m\u001b[0m\n\u001b[0;32m--> 357\u001b[0;31m             \u001b[0mresult\u001b[0m \u001b[0;34m=\u001b[0m \u001b[0mself\u001b[0m\u001b[0;34m.\u001b[0m\u001b[0mforward\u001b[0m\u001b[0;34m(\u001b[0m\u001b[0;34m*\u001b[0m\u001b[0minput\u001b[0m\u001b[0;34m,\u001b[0m \u001b[0;34m**\u001b[0m\u001b[0mkwargs\u001b[0m\u001b[0;34m)\u001b[0m\u001b[0;34m\u001b[0m\u001b[0m\n\u001b[0m\u001b[1;32m    358\u001b[0m         \u001b[0;32mfor\u001b[0m \u001b[0mhook\u001b[0m \u001b[0;32min\u001b[0m \u001b[0mself\u001b[0m\u001b[0;34m.\u001b[0m\u001b[0m_forward_hooks\u001b[0m\u001b[0;34m.\u001b[0m\u001b[0mvalues\u001b[0m\u001b[0;34m(\u001b[0m\u001b[0;34m)\u001b[0m\u001b[0;34m:\u001b[0m\u001b[0;34m\u001b[0m\u001b[0m\n\u001b[1;32m    359\u001b[0m             \u001b[0mhook_result\u001b[0m \u001b[0;34m=\u001b[0m \u001b[0mhook\u001b[0m\u001b[0;34m(\u001b[0m\u001b[0mself\u001b[0m\u001b[0;34m,\u001b[0m \u001b[0minput\u001b[0m\u001b[0;34m,\u001b[0m \u001b[0mresult\u001b[0m\u001b[0;34m)\u001b[0m\u001b[0;34m\u001b[0m\u001b[0m\n",
            "\u001b[0;32m/usr/local/lib/python3.6/dist-packages/fastai/lm_rnn.py\u001b[0m in \u001b[0;36mforward\u001b[0;34m(self, x)\u001b[0m\n\u001b[1;32m    169\u001b[0m         \u001b[0mself\u001b[0m\u001b[0;34m.\u001b[0m\u001b[0mbn\u001b[0m \u001b[0;34m=\u001b[0m \u001b[0mnn\u001b[0m\u001b[0;34m.\u001b[0m\u001b[0mBatchNorm1d\u001b[0m\u001b[0;34m(\u001b[0m\u001b[0mni\u001b[0m\u001b[0;34m)\u001b[0m\u001b[0;34m\u001b[0m\u001b[0m\n\u001b[1;32m    170\u001b[0m \u001b[0;34m\u001b[0m\u001b[0m\n\u001b[0;32m--> 171\u001b[0;31m     \u001b[0;32mdef\u001b[0m \u001b[0mforward\u001b[0m\u001b[0;34m(\u001b[0m\u001b[0mself\u001b[0m\u001b[0;34m,\u001b[0m \u001b[0mx\u001b[0m\u001b[0;34m)\u001b[0m\u001b[0;34m:\u001b[0m \u001b[0;32mreturn\u001b[0m \u001b[0mself\u001b[0m\u001b[0;34m.\u001b[0m\u001b[0mlin\u001b[0m\u001b[0;34m(\u001b[0m\u001b[0mself\u001b[0m\u001b[0;34m.\u001b[0m\u001b[0mdrop\u001b[0m\u001b[0;34m(\u001b[0m\u001b[0mself\u001b[0m\u001b[0;34m.\u001b[0m\u001b[0mbn\u001b[0m\u001b[0;34m(\u001b[0m\u001b[0mx\u001b[0m\u001b[0;34m)\u001b[0m\u001b[0;34m)\u001b[0m\u001b[0;34m)\u001b[0m\u001b[0;34m\u001b[0m\u001b[0m\n\u001b[0m\u001b[1;32m    172\u001b[0m \u001b[0;34m\u001b[0m\u001b[0m\n\u001b[1;32m    173\u001b[0m \u001b[0;34m\u001b[0m\u001b[0m\n",
            "\u001b[0;32m/usr/local/lib/python3.6/dist-packages/torch/nn/modules/module.py\u001b[0m in \u001b[0;36m__call__\u001b[0;34m(self, *input, **kwargs)\u001b[0m\n\u001b[1;32m    355\u001b[0m             \u001b[0mresult\u001b[0m \u001b[0;34m=\u001b[0m \u001b[0mself\u001b[0m\u001b[0;34m.\u001b[0m\u001b[0m_slow_forward\u001b[0m\u001b[0;34m(\u001b[0m\u001b[0;34m*\u001b[0m\u001b[0minput\u001b[0m\u001b[0;34m,\u001b[0m \u001b[0;34m**\u001b[0m\u001b[0mkwargs\u001b[0m\u001b[0;34m)\u001b[0m\u001b[0;34m\u001b[0m\u001b[0m\n\u001b[1;32m    356\u001b[0m         \u001b[0;32melse\u001b[0m\u001b[0;34m:\u001b[0m\u001b[0;34m\u001b[0m\u001b[0m\n\u001b[0;32m--> 357\u001b[0;31m             \u001b[0mresult\u001b[0m \u001b[0;34m=\u001b[0m \u001b[0mself\u001b[0m\u001b[0;34m.\u001b[0m\u001b[0mforward\u001b[0m\u001b[0;34m(\u001b[0m\u001b[0;34m*\u001b[0m\u001b[0minput\u001b[0m\u001b[0;34m,\u001b[0m \u001b[0;34m**\u001b[0m\u001b[0mkwargs\u001b[0m\u001b[0;34m)\u001b[0m\u001b[0;34m\u001b[0m\u001b[0m\n\u001b[0m\u001b[1;32m    358\u001b[0m         \u001b[0;32mfor\u001b[0m \u001b[0mhook\u001b[0m \u001b[0;32min\u001b[0m \u001b[0mself\u001b[0m\u001b[0;34m.\u001b[0m\u001b[0m_forward_hooks\u001b[0m\u001b[0;34m.\u001b[0m\u001b[0mvalues\u001b[0m\u001b[0;34m(\u001b[0m\u001b[0;34m)\u001b[0m\u001b[0;34m:\u001b[0m\u001b[0;34m\u001b[0m\u001b[0m\n\u001b[1;32m    359\u001b[0m             \u001b[0mhook_result\u001b[0m \u001b[0;34m=\u001b[0m \u001b[0mhook\u001b[0m\u001b[0;34m(\u001b[0m\u001b[0mself\u001b[0m\u001b[0;34m,\u001b[0m \u001b[0minput\u001b[0m\u001b[0;34m,\u001b[0m \u001b[0mresult\u001b[0m\u001b[0;34m)\u001b[0m\u001b[0;34m\u001b[0m\u001b[0m\n",
            "\u001b[0;32m/usr/local/lib/python3.6/dist-packages/torch/nn/modules/batchnorm.py\u001b[0m in \u001b[0;36mforward\u001b[0;34m(self, input)\u001b[0m\n\u001b[1;32m     35\u001b[0m         return F.batch_norm(\n\u001b[1;32m     36\u001b[0m             \u001b[0minput\u001b[0m\u001b[0;34m,\u001b[0m \u001b[0mself\u001b[0m\u001b[0;34m.\u001b[0m\u001b[0mrunning_mean\u001b[0m\u001b[0;34m,\u001b[0m \u001b[0mself\u001b[0m\u001b[0;34m.\u001b[0m\u001b[0mrunning_var\u001b[0m\u001b[0;34m,\u001b[0m \u001b[0mself\u001b[0m\u001b[0;34m.\u001b[0m\u001b[0mweight\u001b[0m\u001b[0;34m,\u001b[0m \u001b[0mself\u001b[0m\u001b[0;34m.\u001b[0m\u001b[0mbias\u001b[0m\u001b[0;34m,\u001b[0m\u001b[0;34m\u001b[0m\u001b[0m\n\u001b[0;32m---> 37\u001b[0;31m             self.training, self.momentum, self.eps)\n\u001b[0m\u001b[1;32m     38\u001b[0m \u001b[0;34m\u001b[0m\u001b[0m\n\u001b[1;32m     39\u001b[0m     \u001b[0;32mdef\u001b[0m \u001b[0m__repr__\u001b[0m\u001b[0;34m(\u001b[0m\u001b[0mself\u001b[0m\u001b[0;34m)\u001b[0m\u001b[0;34m:\u001b[0m\u001b[0;34m\u001b[0m\u001b[0m\n",
            "\u001b[0;32m/usr/local/lib/python3.6/dist-packages/torch/nn/functional.py\u001b[0m in \u001b[0;36mbatch_norm\u001b[0;34m(input, running_mean, running_var, weight, bias, training, momentum, eps)\u001b[0m\n\u001b[1;32m   1009\u001b[0m         \u001b[0msize\u001b[0m \u001b[0;34m=\u001b[0m \u001b[0mlist\u001b[0m\u001b[0;34m(\u001b[0m\u001b[0minput\u001b[0m\u001b[0;34m.\u001b[0m\u001b[0msize\u001b[0m\u001b[0;34m(\u001b[0m\u001b[0;34m)\u001b[0m\u001b[0;34m)\u001b[0m\u001b[0;34m\u001b[0m\u001b[0m\n\u001b[1;32m   1010\u001b[0m         \u001b[0;32mif\u001b[0m \u001b[0mreduce\u001b[0m\u001b[0;34m(\u001b[0m\u001b[0mmul\u001b[0m\u001b[0;34m,\u001b[0m \u001b[0msize\u001b[0m\u001b[0;34m[\u001b[0m\u001b[0;36m2\u001b[0m\u001b[0;34m:\u001b[0m\u001b[0;34m]\u001b[0m\u001b[0;34m,\u001b[0m \u001b[0msize\u001b[0m\u001b[0;34m[\u001b[0m\u001b[0;36m0\u001b[0m\u001b[0;34m]\u001b[0m\u001b[0;34m)\u001b[0m \u001b[0;34m==\u001b[0m \u001b[0;36m1\u001b[0m\u001b[0;34m:\u001b[0m\u001b[0;34m\u001b[0m\u001b[0m\n\u001b[0;32m-> 1011\u001b[0;31m             \u001b[0;32mraise\u001b[0m \u001b[0mValueError\u001b[0m\u001b[0;34m(\u001b[0m\u001b[0;34m'Expected more than 1 value per channel when training, got input size {}'\u001b[0m\u001b[0;34m.\u001b[0m\u001b[0mformat\u001b[0m\u001b[0;34m(\u001b[0m\u001b[0msize\u001b[0m\u001b[0;34m)\u001b[0m\u001b[0;34m)\u001b[0m\u001b[0;34m\u001b[0m\u001b[0m\n\u001b[0m\u001b[1;32m   1012\u001b[0m     \u001b[0mf\u001b[0m \u001b[0;34m=\u001b[0m \u001b[0mtorch\u001b[0m\u001b[0;34m.\u001b[0m\u001b[0m_C\u001b[0m\u001b[0;34m.\u001b[0m\u001b[0m_functions\u001b[0m\u001b[0;34m.\u001b[0m\u001b[0mBatchNorm\u001b[0m\u001b[0;34m(\u001b[0m\u001b[0mrunning_mean\u001b[0m\u001b[0;34m,\u001b[0m \u001b[0mrunning_var\u001b[0m\u001b[0;34m,\u001b[0m \u001b[0mtraining\u001b[0m\u001b[0;34m,\u001b[0m \u001b[0mmomentum\u001b[0m\u001b[0;34m,\u001b[0m \u001b[0meps\u001b[0m\u001b[0;34m,\u001b[0m \u001b[0mtorch\u001b[0m\u001b[0;34m.\u001b[0m\u001b[0mbackends\u001b[0m\u001b[0;34m.\u001b[0m\u001b[0mcudnn\u001b[0m\u001b[0;34m.\u001b[0m\u001b[0menabled\u001b[0m\u001b[0;34m)\u001b[0m\u001b[0;34m\u001b[0m\u001b[0m\n\u001b[1;32m   1013\u001b[0m     \u001b[0;32mreturn\u001b[0m \u001b[0mf\u001b[0m\u001b[0;34m(\u001b[0m\u001b[0minput\u001b[0m\u001b[0;34m,\u001b[0m \u001b[0mweight\u001b[0m\u001b[0;34m,\u001b[0m \u001b[0mbias\u001b[0m\u001b[0;34m)\u001b[0m\u001b[0;34m\u001b[0m\u001b[0m\n",
            "\u001b[0;31mValueError\u001b[0m: Expected more than 1 value per channel when training, got input size [1, 1200]"
          ]
        }
      ]
    },
    {
      "metadata": {
        "id": "7-qhd4zTA7mT",
        "colab_type": "code",
        "colab": {
          "base_uri": "https://localhost:8080/",
          "height": 1883
        },
        "outputId": "f28794b8-d282-4d7b-933d-36611e30aaea"
      },
      "cell_type": "code",
      "source": [
        "learn.fit(lrs, 1, wds=wd, cycle_len=1, use_clr=(8,3))"
      ],
      "execution_count": 84,
      "outputs": [
        {
          "output_type": "display_data",
          "data": {
            "application/vnd.jupyter.widget-view+json": {
              "model_id": "cb09c734a7404788b03d5bf48365ebd2",
              "version_minor": 0,
              "version_major": 2
            },
            "text/plain": [
              "HBox(children=(IntProgress(value=0, description='Epoch', max=1), HTML(value='')))"
            ]
          },
          "metadata": {
            "tags": []
          }
        },
        {
          "output_type": "stream",
          "text": [
            " 80%|████████  | 4/5 [06:11<01:32, 92.83s/it, loss=1.32] "
          ],
          "name": "stdout"
        },
        {
          "output_type": "error",
          "ename": "ValueError",
          "evalue": "ignored",
          "traceback": [
            "\u001b[0;31m---------------------------------------------------------------------------\u001b[0m",
            "\u001b[0;31mValueError\u001b[0m                                Traceback (most recent call last)",
            "\u001b[0;32m<ipython-input-84-f008491a528c>\u001b[0m in \u001b[0;36m<module>\u001b[0;34m()\u001b[0m\n\u001b[0;32m----> 1\u001b[0;31m \u001b[0mlearn\u001b[0m\u001b[0;34m.\u001b[0m\u001b[0mfit\u001b[0m\u001b[0;34m(\u001b[0m\u001b[0mlrs\u001b[0m\u001b[0;34m,\u001b[0m \u001b[0;36m1\u001b[0m\u001b[0;34m,\u001b[0m \u001b[0mwds\u001b[0m\u001b[0;34m=\u001b[0m\u001b[0mwd\u001b[0m\u001b[0;34m,\u001b[0m \u001b[0mcycle_len\u001b[0m\u001b[0;34m=\u001b[0m\u001b[0;36m1\u001b[0m\u001b[0;34m,\u001b[0m \u001b[0muse_clr\u001b[0m\u001b[0;34m=\u001b[0m\u001b[0;34m(\u001b[0m\u001b[0;36m8\u001b[0m\u001b[0;34m,\u001b[0m\u001b[0;36m3\u001b[0m\u001b[0;34m)\u001b[0m\u001b[0;34m)\u001b[0m\u001b[0;34m\u001b[0m\u001b[0m\n\u001b[0m",
            "\u001b[0;32m/usr/local/lib/python3.6/dist-packages/fastai/text.py\u001b[0m in \u001b[0;36mfit\u001b[0;34m(self, *args, **kwargs)\u001b[0m\n\u001b[1;32m    209\u001b[0m \u001b[0;34m\u001b[0m\u001b[0m\n\u001b[1;32m    210\u001b[0m     \u001b[0;32mdef\u001b[0m \u001b[0m_get_crit\u001b[0m\u001b[0;34m(\u001b[0m\u001b[0mself\u001b[0m\u001b[0;34m,\u001b[0m \u001b[0mdata\u001b[0m\u001b[0;34m)\u001b[0m\u001b[0;34m:\u001b[0m \u001b[0;32mreturn\u001b[0m \u001b[0mF\u001b[0m\u001b[0;34m.\u001b[0m\u001b[0mcross_entropy\u001b[0m\u001b[0;34m\u001b[0m\u001b[0m\n\u001b[0;32m--> 211\u001b[0;31m     \u001b[0;32mdef\u001b[0m \u001b[0mfit\u001b[0m\u001b[0;34m(\u001b[0m\u001b[0mself\u001b[0m\u001b[0;34m,\u001b[0m \u001b[0;34m*\u001b[0m\u001b[0margs\u001b[0m\u001b[0;34m,\u001b[0m \u001b[0;34m**\u001b[0m\u001b[0mkwargs\u001b[0m\u001b[0;34m)\u001b[0m\u001b[0;34m:\u001b[0m \u001b[0;32mreturn\u001b[0m \u001b[0msuper\u001b[0m\u001b[0;34m(\u001b[0m\u001b[0;34m)\u001b[0m\u001b[0;34m.\u001b[0m\u001b[0mfit\u001b[0m\u001b[0;34m(\u001b[0m\u001b[0;34m*\u001b[0m\u001b[0margs\u001b[0m\u001b[0;34m,\u001b[0m \u001b[0;34m**\u001b[0m\u001b[0mkwargs\u001b[0m\u001b[0;34m,\u001b[0m \u001b[0mseq_first\u001b[0m\u001b[0;34m=\u001b[0m\u001b[0;32mTrue\u001b[0m\u001b[0;34m)\u001b[0m\u001b[0;34m\u001b[0m\u001b[0m\n\u001b[0m\u001b[1;32m    212\u001b[0m \u001b[0;34m\u001b[0m\u001b[0m\n\u001b[1;32m    213\u001b[0m     \u001b[0;32mdef\u001b[0m \u001b[0msave_encoder\u001b[0m\u001b[0;34m(\u001b[0m\u001b[0mself\u001b[0m\u001b[0;34m,\u001b[0m \u001b[0mname\u001b[0m\u001b[0;34m)\u001b[0m\u001b[0;34m:\u001b[0m \u001b[0msave_model\u001b[0m\u001b[0;34m(\u001b[0m\u001b[0mself\u001b[0m\u001b[0;34m.\u001b[0m\u001b[0mmodel\u001b[0m\u001b[0;34m[\u001b[0m\u001b[0;36m0\u001b[0m\u001b[0;34m]\u001b[0m\u001b[0;34m,\u001b[0m \u001b[0mself\u001b[0m\u001b[0;34m.\u001b[0m\u001b[0mget_model_path\u001b[0m\u001b[0;34m(\u001b[0m\u001b[0mname\u001b[0m\u001b[0;34m)\u001b[0m\u001b[0;34m)\u001b[0m\u001b[0;34m\u001b[0m\u001b[0m\n",
            "\u001b[0;32m/usr/local/lib/python3.6/dist-packages/fastai/learner.py\u001b[0m in \u001b[0;36mfit\u001b[0;34m(self, lrs, n_cycle, wds, **kwargs)\u001b[0m\n\u001b[1;32m    285\u001b[0m         \u001b[0mself\u001b[0m\u001b[0;34m.\u001b[0m\u001b[0msched\u001b[0m \u001b[0;34m=\u001b[0m \u001b[0;32mNone\u001b[0m\u001b[0;34m\u001b[0m\u001b[0m\n\u001b[1;32m    286\u001b[0m         \u001b[0mlayer_opt\u001b[0m \u001b[0;34m=\u001b[0m \u001b[0mself\u001b[0m\u001b[0;34m.\u001b[0m\u001b[0mget_layer_opt\u001b[0m\u001b[0;34m(\u001b[0m\u001b[0mlrs\u001b[0m\u001b[0;34m,\u001b[0m \u001b[0mwds\u001b[0m\u001b[0;34m)\u001b[0m\u001b[0;34m\u001b[0m\u001b[0m\n\u001b[0;32m--> 287\u001b[0;31m         \u001b[0;32mreturn\u001b[0m \u001b[0mself\u001b[0m\u001b[0;34m.\u001b[0m\u001b[0mfit_gen\u001b[0m\u001b[0;34m(\u001b[0m\u001b[0mself\u001b[0m\u001b[0;34m.\u001b[0m\u001b[0mmodel\u001b[0m\u001b[0;34m,\u001b[0m \u001b[0mself\u001b[0m\u001b[0;34m.\u001b[0m\u001b[0mdata\u001b[0m\u001b[0;34m,\u001b[0m \u001b[0mlayer_opt\u001b[0m\u001b[0;34m,\u001b[0m \u001b[0mn_cycle\u001b[0m\u001b[0;34m,\u001b[0m \u001b[0;34m**\u001b[0m\u001b[0mkwargs\u001b[0m\u001b[0;34m)\u001b[0m\u001b[0;34m\u001b[0m\u001b[0m\n\u001b[0m\u001b[1;32m    288\u001b[0m \u001b[0;34m\u001b[0m\u001b[0m\n\u001b[1;32m    289\u001b[0m     \u001b[0;32mdef\u001b[0m \u001b[0mwarm_up\u001b[0m\u001b[0;34m(\u001b[0m\u001b[0mself\u001b[0m\u001b[0;34m,\u001b[0m \u001b[0mlr\u001b[0m\u001b[0;34m,\u001b[0m \u001b[0mwds\u001b[0m\u001b[0;34m=\u001b[0m\u001b[0;32mNone\u001b[0m\u001b[0;34m)\u001b[0m\u001b[0;34m:\u001b[0m\u001b[0;34m\u001b[0m\u001b[0m\n",
            "\u001b[0;32m/usr/local/lib/python3.6/dist-packages/fastai/learner.py\u001b[0m in \u001b[0;36mfit_gen\u001b[0;34m(self, model, data, layer_opt, n_cycle, cycle_len, cycle_mult, cycle_save_name, best_save_name, use_clr, use_clr_beta, metrics, callbacks, use_wd_sched, norm_wds, wds_sched_mult, use_swa, swa_start, swa_eval_freq, **kwargs)\u001b[0m\n\u001b[1;32m    232\u001b[0m             \u001b[0mmetrics\u001b[0m\u001b[0;34m=\u001b[0m\u001b[0mmetrics\u001b[0m\u001b[0;34m,\u001b[0m \u001b[0mcallbacks\u001b[0m\u001b[0;34m=\u001b[0m\u001b[0mcallbacks\u001b[0m\u001b[0;34m,\u001b[0m \u001b[0mreg_fn\u001b[0m\u001b[0;34m=\u001b[0m\u001b[0mself\u001b[0m\u001b[0;34m.\u001b[0m\u001b[0mreg_fn\u001b[0m\u001b[0;34m,\u001b[0m \u001b[0mclip\u001b[0m\u001b[0;34m=\u001b[0m\u001b[0mself\u001b[0m\u001b[0;34m.\u001b[0m\u001b[0mclip\u001b[0m\u001b[0;34m,\u001b[0m \u001b[0mfp16\u001b[0m\u001b[0;34m=\u001b[0m\u001b[0mself\u001b[0m\u001b[0;34m.\u001b[0m\u001b[0mfp16\u001b[0m\u001b[0;34m,\u001b[0m\u001b[0;34m\u001b[0m\u001b[0m\n\u001b[1;32m    233\u001b[0m             \u001b[0mswa_model\u001b[0m\u001b[0;34m=\u001b[0m\u001b[0mself\u001b[0m\u001b[0;34m.\u001b[0m\u001b[0mswa_model\u001b[0m \u001b[0;32mif\u001b[0m \u001b[0muse_swa\u001b[0m \u001b[0;32melse\u001b[0m \u001b[0;32mNone\u001b[0m\u001b[0;34m,\u001b[0m \u001b[0mswa_start\u001b[0m\u001b[0;34m=\u001b[0m\u001b[0mswa_start\u001b[0m\u001b[0;34m,\u001b[0m\u001b[0;34m\u001b[0m\u001b[0m\n\u001b[0;32m--> 234\u001b[0;31m             swa_eval_freq=swa_eval_freq, **kwargs)\n\u001b[0m\u001b[1;32m    235\u001b[0m \u001b[0;34m\u001b[0m\u001b[0m\n\u001b[1;32m    236\u001b[0m     \u001b[0;32mdef\u001b[0m \u001b[0mget_layer_groups\u001b[0m\u001b[0;34m(\u001b[0m\u001b[0mself\u001b[0m\u001b[0;34m)\u001b[0m\u001b[0;34m:\u001b[0m \u001b[0;32mreturn\u001b[0m \u001b[0mself\u001b[0m\u001b[0;34m.\u001b[0m\u001b[0mmodels\u001b[0m\u001b[0;34m.\u001b[0m\u001b[0mget_layer_groups\u001b[0m\u001b[0;34m(\u001b[0m\u001b[0;34m)\u001b[0m\u001b[0;34m\u001b[0m\u001b[0m\n",
            "\u001b[0;32m/usr/local/lib/python3.6/dist-packages/fastai/model.py\u001b[0m in \u001b[0;36mfit\u001b[0;34m(model, data, n_epochs, opt, crit, metrics, callbacks, stepper, swa_model, swa_start, swa_eval_freq, **kwargs)\u001b[0m\n\u001b[1;32m    138\u001b[0m             \u001b[0mbatch_num\u001b[0m \u001b[0;34m+=\u001b[0m \u001b[0;36m1\u001b[0m\u001b[0;34m\u001b[0m\u001b[0m\n\u001b[1;32m    139\u001b[0m             \u001b[0;32mfor\u001b[0m \u001b[0mcb\u001b[0m \u001b[0;32min\u001b[0m \u001b[0mcallbacks\u001b[0m\u001b[0;34m:\u001b[0m \u001b[0mcb\u001b[0m\u001b[0;34m.\u001b[0m\u001b[0mon_batch_begin\u001b[0m\u001b[0;34m(\u001b[0m\u001b[0;34m)\u001b[0m\u001b[0;34m\u001b[0m\u001b[0m\n\u001b[0;32m--> 140\u001b[0;31m             \u001b[0mloss\u001b[0m \u001b[0;34m=\u001b[0m \u001b[0mmodel_stepper\u001b[0m\u001b[0;34m.\u001b[0m\u001b[0mstep\u001b[0m\u001b[0;34m(\u001b[0m\u001b[0mV\u001b[0m\u001b[0;34m(\u001b[0m\u001b[0mx\u001b[0m\u001b[0;34m)\u001b[0m\u001b[0;34m,\u001b[0m\u001b[0mV\u001b[0m\u001b[0;34m(\u001b[0m\u001b[0my\u001b[0m\u001b[0;34m)\u001b[0m\u001b[0;34m,\u001b[0m \u001b[0mepoch\u001b[0m\u001b[0;34m)\u001b[0m\u001b[0;34m\u001b[0m\u001b[0m\n\u001b[0m\u001b[1;32m    141\u001b[0m             \u001b[0mavg_loss\u001b[0m \u001b[0;34m=\u001b[0m \u001b[0mavg_loss\u001b[0m \u001b[0;34m*\u001b[0m \u001b[0mavg_mom\u001b[0m \u001b[0;34m+\u001b[0m \u001b[0mloss\u001b[0m \u001b[0;34m*\u001b[0m \u001b[0;34m(\u001b[0m\u001b[0;36m1\u001b[0m\u001b[0;34m-\u001b[0m\u001b[0mavg_mom\u001b[0m\u001b[0;34m)\u001b[0m\u001b[0;34m\u001b[0m\u001b[0m\n\u001b[1;32m    142\u001b[0m             \u001b[0mdebias_loss\u001b[0m \u001b[0;34m=\u001b[0m \u001b[0mavg_loss\u001b[0m \u001b[0;34m/\u001b[0m \u001b[0;34m(\u001b[0m\u001b[0;36m1\u001b[0m \u001b[0;34m-\u001b[0m \u001b[0mavg_mom\u001b[0m\u001b[0;34m**\u001b[0m\u001b[0mbatch_num\u001b[0m\u001b[0;34m)\u001b[0m\u001b[0;34m\u001b[0m\u001b[0m\n",
            "\u001b[0;32m/usr/local/lib/python3.6/dist-packages/fastai/model.py\u001b[0m in \u001b[0;36mstep\u001b[0;34m(self, xs, y, epoch)\u001b[0m\n\u001b[1;32m     48\u001b[0m     \u001b[0;32mdef\u001b[0m \u001b[0mstep\u001b[0m\u001b[0;34m(\u001b[0m\u001b[0mself\u001b[0m\u001b[0;34m,\u001b[0m \u001b[0mxs\u001b[0m\u001b[0;34m,\u001b[0m \u001b[0my\u001b[0m\u001b[0;34m,\u001b[0m \u001b[0mepoch\u001b[0m\u001b[0;34m)\u001b[0m\u001b[0;34m:\u001b[0m\u001b[0;34m\u001b[0m\u001b[0m\n\u001b[1;32m     49\u001b[0m         \u001b[0mxtra\u001b[0m \u001b[0;34m=\u001b[0m \u001b[0;34m[\u001b[0m\u001b[0;34m]\u001b[0m\u001b[0;34m\u001b[0m\u001b[0m\n\u001b[0;32m---> 50\u001b[0;31m         \u001b[0moutput\u001b[0m \u001b[0;34m=\u001b[0m \u001b[0mself\u001b[0m\u001b[0;34m.\u001b[0m\u001b[0mm\u001b[0m\u001b[0;34m(\u001b[0m\u001b[0;34m*\u001b[0m\u001b[0mxs\u001b[0m\u001b[0;34m)\u001b[0m\u001b[0;34m\u001b[0m\u001b[0m\n\u001b[0m\u001b[1;32m     51\u001b[0m         \u001b[0;32mif\u001b[0m \u001b[0misinstance\u001b[0m\u001b[0;34m(\u001b[0m\u001b[0moutput\u001b[0m\u001b[0;34m,\u001b[0m\u001b[0mtuple\u001b[0m\u001b[0;34m)\u001b[0m\u001b[0;34m:\u001b[0m \u001b[0moutput\u001b[0m\u001b[0;34m,\u001b[0m\u001b[0;34m*\u001b[0m\u001b[0mxtra\u001b[0m \u001b[0;34m=\u001b[0m \u001b[0moutput\u001b[0m\u001b[0;34m\u001b[0m\u001b[0m\n\u001b[1;32m     52\u001b[0m         \u001b[0;32mif\u001b[0m \u001b[0mself\u001b[0m\u001b[0;34m.\u001b[0m\u001b[0mfp16\u001b[0m\u001b[0;34m:\u001b[0m \u001b[0mself\u001b[0m\u001b[0;34m.\u001b[0m\u001b[0mm\u001b[0m\u001b[0;34m.\u001b[0m\u001b[0mzero_grad\u001b[0m\u001b[0;34m(\u001b[0m\u001b[0;34m)\u001b[0m\u001b[0;34m\u001b[0m\u001b[0m\n",
            "\u001b[0;32m/usr/local/lib/python3.6/dist-packages/torch/nn/modules/module.py\u001b[0m in \u001b[0;36m__call__\u001b[0;34m(self, *input, **kwargs)\u001b[0m\n\u001b[1;32m    355\u001b[0m             \u001b[0mresult\u001b[0m \u001b[0;34m=\u001b[0m \u001b[0mself\u001b[0m\u001b[0;34m.\u001b[0m\u001b[0m_slow_forward\u001b[0m\u001b[0;34m(\u001b[0m\u001b[0;34m*\u001b[0m\u001b[0minput\u001b[0m\u001b[0;34m,\u001b[0m \u001b[0;34m**\u001b[0m\u001b[0mkwargs\u001b[0m\u001b[0;34m)\u001b[0m\u001b[0;34m\u001b[0m\u001b[0m\n\u001b[1;32m    356\u001b[0m         \u001b[0;32melse\u001b[0m\u001b[0;34m:\u001b[0m\u001b[0;34m\u001b[0m\u001b[0m\n\u001b[0;32m--> 357\u001b[0;31m             \u001b[0mresult\u001b[0m \u001b[0;34m=\u001b[0m \u001b[0mself\u001b[0m\u001b[0;34m.\u001b[0m\u001b[0mforward\u001b[0m\u001b[0;34m(\u001b[0m\u001b[0;34m*\u001b[0m\u001b[0minput\u001b[0m\u001b[0;34m,\u001b[0m \u001b[0;34m**\u001b[0m\u001b[0mkwargs\u001b[0m\u001b[0;34m)\u001b[0m\u001b[0;34m\u001b[0m\u001b[0m\n\u001b[0m\u001b[1;32m    358\u001b[0m         \u001b[0;32mfor\u001b[0m \u001b[0mhook\u001b[0m \u001b[0;32min\u001b[0m \u001b[0mself\u001b[0m\u001b[0;34m.\u001b[0m\u001b[0m_forward_hooks\u001b[0m\u001b[0;34m.\u001b[0m\u001b[0mvalues\u001b[0m\u001b[0;34m(\u001b[0m\u001b[0;34m)\u001b[0m\u001b[0;34m:\u001b[0m\u001b[0;34m\u001b[0m\u001b[0m\n\u001b[1;32m    359\u001b[0m             \u001b[0mhook_result\u001b[0m \u001b[0;34m=\u001b[0m \u001b[0mhook\u001b[0m\u001b[0;34m(\u001b[0m\u001b[0mself\u001b[0m\u001b[0;34m,\u001b[0m \u001b[0minput\u001b[0m\u001b[0;34m,\u001b[0m \u001b[0mresult\u001b[0m\u001b[0;34m)\u001b[0m\u001b[0;34m\u001b[0m\u001b[0m\n",
            "\u001b[0;32m/usr/local/lib/python3.6/dist-packages/torch/nn/modules/container.py\u001b[0m in \u001b[0;36mforward\u001b[0;34m(self, input)\u001b[0m\n\u001b[1;32m     65\u001b[0m     \u001b[0;32mdef\u001b[0m \u001b[0mforward\u001b[0m\u001b[0;34m(\u001b[0m\u001b[0mself\u001b[0m\u001b[0;34m,\u001b[0m \u001b[0minput\u001b[0m\u001b[0;34m)\u001b[0m\u001b[0;34m:\u001b[0m\u001b[0;34m\u001b[0m\u001b[0m\n\u001b[1;32m     66\u001b[0m         \u001b[0;32mfor\u001b[0m \u001b[0mmodule\u001b[0m \u001b[0;32min\u001b[0m \u001b[0mself\u001b[0m\u001b[0;34m.\u001b[0m\u001b[0m_modules\u001b[0m\u001b[0;34m.\u001b[0m\u001b[0mvalues\u001b[0m\u001b[0;34m(\u001b[0m\u001b[0;34m)\u001b[0m\u001b[0;34m:\u001b[0m\u001b[0;34m\u001b[0m\u001b[0m\n\u001b[0;32m---> 67\u001b[0;31m             \u001b[0minput\u001b[0m \u001b[0;34m=\u001b[0m \u001b[0mmodule\u001b[0m\u001b[0;34m(\u001b[0m\u001b[0minput\u001b[0m\u001b[0;34m)\u001b[0m\u001b[0;34m\u001b[0m\u001b[0m\n\u001b[0m\u001b[1;32m     68\u001b[0m         \u001b[0;32mreturn\u001b[0m \u001b[0minput\u001b[0m\u001b[0;34m\u001b[0m\u001b[0m\n\u001b[1;32m     69\u001b[0m \u001b[0;34m\u001b[0m\u001b[0m\n",
            "\u001b[0;32m/usr/local/lib/python3.6/dist-packages/torch/nn/modules/module.py\u001b[0m in \u001b[0;36m__call__\u001b[0;34m(self, *input, **kwargs)\u001b[0m\n\u001b[1;32m    355\u001b[0m             \u001b[0mresult\u001b[0m \u001b[0;34m=\u001b[0m \u001b[0mself\u001b[0m\u001b[0;34m.\u001b[0m\u001b[0m_slow_forward\u001b[0m\u001b[0;34m(\u001b[0m\u001b[0;34m*\u001b[0m\u001b[0minput\u001b[0m\u001b[0;34m,\u001b[0m \u001b[0;34m**\u001b[0m\u001b[0mkwargs\u001b[0m\u001b[0;34m)\u001b[0m\u001b[0;34m\u001b[0m\u001b[0m\n\u001b[1;32m    356\u001b[0m         \u001b[0;32melse\u001b[0m\u001b[0;34m:\u001b[0m\u001b[0;34m\u001b[0m\u001b[0m\n\u001b[0;32m--> 357\u001b[0;31m             \u001b[0mresult\u001b[0m \u001b[0;34m=\u001b[0m \u001b[0mself\u001b[0m\u001b[0;34m.\u001b[0m\u001b[0mforward\u001b[0m\u001b[0;34m(\u001b[0m\u001b[0;34m*\u001b[0m\u001b[0minput\u001b[0m\u001b[0;34m,\u001b[0m \u001b[0;34m**\u001b[0m\u001b[0mkwargs\u001b[0m\u001b[0;34m)\u001b[0m\u001b[0;34m\u001b[0m\u001b[0m\n\u001b[0m\u001b[1;32m    358\u001b[0m         \u001b[0;32mfor\u001b[0m \u001b[0mhook\u001b[0m \u001b[0;32min\u001b[0m \u001b[0mself\u001b[0m\u001b[0;34m.\u001b[0m\u001b[0m_forward_hooks\u001b[0m\u001b[0;34m.\u001b[0m\u001b[0mvalues\u001b[0m\u001b[0;34m(\u001b[0m\u001b[0;34m)\u001b[0m\u001b[0;34m:\u001b[0m\u001b[0;34m\u001b[0m\u001b[0m\n\u001b[1;32m    359\u001b[0m             \u001b[0mhook_result\u001b[0m \u001b[0;34m=\u001b[0m \u001b[0mhook\u001b[0m\u001b[0;34m(\u001b[0m\u001b[0mself\u001b[0m\u001b[0;34m,\u001b[0m \u001b[0minput\u001b[0m\u001b[0;34m,\u001b[0m \u001b[0mresult\u001b[0m\u001b[0;34m)\u001b[0m\u001b[0;34m\u001b[0m\u001b[0m\n",
            "\u001b[0;32m/usr/local/lib/python3.6/dist-packages/fastai/lm_rnn.py\u001b[0m in \u001b[0;36mforward\u001b[0;34m(self, input)\u001b[0m\n\u001b[1;32m    190\u001b[0m         \u001b[0mx\u001b[0m \u001b[0;34m=\u001b[0m \u001b[0mtorch\u001b[0m\u001b[0;34m.\u001b[0m\u001b[0mcat\u001b[0m\u001b[0;34m(\u001b[0m\u001b[0;34m[\u001b[0m\u001b[0moutput\u001b[0m\u001b[0;34m[\u001b[0m\u001b[0;34m-\u001b[0m\u001b[0;36m1\u001b[0m\u001b[0;34m]\u001b[0m\u001b[0;34m,\u001b[0m \u001b[0mmxpool\u001b[0m\u001b[0;34m,\u001b[0m \u001b[0mavgpool\u001b[0m\u001b[0;34m]\u001b[0m\u001b[0;34m,\u001b[0m \u001b[0;36m1\u001b[0m\u001b[0;34m)\u001b[0m\u001b[0;34m\u001b[0m\u001b[0m\n\u001b[1;32m    191\u001b[0m         \u001b[0;32mfor\u001b[0m \u001b[0ml\u001b[0m \u001b[0;32min\u001b[0m \u001b[0mself\u001b[0m\u001b[0;34m.\u001b[0m\u001b[0mlayers\u001b[0m\u001b[0;34m:\u001b[0m\u001b[0;34m\u001b[0m\u001b[0m\n\u001b[0;32m--> 192\u001b[0;31m             \u001b[0ml_x\u001b[0m \u001b[0;34m=\u001b[0m \u001b[0ml\u001b[0m\u001b[0;34m(\u001b[0m\u001b[0mx\u001b[0m\u001b[0;34m)\u001b[0m\u001b[0;34m\u001b[0m\u001b[0m\n\u001b[0m\u001b[1;32m    193\u001b[0m             \u001b[0mx\u001b[0m \u001b[0;34m=\u001b[0m \u001b[0mF\u001b[0m\u001b[0;34m.\u001b[0m\u001b[0mrelu\u001b[0m\u001b[0;34m(\u001b[0m\u001b[0ml_x\u001b[0m\u001b[0;34m)\u001b[0m\u001b[0;34m\u001b[0m\u001b[0m\n\u001b[1;32m    194\u001b[0m         \u001b[0;32mreturn\u001b[0m \u001b[0ml_x\u001b[0m\u001b[0;34m,\u001b[0m \u001b[0mraw_outputs\u001b[0m\u001b[0;34m,\u001b[0m \u001b[0moutputs\u001b[0m\u001b[0;34m\u001b[0m\u001b[0m\n",
            "\u001b[0;32m/usr/local/lib/python3.6/dist-packages/torch/nn/modules/module.py\u001b[0m in \u001b[0;36m__call__\u001b[0;34m(self, *input, **kwargs)\u001b[0m\n\u001b[1;32m    355\u001b[0m             \u001b[0mresult\u001b[0m \u001b[0;34m=\u001b[0m \u001b[0mself\u001b[0m\u001b[0;34m.\u001b[0m\u001b[0m_slow_forward\u001b[0m\u001b[0;34m(\u001b[0m\u001b[0;34m*\u001b[0m\u001b[0minput\u001b[0m\u001b[0;34m,\u001b[0m \u001b[0;34m**\u001b[0m\u001b[0mkwargs\u001b[0m\u001b[0;34m)\u001b[0m\u001b[0;34m\u001b[0m\u001b[0m\n\u001b[1;32m    356\u001b[0m         \u001b[0;32melse\u001b[0m\u001b[0;34m:\u001b[0m\u001b[0;34m\u001b[0m\u001b[0m\n\u001b[0;32m--> 357\u001b[0;31m             \u001b[0mresult\u001b[0m \u001b[0;34m=\u001b[0m \u001b[0mself\u001b[0m\u001b[0;34m.\u001b[0m\u001b[0mforward\u001b[0m\u001b[0;34m(\u001b[0m\u001b[0;34m*\u001b[0m\u001b[0minput\u001b[0m\u001b[0;34m,\u001b[0m \u001b[0;34m**\u001b[0m\u001b[0mkwargs\u001b[0m\u001b[0;34m)\u001b[0m\u001b[0;34m\u001b[0m\u001b[0m\n\u001b[0m\u001b[1;32m    358\u001b[0m         \u001b[0;32mfor\u001b[0m \u001b[0mhook\u001b[0m \u001b[0;32min\u001b[0m \u001b[0mself\u001b[0m\u001b[0;34m.\u001b[0m\u001b[0m_forward_hooks\u001b[0m\u001b[0;34m.\u001b[0m\u001b[0mvalues\u001b[0m\u001b[0;34m(\u001b[0m\u001b[0;34m)\u001b[0m\u001b[0;34m:\u001b[0m\u001b[0;34m\u001b[0m\u001b[0m\n\u001b[1;32m    359\u001b[0m             \u001b[0mhook_result\u001b[0m \u001b[0;34m=\u001b[0m \u001b[0mhook\u001b[0m\u001b[0;34m(\u001b[0m\u001b[0mself\u001b[0m\u001b[0;34m,\u001b[0m \u001b[0minput\u001b[0m\u001b[0;34m,\u001b[0m \u001b[0mresult\u001b[0m\u001b[0;34m)\u001b[0m\u001b[0;34m\u001b[0m\u001b[0m\n",
            "\u001b[0;32m/usr/local/lib/python3.6/dist-packages/fastai/lm_rnn.py\u001b[0m in \u001b[0;36mforward\u001b[0;34m(self, x)\u001b[0m\n\u001b[1;32m    169\u001b[0m         \u001b[0mself\u001b[0m\u001b[0;34m.\u001b[0m\u001b[0mbn\u001b[0m \u001b[0;34m=\u001b[0m \u001b[0mnn\u001b[0m\u001b[0;34m.\u001b[0m\u001b[0mBatchNorm1d\u001b[0m\u001b[0;34m(\u001b[0m\u001b[0mni\u001b[0m\u001b[0;34m)\u001b[0m\u001b[0;34m\u001b[0m\u001b[0m\n\u001b[1;32m    170\u001b[0m \u001b[0;34m\u001b[0m\u001b[0m\n\u001b[0;32m--> 171\u001b[0;31m     \u001b[0;32mdef\u001b[0m \u001b[0mforward\u001b[0m\u001b[0;34m(\u001b[0m\u001b[0mself\u001b[0m\u001b[0;34m,\u001b[0m \u001b[0mx\u001b[0m\u001b[0;34m)\u001b[0m\u001b[0;34m:\u001b[0m \u001b[0;32mreturn\u001b[0m \u001b[0mself\u001b[0m\u001b[0;34m.\u001b[0m\u001b[0mlin\u001b[0m\u001b[0;34m(\u001b[0m\u001b[0mself\u001b[0m\u001b[0;34m.\u001b[0m\u001b[0mdrop\u001b[0m\u001b[0;34m(\u001b[0m\u001b[0mself\u001b[0m\u001b[0;34m.\u001b[0m\u001b[0mbn\u001b[0m\u001b[0;34m(\u001b[0m\u001b[0mx\u001b[0m\u001b[0;34m)\u001b[0m\u001b[0;34m)\u001b[0m\u001b[0;34m)\u001b[0m\u001b[0;34m\u001b[0m\u001b[0m\n\u001b[0m\u001b[1;32m    172\u001b[0m \u001b[0;34m\u001b[0m\u001b[0m\n\u001b[1;32m    173\u001b[0m \u001b[0;34m\u001b[0m\u001b[0m\n",
            "\u001b[0;32m/usr/local/lib/python3.6/dist-packages/torch/nn/modules/module.py\u001b[0m in \u001b[0;36m__call__\u001b[0;34m(self, *input, **kwargs)\u001b[0m\n\u001b[1;32m    355\u001b[0m             \u001b[0mresult\u001b[0m \u001b[0;34m=\u001b[0m \u001b[0mself\u001b[0m\u001b[0;34m.\u001b[0m\u001b[0m_slow_forward\u001b[0m\u001b[0;34m(\u001b[0m\u001b[0;34m*\u001b[0m\u001b[0minput\u001b[0m\u001b[0;34m,\u001b[0m \u001b[0;34m**\u001b[0m\u001b[0mkwargs\u001b[0m\u001b[0;34m)\u001b[0m\u001b[0;34m\u001b[0m\u001b[0m\n\u001b[1;32m    356\u001b[0m         \u001b[0;32melse\u001b[0m\u001b[0;34m:\u001b[0m\u001b[0;34m\u001b[0m\u001b[0m\n\u001b[0;32m--> 357\u001b[0;31m             \u001b[0mresult\u001b[0m \u001b[0;34m=\u001b[0m \u001b[0mself\u001b[0m\u001b[0;34m.\u001b[0m\u001b[0mforward\u001b[0m\u001b[0;34m(\u001b[0m\u001b[0;34m*\u001b[0m\u001b[0minput\u001b[0m\u001b[0;34m,\u001b[0m \u001b[0;34m**\u001b[0m\u001b[0mkwargs\u001b[0m\u001b[0;34m)\u001b[0m\u001b[0;34m\u001b[0m\u001b[0m\n\u001b[0m\u001b[1;32m    358\u001b[0m         \u001b[0;32mfor\u001b[0m \u001b[0mhook\u001b[0m \u001b[0;32min\u001b[0m \u001b[0mself\u001b[0m\u001b[0;34m.\u001b[0m\u001b[0m_forward_hooks\u001b[0m\u001b[0;34m.\u001b[0m\u001b[0mvalues\u001b[0m\u001b[0;34m(\u001b[0m\u001b[0;34m)\u001b[0m\u001b[0;34m:\u001b[0m\u001b[0;34m\u001b[0m\u001b[0m\n\u001b[1;32m    359\u001b[0m             \u001b[0mhook_result\u001b[0m \u001b[0;34m=\u001b[0m \u001b[0mhook\u001b[0m\u001b[0;34m(\u001b[0m\u001b[0mself\u001b[0m\u001b[0;34m,\u001b[0m \u001b[0minput\u001b[0m\u001b[0;34m,\u001b[0m \u001b[0mresult\u001b[0m\u001b[0;34m)\u001b[0m\u001b[0;34m\u001b[0m\u001b[0m\n",
            "\u001b[0;32m/usr/local/lib/python3.6/dist-packages/torch/nn/modules/batchnorm.py\u001b[0m in \u001b[0;36mforward\u001b[0;34m(self, input)\u001b[0m\n\u001b[1;32m     35\u001b[0m         return F.batch_norm(\n\u001b[1;32m     36\u001b[0m             \u001b[0minput\u001b[0m\u001b[0;34m,\u001b[0m \u001b[0mself\u001b[0m\u001b[0;34m.\u001b[0m\u001b[0mrunning_mean\u001b[0m\u001b[0;34m,\u001b[0m \u001b[0mself\u001b[0m\u001b[0;34m.\u001b[0m\u001b[0mrunning_var\u001b[0m\u001b[0;34m,\u001b[0m \u001b[0mself\u001b[0m\u001b[0;34m.\u001b[0m\u001b[0mweight\u001b[0m\u001b[0;34m,\u001b[0m \u001b[0mself\u001b[0m\u001b[0;34m.\u001b[0m\u001b[0mbias\u001b[0m\u001b[0;34m,\u001b[0m\u001b[0;34m\u001b[0m\u001b[0m\n\u001b[0;32m---> 37\u001b[0;31m             self.training, self.momentum, self.eps)\n\u001b[0m\u001b[1;32m     38\u001b[0m \u001b[0;34m\u001b[0m\u001b[0m\n\u001b[1;32m     39\u001b[0m     \u001b[0;32mdef\u001b[0m \u001b[0m__repr__\u001b[0m\u001b[0;34m(\u001b[0m\u001b[0mself\u001b[0m\u001b[0;34m)\u001b[0m\u001b[0;34m:\u001b[0m\u001b[0;34m\u001b[0m\u001b[0m\n",
            "\u001b[0;32m/usr/local/lib/python3.6/dist-packages/torch/nn/functional.py\u001b[0m in \u001b[0;36mbatch_norm\u001b[0;34m(input, running_mean, running_var, weight, bias, training, momentum, eps)\u001b[0m\n\u001b[1;32m   1009\u001b[0m         \u001b[0msize\u001b[0m \u001b[0;34m=\u001b[0m \u001b[0mlist\u001b[0m\u001b[0;34m(\u001b[0m\u001b[0minput\u001b[0m\u001b[0;34m.\u001b[0m\u001b[0msize\u001b[0m\u001b[0;34m(\u001b[0m\u001b[0;34m)\u001b[0m\u001b[0;34m)\u001b[0m\u001b[0;34m\u001b[0m\u001b[0m\n\u001b[1;32m   1010\u001b[0m         \u001b[0;32mif\u001b[0m \u001b[0mreduce\u001b[0m\u001b[0;34m(\u001b[0m\u001b[0mmul\u001b[0m\u001b[0;34m,\u001b[0m \u001b[0msize\u001b[0m\u001b[0;34m[\u001b[0m\u001b[0;36m2\u001b[0m\u001b[0;34m:\u001b[0m\u001b[0;34m]\u001b[0m\u001b[0;34m,\u001b[0m \u001b[0msize\u001b[0m\u001b[0;34m[\u001b[0m\u001b[0;36m0\u001b[0m\u001b[0;34m]\u001b[0m\u001b[0;34m)\u001b[0m \u001b[0;34m==\u001b[0m \u001b[0;36m1\u001b[0m\u001b[0;34m:\u001b[0m\u001b[0;34m\u001b[0m\u001b[0m\n\u001b[0;32m-> 1011\u001b[0;31m             \u001b[0;32mraise\u001b[0m \u001b[0mValueError\u001b[0m\u001b[0;34m(\u001b[0m\u001b[0;34m'Expected more than 1 value per channel when training, got input size {}'\u001b[0m\u001b[0;34m.\u001b[0m\u001b[0mformat\u001b[0m\u001b[0;34m(\u001b[0m\u001b[0msize\u001b[0m\u001b[0;34m)\u001b[0m\u001b[0;34m)\u001b[0m\u001b[0;34m\u001b[0m\u001b[0m\n\u001b[0m\u001b[1;32m   1012\u001b[0m     \u001b[0mf\u001b[0m \u001b[0;34m=\u001b[0m \u001b[0mtorch\u001b[0m\u001b[0;34m.\u001b[0m\u001b[0m_C\u001b[0m\u001b[0;34m.\u001b[0m\u001b[0m_functions\u001b[0m\u001b[0;34m.\u001b[0m\u001b[0mBatchNorm\u001b[0m\u001b[0;34m(\u001b[0m\u001b[0mrunning_mean\u001b[0m\u001b[0;34m,\u001b[0m \u001b[0mrunning_var\u001b[0m\u001b[0;34m,\u001b[0m \u001b[0mtraining\u001b[0m\u001b[0;34m,\u001b[0m \u001b[0mmomentum\u001b[0m\u001b[0;34m,\u001b[0m \u001b[0meps\u001b[0m\u001b[0;34m,\u001b[0m \u001b[0mtorch\u001b[0m\u001b[0;34m.\u001b[0m\u001b[0mbackends\u001b[0m\u001b[0;34m.\u001b[0m\u001b[0mcudnn\u001b[0m\u001b[0;34m.\u001b[0m\u001b[0menabled\u001b[0m\u001b[0;34m)\u001b[0m\u001b[0;34m\u001b[0m\u001b[0m\n\u001b[1;32m   1013\u001b[0m     \u001b[0;32mreturn\u001b[0m \u001b[0mf\u001b[0m\u001b[0;34m(\u001b[0m\u001b[0minput\u001b[0m\u001b[0;34m,\u001b[0m \u001b[0mweight\u001b[0m\u001b[0;34m,\u001b[0m \u001b[0mbias\u001b[0m\u001b[0;34m)\u001b[0m\u001b[0;34m\u001b[0m\u001b[0m\n",
            "\u001b[0;31mValueError\u001b[0m: Expected more than 1 value per channel when training, got input size [1, 1200]"
          ]
        }
      ]
    },
    {
      "metadata": {
        "id": "5QUVkWqzA9L_",
        "colab_type": "code",
        "colab": {}
      },
      "cell_type": "code",
      "source": [
        "learn.save('clas_0')"
      ],
      "execution_count": 0,
      "outputs": []
    },
    {
      "metadata": {
        "id": "uAUJZIIAA_J0",
        "colab_type": "code",
        "colab": {}
      },
      "cell_type": "code",
      "source": [
        "learn.load('clas_0')"
      ],
      "execution_count": 0,
      "outputs": []
    },
    {
      "metadata": {
        "id": "MI4hyaGyBAr-",
        "colab_type": "code",
        "colab": {}
      },
      "cell_type": "code",
      "source": [
        "learn.freeze_to(-2)"
      ],
      "execution_count": 0,
      "outputs": []
    },
    {
      "metadata": {
        "id": "KYfcd27yBEpf",
        "colab_type": "code",
        "colab": {}
      },
      "cell_type": "code",
      "source": [
        "learn.fit(lrs, 1, wds=wd, cycle_len=1, use_clr=(8,3))"
      ],
      "execution_count": 0,
      "outputs": []
    },
    {
      "metadata": {
        "id": "u08I5g_CBHiX",
        "colab_type": "code",
        "colab": {}
      },
      "cell_type": "code",
      "source": [
        "learn.save('clas_1')"
      ],
      "execution_count": 0,
      "outputs": []
    },
    {
      "metadata": {
        "id": "eoRxLid0BJKJ",
        "colab_type": "code",
        "colab": {}
      },
      "cell_type": "code",
      "source": [
        "learn.load('clas_1')"
      ],
      "execution_count": 0,
      "outputs": []
    },
    {
      "metadata": {
        "id": "Uw15J4LBBJkJ",
        "colab_type": "code",
        "colab": {}
      },
      "cell_type": "code",
      "source": [
        "learn.unfreeze()"
      ],
      "execution_count": 0,
      "outputs": []
    },
    {
      "metadata": {
        "id": "ZDX44ZK2BMkj",
        "colab_type": "code",
        "colab": {}
      },
      "cell_type": "code",
      "source": [
        "learn.fit(lrs, 1, wds=wd, cycle_len=14, use_clr=(32,10))"
      ],
      "execution_count": 0,
      "outputs": []
    },
    {
      "metadata": {
        "id": "S-MgQFTSBM-p",
        "colab_type": "code",
        "colab": {}
      },
      "cell_type": "code",
      "source": [
        "learn.sched.plot_loss()"
      ],
      "execution_count": 0,
      "outputs": []
    },
    {
      "metadata": {
        "id": "kbj1t-iDBPpe",
        "colab_type": "code",
        "colab": {}
      },
      "cell_type": "code",
      "source": [
        "learn.save('clas_2')"
      ],
      "execution_count": 0,
      "outputs": []
    }
  ]
}