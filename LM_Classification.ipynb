{
  "nbformat": 4,
  "nbformat_minor": 0,
  "metadata": {
    "colab": {
      "name": "LM Classification.ipynb",
      "version": "0.3.2",
      "provenance": [],
      "collapsed_sections": []
    },
    "kernelspec": {
      "name": "python3",
      "display_name": "Python 3"
    },
    "accelerator": "GPU"
  },
  "cells": [
    {
      "cell_type": "markdown",
      "metadata": {
        "id": "view-in-github",
        "colab_type": "text"
      },
      "source": [
        "[View in Colaboratory](https://colab.research.google.com/github/juzkev/A-Bridged/blob/master/LM_Classification.ipynb)"
      ]
    },
    {
      "metadata": {
        "id": "xPPAYBD3B_-g",
        "colab_type": "text"
      },
      "cell_type": "markdown",
      "source": [
        "# Setup Libs"
      ]
    },
    {
      "metadata": {
        "id": "YVGvM7IOWo5Y",
        "colab_type": "code",
        "colab": {
          "base_uri": "https://localhost:8080/",
          "height": 4848
        },
        "outputId": "75007af1-8020-4dcc-a637-7d3d1fd3b967"
      },
      "cell_type": "code",
      "source": [
        "# Time\n",
        "import time\n",
        "start_t = time.time()\n",
        "\n",
        "# Google Drive\n",
        "!pip install -U -q PyDrive\n",
        "import os\n",
        "from pydrive.auth import GoogleAuth\n",
        "from pydrive.drive import GoogleDrive\n",
        "from google.colab import auth\n",
        "from oauth2client.client import GoogleCredentials\n",
        "\n",
        "# 1. Authenticate and create the PyDrive client.\n",
        "auth.authenticate_user()\n",
        "gauth = GoogleAuth()\n",
        "gauth.credentials = GoogleCredentials.get_application_default()\n",
        "drive = GoogleDrive(gauth)\n",
        "\n",
        "# PyPDF2\n",
        "# !pip install pypdf2\n",
        "# import PyPDF2\n",
        "\n",
        "#textract\n",
        "!apt-get install python-dev libxml2-dev libxslt1-dev antiword unrtf poppler-utils pstotext tesseract-ocr flac ffmpeg lame libmad0 libsox-fmt-mp3 sox libjpeg-dev swig libpulse-dev\n",
        "!pip install textract\n",
        "import textract\n",
        "\n",
        "# DS essentials\n",
        "import pandas as pd\n",
        "import numpy as np\n",
        "\n",
        "# NLP\n",
        "import re\n",
        "\n",
        "\n",
        "\n",
        "##### Additional Setup for Google Colab Fast AI & PyTorch #####\n",
        "\n",
        "## Install Pytorch and torchvision\n",
        "!pip install http://download.pytorch.org/whl/cu80/torch-0.3.1-cp36-cp36m-linux_x86_64.whl torchvision \n",
        "  \n",
        "# ## Install Fastai (Github version)\n",
        "!git clone https://github.com/fastai/fastai.git\n",
        "!pip install -r fastai/requirements.txt\n",
        "!pip install ./fastai\n",
        "\n",
        "#Install Fastai (pip)\n",
        "# !pip install fastai\n",
        "\n",
        "## Install libSM\n",
        "### The import of fastai is will throw an error that this library is missing. So, Installing the same.\n",
        "!apt update && apt install -y libsm6 libxext6\n",
        "\n",
        "\n",
        "# Install Spacy required for fastai.text\n",
        "!pip install -U spacy\n",
        "!python -m spacy download en\n",
        "\n",
        "print(f'Set up Process took {time.time() - start_t} seconds')"
      ],
      "execution_count": 2,
      "outputs": [
        {
          "output_type": "stream",
          "text": [
            "\u001b[31mtensorboard 1.8.0 has requirement bleach==1.5.0, but you'll have bleach 2.1.3 which is incompatible.\u001b[0m\r\n",
            "\u001b[31mtensorboard 1.8.0 has requirement html5lib==0.9999999, but you'll have html5lib 1.0.1 which is incompatible.\u001b[0m\r\n",
            "\u001b[31mrequests 2.18.4 has requirement chardet<3.1.0,>=3.0.2, but you'll have chardet 2.3.0 which is incompatible.\u001b[0m\r\n",
            "\u001b[31mplotnine 0.3.0 has requirement scipy>=1.0.0, but you'll have scipy 0.19.1 which is incompatible.\u001b[0m\n",
            "Reading package lists... Done\n",
            "Building dependency tree       \n",
            "Reading state information... Done\n",
            "libjpeg-dev is already the newest version (8c-2ubuntu8).\n",
            "libxslt1-dev is already the newest version (1.1.29-2.1ubuntu1).\n",
            "python-dev is already the newest version (2.7.14-2ubuntu1).\n",
            "antiword is already the newest version (0.37-11).\n",
            "ffmpeg is already the newest version (7:3.3.4-2).\n",
            "flac is already the newest version (1.3.2-1).\n",
            "lame is already the newest version (3.99.5+repack1-9build1).\n",
            "libmad0 is already the newest version (0.15.1b-8ubuntu1).\n",
            "libsox-fmt-mp3 is already the newest version (14.4.1-5build1).\n",
            "pstotext is already the newest version (1.9-6).\n",
            "sox is already the newest version (14.4.1-5build1).\n",
            "swig is already the newest version (3.0.10-1.2).\n",
            "tesseract-ocr is already the newest version (3.04.01-6).\n",
            "unrtf is already the newest version (0.21.9-clean-3).\n",
            "libpulse-dev is already the newest version (1:10.0-2ubuntu3.1).\n",
            "libxml2-dev is already the newest version (2.9.4+dfsg1-4ubuntu1.2).\n",
            "poppler-utils is already the newest version (0.57.0-2ubuntu4.3).\n",
            "0 upgraded, 0 newly installed, 0 to remove and 25 not upgraded.\n",
            "Requirement already satisfied: textract in /usr/local/lib/python3.6/dist-packages (1.6.1)\n",
            "Requirement already satisfied: beautifulsoup4==4.5.3 in /usr/local/lib/python3.6/dist-packages (from textract) (4.5.3)\n",
            "Requirement already satisfied: six==1.10.0 in /usr/local/lib/python3.6/dist-packages (from textract) (1.10.0)\n",
            "Requirement already satisfied: EbookLib==0.15 in /usr/local/lib/python3.6/dist-packages (from textract) (0.15)\n",
            "Requirement already satisfied: xlrd==1.0.0 in /usr/local/lib/python3.6/dist-packages (from textract) (1.0.0)\n",
            "Requirement already satisfied: chardet==2.3.0 in /usr/local/lib/python3.6/dist-packages (from textract) (2.3.0)\n",
            "Requirement already satisfied: docx2txt==0.6 in /usr/local/lib/python3.6/dist-packages (from textract) (0.6)\n",
            "Requirement already satisfied: SpeechRecognition==3.6.3 in /usr/local/lib/python3.6/dist-packages (from textract) (3.6.3)\n",
            "Requirement already satisfied: python-pptx==0.6.5 in /usr/local/lib/python3.6/dist-packages (from textract) (0.6.5)\n",
            "Requirement already satisfied: pocketsphinx==0.1.3 in /usr/local/lib/python3.6/dist-packages (from textract) (0.1.3)\n",
            "Requirement already satisfied: argcomplete==1.8.2 in /usr/local/lib/python3.6/dist-packages (from textract) (1.8.2)\n",
            "Requirement already satisfied: lxml in /usr/local/lib/python3.6/dist-packages (from EbookLib==0.15->textract) (4.2.1)\n",
            "Requirement already satisfied: XlsxWriter>=0.5.7 in /usr/local/lib/python3.6/dist-packages (from python-pptx==0.6.5->textract) (1.0.5)\n",
            "Requirement already satisfied: Pillow>=2.6.1 in /usr/local/lib/python3.6/dist-packages (from python-pptx==0.6.5->textract) (5.1.0)\n",
            "\u001b[31mtensorboard 1.8.0 has requirement bleach==1.5.0, but you'll have bleach 2.1.3 which is incompatible.\u001b[0m\n",
            "\u001b[31mtensorboard 1.8.0 has requirement html5lib==0.9999999, but you'll have html5lib 1.0.1 which is incompatible.\u001b[0m\n",
            "\u001b[31mrequests 2.18.4 has requirement chardet<3.1.0,>=3.0.2, but you'll have chardet 2.3.0 which is incompatible.\u001b[0m\n",
            "\u001b[31mplotnine 0.3.0 has requirement scipy>=1.0.0, but you'll have scipy 0.19.1 which is incompatible.\u001b[0m\n",
            "Requirement already satisfied: torch==0.3.1 from http://download.pytorch.org/whl/cu80/torch-0.3.1-cp36-cp36m-linux_x86_64.whl in /usr/local/lib/python3.6/dist-packages (0.3.1)\n",
            "Requirement already satisfied: torchvision in /usr/local/lib/python3.6/dist-packages (0.2.1)\n",
            "Requirement already satisfied: numpy in /usr/local/lib/python3.6/dist-packages (from torch==0.3.1) (1.14.3)\n",
            "Requirement already satisfied: pyyaml in /usr/local/lib/python3.6/dist-packages (from torch==0.3.1) (3.12)\n",
            "Requirement already satisfied: pillow>=4.1.1 in /usr/local/lib/python3.6/dist-packages (from torchvision) (5.1.0)\n",
            "Requirement already satisfied: six in /usr/local/lib/python3.6/dist-packages (from torchvision) (1.10.0)\n",
            "\u001b[31mtensorboard 1.8.0 has requirement bleach==1.5.0, but you'll have bleach 2.1.3 which is incompatible.\u001b[0m\n",
            "\u001b[31mtensorboard 1.8.0 has requirement html5lib==0.9999999, but you'll have html5lib 1.0.1 which is incompatible.\u001b[0m\n",
            "\u001b[31mrequests 2.18.4 has requirement chardet<3.1.0,>=3.0.2, but you'll have chardet 2.3.0 which is incompatible.\u001b[0m\n",
            "\u001b[31mplotnine 0.3.0 has requirement scipy>=1.0.0, but you'll have scipy 0.19.1 which is incompatible.\u001b[0m\n",
            "fatal: destination path 'fastai' already exists and is not an empty directory.\n",
            "Requirement already satisfied: bcolz>=1.1.2 in /usr/local/lib/python3.6/dist-packages (from -r fastai/requirements.txt (line 1)) (1.2.1)\n",
            "Requirement already satisfied: bleach>=2.0.0 in /usr/local/lib/python3.6/dist-packages (from -r fastai/requirements.txt (line 2)) (2.1.3)\n",
            "Requirement already satisfied: certifi>=2016.2.28 in /usr/local/lib/python3.6/dist-packages (from -r fastai/requirements.txt (line 3)) (2018.4.16)\n",
            "Requirement already satisfied: cycler>=0.10.0 in /usr/local/lib/python3.6/dist-packages (from -r fastai/requirements.txt (line 4)) (0.10.0)\n",
            "Requirement already satisfied: decorator>=4.1.2 in /usr/local/lib/python3.6/dist-packages (from -r fastai/requirements.txt (line 5)) (4.3.0)\n",
            "Requirement already satisfied: entrypoints>=0.2.3 in /usr/local/lib/python3.6/dist-packages (from -r fastai/requirements.txt (line 6)) (0.2.3)\n",
            "Requirement already satisfied: graphviz>=0.8.2 in /usr/local/lib/python3.6/dist-packages (from -r fastai/requirements.txt (line 7)) (0.8.3)\n",
            "Requirement already satisfied: html5lib>=0.999999999 in /usr/local/lib/python3.6/dist-packages (from -r fastai/requirements.txt (line 8)) (1.0.1)\n",
            "Requirement already satisfied: ipykernel>=4.6.1 in /usr/local/lib/python3.6/dist-packages (from -r fastai/requirements.txt (line 9)) (4.6.1)\n",
            "Requirement already satisfied: ipython>=6.2.0 in /usr/local/lib/python3.6/dist-packages (from -r fastai/requirements.txt (line 10)) (6.4.0)\n",
            "Requirement already satisfied: ipython-genutils>=0.2.0 in /usr/local/lib/python3.6/dist-packages (from -r fastai/requirements.txt (line 11)) (0.2.0)\n",
            "Requirement already satisfied: ipywidgets>=7.0.1 in /usr/local/lib/python3.6/dist-packages (from -r fastai/requirements.txt (line 12)) (7.2.1)\n",
            "Requirement already satisfied: isoweek>=1.3.3 in /usr/local/lib/python3.6/dist-packages (from -r fastai/requirements.txt (line 13)) (1.3.3)\n",
            "Requirement already satisfied: jedi>=0.10.2 in /usr/local/lib/python3.6/dist-packages (from -r fastai/requirements.txt (line 14)) (0.12.0)\n",
            "Requirement already satisfied: Jinja2>=2.9.6 in /usr/local/lib/python3.6/dist-packages (from -r fastai/requirements.txt (line 15)) (2.10)\n",
            "Requirement already satisfied: jsonschema>=2.6.0 in /usr/local/lib/python3.6/dist-packages (from -r fastai/requirements.txt (line 16)) (2.6.0)\n",
            "Requirement already satisfied: jupyter>=1.0.0 in /usr/local/lib/python3.6/dist-packages (from -r fastai/requirements.txt (line 17)) (1.0.0)\n",
            "Requirement already satisfied: jupyter-client>=5.1.0 in /usr/local/lib/python3.6/dist-packages (from -r fastai/requirements.txt (line 18)) (5.2.3)\n",
            "Requirement already satisfied: jupyter-console>=5.2.0 in /usr/local/lib/python3.6/dist-packages (from -r fastai/requirements.txt (line 19)) (5.2.0)\n",
            "Requirement already satisfied: jupyter-core>=4.3.0 in /usr/local/lib/python3.6/dist-packages (from -r fastai/requirements.txt (line 20)) (4.4.0)\n",
            "Requirement already satisfied: MarkupSafe>=1.0 in /usr/local/lib/python3.6/dist-packages (from -r fastai/requirements.txt (line 21)) (1.0)\n",
            "Requirement already satisfied: matplotlib>=2.0.2 in /usr/local/lib/python3.6/dist-packages (from -r fastai/requirements.txt (line 22)) (2.1.2)\n",
            "Requirement already satisfied: mistune>=0.7.4 in /usr/local/lib/python3.6/dist-packages (from -r fastai/requirements.txt (line 23)) (0.8.3)\n",
            "Requirement already satisfied: nbconvert>=5.3.1 in /usr/local/lib/python3.6/dist-packages (from -r fastai/requirements.txt (line 24)) (5.3.1)\n",
            "Requirement already satisfied: nbformat>=4.4.0 in /usr/local/lib/python3.6/dist-packages (from -r fastai/requirements.txt (line 25)) (4.4.0)\n",
            "Requirement already satisfied: notebook>=5.1.0 in /usr/local/lib/python3.6/dist-packages (from -r fastai/requirements.txt (line 26)) (5.2.2)\n",
            "Requirement already satisfied: numpy>=1.13.1 in /usr/local/lib/python3.6/dist-packages (from -r fastai/requirements.txt (line 27)) (1.14.3)\n",
            "Requirement already satisfied: olefile>=0.44 in /usr/local/lib/python3.6/dist-packages (from -r fastai/requirements.txt (line 28)) (0.45.1)\n",
            "Requirement already satisfied: opencv-python>=3.3.0.10 in /usr/local/lib/python3.6/dist-packages (from -r fastai/requirements.txt (line 29)) (3.4.1.15)\n",
            "Requirement already satisfied: pandas>=0.20.3 in /usr/local/lib/python3.6/dist-packages (from -r fastai/requirements.txt (line 30)) (0.22.0)\n",
            "Requirement already satisfied: pandas_summary>=0.0.41 in /usr/local/lib/python3.6/dist-packages (from -r fastai/requirements.txt (line 31)) (0.0.41)\n",
            "Requirement already satisfied: pandocfilters>=1.4.2 in /usr/local/lib/python3.6/dist-packages (from -r fastai/requirements.txt (line 32)) (1.4.2)\n",
            "Requirement already satisfied: pexpect>=4.2.1 in /usr/local/lib/python3.6/dist-packages (from -r fastai/requirements.txt (line 33)) (4.5.0)\n",
            "Requirement already satisfied: pickleshare>=0.7.4 in /usr/local/lib/python3.6/dist-packages (from -r fastai/requirements.txt (line 34)) (0.7.4)\n",
            "Requirement already satisfied: Pillow>=4.2.1 in /usr/local/lib/python3.6/dist-packages (from -r fastai/requirements.txt (line 35)) (5.1.0)\n",
            "Requirement already satisfied: prompt-toolkit>=1.0.15 in /usr/local/lib/python3.6/dist-packages (from -r fastai/requirements.txt (line 36)) (1.0.15)\n",
            "Requirement already satisfied: ptyprocess>=0.5.2 in /usr/local/lib/python3.6/dist-packages (from -r fastai/requirements.txt (line 37)) (0.5.2)\n",
            "Requirement already satisfied: Pygments>=2.2.0 in /usr/local/lib/python3.6/dist-packages (from -r fastai/requirements.txt (line 38)) (2.2.0)\n",
            "Requirement already satisfied: pyparsing>=2.2.0 in /usr/local/lib/python3.6/dist-packages (from -r fastai/requirements.txt (line 39)) (2.2.0)\n",
            "Requirement already satisfied: pytest>=3.5.0 in /usr/local/lib/python3.6/dist-packages (from -r fastai/requirements.txt (line 40)) (3.6.1)\n",
            "Requirement already satisfied: python-dateutil>=2.6.1 in /usr/local/lib/python3.6/dist-packages (from -r fastai/requirements.txt (line 41)) (2.7.3)\n",
            "Requirement already satisfied: pytz>=2017.2 in /usr/local/lib/python3.6/dist-packages (from -r fastai/requirements.txt (line 42)) (2018.4)\n",
            "Requirement already satisfied: PyYAML>=3.12 in /usr/local/lib/python3.6/dist-packages (from -r fastai/requirements.txt (line 43)) (3.12)\n",
            "Requirement already satisfied: pyzmq>=16.0.2 in /usr/local/lib/python3.6/dist-packages (from -r fastai/requirements.txt (line 44)) (16.0.4)\n",
            "Requirement already satisfied: qtconsole>=4.3.1 in /usr/local/lib/python3.6/dist-packages (from -r fastai/requirements.txt (line 45)) (4.3.1)\n",
            "Requirement already satisfied: scipy>=0.19.1 in /usr/local/lib/python3.6/dist-packages (from -r fastai/requirements.txt (line 46)) (0.19.1)\n",
            "Requirement already satisfied: seaborn>=0.8.1 in /usr/local/lib/python3.6/dist-packages (from -r fastai/requirements.txt (line 47)) (0.8.1)\n",
            "Requirement already satisfied: simplegeneric>=0.8.1 in /usr/local/lib/python3.6/dist-packages (from -r fastai/requirements.txt (line 48)) (0.8.1)\n",
            "Collecting six>=1.11.0 (from -r fastai/requirements.txt (line 49))\n",
            "  Using cached https://files.pythonhosted.org/packages/67/4b/141a581104b1f6397bfa78ac9d43d8ad29a7ca43ea90a2d863fe3056e86a/six-1.11.0-py2.py3-none-any.whl\n",
            "Requirement already satisfied: sklearn_pandas>=1.6.0 in /usr/local/lib/python3.6/dist-packages (from -r fastai/requirements.txt (line 50)) (1.6.0)\n"
          ],
          "name": "stdout"
        },
        {
          "output_type": "stream",
          "text": [
            "Requirement already satisfied: terminado>=0.6 in /usr/local/lib/python3.6/dist-packages (from -r fastai/requirements.txt (line 51)) (0.8.1)\r\n",
            "Requirement already satisfied: testpath>=0.3.1 in /usr/local/lib/python3.6/dist-packages (from -r fastai/requirements.txt (line 52)) (0.3.1)\r\n",
            "Requirement already satisfied: torch<0.4 in /usr/local/lib/python3.6/dist-packages (from -r fastai/requirements.txt (line 53)) (0.3.1)\r\n",
            "Requirement already satisfied: torchtext>=0.2.3 in /usr/local/lib/python3.6/dist-packages (from -r fastai/requirements.txt (line 54)) (0.2.3)\r\n",
            "Requirement already satisfied: torchvision>=0.2.0 in /usr/local/lib/python3.6/dist-packages (from -r fastai/requirements.txt (line 55)) (0.2.1)\r\n",
            "Requirement already satisfied: tornado<5,>=4.5.2 in /usr/local/lib/python3.6/dist-packages (from -r fastai/requirements.txt (line 56)) (4.5.3)\r\n",
            "Requirement already satisfied: tqdm>=4.15.0 in /usr/local/lib/python3.6/dist-packages (from -r fastai/requirements.txt (line 57)) (4.23.4)\r\n",
            "Requirement already satisfied: traitlets>=4.3.2 in /usr/local/lib/python3.6/dist-packages (from -r fastai/requirements.txt (line 58)) (4.3.2)\r\n",
            "Requirement already satisfied: wcwidth>=0.1.7 in /usr/local/lib/python3.6/dist-packages (from -r fastai/requirements.txt (line 59)) (0.1.7)\r\n",
            "Requirement already satisfied: webencodings>=0.5.1 in /usr/local/lib/python3.6/dist-packages (from -r fastai/requirements.txt (line 60)) (0.5.1)\r\n",
            "Requirement already satisfied: widgetsnbextension>=3.0.3 in /usr/local/lib/python3.6/dist-packages (from -r fastai/requirements.txt (line 61)) (3.2.1)\n",
            "Requirement already satisfied: setuptools>=18.5 in /usr/local/lib/python3.6/dist-packages (from ipython>=6.2.0->-r fastai/requirements.txt (line 10)) (39.2.0)\n",
            "Requirement already satisfied: backcall in /usr/local/lib/python3.6/dist-packages (from ipython>=6.2.0->-r fastai/requirements.txt (line 10)) (0.1.0)\n",
            "Requirement already satisfied: parso>=0.2.0 in /usr/local/lib/python3.6/dist-packages (from jedi>=0.10.2->-r fastai/requirements.txt (line 14)) (0.2.1)\n",
            "Requirement already satisfied: pluggy<0.7,>=0.5 in /usr/local/lib/python3.6/dist-packages (from pytest>=3.5.0->-r fastai/requirements.txt (line 40)) (0.6.0)\n",
            "Requirement already satisfied: atomicwrites>=1.0 in /usr/local/lib/python3.6/dist-packages (from pytest>=3.5.0->-r fastai/requirements.txt (line 40)) (1.1.5)\n",
            "Requirement already satisfied: attrs>=17.4.0 in /usr/local/lib/python3.6/dist-packages (from pytest>=3.5.0->-r fastai/requirements.txt (line 40)) (18.1.0)\n",
            "Requirement already satisfied: py>=1.5.0 in /usr/local/lib/python3.6/dist-packages (from pytest>=3.5.0->-r fastai/requirements.txt (line 40)) (1.5.3)\n",
            "Requirement already satisfied: more-itertools>=4.0.0 in /usr/local/lib/python3.6/dist-packages (from pytest>=3.5.0->-r fastai/requirements.txt (line 40)) (4.2.0)\n",
            "Requirement already satisfied: scikit-learn>=0.15.0 in /usr/local/lib/python3.6/dist-packages (from sklearn_pandas>=1.6.0->-r fastai/requirements.txt (line 50)) (0.19.1)\n",
            "Requirement already satisfied: requests in /usr/local/lib/python3.6/dist-packages (from torchtext>=0.2.3->-r fastai/requirements.txt (line 54)) (2.18.4)\n",
            "Collecting chardet<3.1.0,>=3.0.2 (from requests->torchtext>=0.2.3->-r fastai/requirements.txt (line 54))\n",
            "  Using cached https://files.pythonhosted.org/packages/bc/a9/01ffebfb562e4274b6487b4bb1ddec7ca55ec7510b22e4c51f14098443b8/chardet-3.0.4-py2.py3-none-any.whl\n",
            "Requirement already satisfied: urllib3<1.23,>=1.21.1 in /usr/local/lib/python3.6/dist-packages (from requests->torchtext>=0.2.3->-r fastai/requirements.txt (line 54)) (1.22)\n",
            "Requirement already satisfied: idna<2.7,>=2.5 in /usr/local/lib/python3.6/dist-packages (from requests->torchtext>=0.2.3->-r fastai/requirements.txt (line 54)) (2.6)\n",
            "\u001b[31mtextract 1.6.1 has requirement chardet==2.3.0, but you'll have chardet 3.0.4 which is incompatible.\u001b[0m\n",
            "\u001b[31mtextract 1.6.1 has requirement six==1.10.0, but you'll have six 1.11.0 which is incompatible.\u001b[0m\n",
            "\u001b[31mtensorboard 1.8.0 has requirement bleach==1.5.0, but you'll have bleach 2.1.3 which is incompatible.\u001b[0m\n",
            "\u001b[31mtensorboard 1.8.0 has requirement html5lib==0.9999999, but you'll have html5lib 1.0.1 which is incompatible.\u001b[0m\n",
            "\u001b[31mplotnine 0.3.0 has requirement scipy>=1.0.0, but you'll have scipy 0.19.1 which is incompatible.\u001b[0m\n",
            "Installing collected packages: six, chardet\n",
            "  Found existing installation: six 1.10.0\n",
            "    Uninstalling six-1.10.0:\n",
            "      Successfully uninstalled six-1.10.0\n",
            "  Found existing installation: chardet 2.3.0\n",
            "    Uninstalling chardet-2.3.0:\n",
            "      Successfully uninstalled chardet-2.3.0\n",
            "Successfully installed chardet-3.0.4 six-1.11.0\n",
            "Processing ./fastai\n",
            "Requirement already satisfied: bcolz in /usr/local/lib/python3.6/dist-packages (from fastai==0.7.0) (1.2.1)\n",
            "Requirement already satisfied: bleach in /usr/local/lib/python3.6/dist-packages (from fastai==0.7.0) (2.1.3)\n",
            "Requirement already satisfied: certifi in /usr/local/lib/python3.6/dist-packages (from fastai==0.7.0) (2018.4.16)\n",
            "Requirement already satisfied: cycler in /usr/local/lib/python3.6/dist-packages (from fastai==0.7.0) (0.10.0)\n",
            "Requirement already satisfied: decorator in /usr/local/lib/python3.6/dist-packages (from fastai==0.7.0) (4.3.0)\n",
            "Requirement already satisfied: entrypoints in /usr/local/lib/python3.6/dist-packages (from fastai==0.7.0) (0.2.3)\n",
            "Requirement already satisfied: feather-format in /usr/local/lib/python3.6/dist-packages (from fastai==0.7.0) (0.4.0)\n",
            "Requirement already satisfied: graphviz in /usr/local/lib/python3.6/dist-packages (from fastai==0.7.0) (0.8.3)\n",
            "Requirement already satisfied: html5lib in /usr/local/lib/python3.6/dist-packages (from fastai==0.7.0) (1.0.1)\n",
            "Requirement already satisfied: ipykernel in /usr/local/lib/python3.6/dist-packages (from fastai==0.7.0) (4.6.1)\n",
            "Requirement already satisfied: ipython in /usr/local/lib/python3.6/dist-packages (from fastai==0.7.0) (6.4.0)\n",
            "Requirement already satisfied: ipython-genutils in /usr/local/lib/python3.6/dist-packages (from fastai==0.7.0) (0.2.0)\n",
            "Requirement already satisfied: ipywidgets in /usr/local/lib/python3.6/dist-packages (from fastai==0.7.0) (7.2.1)\n",
            "Requirement already satisfied: isoweek in /usr/local/lib/python3.6/dist-packages (from fastai==0.7.0) (1.3.3)\n",
            "Requirement already satisfied: jedi in /usr/local/lib/python3.6/dist-packages (from fastai==0.7.0) (0.12.0)\n",
            "Requirement already satisfied: Jinja2 in /usr/local/lib/python3.6/dist-packages (from fastai==0.7.0) (2.10)\n",
            "Requirement already satisfied: jsonschema in /usr/local/lib/python3.6/dist-packages (from fastai==0.7.0) (2.6.0)\n",
            "Requirement already satisfied: jupyter in /usr/local/lib/python3.6/dist-packages (from fastai==0.7.0) (1.0.0)\n",
            "Requirement already satisfied: MarkupSafe in /usr/local/lib/python3.6/dist-packages (from fastai==0.7.0) (1.0)\n",
            "Requirement already satisfied: matplotlib in /usr/local/lib/python3.6/dist-packages (from fastai==0.7.0) (2.1.2)\n",
            "Requirement already satisfied: numpy in /usr/local/lib/python3.6/dist-packages (from fastai==0.7.0) (1.14.3)\n",
            "Requirement already satisfied: opencv-python in /usr/local/lib/python3.6/dist-packages (from fastai==0.7.0) (3.4.1.15)\n",
            "Requirement already satisfied: pandas in /usr/local/lib/python3.6/dist-packages (from fastai==0.7.0) (0.22.0)\n",
            "Requirement already satisfied: pandas_summary in /usr/local/lib/python3.6/dist-packages (from fastai==0.7.0) (0.0.41)\n",
            "Requirement already satisfied: pickleshare in /usr/local/lib/python3.6/dist-packages (from fastai==0.7.0) (0.7.4)\n",
            "Requirement already satisfied: Pillow in /usr/local/lib/python3.6/dist-packages (from fastai==0.7.0) (5.1.0)\n",
            "Requirement already satisfied: plotnine in /usr/local/lib/python3.6/dist-packages (from fastai==0.7.0) (0.3.0)\n",
            "Requirement already satisfied: ptyprocess in /usr/local/lib/python3.6/dist-packages (from fastai==0.7.0) (0.5.2)\n",
            "Requirement already satisfied: Pygments in /usr/local/lib/python3.6/dist-packages (from fastai==0.7.0) (2.2.0)\n",
            "Requirement already satisfied: pyparsing in /usr/local/lib/python3.6/dist-packages (from fastai==0.7.0) (2.2.0)\n",
            "Requirement already satisfied: python-dateutil in /usr/local/lib/python3.6/dist-packages (from fastai==0.7.0) (2.7.3)\n",
            "Requirement already satisfied: pytz in /usr/local/lib/python3.6/dist-packages (from fastai==0.7.0) (2018.4)\n",
            "Requirement already satisfied: PyYAML in /usr/local/lib/python3.6/dist-packages (from fastai==0.7.0) (3.12)\n",
            "Requirement already satisfied: pyzmq in /usr/local/lib/python3.6/dist-packages (from fastai==0.7.0) (16.0.4)\n",
            "Requirement already satisfied: scipy in /usr/local/lib/python3.6/dist-packages (from fastai==0.7.0) (0.19.1)\n",
            "Requirement already satisfied: seaborn in /usr/local/lib/python3.6/dist-packages (from fastai==0.7.0) (0.8.1)\n",
            "Requirement already satisfied: simplegeneric in /usr/local/lib/python3.6/dist-packages (from fastai==0.7.0) (0.8.1)\n",
            "Requirement already satisfied: sklearn_pandas in /usr/local/lib/python3.6/dist-packages (from fastai==0.7.0) (1.6.0)\n",
            "Requirement already satisfied: testpath in /usr/local/lib/python3.6/dist-packages (from fastai==0.7.0) (0.3.1)\n",
            "Requirement already satisfied: torch<0.4 in /usr/local/lib/python3.6/dist-packages (from fastai==0.7.0) (0.3.1)\n",
            "Requirement already satisfied: torchtext in /usr/local/lib/python3.6/dist-packages (from fastai==0.7.0) (0.2.3)\n",
            "Requirement already satisfied: torchvision in /usr/local/lib/python3.6/dist-packages (from fastai==0.7.0) (0.2.1)\n",
            "Requirement already satisfied: tornado in /usr/local/lib/python3.6/dist-packages (from fastai==0.7.0) (4.5.3)\n",
            "Requirement already satisfied: tqdm in /usr/local/lib/python3.6/dist-packages (from fastai==0.7.0) (4.23.4)\n",
            "Requirement already satisfied: traitlets in /usr/local/lib/python3.6/dist-packages (from fastai==0.7.0) (4.3.2)\n",
            "Requirement already satisfied: wcwidth in /usr/local/lib/python3.6/dist-packages (from fastai==0.7.0) (0.1.7)\n",
            "Requirement already satisfied: webencodings in /usr/local/lib/python3.6/dist-packages (from fastai==0.7.0) (0.5.1)\n",
            "Requirement already satisfied: widgetsnbextension in /usr/local/lib/python3.6/dist-packages (from fastai==0.7.0) (3.2.1)\n",
            "Requirement already satisfied: six in /usr/local/lib/python3.6/dist-packages (from bleach->fastai==0.7.0) (1.11.0)\n",
            "Requirement already satisfied: pyarrow>=0.4.0 in /usr/local/lib/python3.6/dist-packages (from feather-format->fastai==0.7.0) (0.9.0)\n",
            "Requirement already satisfied: jupyter-client in /usr/local/lib/python3.6/dist-packages (from ipykernel->fastai==0.7.0) (5.2.3)\n",
            "Requirement already satisfied: backcall in /usr/local/lib/python3.6/dist-packages (from ipython->fastai==0.7.0) (0.1.0)\n",
            "Requirement already satisfied: pexpect; sys_platform != \"win32\" in /usr/local/lib/python3.6/dist-packages (from ipython->fastai==0.7.0) (4.5.0)\n",
            "Requirement already satisfied: setuptools>=18.5 in /usr/local/lib/python3.6/dist-packages (from ipython->fastai==0.7.0) (39.2.0)\n",
            "Requirement already satisfied: prompt-toolkit<2.0.0,>=1.0.15 in /usr/local/lib/python3.6/dist-packages (from ipython->fastai==0.7.0) (1.0.15)\n",
            "Requirement already satisfied: nbformat>=4.2.0 in /usr/local/lib/python3.6/dist-packages (from ipywidgets->fastai==0.7.0) (4.4.0)\n",
            "Requirement already satisfied: parso>=0.2.0 in /usr/local/lib/python3.6/dist-packages (from jedi->fastai==0.7.0) (0.2.1)\n",
            "Requirement already satisfied: nbconvert in /usr/local/lib/python3.6/dist-packages (from jupyter->fastai==0.7.0) (5.3.1)\n",
            "Requirement already satisfied: notebook in /usr/local/lib/python3.6/dist-packages (from jupyter->fastai==0.7.0) (5.2.2)\n"
          ],
          "name": "stdout"
        },
        {
          "output_type": "stream",
          "text": [
            "Requirement already satisfied: qtconsole in /usr/local/lib/python3.6/dist-packages (from jupyter->fastai==0.7.0) (4.3.1)\r\n",
            "Requirement already satisfied: jupyter-console in /usr/local/lib/python3.6/dist-packages (from jupyter->fastai==0.7.0) (5.2.0)\r\n",
            "Requirement already satisfied: statsmodels>=0.8.0 in /usr/local/lib/python3.6/dist-packages (from plotnine->fastai==0.7.0) (0.8.0)\r\n",
            "Requirement already satisfied: mizani>=0.4.1 in /usr/local/lib/python3.6/dist-packages (from plotnine->fastai==0.7.0) (0.4.6)\r\n",
            "Requirement already satisfied: patsy>=0.4.1 in /usr/local/lib/python3.6/dist-packages (from plotnine->fastai==0.7.0) (0.5.0)\r\n",
            "Requirement already satisfied: scikit-learn>=0.15.0 in /usr/local/lib/python3.6/dist-packages (from sklearn_pandas->fastai==0.7.0) (0.19.1)\n",
            "Requirement already satisfied: requests in /usr/local/lib/python3.6/dist-packages (from torchtext->fastai==0.7.0) (2.18.4)\n",
            "Requirement already satisfied: jupyter-core in /usr/local/lib/python3.6/dist-packages (from jupyter-client->ipykernel->fastai==0.7.0) (4.4.0)\n",
            "Requirement already satisfied: mistune>=0.7.4 in /usr/local/lib/python3.6/dist-packages (from nbconvert->jupyter->fastai==0.7.0) (0.8.3)\n",
            "Requirement already satisfied: pandocfilters>=1.4.1 in /usr/local/lib/python3.6/dist-packages (from nbconvert->jupyter->fastai==0.7.0) (1.4.2)\n",
            "Requirement already satisfied: terminado>=0.3.3; sys_platform != \"win32\" in /usr/local/lib/python3.6/dist-packages (from notebook->jupyter->fastai==0.7.0) (0.8.1)\n",
            "Requirement already satisfied: palettable in /usr/local/lib/python3.6/dist-packages (from mizani>=0.4.1->plotnine->fastai==0.7.0) (3.1.1)\n",
            "Requirement already satisfied: urllib3<1.23,>=1.21.1 in /usr/local/lib/python3.6/dist-packages (from requests->torchtext->fastai==0.7.0) (1.22)\n",
            "Requirement already satisfied: chardet<3.1.0,>=3.0.2 in /usr/local/lib/python3.6/dist-packages (from requests->torchtext->fastai==0.7.0) (3.0.4)\n",
            "Requirement already satisfied: idna<2.7,>=2.5 in /usr/local/lib/python3.6/dist-packages (from requests->torchtext->fastai==0.7.0) (2.6)\n",
            "Building wheels for collected packages: fastai\n",
            "  Running setup.py bdist_wheel for fastai ... \u001b[?25l-\b \b\\\b \bdone\n",
            "\u001b[?25h  Stored in directory: /tmp/pip-ephem-wheel-cache-0vgv1k27/wheels/7f/c5/2c/a27fe207aca95898ce43c805d56bc99c9440532d301c42567d\n",
            "Successfully built fastai\n",
            "\u001b[31mtextract 1.6.1 has requirement chardet==2.3.0, but you'll have chardet 3.0.4 which is incompatible.\u001b[0m\n",
            "\u001b[31mtextract 1.6.1 has requirement six==1.10.0, but you'll have six 1.11.0 which is incompatible.\u001b[0m\n",
            "\u001b[31mtensorboard 1.8.0 has requirement bleach==1.5.0, but you'll have bleach 2.1.3 which is incompatible.\u001b[0m\n",
            "\u001b[31mtensorboard 1.8.0 has requirement html5lib==0.9999999, but you'll have html5lib 1.0.1 which is incompatible.\u001b[0m\n",
            "\u001b[31mplotnine 0.3.0 has requirement scipy>=1.0.0, but you'll have scipy 0.19.1 which is incompatible.\u001b[0m\n",
            "Installing collected packages: fastai\n",
            "  Found existing installation: fastai 0.7.0\n",
            "    Uninstalling fastai-0.7.0:\n",
            "      Successfully uninstalled fastai-0.7.0\n",
            "Successfully installed fastai-0.7.0\n",
            "Get:1 http://security.ubuntu.com/ubuntu artful-security InRelease [83.2 kB]\n",
            "Hit:2 http://archive.ubuntu.com/ubuntu artful InRelease\n",
            "Get:3 http://archive.ubuntu.com/ubuntu artful-updates InRelease [88.7 kB]\n",
            "Get:4 http://archive.ubuntu.com/ubuntu artful-backports InRelease [74.6 kB]\n",
            "Fetched 247 kB in 0s (262 kB/s)\n",
            "Reading package lists... Done\n",
            "Building dependency tree       \n",
            "Reading state information... Done\n",
            "25 packages can be upgraded. Run 'apt list --upgradable' to see them.\n",
            "Reading package lists... Done\n"
          ],
          "name": "stdout"
        },
        {
          "output_type": "stream",
          "text": [
            "Building dependency tree       \n",
            "Reading state information... Done\n",
            "libsm6 is already the newest version (2:1.2.2-1).\n",
            "libxext6 is already the newest version (2:1.3.3-1).\n",
            "0 upgraded, 0 newly installed, 0 to remove and 25 not upgraded.\n",
            "Requirement already up-to-date: spacy in /usr/local/lib/python3.6/dist-packages (2.0.11)\n",
            "Requirement not upgraded as not directly required: ujson>=1.35 in /usr/local/lib/python3.6/dist-packages (from spacy) (1.35)\n",
            "Requirement not upgraded as not directly required: plac<1.0.0,>=0.9.6 in /usr/local/lib/python3.6/dist-packages (from spacy) (0.9.6)\n",
            "Requirement not upgraded as not directly required: cymem<1.32,>=1.30 in /usr/local/lib/python3.6/dist-packages (from spacy) (1.31.2)\n",
            "Requirement not upgraded as not directly required: thinc<6.11.0,>=6.10.1 in /usr/local/lib/python3.6/dist-packages (from spacy) (6.10.2)\n",
            "Requirement not upgraded as not directly required: pathlib in /usr/local/lib/python3.6/dist-packages (from spacy) (1.0.1)\n",
            "Requirement not upgraded as not directly required: dill<0.3,>=0.2 in /usr/local/lib/python3.6/dist-packages (from spacy) (0.2.7.1)\n",
            "Requirement not upgraded as not directly required: regex==2017.4.5 in /usr/local/lib/python3.6/dist-packages (from spacy) (2017.4.5)\n",
            "Requirement not upgraded as not directly required: murmurhash<0.29,>=0.28 in /usr/local/lib/python3.6/dist-packages (from spacy) (0.28.0)\n",
            "Requirement not upgraded as not directly required: preshed<2.0.0,>=1.0.0 in /usr/local/lib/python3.6/dist-packages (from spacy) (1.0.0)\n",
            "Requirement not upgraded as not directly required: numpy>=1.7 in /usr/local/lib/python3.6/dist-packages (from spacy) (1.14.3)\n",
            "Requirement not upgraded as not directly required: six<2.0.0,>=1.10.0 in /usr/local/lib/python3.6/dist-packages (from thinc<6.11.0,>=6.10.1->spacy) (1.11.0)\n",
            "Requirement not upgraded as not directly required: msgpack-python in /usr/local/lib/python3.6/dist-packages (from thinc<6.11.0,>=6.10.1->spacy) (0.5.6)\n",
            "Requirement not upgraded as not directly required: cytoolz<0.9,>=0.8 in /usr/local/lib/python3.6/dist-packages (from thinc<6.11.0,>=6.10.1->spacy) (0.8.2)\n",
            "Requirement not upgraded as not directly required: tqdm<5.0.0,>=4.10.0 in /usr/local/lib/python3.6/dist-packages (from thinc<6.11.0,>=6.10.1->spacy) (4.23.4)\n",
            "Requirement not upgraded as not directly required: termcolor in /usr/local/lib/python3.6/dist-packages (from thinc<6.11.0,>=6.10.1->spacy) (1.1.0)\n",
            "Requirement not upgraded as not directly required: wrapt in /usr/local/lib/python3.6/dist-packages (from thinc<6.11.0,>=6.10.1->spacy) (1.10.11)\n",
            "Requirement not upgraded as not directly required: msgpack-numpy==0.4.1 in /usr/local/lib/python3.6/dist-packages (from thinc<6.11.0,>=6.10.1->spacy) (0.4.1)\n",
            "Requirement not upgraded as not directly required: toolz>=0.8.0 in /usr/local/lib/python3.6/dist-packages (from cytoolz<0.9,>=0.8->thinc<6.11.0,>=6.10.1->spacy) (0.9.0)\n",
            "\u001b[31mtextract 1.6.1 has requirement chardet==2.3.0, but you'll have chardet 3.0.4 which is incompatible.\u001b[0m\n",
            "\u001b[31mtextract 1.6.1 has requirement six==1.10.0, but you'll have six 1.11.0 which is incompatible.\u001b[0m\n",
            "\u001b[31mtensorboard 1.8.0 has requirement bleach==1.5.0, but you'll have bleach 2.1.3 which is incompatible.\u001b[0m\n",
            "\u001b[31mtensorboard 1.8.0 has requirement html5lib==0.9999999, but you'll have html5lib 1.0.1 which is incompatible.\u001b[0m\n",
            "\u001b[31mplotnine 0.3.0 has requirement scipy>=1.0.0, but you'll have scipy 0.19.1 which is incompatible.\u001b[0m\n",
            "Collecting https://github.com/explosion/spacy-models/releases/download/en_core_web_sm-2.0.0/en_core_web_sm-2.0.0.tar.gz\n",
            "\u001b[?25l  Downloading https://github.com/explosion/spacy-models/releases/download/en_core_web_sm-2.0.0/en_core_web_sm-2.0.0.tar.gz (37.4MB)\n",
            "\u001b[K    30% |█████████▊                      | 11.4MB 47.9MB/s eta 0:00:01"
          ],
          "name": "stdout"
        },
        {
          "output_type": "stream",
          "text": [
            "\u001b[K    100% |████████████████████████████████| 37.4MB 45.7MB/s \n",
            "\u001b[?25hRequirement already satisfied (use --upgrade to upgrade): en-core-web-sm==2.0.0 from https://github.com/explosion/spacy-models/releases/download/en_core_web_sm-2.0.0/en_core_web_sm-2.0.0.tar.gz in /usr/local/lib/python3.6/dist-packages\n",
            "\n",
            "\u001b[93m    Linking successful\u001b[0m\n",
            "    /usr/local/lib/python3.6/dist-packages/en_core_web_sm -->\n",
            "    /usr/local/lib/python3.6/dist-packages/spacy/data/en\n",
            "\n",
            "    You can now load the model via spacy.load('en')\n",
            "\n",
            "Set up Process took 31.284276962280273 seconds\n"
          ],
          "name": "stdout"
        }
      ]
    },
    {
      "metadata": {
        "id": "bGuLTvaABI4B",
        "colab_type": "code",
        "colab": {
          "base_uri": "https://localhost:8080/",
          "height": 306
        },
        "outputId": "df880dc2-64cf-47c0-8db9-592bfddf24cb"
      },
      "cell_type": "code",
      "source": [
        "# GPU status\n",
        "!ln -sf /opt/bin/nvidia-smi /usr/bin/nvidia-smi\n",
        "!nvidia-smi"
      ],
      "execution_count": 3,
      "outputs": [
        {
          "output_type": "stream",
          "text": [
            "Sat Jun 16 14:53:36 2018       \r\n",
            "+-----------------------------------------------------------------------------+\r\n",
            "| NVIDIA-SMI 384.111                Driver Version: 384.111                   |\r\n",
            "|-------------------------------+----------------------+----------------------+\r\n",
            "| GPU  Name        Persistence-M| Bus-Id        Disp.A | Volatile Uncorr. ECC |\r\n",
            "| Fan  Temp  Perf  Pwr:Usage/Cap|         Memory-Usage | GPU-Util  Compute M. |\r\n",
            "|===============================+======================+======================|\n",
            "|   0  Tesla K80           Off  | 00000000:00:04.0 Off |                    0 |\n",
            "| N/A   33C    P8    31W / 149W |      0MiB / 11439MiB |      0%      Default |\n",
            "+-------------------------------+----------------------+----------------------+\n",
            "                                                                               \n",
            "+-----------------------------------------------------------------------------+\n",
            "| Processes:                                                       GPU Memory |\n",
            "|  GPU       PID   Type   Process name                             Usage      |\n",
            "|=============================================================================|\n",
            "|  No running processes found                                                 |\n",
            "+-----------------------------------------------------------------------------+\n"
          ],
          "name": "stdout"
        }
      ]
    },
    {
      "metadata": {
        "id": "FfX-bueFzyxt",
        "colab_type": "text"
      },
      "cell_type": "markdown",
      "source": [
        "# Export saved files"
      ]
    },
    {
      "metadata": {
        "id": "HSRIhObePT30",
        "colab_type": "code",
        "colab": {
          "base_uri": "https://localhost:8080/",
          "height": 578
        },
        "outputId": "206f43d4-2800-48db-be21-33879f516623"
      },
      "cell_type": "code",
      "source": [
        "# EXPORT\n",
        "\n",
        "filename = 'export1906.tar.gz'\n",
        "\n",
        "print('Archiving files')\n",
        "!tar --exclude='./data/aclImdb/models/wt103' -cvzf {filename} ./data/aclImdb ./data/imdb_clas ./data/imdb_lm ./data/df.pkl\n",
        "\n",
        "!ls -l -h\n",
        "\n",
        "# Google Drive\n",
        "!pip install -U -q PyDrive\n",
        "import os\n",
        "from pydrive.auth import GoogleAuth\n",
        "from pydrive.drive import GoogleDrive\n",
        "from google.colab import auth\n",
        "from oauth2client.client import GoogleCredentials\n",
        "\n",
        "# 1. Authenticate and create the PyDrive client.\n",
        "auth.authenticate_user()\n",
        "gauth = GoogleAuth()\n",
        "gauth.credentials = GoogleCredentials.get_application_default()\n",
        "drive = GoogleDrive(gauth)\n",
        "\n",
        "fid = '1oVM1krBOzXbxgDN9hq8UqQjMxrgvLwzB'     # /DS/A-Bridged\n",
        "\n",
        "f = drive.CreateFile({\"parents\": [{\"kind\": \"drive#fileLink\", \"id\": fid}]})\n",
        "f.SetContentFile(filename)\n",
        "f.Upload()\n",
        "print('Created file %s with mimeType %s' % (f['title'], f['mimeType']))"
      ],
      "execution_count": 79,
      "outputs": [
        {
          "output_type": "stream",
          "text": [
            "Archiving files\n",
            "./data/aclImdb/\n",
            "./data/aclImdb/tmp/\n",
            "./data/aclImdb/models/\n",
            "./data/aclImdb/models/lm_last_ft.h5\n",
            "./data/aclImdb/models/lm5_enc.h5\n",
            "./data/aclImdb/models/tmp.h5\n",
            "./data/aclImdb/models/lm5.h5\n",
            "./data/imdb_clas/\n",
            "./data/imdb_clas/train.csv\n",
            "./data/imdb_clas/classes.txt\n",
            "./data/imdb_clas/test.csv\n",
            "./data/imdb_lm/\n",
            "./data/imdb_lm/tmp/\n",
            "./data/imdb_lm/tmp/tok_trn.npy\n",
            "./data/imdb_lm/tmp/tok_val.npy\n",
            "./data/imdb_lm/tmp/itos.pkl\n",
            "./data/imdb_lm/tmp/val_ids.npy\n",
            "./data/imdb_lm/tmp/trn_ids.npy\n",
            "./data/df.pkl\n",
            "total 423M\n",
            "drwxr-xr-x 10 root root 4.0K Jun 19 13:38 data\n",
            "drwxr-xr-x  1 root root 4.0K Jun 19 13:22 datalab\n",
            "-rw-r--r--  1 root root 423M Jun 19 15:16 export1906.tar.gz\n",
            "drwxr-xr-x  8 root root 4.0K Jun 19 13:25 fastai\n",
            "-rw-r--r--  1 root root  24K Jun 19 15:04 losses.npy\n",
            "-rw-r--r--  1 root root  17K Jun 19 15:04 loss_plot.png\n",
            "\u001b[31mtextract 1.6.1 has requirement chardet==2.3.0, but you'll have chardet 3.0.4 which is incompatible.\u001b[0m\n",
            "\u001b[31mtextract 1.6.1 has requirement six==1.10.0, but you'll have six 1.11.0 which is incompatible.\u001b[0m\n",
            "\u001b[31mtensorboard 1.8.0 has requirement bleach==1.5.0, but you'll have bleach 2.1.3 which is incompatible.\u001b[0m\n",
            "\u001b[31mtensorboard 1.8.0 has requirement html5lib==0.9999999, but you'll have html5lib 1.0.1 which is incompatible.\u001b[0m\n",
            "\u001b[31mplotnine 0.3.0 has requirement scipy>=1.0.0, but you'll have scipy 0.19.1 which is incompatible.\u001b[0m\n",
            "Created file export1906.tar.gz with mimeType application/x-tar\n"
          ],
          "name": "stdout"
        }
      ]
    },
    {
      "metadata": {
        "id": "HO8_oLGnCTFA",
        "colab_type": "text"
      },
      "cell_type": "markdown",
      "source": [
        "# Import saved files"
      ]
    },
    {
      "metadata": {
        "id": "SFJsCYQCQCnp",
        "colab_type": "code",
        "colab": {
          "base_uri": "https://localhost:8080/",
          "height": 714
        },
        "outputId": "c3f1dc6a-991b-4c71-ba7a-dc398e8e872a"
      },
      "cell_type": "code",
      "source": [
        "# Google Drive\n",
        "!pip install -U -q PyDrive\n",
        "import os\n",
        "from pydrive.auth import GoogleAuth\n",
        "from pydrive.drive import GoogleDrive\n",
        "from google.colab import auth\n",
        "from oauth2client.client import GoogleCredentials\n",
        "\n",
        "import re\n",
        "\n",
        "# 1. Authenticate and create the PyDrive client.\n",
        "auth.authenticate_user()\n",
        "gauth = GoogleAuth()\n",
        "gauth.credentials = GoogleCredentials.get_application_default()\n",
        "drive = GoogleDrive(gauth)\n",
        "\n",
        "file_list = drive.ListFile(\n",
        "        {'q': f\"'1oVM1krBOzXbxgDN9hq8UqQjMxrgvLwzB' in parents\"}).GetList()\n",
        "\n",
        "for f in file_list:\n",
        "  if re.match(r'export.*\\.tar\\.gz', f['title']):\n",
        "    if f['labels']['trashed'] == False:\n",
        "      f_ = drive.CreateFile({'id': f['id']})\n",
        "      f_.GetContentFile(f['title'])\n",
        "      print('Created file %s with mimeType %s' % (f_['title'], f_['mimeType']))\n",
        "      print('Extracting files')\n",
        "      !tar -xvzf {f_['title']}\n",
        "      \n",
        "      \n",
        "# Import all the variables\n"
      ],
      "execution_count": 1,
      "outputs": [
        {
          "output_type": "stream",
          "text": [
            "\u001b[31mtextract 1.6.1 has requirement chardet==2.3.0, but you'll have chardet 3.0.4 which is incompatible.\u001b[0m\r\n",
            "\u001b[31mtextract 1.6.1 has requirement six==1.10.0, but you'll have six 1.11.0 which is incompatible.\u001b[0m\r\n",
            "\u001b[31mtensorboard 1.8.0 has requirement bleach==1.5.0, but you'll have bleach 2.1.3 which is incompatible.\u001b[0m\r\n",
            "\u001b[31mtensorboard 1.8.0 has requirement html5lib==0.9999999, but you'll have html5lib 1.0.1 which is incompatible.\u001b[0m\r\n",
            "\u001b[31mplotnine 0.3.0 has requirement scipy>=1.0.0, but you'll have scipy 0.19.1 which is incompatible.\u001b[0m\r\n",
            "Created file export1506.tar.gz with mimeType application/x-tar\n",
            "Extracting files\n",
            "./data/aclImdb/\n",
            "./data/aclImdb/models/\n",
            "./data/aclImdb/models/tmp.h5\n",
            "./data/aclImdb/models/lm_last_ft.h5\n",
            "./data/aclImdb/tmp/\n",
            "./data/imdb_clas/\n",
            "./data/imdb_clas/train.csv\n",
            "./data/imdb_clas/test.csv\n",
            "./data/imdb_clas/classes.txt\n",
            "./data/imdb_lm/\n",
            "./data/imdb_lm/tmp/\n",
            "./data/imdb_lm/tmp/itos.pkl\n",
            "./data/imdb_lm/tmp/trn_ids.npy\n",
            "./data/imdb_lm/tmp/val_ids.npy\n",
            "./data/imdb_lm/tmp/tok_val.npy\n",
            "./data/imdb_lm/tmp/tok_trn.npy\n",
            "Created file export1506.tar.gz with mimeType application/x-tar\n",
            "Extracting files\n",
            "./data/aclImdb/\n",
            "./data/aclImdb/models/\n",
            "./data/aclImdb/models/tmp.h5\n",
            "./data/aclImdb/models/lm_last_ft.h5\n",
            "./data/aclImdb/tmp/\n",
            "./data/imdb_clas/\n",
            "./data/imdb_clas/train.csv\n",
            "./data/imdb_clas/test.csv\n",
            "./data/imdb_clas/classes.txt\n",
            "./data/imdb_lm/\n",
            "./data/imdb_lm/tmp/\n",
            "./data/imdb_lm/tmp/itos.pkl\n",
            "./data/imdb_lm/tmp/trn_ids.npy\n",
            "./data/imdb_lm/tmp/val_ids.npy\n",
            "./data/imdb_lm/tmp/tok_val.npy\n",
            "./data/imdb_lm/tmp/tok_trn.npy\n"
          ],
          "name": "stdout"
        }
      ]
    },
    {
      "metadata": {
        "id": "y4BmnKY_z5F4",
        "colab_type": "text"
      },
      "cell_type": "markdown",
      "source": [
        "# Downloading PDFs from Google Drive"
      ]
    },
    {
      "metadata": {
        "id": "828julC_FLBF",
        "colab_type": "code",
        "colab": {
          "base_uri": "https://localhost:8080/",
          "height": 2074
        },
        "collapsed": true,
        "outputId": "ca4862ba-6de6-450f-add3-def6df773ee4"
      },
      "cell_type": "code",
      "source": [
        "# choose a local (colab) directory to store the data.\n",
        "start_t = time.time()\n",
        "\n",
        "local_download_path = os.path.expanduser('~/data')\n",
        "try:\n",
        "  os.makedirs(local_download_path)\n",
        "except: pass\n",
        "\n",
        "ids = {'SDG 15 - Life on Land': '16O4EAd9uQomSH5CBy8zvZklCUujk8yzn',\n",
        "      'SDG 12 - Responsible Consumption and Production': '1h1n9hVcrT73a1sh9cuJDBmW0erBRa_ZS',\n",
        "      'SDG 10 - Reduced Inequalities': '1SLumvZ4n4BJM3zmXdIUWEplcjx2JGMN-',\n",
        "      'SDG 08 - Decent Work and Economic Growth': '1jIm9xN6PiGvnGQ9Xu0OSUZHsexuTTTaC',\n",
        "      'SDG 05 - Gender Equality': '116grOjLbS7j79UPvNEz0jEb3WR-4BVMX'}\n",
        "\n",
        "def download_files(ids):\n",
        "  for name, id in ids.items():\n",
        "    try:\n",
        "      os.makedirs(os.path.join(local_download_path, name))\n",
        "    except: pass\n",
        "    file_list = drive.ListFile(\n",
        "        {'q': f\"'{id}' in parents\"}).GetList()\n",
        "\n",
        "    for f in file_list:\n",
        "      # 3. Create & download by id.\n",
        "#       print('title: %s, id: %s' % (f['title'], f['id']))\n",
        "      fname = os.path.join(local_download_path, name, f['title'])\n",
        "      print('downloading to {}'.format(fname))\n",
        "      try:\n",
        "        f_ = drive.CreateFile({'id': f['id']})\n",
        "        f_.GetContentFile(fname)\n",
        "      except:pass\n",
        "      \n",
        "download_files(ids)\n",
        "\n",
        "print(f'Downloading the PDFs took {time.time() - start_t} seconds')"
      ],
      "execution_count": 3,
      "outputs": [
        {
          "output_type": "stream",
          "text": [
            "downloading to /content/data/SDG 15 - Life on Land/Reclaiming the City- Waterfront Development in Singapore.pdf\n",
            "downloading to /content/data/SDG 15 - Life on Land/ANIMAL PROTECTION LAWS OF SINGAPORE AND MALAYSIA.pdf\n",
            "downloading to /content/data/SDG 15 - Life on Land/SG sustainable future, law governance and management.pdf\n",
            "downloading to /content/data/SDG 15 - Life on Land/-A FINE CITY IN A GARDEN-ENVIRONMENTAL LAW AND GOVERNANCE IN SINGAPORE.pdf\n",
            "downloading to /content/data/SDG 15 - Life on Land/Kyoto Protocol.pdf\n",
            "downloading to /content/data/SDG 15 - Life on Land/Convention on the Law of the  International Watercourses.pdf\n",
            "downloading to /content/data/SDG 15 - Life on Land/Mekong River.pdf\n",
            "downloading to /content/data/SDG 15 - Life on Land/Pulp Mill on River Uruguay.pdf\n",
            "downloading to /content/data/SDG 15 - Life on Land/Mekong Agreement and Procedures.pdf\n",
            "downloading to /content/data/SDG 15 - Life on Land/UNFCC.pdf\n",
            "downloading to /content/data/SDG 15 - Life on Land/Env Laws SG.pdf\n",
            "downloading to /content/data/SDG 15 - Life on Land/Conservation Law Notes Singapore.pdf\n",
            "downloading to /content/data/SDG 15 - Life on Land/Conservation Law Notes.pdf\n",
            "downloading to /content/data/SDG 15 - Life on Land/MDG 2015 rev (July 1).pdf\n",
            "downloading to /content/data/SDG 15 - Life on Land/Agenda21.pdf\n",
            "downloading to /content/data/SDG 15 - Life on Land/ASEAN Agreement on Transboundary Haze Pollution.pdf\n",
            "downloading to /content/data/SDG 15 - Life on Land/MEM notes ICM.pdf\n",
            "downloading to /content/data/SDG 15 - Life on Land/MEM notes habitat fragmentation.pdf\n",
            "downloading to /content/data/SDG 15 - Life on Land/MEM Notes Designing nature reserves.pdf\n",
            "downloading to /content/data/SDG 15 - Life on Land/TBT.pdf\n",
            "downloading to /content/data/SDG 15 - Life on Land/Goh and Lai_MarPollutBull2013.pdf\n",
            "downloading to /content/data/SDG 15 - Life on Land/Ecological indices.pdf\n",
            "downloading to /content/data/SDG 15 - Life on Land/ENDANGERED SPECIES (IMPORT AND EXPORT) ACT.pdf\n",
            "downloading to /content/data/SDG 15 - Life on Land/PARKS AND TREES ACT.pdf\n",
            "downloading to /content/data/SDG 15 - Life on Land/Wild Animals and Birds Act.pdf\n",
            "downloading to /content/data/SDG 15 - Life on Land/WABA.pdf\n",
            "downloading to /content/data/SDG 15 - Life on Land/THE POTENTIAL OF OCYPODE CERATOPHTHALMUS (PALLAS, 1772) AS A BIOINDICATOR OF HUMAN DISTURBANCE ON SINGAPORE BEACHES.pdf\n",
            "downloading to /content/data/SDG 15 - Life on Land/CBD Global Biodiversity Outlook 3E 2010.pdf\n",
            "downloading to /content/data/SDG 15 - Life on Land/LASCO Carbon stocks of forest conversion APN Newsletter 2001.pdf\n",
            "downloading to /content/data/SDG 12 - Responsible Consumption and Production/Book\n",
            "downloading to /content/data/SDG 12 - Responsible Consumption and Production/Extension of environmental accounting.pdf\n",
            "downloading to /content/data/SDG 12 - Responsible Consumption and Production/Capsular view of CBA (1).pdf\n",
            "downloading to /content/data/SDG 12 - Responsible Consumption and Production/Chapter-8 BCA.pdf\n",
            "downloading to /content/data/SDG 12 - Responsible Consumption and Production/Environmental Valuation - Knetsch 1994.pdf\n",
            "downloading to /content/data/SDG 12 - Responsible Consumption and Production/Chapter-6  from Sinden and Thampapillai (1995) BCA.pdf\n",
            "downloading to /content/data/SDG 12 - Responsible Consumption and Production/Dixon 2008.pdf\n",
            "downloading to /content/data/SDG 12 - Responsible Consumption and Production/104328-WP-PUBLIC-OD-Habit-and-Nudging-Catalyst-Behavioral-Sciences-022916.pdf\n",
            "downloading to /content/data/SDG 12 - Responsible Consumption and Production/Lessons from Science Need for a Rethink of Concepts in Economics.pdf\n",
            "downloading to /content/data/SDG 12 - Responsible Consumption and Production/IMPERFECT INFORMATION INLEARNING OF ECONOMICS.pdf\n",
            "downloading to /content/data/SDG 12 - Responsible Consumption and Production/Thermodynamics on MainStreet.pdf\n",
            "downloading to /content/data/SDG 12 - Responsible Consumption and Production/Scneider and Kay.pdf\n",
            "downloading to /content/data/SDG 12 - Responsible Consumption and Production/Raine Foster Potts 2006.pdf\n",
            "downloading to /content/data/SDG 12 - Responsible Consumption and Production/Jeffrey Young 1991.pdf\n",
            "downloading to /content/data/SDG 12 - Responsible Consumption and Production/Herman Daly 1992.pdf\n",
            "downloading to /content/data/SDG 12 - Responsible Consumption and Production/Gowdy and Messener 1998.pdf\n",
            "downloading to /content/data/SDG 12 - Responsible Consumption and Production/Elias Khalil 2004.pdf\n"
          ],
          "name": "stdout"
        },
        {
          "output_type": "stream",
          "text": [
            "downloading to /content/data/SDG 12 - Responsible Consumption and Production/Cleveland and Ruth 1997.pdf\n",
            "downloading to /content/data/SDG 12 - Responsible Consumption and Production/Ayres 1999.pdf\n",
            "downloading to /content/data/SDG 12 - Responsible Consumption and Production/Supplement to Lecture 3.pdf\n",
            "downloading to /content/data/SDG 10 - Reduced Inequalities/birch-corporatesocialresponsibility-2004.pdf\n",
            "downloading to /content/data/SDG 10 - Reduced Inequalities/The_Dynamics_of_Corporate_Social_Responsibility_INSEAD.pdf\n",
            "downloading to /content/data/SDG 10 - Reduced Inequalities/1251121517Corporate Philanthropy in Asia.pdf\n",
            "downloading to /content/data/SDG 10 - Reduced Inequalities/Contextualising CSR in Asia_ Corporate Social Responsibility in A.pdf\n",
            "downloading to /content/data/SDG 10 - Reduced Inequalities/Engaging Employees in Community Investment at Pfizer.pdf\n",
            "downloading to /content/data/SDG 10 - Reduced Inequalities/Stakeholder Engagement and Sustainable CorporateCommunity Investment.pdf\n",
            "downloading to /content/data/SDG 10 - Reduced Inequalities/The strategic relevance of corporate community investments.pdf\n",
            "downloading to /content/data/SDG 10 - Reduced Inequalities/Beyond Corporate Social Responsibility- The Scope for Corporate Investment in Community Driven Development.pdf\n",
            "downloading to /content/data/SDG 10 - Reduced Inequalities/Corporate Philanthropy Report.pdf\n",
            "downloading to /content/data/SDG 10 - Reduced Inequalities/Reporting on Community Investment.pdf\n",
            "downloading to /content/data/SDG 10 - Reduced Inequalities/09-CSR in Asia A seven country study of CSR website reporting.PDF\n",
            "downloading to /content/data/SDG 10 - Reduced Inequalities/sdgs-business-reporting-analysis (Sep2017).pdf\n",
            "downloading to /content/data/SDG 10 - Reduced Inequalities/The Philanthropic Times are Changing in Asia.pdf\n",
            "downloading to /content/data/SDG 10 - Reduced Inequalities/JAMASocialEntImprovingGlobalHealth8pages copy.pdf\n",
            "downloading to /content/data/SDG 10 - Reduced Inequalities/acsep-working-paper-no5-ebook.pdf\n",
            "downloading to /content/data/SDG 10 - Reduced Inequalities/POTENTIAL AND PROSPECTS FOR PHILANTHROPY IN IMPLEMENTING POST-2015 DEVELOPMENT GOALS.pdf\n",
            "downloading to /content/data/SDG 10 - Reduced Inequalities/The evolution of Asia philanthropy.pdf\n",
            "downloading to /content/data/SDG 10 - Reduced Inequalities/Corporate-Philanthropy-in-China.pdf\n",
            "downloading to /content/data/SDG 10 - Reduced Inequalities/Corporate Measurement of Philanthropic Impacts as a Requirement for a “Happy Marriage” of Business and Society.pdf\n",
            "downloading to /content/data/SDG 10 - Reduced Inequalities/Investigating Philanthropy Initiatives in Chinese Higher Education.pdf\n",
            "downloading to /content/data/SDG 10 - Reduced Inequalities/Corporate giving in Taiwan- agency cost theory vs. value enhancement theory.pdf\n",
            "downloading to /content/data/SDG 10 - Reduced Inequalities/Corporate Social Responsibility and Gender Diversity.pdf\n",
            "downloading to /content/data/SDG 10 - Reduced Inequalities/Giving Circles in Asia- Newcomers to the Asian Philanthropy Landscape.pdf\n",
            "downloading to /content/data/SDG 10 - Reduced Inequalities/Institutional Ownership and Corporate Philanthropic Giving in an Emerging Economy.pdf\n",
            "downloading to /content/data/SDG 10 - Reduced Inequalities/The Business of Doing Good.pdf\n",
            "downloading to /content/data/SDG 10 - Reduced Inequalities/Does the Market Value Corporate Philanthropy? Evidence from the Response to the 2004 Tsunami Relief Effort.pdf\n",
            "downloading to /content/data/SDG 10 - Reduced Inequalities/Do Employees Support Corporate Philanthropy? Evidence from Chinese Listed Companies.pdf\n",
            "downloading to /content/data/SDG 10 - Reduced Inequalities/Corporate environmental responsibility (CER) weakness, media coverage, and corporate philanthropy- Evidence from China.pdf\n",
            "downloading to /content/data/SDG 10 - Reduced Inequalities/ESSAYS ON CORPORATE PHILANTHROPY AFTER CORPORATE SOCIAL IRRESPONSIBLE INCIDENTS .pdf\n",
            "downloading to /content/data/SDG 10 - Reduced Inequalities/Quality reporting of corporate philanthropy.pdf\n",
            "downloading to /content/data/SDG 10 - Reduced Inequalities/Impact of Corporate Social Responsibility Dimensions on Firm Value- Some Evidence from Hong Kong and China.pdf\n",
            "downloading to /content/data/SDG 08 - Decent Work and Economic Growth/Challenges and Opportunities to Promote Decent Work.pdf\n",
            "downloading to /content/data/SDG 08 - Decent Work and Economic Growth/Changing Employment Conditions of the Indian Workforce.pdf\n",
            "downloading to /content/data/SDG 08 - Decent Work and Economic Growth/Pro-Poor to Inclusive Growth.pdf\n",
            "downloading to /content/data/SDG 08 - Decent Work and Economic Growth/The Place of Social Capital.pdf\n",
            "downloading to /content/data/SDG 08 - Decent Work and Economic Growth/Economic Growth in South Asia.pdf\n",
            "downloading to /content/data/SDG 08 - Decent Work and Economic Growth/ADOLESCENTS, YOUTH AND DEVELOPMENT.pdf\n"
          ],
          "name": "stdout"
        },
        {
          "output_type": "stream",
          "text": [
            "downloading to /content/data/SDG 08 - Decent Work and Economic Growth/Globalization and its effects on youth employment trends in Asia.pdf\n",
            "downloading to /content/data/SDG 08 - Decent Work and Economic Growth/Global Production Systems and Decent Work.pdf\n",
            "downloading to /content/data/SDG 08 - Decent Work and Economic Growth/Decent Work.pdf\n",
            "downloading to /content/data/SDG 08 - Decent Work and Economic Growth/Marginality_from_Myth_to_Reality.pdf\n",
            "downloading to /content/data/SDG 08 - Decent Work and Economic Growth/Rising Informality.pdf\n",
            "downloading to /content/data/SDG 08 - Decent Work and Economic Growth/Decent Work Objectives and Activities.pdf\n",
            "downloading to /content/data/SDG 08 - Decent Work and Economic Growth/Women’s economic empowerment and inclusive growth.pdf\n",
            "downloading to /content/data/SDG 08 - Decent Work and Economic Growth/Measurement of decent work.pdf\n",
            "downloading to /content/data/SDG 08 - Decent Work and Economic Growth/ORGANISING AS A CATALYST FOR PROMOTING DECENT WORK.pdf\n",
            "downloading to /content/data/SDG 08 - Decent Work and Economic Growth/Labour_Regulations_and_Labour_Standards_in_India_D.pdf\n",
            "downloading to /content/data/SDG 08 - Decent Work and Economic Growth/Informalization, Economic Growth and the Challenge.pdf\n",
            "downloading to /content/data/SDG 08 - Decent Work and Economic Growth/The Nexus of Economic Growth, Employment and Poverty Reduction.pdf\n",
            "downloading to /content/data/SDG 08 - Decent Work and Economic Growth/Inclusive Growth toward a Prosperous Asia.pdf\n",
            "downloading to /content/data/SDG 08 - Decent Work and Economic Growth/Macroeconomic policy for full and productive employment and decent work for all.pdf\n",
            "downloading to /content/data/SDG 05 - Gender Equality/Arab Spring_ Women?s Empowerment in Algeria.pdf\n",
            "downloading to /content/data/SDG 05 - Gender Equality/Queer_LGBT Nigerian Diasporic Women in the USA.pdf\n",
            "downloading to /content/data/SDG 05 - Gender Equality/The Role of Women in the Arab World.pdf\n",
            "downloading to /content/data/SDG 05 - Gender Equality/Sexual and Gender-Based Violence.pdf\n",
            "downloading to /content/data/SDG 05 - Gender Equality/Sleeping Beauty as a Metaphor.pdf\n",
            "downloading to /content/data/SDG 05 - Gender Equality/Gender Differences in Aspirations for Career and Marriage.pdf\n",
            "downloading to /content/data/SDG 05 - Gender Equality/Indian Feminists in the Legal Reform Process.pdf\n",
            "downloading to /content/data/SDG 05 - Gender Equality/Cross-Gender Casting.pdf\n",
            "downloading to /content/data/SDG 05 - Gender Equality/Anti-Capitalist Feminism and Female Complicity.pdf\n",
            "downloading to /content/data/SDG 05 - Gender Equality/Earning Power of Mothers and Children?s Time Allocation.pdf\n",
            "downloading to /content/data/SDG 05 - Gender Equality/Prevention of Sexual Harassment of Women in the Workplace.pdf\n",
            "downloading to /content/data/SDG 05 - Gender Equality/Empowering Indonesian women through building digitalmedia literacy.pdf\n",
            "downloading to /content/data/SDG 05 - Gender Equality/Gender, Employment, and Work-Family Balance Policies in Singapore.pdf\n",
            "downloading to /content/data/SDG 05 - Gender Equality/Determinants of Female?s Employment Outcomes in Vietnam.pdf\n",
            "downloading to /content/data/SDG 05 - Gender Equality/Role Performance of Elected Panchayat Leaders in India.pdf\n",
            "downloading to /content/data/SDG 05 - Gender Equality/Study of Gender as Social Practice.pdf\n",
            "downloading to /content/data/SDG 05 - Gender Equality/Gender Poverty and Inequality.pdf\n",
            "downloading to /content/data/SDG 05 - Gender Equality/Comfort Women of South Korea.pdf\n",
            "downloading to /content/data/SDG 05 - Gender Equality/Diversity in Top Level Management and Firm Performance.pdf\n",
            "downloading to /content/data/SDG 05 - Gender Equality/Keys to Women?s Liberation in Communist China.pdf\n",
            "Downloading the PDFs took 102.71308636665344 seconds\n"
          ],
          "name": "stdout"
        }
      ]
    },
    {
      "metadata": {
        "id": "wrRHh7N_0Ahh",
        "colab_type": "text"
      },
      "cell_type": "markdown",
      "source": [
        "# Reading the PDF into DF"
      ]
    },
    {
      "metadata": {
        "id": "NlQNkPkaS9RL",
        "colab_type": "code",
        "colab": {
          "base_uri": "https://localhost:8080/",
          "height": 2091
        },
        "outputId": "dd876f88-fada-4ed5-cd88-d96633aa1ece"
      },
      "cell_type": "code",
      "source": [
        "# Reading the PDF\n",
        "df = pd.DataFrame()\n",
        "succ = 0\n",
        "fail = 0\n",
        "pattern = 'SDG (\\d{2})'\n",
        "s_t = time.time()\n",
        "\n",
        "for foldername in os.listdir(local_download_path):\n",
        "  if os.path.isdir(os.path.join(local_download_path, foldername)):\n",
        "    for filename in os.listdir(os.path.join(local_download_path, foldername)):\n",
        "      try:\n",
        "        print(os.path.join(local_download_path, foldername, filename))\n",
        "\n",
        "#         Old PyPDF2 code\n",
        "#         read_pdf = PyPDF2.PdfFileReader(os.path.join(local_download_path, foldername, filename))\n",
        "#         t = ''\n",
        "#         for p in range(0, read_pdf.getNumPages()):\n",
        "#           page = read_pdf.getPage(p)\n",
        "#           page_content = page.extractText()\n",
        "#           t += str(page_content.encode('utf-8'))\n",
        "\n",
        "        # Textract code\n",
        "        t = textract.process(os.path.join(local_download_path, foldername, filename))\n",
        "\n",
        "        df=df.append({'filename': filename, 'SDG': re.search(pattern, foldername).group(1),'fulltext': t}, ignore_index=True)\n",
        "        succ += 1\n",
        "      except Exception as e: \n",
        "        print(e)\n",
        "        fail += 1\n",
        "\n",
        "print(f'''Successfully processed {succ}/{succ+fail} pdfs''')\n",
        "print(f'Reading PDFs took {time.time()-s_t} seconds')"
      ],
      "execution_count": 4,
      "outputs": [
        {
          "output_type": "stream",
          "text": [
            "/content/data/SDG 05 - Gender Equality/Role Performance of Elected Panchayat Leaders in India.pdf\n",
            "/content/data/SDG 05 - Gender Equality/Study of Gender as Social Practice.pdf\n",
            "/content/data/SDG 05 - Gender Equality/Indian Feminists in the Legal Reform Process.pdf\n",
            "/content/data/SDG 05 - Gender Equality/Queer_LGBT Nigerian Diasporic Women in the USA.pdf\n",
            "/content/data/SDG 05 - Gender Equality/Sexual and Gender-Based Violence.pdf\n",
            "/content/data/SDG 05 - Gender Equality/Gender Differences in Aspirations for Career and Marriage.pdf\n",
            "/content/data/SDG 05 - Gender Equality/Cross-Gender Casting.pdf\n",
            "/content/data/SDG 05 - Gender Equality/Arab Spring_ Women?s Empowerment in Algeria.pdf\n",
            "/content/data/SDG 05 - Gender Equality/Empowering Indonesian women through building digitalmedia literacy.pdf\n",
            "/content/data/SDG 05 - Gender Equality/Keys to Women?s Liberation in Communist China.pdf\n",
            "/content/data/SDG 05 - Gender Equality/Determinants of Female?s Employment Outcomes in Vietnam.pdf\n",
            "/content/data/SDG 05 - Gender Equality/Anti-Capitalist Feminism and Female Complicity.pdf\n",
            "/content/data/SDG 05 - Gender Equality/Gender, Employment, and Work-Family Balance Policies in Singapore.pdf\n",
            "/content/data/SDG 05 - Gender Equality/Diversity in Top Level Management and Firm Performance.pdf\n",
            "/content/data/SDG 05 - Gender Equality/The Role of Women in the Arab World.pdf\n",
            "/content/data/SDG 05 - Gender Equality/Sleeping Beauty as a Metaphor.pdf\n",
            "/content/data/SDG 05 - Gender Equality/Comfort Women of South Korea.pdf\n",
            "/content/data/SDG 05 - Gender Equality/Gender Poverty and Inequality.pdf\n",
            "/content/data/SDG 05 - Gender Equality/Earning Power of Mothers and Children?s Time Allocation.pdf\n",
            "/content/data/SDG 05 - Gender Equality/Prevention of Sexual Harassment of Women in the Workplace.pdf\n",
            "/content/data/SDG 08 - Decent Work and Economic Growth/Measurement of decent work.pdf\n",
            "/content/data/SDG 08 - Decent Work and Economic Growth/Decent Work Objectives and Activities.pdf\n",
            "/content/data/SDG 08 - Decent Work and Economic Growth/Labour_Regulations_and_Labour_Standards_in_India_D.pdf\n",
            "/content/data/SDG 08 - Decent Work and Economic Growth/Macroeconomic policy for full and productive employment and decent work for all.pdf\n",
            "/content/data/SDG 08 - Decent Work and Economic Growth/Global Production Systems and Decent Work.pdf\n",
            "/content/data/SDG 08 - Decent Work and Economic Growth/Women’s economic empowerment and inclusive growth.pdf\n",
            "/content/data/SDG 08 - Decent Work and Economic Growth/Informalization, Economic Growth and the Challenge.pdf\n",
            "/content/data/SDG 08 - Decent Work and Economic Growth/Globalization and its effects on youth employment trends in Asia.pdf\n",
            "/content/data/SDG 08 - Decent Work and Economic Growth/Pro-Poor to Inclusive Growth.pdf\n",
            "/content/data/SDG 08 - Decent Work and Economic Growth/ORGANISING AS A CATALYST FOR PROMOTING DECENT WORK.pdf\n",
            "/content/data/SDG 08 - Decent Work and Economic Growth/ADOLESCENTS, YOUTH AND DEVELOPMENT.pdf\n",
            "/content/data/SDG 08 - Decent Work and Economic Growth/Inclusive Growth toward a Prosperous Asia.pdf\n",
            "/content/data/SDG 08 - Decent Work and Economic Growth/Decent Work.pdf\n",
            "/content/data/SDG 08 - Decent Work and Economic Growth/Changing Employment Conditions of the Indian Workforce.pdf\n",
            "/content/data/SDG 08 - Decent Work and Economic Growth/The Place of Social Capital.pdf\n",
            "/content/data/SDG 08 - Decent Work and Economic Growth/The Nexus of Economic Growth, Employment and Poverty Reduction.pdf\n",
            "/content/data/SDG 08 - Decent Work and Economic Growth/Marginality_from_Myth_to_Reality.pdf\n",
            "/content/data/SDG 08 - Decent Work and Economic Growth/Rising Informality.pdf\n",
            "/content/data/SDG 08 - Decent Work and Economic Growth/Economic Growth in South Asia.pdf\n",
            "/content/data/SDG 08 - Decent Work and Economic Growth/Challenges and Opportunities to Promote Decent Work.pdf\n",
            "/content/data/SDG 15 - Life on Land/Conservation Law Notes Singapore.pdf\n",
            "/content/data/SDG 15 - Life on Land/Ecological indices.pdf\n",
            "/content/data/SDG 15 - Life on Land/Env Laws SG.pdf\n",
            "/content/data/SDG 15 - Life on Land/PARKS AND TREES ACT.pdf\n",
            "/content/data/SDG 15 - Life on Land/ASEAN Agreement on Transboundary Haze Pollution.pdf\n",
            "/content/data/SDG 15 - Life on Land/MEM Notes Designing nature reserves.pdf\n",
            "/content/data/SDG 15 - Life on Land/Goh and Lai_MarPollutBull2013.pdf\n",
            "/content/data/SDG 15 - Life on Land/CBD Global Biodiversity Outlook 3E 2010.pdf\n",
            "/content/data/SDG 15 - Life on Land/MDG 2015 rev (July 1).pdf\n",
            "/content/data/SDG 15 - Life on Land/ENDANGERED SPECIES (IMPORT AND EXPORT) ACT.pdf\n"
          ],
          "name": "stdout"
        },
        {
          "output_type": "stream",
          "text": [
            "/content/data/SDG 15 - Life on Land/LASCO Carbon stocks of forest conversion APN Newsletter 2001.pdf\n",
            "/content/data/SDG 15 - Life on Land/Mekong River.pdf\n",
            "/content/data/SDG 15 - Life on Land/Conservation Law Notes.pdf\n",
            "/content/data/SDG 15 - Life on Land/Wild Animals and Birds Act.pdf\n",
            "/content/data/SDG 15 - Life on Land/Pulp Mill on River Uruguay.pdf\n",
            "/content/data/SDG 15 - Life on Land/Convention on the Law of the  International Watercourses.pdf\n",
            "/content/data/SDG 15 - Life on Land/WABA.pdf\n",
            "/content/data/SDG 15 - Life on Land/Agenda21.pdf\n",
            "/content/data/SDG 15 - Life on Land/SG sustainable future, law governance and management.pdf\n",
            "/content/data/SDG 15 - Life on Land/MEM notes habitat fragmentation.pdf\n",
            "/content/data/SDG 15 - Life on Land/Kyoto Protocol.pdf\n",
            "/content/data/SDG 15 - Life on Land/Reclaiming the City- Waterfront Development in Singapore.pdf\n",
            "/content/data/SDG 15 - Life on Land/THE POTENTIAL OF OCYPODE CERATOPHTHALMUS (PALLAS, 1772) AS A BIOINDICATOR OF HUMAN DISTURBANCE ON SINGAPORE BEACHES.pdf\n",
            "/content/data/SDG 15 - Life on Land/UNFCC.pdf\n",
            "/content/data/SDG 15 - Life on Land/MEM notes ICM.pdf\n",
            "/content/data/SDG 15 - Life on Land/Mekong Agreement and Procedures.pdf\n",
            "'charmap' codec can't decode byte 0x9d in position 31361: character maps to <undefined>\n",
            "/content/data/SDG 15 - Life on Land/-A FINE CITY IN A GARDEN-ENVIRONMENTAL LAW AND GOVERNANCE IN SINGAPORE.pdf\n",
            "/content/data/SDG 15 - Life on Land/ANIMAL PROTECTION LAWS OF SINGAPORE AND MALAYSIA.pdf\n",
            "/content/data/SDG 15 - Life on Land/TBT.pdf\n",
            "/content/data/SDG 12 - Responsible Consumption and Production/Cleveland and Ruth 1997.pdf\n",
            "/content/data/SDG 12 - Responsible Consumption and Production/Herman Daly 1992.pdf\n",
            "/content/data/SDG 12 - Responsible Consumption and Production/Thermodynamics on MainStreet.pdf\n",
            "/content/data/SDG 12 - Responsible Consumption and Production/Scneider and Kay.pdf\n",
            "/content/data/SDG 12 - Responsible Consumption and Production/Chapter-8 BCA.pdf\n",
            "/content/data/SDG 12 - Responsible Consumption and Production/Raine Foster Potts 2006.pdf\n",
            "/content/data/SDG 12 - Responsible Consumption and Production/Jeffrey Young 1991.pdf\n",
            "/content/data/SDG 12 - Responsible Consumption and Production/Chapter-6  from Sinden and Thampapillai (1995) BCA.pdf\n",
            "/content/data/SDG 12 - Responsible Consumption and Production/Ayres 1999.pdf\n",
            "/content/data/SDG 12 - Responsible Consumption and Production/Capsular view of CBA (1).pdf\n",
            "/content/data/SDG 12 - Responsible Consumption and Production/Gowdy and Messener 1998.pdf\n",
            "/content/data/SDG 12 - Responsible Consumption and Production/Supplement to Lecture 3.pdf\n",
            "/content/data/SDG 12 - Responsible Consumption and Production/IMPERFECT INFORMATION INLEARNING OF ECONOMICS.pdf\n",
            "/content/data/SDG 12 - Responsible Consumption and Production/Dixon 2008.pdf\n",
            "/content/data/SDG 12 - Responsible Consumption and Production/104328-WP-PUBLIC-OD-Habit-and-Nudging-Catalyst-Behavioral-Sciences-022916.pdf\n",
            "/content/data/SDG 12 - Responsible Consumption and Production/Lessons from Science Need for a Rethink of Concepts in Economics.pdf\n",
            "/content/data/SDG 12 - Responsible Consumption and Production/Environmental Valuation - Knetsch 1994.pdf\n",
            "/content/data/SDG 12 - Responsible Consumption and Production/Extension of environmental accounting.pdf\n",
            "/content/data/SDG 12 - Responsible Consumption and Production/Elias Khalil 2004.pdf\n",
            "/content/data/SDG 10 - Reduced Inequalities/Corporate environmental responsibility (CER) weakness, media coverage, and corporate philanthropy- Evidence from China.pdf\n",
            "/content/data/SDG 10 - Reduced Inequalities/Do Employees Support Corporate Philanthropy? Evidence from Chinese Listed Companies.pdf\n",
            "/content/data/SDG 10 - Reduced Inequalities/The_Dynamics_of_Corporate_Social_Responsibility_INSEAD.pdf\n",
            "/content/data/SDG 10 - Reduced Inequalities/ESSAYS ON CORPORATE PHILANTHROPY AFTER CORPORATE SOCIAL IRRESPONSIBLE INCIDENTS .pdf\n",
            "/content/data/SDG 10 - Reduced Inequalities/Giving Circles in Asia- Newcomers to the Asian Philanthropy Landscape.pdf\n",
            "/content/data/SDG 10 - Reduced Inequalities/acsep-working-paper-no5-ebook.pdf\n",
            "/content/data/SDG 10 - Reduced Inequalities/Beyond Corporate Social Responsibility- The Scope for Corporate Investment in Community Driven Development.pdf\n",
            "/content/data/SDG 10 - Reduced Inequalities/Corporate Social Responsibility and Gender Diversity.pdf\n",
            "/content/data/SDG 10 - Reduced Inequalities/Quality reporting of corporate philanthropy.pdf\n",
            "/content/data/SDG 10 - Reduced Inequalities/Corporate giving in Taiwan- agency cost theory vs. value enhancement theory.pdf\n",
            "/content/data/SDG 10 - Reduced Inequalities/Corporate-Philanthropy-in-China.pdf\n",
            "/content/data/SDG 10 - Reduced Inequalities/Contextualising CSR in Asia_ Corporate Social Responsibility in A.pdf\n",
            "/content/data/SDG 10 - Reduced Inequalities/JAMASocialEntImprovingGlobalHealth8pages copy.pdf\n",
            "/content/data/SDG 10 - Reduced Inequalities/Reporting on Community Investment.pdf\n"
          ],
          "name": "stdout"
        },
        {
          "output_type": "stream",
          "text": [
            "/content/data/SDG 10 - Reduced Inequalities/Corporate Measurement of Philanthropic Impacts as a Requirement for a “Happy Marriage” of Business and Society.pdf\n",
            "/content/data/SDG 10 - Reduced Inequalities/09-CSR in Asia A seven country study of CSR website reporting.PDF\n",
            "/content/data/SDG 10 - Reduced Inequalities/The strategic relevance of corporate community investments.pdf\n",
            "/content/data/SDG 10 - Reduced Inequalities/sdgs-business-reporting-analysis (Sep2017).pdf\n",
            "/content/data/SDG 10 - Reduced Inequalities/1251121517Corporate Philanthropy in Asia.pdf\n",
            "/content/data/SDG 10 - Reduced Inequalities/POTENTIAL AND PROSPECTS FOR PHILANTHROPY IN IMPLEMENTING POST-2015 DEVELOPMENT GOALS.pdf\n",
            "/content/data/SDG 10 - Reduced Inequalities/The Business of Doing Good.pdf\n",
            "/content/data/SDG 10 - Reduced Inequalities/Engaging Employees in Community Investment at Pfizer.pdf\n",
            "/content/data/SDG 10 - Reduced Inequalities/The Philanthropic Times are Changing in Asia.pdf\n",
            "/content/data/SDG 10 - Reduced Inequalities/Institutional Ownership and Corporate Philanthropic Giving in an Emerging Economy.pdf\n",
            "/content/data/SDG 10 - Reduced Inequalities/Investigating Philanthropy Initiatives in Chinese Higher Education.pdf\n",
            "/content/data/SDG 10 - Reduced Inequalities/Stakeholder Engagement and Sustainable CorporateCommunity Investment.pdf\n",
            "/content/data/SDG 10 - Reduced Inequalities/birch-corporatesocialresponsibility-2004.pdf\n",
            "/content/data/SDG 10 - Reduced Inequalities/Corporate Philanthropy Report.pdf\n",
            "/content/data/SDG 10 - Reduced Inequalities/Does the Market Value Corporate Philanthropy? Evidence from the Response to the 2004 Tsunami Relief Effort.pdf\n",
            "/content/data/SDG 10 - Reduced Inequalities/The evolution of Asia philanthropy.pdf\n",
            "/content/data/SDG 10 - Reduced Inequalities/Impact of Corporate Social Responsibility Dimensions on Firm Value- Some Evidence from Hong Kong and China.pdf\n",
            "Successfully processed 118/119 pdfs\n",
            "Reading PDFs took 71.83550333976746 seconds\n"
          ],
          "name": "stdout"
        }
      ]
    },
    {
      "metadata": {
        "id": "_RJ_4obbUgiZ",
        "colab_type": "code",
        "colab": {}
      },
      "cell_type": "code",
      "source": [
        "df.to_pickle('data/df.pkl')"
      ],
      "execution_count": 0,
      "outputs": []
    },
    {
      "metadata": {
        "id": "pMIDQ0VfU2-G",
        "colab_type": "code",
        "colab": {}
      },
      "cell_type": "code",
      "source": [
        "df = pd.read_pickle('data/df.pkl')"
      ],
      "execution_count": 0,
      "outputs": []
    },
    {
      "metadata": {
        "id": "1Kmnu1CsdNtw",
        "colab_type": "code",
        "colab": {
          "base_uri": "https://localhost:8080/",
          "height": 204
        },
        "outputId": "22eb980b-bd74-4514-d4b7-bcca0dd2e0f2"
      },
      "cell_type": "code",
      "source": [
        "df.head()"
      ],
      "execution_count": 7,
      "outputs": [
        {
          "output_type": "execute_result",
          "data": {
            "text/html": [
              "<div>\n",
              "<style scoped>\n",
              "    .dataframe tbody tr th:only-of-type {\n",
              "        vertical-align: middle;\n",
              "    }\n",
              "\n",
              "    .dataframe tbody tr th {\n",
              "        vertical-align: top;\n",
              "    }\n",
              "\n",
              "    .dataframe thead th {\n",
              "        text-align: right;\n",
              "    }\n",
              "</style>\n",
              "<table border=\"1\" class=\"dataframe\">\n",
              "  <thead>\n",
              "    <tr style=\"text-align: right;\">\n",
              "      <th></th>\n",
              "      <th>SDG</th>\n",
              "      <th>filename</th>\n",
              "      <th>fulltext</th>\n",
              "    </tr>\n",
              "  </thead>\n",
              "  <tbody>\n",
              "    <tr>\n",
              "      <th>0</th>\n",
              "      <td>05</td>\n",
              "      <td>Role Performance of Elected Panchayat Leaders ...</td>\n",
              "      <td>b\"Journal of International Women's Studies\\nVo...</td>\n",
              "    </tr>\n",
              "    <tr>\n",
              "      <th>1</th>\n",
              "      <td>05</td>\n",
              "      <td>Study of Gender as Social Practice.pdf</td>\n",
              "      <td>b\"Journal of International Women's Studies\\nVo...</td>\n",
              "    </tr>\n",
              "    <tr>\n",
              "      <th>2</th>\n",
              "      <td>05</td>\n",
              "      <td>Indian Feminists in the Legal Reform Process.pdf</td>\n",
              "      <td>b'Journal of International Women\\'s Studies\\nV...</td>\n",
              "    </tr>\n",
              "    <tr>\n",
              "      <th>3</th>\n",
              "      <td>05</td>\n",
              "      <td>Queer_LGBT Nigerian Diasporic Women in the USA...</td>\n",
              "      <td>b\"Journal of International Women's Studies\\nVo...</td>\n",
              "    </tr>\n",
              "    <tr>\n",
              "      <th>4</th>\n",
              "      <td>05</td>\n",
              "      <td>Sexual and Gender-Based Violence.pdf</td>\n",
              "      <td>b\"Journal of International Women's Studies\\nVo...</td>\n",
              "    </tr>\n",
              "  </tbody>\n",
              "</table>\n",
              "</div>"
            ],
            "text/plain": [
              "  SDG                                           filename  \\\n",
              "0  05  Role Performance of Elected Panchayat Leaders ...   \n",
              "1  05             Study of Gender as Social Practice.pdf   \n",
              "2  05   Indian Feminists in the Legal Reform Process.pdf   \n",
              "3  05  Queer_LGBT Nigerian Diasporic Women in the USA...   \n",
              "4  05               Sexual and Gender-Based Violence.pdf   \n",
              "\n",
              "                                            fulltext  \n",
              "0  b\"Journal of International Women's Studies\\nVo...  \n",
              "1  b\"Journal of International Women's Studies\\nVo...  \n",
              "2  b'Journal of International Women\\'s Studies\\nV...  \n",
              "3  b\"Journal of International Women's Studies\\nVo...  \n",
              "4  b\"Journal of International Women's Studies\\nVo...  "
            ]
          },
          "metadata": {
            "tags": []
          },
          "execution_count": 7
        }
      ]
    },
    {
      "metadata": {
        "id": "qh-IBvLohoD3",
        "colab_type": "code",
        "colab": {
          "base_uri": "https://localhost:8080/",
          "height": 235
        },
        "outputId": "15ed8018-15ff-4364-c608-9dcdd4e23edc"
      },
      "cell_type": "code",
      "source": [
        "# Count of articles by SDG\n",
        "(df\n",
        " .groupby('SDG')\n",
        " .count())"
      ],
      "execution_count": 8,
      "outputs": [
        {
          "output_type": "execute_result",
          "data": {
            "text/html": [
              "<div>\n",
              "<style scoped>\n",
              "    .dataframe tbody tr th:only-of-type {\n",
              "        vertical-align: middle;\n",
              "    }\n",
              "\n",
              "    .dataframe tbody tr th {\n",
              "        vertical-align: top;\n",
              "    }\n",
              "\n",
              "    .dataframe thead th {\n",
              "        text-align: right;\n",
              "    }\n",
              "</style>\n",
              "<table border=\"1\" class=\"dataframe\">\n",
              "  <thead>\n",
              "    <tr style=\"text-align: right;\">\n",
              "      <th></th>\n",
              "      <th>filename</th>\n",
              "      <th>fulltext</th>\n",
              "    </tr>\n",
              "    <tr>\n",
              "      <th>SDG</th>\n",
              "      <th></th>\n",
              "      <th></th>\n",
              "    </tr>\n",
              "  </thead>\n",
              "  <tbody>\n",
              "    <tr>\n",
              "      <th>05</th>\n",
              "      <td>20</td>\n",
              "      <td>20</td>\n",
              "    </tr>\n",
              "    <tr>\n",
              "      <th>08</th>\n",
              "      <td>20</td>\n",
              "      <td>20</td>\n",
              "    </tr>\n",
              "    <tr>\n",
              "      <th>10</th>\n",
              "      <td>31</td>\n",
              "      <td>31</td>\n",
              "    </tr>\n",
              "    <tr>\n",
              "      <th>12</th>\n",
              "      <td>19</td>\n",
              "      <td>19</td>\n",
              "    </tr>\n",
              "    <tr>\n",
              "      <th>15</th>\n",
              "      <td>28</td>\n",
              "      <td>28</td>\n",
              "    </tr>\n",
              "  </tbody>\n",
              "</table>\n",
              "</div>"
            ],
            "text/plain": [
              "     filename  fulltext\n",
              "SDG                    \n",
              "05         20        20\n",
              "08         20        20\n",
              "10         31        31\n",
              "12         19        19\n",
              "15         28        28"
            ]
          },
          "metadata": {
            "tags": []
          },
          "execution_count": 8
        }
      ]
    },
    {
      "metadata": {
        "id": "t8kOpMD9jfYR",
        "colab_type": "code",
        "colab": {
          "base_uri": "https://localhost:8080/",
          "height": 235
        },
        "outputId": "26cf09d8-e5c9-46a3-a7aa-918cc3f5b0b8"
      },
      "cell_type": "code",
      "source": [
        "# Short article lengths, usually not read by the pdf reader correctly\n",
        "df_short =(df\n",
        "           .assign(text_len = lambda x: x.fulltext.str.len())\n",
        "           .query('text_len < 5000'))\n",
        "\n",
        "# Removing these articles from analysis\n",
        "df_usable = df[~df.filename.isin(df_short.filename)]\n",
        "\n",
        "(df_usable\n",
        " .groupby('SDG')\n",
        " .count())"
      ],
      "execution_count": 9,
      "outputs": [
        {
          "output_type": "execute_result",
          "data": {
            "text/html": [
              "<div>\n",
              "<style scoped>\n",
              "    .dataframe tbody tr th:only-of-type {\n",
              "        vertical-align: middle;\n",
              "    }\n",
              "\n",
              "    .dataframe tbody tr th {\n",
              "        vertical-align: top;\n",
              "    }\n",
              "\n",
              "    .dataframe thead th {\n",
              "        text-align: right;\n",
              "    }\n",
              "</style>\n",
              "<table border=\"1\" class=\"dataframe\">\n",
              "  <thead>\n",
              "    <tr style=\"text-align: right;\">\n",
              "      <th></th>\n",
              "      <th>filename</th>\n",
              "      <th>fulltext</th>\n",
              "    </tr>\n",
              "    <tr>\n",
              "      <th>SDG</th>\n",
              "      <th></th>\n",
              "      <th></th>\n",
              "    </tr>\n",
              "  </thead>\n",
              "  <tbody>\n",
              "    <tr>\n",
              "      <th>05</th>\n",
              "      <td>20</td>\n",
              "      <td>20</td>\n",
              "    </tr>\n",
              "    <tr>\n",
              "      <th>08</th>\n",
              "      <td>20</td>\n",
              "      <td>20</td>\n",
              "    </tr>\n",
              "    <tr>\n",
              "      <th>10</th>\n",
              "      <td>29</td>\n",
              "      <td>29</td>\n",
              "    </tr>\n",
              "    <tr>\n",
              "      <th>12</th>\n",
              "      <td>15</td>\n",
              "      <td>15</td>\n",
              "    </tr>\n",
              "    <tr>\n",
              "      <th>15</th>\n",
              "      <td>24</td>\n",
              "      <td>24</td>\n",
              "    </tr>\n",
              "  </tbody>\n",
              "</table>\n",
              "</div>"
            ],
            "text/plain": [
              "     filename  fulltext\n",
              "SDG                    \n",
              "05         20        20\n",
              "08         20        20\n",
              "10         29        29\n",
              "12         15        15\n",
              "15         24        24"
            ]
          },
          "metadata": {
            "tags": []
          },
          "execution_count": 9
        }
      ]
    },
    {
      "metadata": {
        "id": "VHTpPK1uLjUr",
        "colab_type": "code",
        "colab": {}
      },
      "cell_type": "code",
      "source": [
        "from fastai.text import *\n",
        "import html\n",
        "\n",
        "BOS = 'xbos'  # beginning-of-sentence tag\n",
        "FLD = 'xfld'  # data field tag\n",
        "\n",
        "PATH=Path('data/aclImdb/')\n",
        "\n",
        "CLAS_PATH=Path('data/imdb_clas/')\n",
        "CLAS_PATH.mkdir(exist_ok=True)\n",
        "\n",
        "LM_PATH=Path('data/imdb_lm/')\n",
        "LM_PATH.mkdir(exist_ok=True)\n",
        "\n",
        "col_names = ['labels','text']\n",
        "\n",
        "chunksize=24000"
      ],
      "execution_count": 0,
      "outputs": []
    },
    {
      "metadata": {
        "id": "syyrJbUTBQgZ",
        "colab_type": "code",
        "colab": {}
      },
      "cell_type": "code",
      "source": [
        "trn_texts,val_texts = sklearn.model_selection.train_test_split(\n",
        "    df_usable, test_size=0.1)"
      ],
      "execution_count": 0,
      "outputs": []
    },
    {
      "metadata": {
        "id": "zw40WUDoBmfL",
        "colab_type": "code",
        "colab": {
          "base_uri": "https://localhost:8080/",
          "height": 34
        },
        "outputId": "8579ced0-21f4-4287-ab35-6c902d10e73a"
      },
      "cell_type": "code",
      "source": [
        "len(trn_texts), len(val_texts)"
      ],
      "execution_count": 12,
      "outputs": [
        {
          "output_type": "execute_result",
          "data": {
            "text/plain": [
              "(97, 11)"
            ]
          },
          "metadata": {
            "tags": []
          },
          "execution_count": 12
        }
      ]
    },
    {
      "metadata": {
        "id": "bk8U303bC5H2",
        "colab_type": "code",
        "colab": {
          "base_uri": "https://localhost:8080/",
          "height": 235
        },
        "outputId": "36d32863-31da-4e8a-d3ea-e6c757f5c075"
      },
      "cell_type": "code",
      "source": [
        "(trn_texts\n",
        " .groupby('SDG')\n",
        " .count())"
      ],
      "execution_count": 13,
      "outputs": [
        {
          "output_type": "execute_result",
          "data": {
            "text/html": [
              "<div>\n",
              "<style scoped>\n",
              "    .dataframe tbody tr th:only-of-type {\n",
              "        vertical-align: middle;\n",
              "    }\n",
              "\n",
              "    .dataframe tbody tr th {\n",
              "        vertical-align: top;\n",
              "    }\n",
              "\n",
              "    .dataframe thead th {\n",
              "        text-align: right;\n",
              "    }\n",
              "</style>\n",
              "<table border=\"1\" class=\"dataframe\">\n",
              "  <thead>\n",
              "    <tr style=\"text-align: right;\">\n",
              "      <th></th>\n",
              "      <th>filename</th>\n",
              "      <th>fulltext</th>\n",
              "    </tr>\n",
              "    <tr>\n",
              "      <th>SDG</th>\n",
              "      <th></th>\n",
              "      <th></th>\n",
              "    </tr>\n",
              "  </thead>\n",
              "  <tbody>\n",
              "    <tr>\n",
              "      <th>05</th>\n",
              "      <td>18</td>\n",
              "      <td>18</td>\n",
              "    </tr>\n",
              "    <tr>\n",
              "      <th>08</th>\n",
              "      <td>18</td>\n",
              "      <td>18</td>\n",
              "    </tr>\n",
              "    <tr>\n",
              "      <th>10</th>\n",
              "      <td>26</td>\n",
              "      <td>26</td>\n",
              "    </tr>\n",
              "    <tr>\n",
              "      <th>12</th>\n",
              "      <td>12</td>\n",
              "      <td>12</td>\n",
              "    </tr>\n",
              "    <tr>\n",
              "      <th>15</th>\n",
              "      <td>23</td>\n",
              "      <td>23</td>\n",
              "    </tr>\n",
              "  </tbody>\n",
              "</table>\n",
              "</div>"
            ],
            "text/plain": [
              "     filename  fulltext\n",
              "SDG                    \n",
              "05         18        18\n",
              "08         18        18\n",
              "10         26        26\n",
              "12         12        12\n",
              "15         23        23"
            ]
          },
          "metadata": {
            "tags": []
          },
          "execution_count": 13
        }
      ]
    },
    {
      "metadata": {
        "id": "i7adOPJFC7cI",
        "colab_type": "code",
        "colab": {
          "base_uri": "https://localhost:8080/",
          "height": 235
        },
        "outputId": "ec13688c-2bc4-4114-8ee4-82b93759df5a"
      },
      "cell_type": "code",
      "source": [
        "(val_texts\n",
        " .groupby('SDG')\n",
        " .count())"
      ],
      "execution_count": 14,
      "outputs": [
        {
          "output_type": "execute_result",
          "data": {
            "text/html": [
              "<div>\n",
              "<style scoped>\n",
              "    .dataframe tbody tr th:only-of-type {\n",
              "        vertical-align: middle;\n",
              "    }\n",
              "\n",
              "    .dataframe tbody tr th {\n",
              "        vertical-align: top;\n",
              "    }\n",
              "\n",
              "    .dataframe thead th {\n",
              "        text-align: right;\n",
              "    }\n",
              "</style>\n",
              "<table border=\"1\" class=\"dataframe\">\n",
              "  <thead>\n",
              "    <tr style=\"text-align: right;\">\n",
              "      <th></th>\n",
              "      <th>filename</th>\n",
              "      <th>fulltext</th>\n",
              "    </tr>\n",
              "    <tr>\n",
              "      <th>SDG</th>\n",
              "      <th></th>\n",
              "      <th></th>\n",
              "    </tr>\n",
              "  </thead>\n",
              "  <tbody>\n",
              "    <tr>\n",
              "      <th>05</th>\n",
              "      <td>2</td>\n",
              "      <td>2</td>\n",
              "    </tr>\n",
              "    <tr>\n",
              "      <th>08</th>\n",
              "      <td>2</td>\n",
              "      <td>2</td>\n",
              "    </tr>\n",
              "    <tr>\n",
              "      <th>10</th>\n",
              "      <td>3</td>\n",
              "      <td>3</td>\n",
              "    </tr>\n",
              "    <tr>\n",
              "      <th>12</th>\n",
              "      <td>3</td>\n",
              "      <td>3</td>\n",
              "    </tr>\n",
              "    <tr>\n",
              "      <th>15</th>\n",
              "      <td>1</td>\n",
              "      <td>1</td>\n",
              "    </tr>\n",
              "  </tbody>\n",
              "</table>\n",
              "</div>"
            ],
            "text/plain": [
              "     filename  fulltext\n",
              "SDG                    \n",
              "05          2         2\n",
              "08          2         2\n",
              "10          3         3\n",
              "12          3         3\n",
              "15          1         1"
            ]
          },
          "metadata": {
            "tags": []
          },
          "execution_count": 14
        }
      ]
    },
    {
      "metadata": {
        "id": "alVDqogRDPVl",
        "colab_type": "text"
      },
      "cell_type": "markdown",
      "source": [
        "# Saving text in standard csv format with labels"
      ]
    },
    {
      "metadata": {
        "id": "Mz-5R0Lvqy5t",
        "colab_type": "code",
        "colab": {}
      },
      "cell_type": "code",
      "source": [
        "# TODO to save the text files in the 'standard csv format with labels' as mentioned in fastai before data processing\n",
        "# this is to facilitate the chunk processing of the text\n",
        "\n",
        "(trn_texts\n",
        " [['SDG','fulltext']]\n",
        " .rename({'SDG': 'labels', 'fulltext': 'text'}, axis = 1)\n",
        " .to_csv(CLAS_PATH/'train.csv', header=False, index=False)\n",
        ")\n",
        "\n",
        "(val_texts\n",
        " [['SDG','fulltext']]\n",
        " .rename({'SDG': 'labels', 'fulltext': 'text'}, axis = 1)\n",
        " .to_csv(CLAS_PATH/'test.csv', header=False, index=False)\n",
        ")\n",
        "\n",
        "(CLAS_PATH/'classes.txt').open('w').writelines(f'{k}\\n' for k in ids.keys())"
      ],
      "execution_count": 0,
      "outputs": []
    },
    {
      "metadata": {
        "id": "FA78SZxdDdPy",
        "colab_type": "text"
      },
      "cell_type": "markdown",
      "source": [
        "# Cleaning of text and tokenising"
      ]
    },
    {
      "metadata": {
        "id": "lnI4oj58Obrr",
        "colab_type": "code",
        "colab": {}
      },
      "cell_type": "code",
      "source": [
        "re1 = re.compile(r'  +')\n",
        "\n",
        "def fixup(x):\n",
        "    x = x.replace('#39;', \"'\").replace('amp;', '&').replace('#146;', \"'\").replace(\n",
        "        'nbsp;', ' ').replace('#36;', '$').replace('\\\\n', \"\\n\").replace('quot;', \"'\").replace(\n",
        "        '<br />', \"\\n\").replace('\\\\\"', '\"').replace('<unk>','u_n').replace(' @.@ ','.').replace(\n",
        "        ' @-@ ','-').replace('\\\\', ' \\\\ ')\n",
        "    return re1.sub(' ', html.unescape(x))    #html.unescape() Convert all named and numeric character references (e.g. &gt;, &#62;, &x3e;) in the string to the corresponding unicode(actual) characters."
      ],
      "execution_count": 0,
      "outputs": []
    },
    {
      "metadata": {
        "id": "pSxweD2PLpmL",
        "colab_type": "code",
        "colab": {}
      },
      "cell_type": "code",
      "source": [
        "def get_texts(df, n_lbls=1):\n",
        "    labels = df.iloc[:,range(n_lbls)].values.astype(np.int64)\n",
        "    texts = f'\\n{BOS} {FLD} 1 ' + df[n_lbls].astype(str)\n",
        "    for i in range(n_lbls+1, len(df.columns)): texts += f' {FLD} {i-n_lbls} ' + df[i].astype(str)\n",
        "    texts = texts.apply(fixup).values.astype(str)\n",
        "\n",
        "    tok = Tokenizer().proc_all_mp(partition_by_cores(texts))\n",
        "    return tok, list(labels)"
      ],
      "execution_count": 0,
      "outputs": []
    },
    {
      "metadata": {
        "id": "TCMOM7zuJlQZ",
        "colab_type": "code",
        "colab": {}
      },
      "cell_type": "code",
      "source": [
        "def get_all(df, n_lbls):\n",
        "    tok, labels = [], []\n",
        "    for i, r in enumerate(df):\n",
        "        print(i)\n",
        "        tok_, labels_ = get_texts(r, n_lbls)\n",
        "        tok += tok_;\n",
        "        labels += labels_\n",
        "    return tok, labels"
      ],
      "execution_count": 0,
      "outputs": []
    },
    {
      "metadata": {
        "id": "xaEWis36Jl9g",
        "colab_type": "code",
        "colab": {}
      },
      "cell_type": "code",
      "source": [
        "df_trn = pd.read_csv(CLAS_PATH/'train.csv', header=None, chunksize=chunksize)\n",
        "df_val = pd.read_csv(CLAS_PATH/'test.csv', header=None, chunksize=chunksize)"
      ],
      "execution_count": 0,
      "outputs": []
    },
    {
      "metadata": {
        "id": "B4GUMoxN6ttx",
        "colab_type": "code",
        "colab": {
          "base_uri": "https://localhost:8080/",
          "height": 51
        },
        "outputId": "d0049f7a-ed64-478d-e39f-1cd864a9dff4"
      },
      "cell_type": "code",
      "source": [
        "tok_trn, trn_labels = get_all(df_trn, 1)\n",
        "tok_val, val_labels = get_all(df_val, 1)"
      ],
      "execution_count": 20,
      "outputs": [
        {
          "output_type": "stream",
          "text": [
            "0\n",
            "0\n"
          ],
          "name": "stdout"
        }
      ]
    },
    {
      "metadata": {
        "id": "xmDuN2A0DJuU",
        "colab_type": "code",
        "colab": {}
      },
      "cell_type": "code",
      "source": [
        "(LM_PATH/'tmp').mkdir(exist_ok=True)"
      ],
      "execution_count": 0,
      "outputs": []
    },
    {
      "metadata": {
        "id": "0TJQMVCRDLd0",
        "colab_type": "code",
        "colab": {}
      },
      "cell_type": "code",
      "source": [
        "np.save(LM_PATH/'tmp'/'tok_trn.npy', tok_trn)\n",
        "np.save(LM_PATH/'tmp'/'tok_val.npy', tok_val)"
      ],
      "execution_count": 0,
      "outputs": []
    },
    {
      "metadata": {
        "id": "do77eKlUDM6_",
        "colab_type": "code",
        "colab": {}
      },
      "cell_type": "code",
      "source": [
        "tok_trn = np.load(LM_PATH/'tmp'/'tok_trn.npy')\n",
        "tok_val = np.load(LM_PATH/'tmp'/'tok_val.npy')"
      ],
      "execution_count": 0,
      "outputs": []
    },
    {
      "metadata": {
        "id": "7c4wa4Xw8IYh",
        "colab_type": "code",
        "colab": {
          "base_uri": "https://localhost:8080/",
          "height": 867
        },
        "outputId": "f9c398ef-4a2b-487f-e015-7e71820e7f91"
      },
      "cell_type": "code",
      "source": [
        "freq = Counter(p for o in tok_trn for p in o)\n",
        "freq.most_common(50)"
      ],
      "execution_count": 24,
      "outputs": [
        {
          "output_type": "execute_result",
          "data": {
            "text/plain": [
              "[('\\n', 136688),\n",
              " ('\\\\', 100682),\n",
              " (',', 89172),\n",
              " ('the', 80069),\n",
              " ('.', 71426),\n",
              " ('of', 58657),\n",
              " ('and', 57975),\n",
              " ('\\n\\n', 44131),\n",
              " ('to', 35273),\n",
              " ('in', 35163),\n",
              " ('xe2', 27651),\n",
              " ('x80', 26068),\n",
              " (')', 23866),\n",
              " ('(', 22529),\n",
              " ('t_up', 22029),\n",
              " ('a', 20898),\n",
              " ('-', 17992),\n",
              " ('for', 15621),\n",
              " ('is', 13013),\n",
              " (':', 11940),\n",
              " ('that', 11638),\n",
              " ('on', 10537),\n",
              " ('as', 10493),\n",
              " ('/', 9587),\n",
              " ('with', 8524),\n",
              " ('by', 8431),\n",
              " ('are', 8141),\n",
              " ('or', 8068),\n",
              " ('\\n\\n ', 7929),\n",
              " ('be', 7193),\n",
              " (';', 7192),\n",
              " ('this', 6618),\n",
              " ('\\n ', 6421),\n",
              " ('from', 6035),\n",
              " ('social', 5036),\n",
              " ('at', 5026),\n",
              " ('it', 4948),\n",
              " ('an', 4661),\n",
              " ('not', 4637),\n",
              " ('their', 4517),\n",
              " ('x99s', 4437),\n",
              " ('have', 4355),\n",
              " ('development', 4350),\n",
              " ('has', 3787),\n",
              " ('work', 3612),\n",
              " ('women', 3599),\n",
              " ('which', 3436),\n",
              " ('x9d', 3418),\n",
              " ('countries', 3347),\n",
              " ('corporate', 3288)]"
            ]
          },
          "metadata": {
            "tags": []
          },
          "execution_count": 24
        }
      ]
    },
    {
      "metadata": {
        "id": "iNwKUTzl8rN6",
        "colab_type": "code",
        "colab": {}
      },
      "cell_type": "code",
      "source": [
        "max_vocab = 60000\n",
        "min_freq = 2"
      ],
      "execution_count": 0,
      "outputs": []
    },
    {
      "metadata": {
        "id": "iBl5E-5F8rrW",
        "colab_type": "code",
        "colab": {}
      },
      "cell_type": "code",
      "source": [
        "itos = [o for o,c in freq.most_common(max_vocab) if c>min_freq]\n",
        "itos.insert(0, '_pad_')\n",
        "itos.insert(0, '_unk_')"
      ],
      "execution_count": 0,
      "outputs": []
    },
    {
      "metadata": {
        "id": "gyCCopH0D5ed",
        "colab_type": "text"
      },
      "cell_type": "markdown",
      "source": [
        "# Convert String to Int representation"
      ]
    },
    {
      "metadata": {
        "id": "0CvubN4V8t92",
        "colab_type": "code",
        "colab": {
          "base_uri": "https://localhost:8080/",
          "height": 34
        },
        "outputId": "23b6f2d5-b49a-4b60-8e9e-f816f5b0eadb"
      },
      "cell_type": "code",
      "source": [
        "stoi = collections.defaultdict(lambda:0, {v:k for k,v in enumerate(itos)})\n",
        "len(itos)"
      ],
      "execution_count": 27,
      "outputs": [
        {
          "output_type": "execute_result",
          "data": {
            "text/plain": [
              "20662"
            ]
          },
          "metadata": {
            "tags": []
          },
          "execution_count": 27
        }
      ]
    },
    {
      "metadata": {
        "id": "5KCnJo1y80Bw",
        "colab_type": "code",
        "colab": {}
      },
      "cell_type": "code",
      "source": [
        "trn_lm = np.array([[stoi[o] for o in p] for p in tok_trn])\n",
        "val_lm = np.array([[stoi[o] for o in p] for p in tok_val])"
      ],
      "execution_count": 0,
      "outputs": []
    },
    {
      "metadata": {
        "id": "cSq8gqddDU_y",
        "colab_type": "code",
        "colab": {}
      },
      "cell_type": "code",
      "source": [
        "np.save(LM_PATH/'tmp'/'trn_ids.npy', trn_lm)\n",
        "np.save(LM_PATH/'tmp'/'val_ids.npy', val_lm)\n",
        "pickle.dump(itos, open(LM_PATH/'tmp'/'itos.pkl', 'wb'))"
      ],
      "execution_count": 0,
      "outputs": []
    },
    {
      "metadata": {
        "id": "EA7VtU22DWUZ",
        "colab_type": "code",
        "colab": {}
      },
      "cell_type": "code",
      "source": [
        "trn_lm = np.load(LM_PATH/'tmp'/'trn_ids.npy')\n",
        "val_lm = np.load(LM_PATH/'tmp'/'val_ids.npy')\n",
        "itos = pickle.load(open(LM_PATH/'tmp'/'itos.pkl', 'rb'))"
      ],
      "execution_count": 0,
      "outputs": []
    },
    {
      "metadata": {
        "id": "8kxXQFWO87-M",
        "colab_type": "code",
        "colab": {
          "base_uri": "https://localhost:8080/",
          "height": 34
        },
        "outputId": "9deede78-4262-40a0-927c-4faea0da5c3d"
      },
      "cell_type": "code",
      "source": [
        "vs=len(itos)\n",
        "vs,len(trn_lm)"
      ],
      "execution_count": 31,
      "outputs": [
        {
          "output_type": "execute_result",
          "data": {
            "text/plain": [
              "(20662, 97)"
            ]
          },
          "metadata": {
            "tags": []
          },
          "execution_count": 31
        }
      ]
    },
    {
      "metadata": {
        "id": "rQiB1v1HDbOW",
        "colab_type": "text"
      },
      "cell_type": "markdown",
      "source": [
        "#Wikitext"
      ]
    },
    {
      "metadata": {
        "id": "q0KN-gkJ9Dgy",
        "colab_type": "code",
        "colab": {
          "base_uri": "https://localhost:8080/",
          "height": 2567
        },
        "outputId": "367652a2-4e72-47de-84ec-438f806654d3"
      },
      "cell_type": "code",
      "source": [
        "! wget -nH -r -np -P {PATH} http://files.fast.ai/models/wt103/"
      ],
      "execution_count": 32,
      "outputs": [
        {
          "output_type": "stream",
          "text": [
            "--2018-06-19 13:38:46--  http://files.fast.ai/models/wt103/\n",
            "Resolving files.fast.ai (files.fast.ai)... 67.205.15.147\n",
            "Connecting to files.fast.ai (files.fast.ai)|67.205.15.147|:80... connected.\n",
            "HTTP request sent, awaiting response... 200 OK\n",
            "Length: 857 [text/html]\n",
            "Saving to: ‘data/aclImdb/models/wt103/index.html’\n",
            "\n",
            "models/wt103/index. 100%[===================>]     857  --.-KB/s    in 0s      \n",
            "\n",
            "2018-06-19 13:38:46 (126 MB/s) - ‘data/aclImdb/models/wt103/index.html’ saved [857/857]\n",
            "\n",
            "Loading robots.txt; please ignore errors.\n",
            "--2018-06-19 13:38:46--  http://files.fast.ai/robots.txt\n",
            "Reusing existing connection to files.fast.ai:80.\n",
            "HTTP request sent, awaiting response... 404 Not Found\n",
            "2018-06-19 13:38:46 ERROR 404: Not Found.\n",
            "\n",
            "--2018-06-19 13:38:46--  http://files.fast.ai/models/wt103/?C=N;O=D\n",
            "Reusing existing connection to files.fast.ai:80.\n",
            "HTTP request sent, awaiting response... 200 OK\n",
            "Length: 857 [text/html]\n",
            "Saving to: ‘data/aclImdb/models/wt103/index.html?C=N;O=D’\n",
            "\n",
            "models/wt103/index. 100%[===================>]     857  --.-KB/s    in 0s      \n",
            "\n",
            "2018-06-19 13:38:46 (129 MB/s) - ‘data/aclImdb/models/wt103/index.html?C=N;O=D’ saved [857/857]\n",
            "\n",
            "--2018-06-19 13:38:46--  http://files.fast.ai/models/wt103/?C=M;O=A\n",
            "Reusing existing connection to files.fast.ai:80.\n",
            "HTTP request sent, awaiting response... 200 OK\n",
            "Length: 857 [text/html]\n",
            "Saving to: ‘data/aclImdb/models/wt103/index.html?C=M;O=A’\n",
            "\n",
            "models/wt103/index. 100%[===================>]     857  --.-KB/s    in 0s      \n",
            "\n",
            "2018-06-19 13:38:46 (132 MB/s) - ‘data/aclImdb/models/wt103/index.html?C=M;O=A’ saved [857/857]\n",
            "\n",
            "--2018-06-19 13:38:46--  http://files.fast.ai/models/wt103/?C=S;O=A\n",
            "Reusing existing connection to files.fast.ai:80.\n",
            "HTTP request sent, awaiting response... 200 OK\n",
            "Length: 857 [text/html]\n",
            "Saving to: ‘data/aclImdb/models/wt103/index.html?C=S;O=A’\n",
            "\n",
            "models/wt103/index. 100%[===================>]     857  --.-KB/s    in 0s      \n",
            "\n",
            "2018-06-19 13:38:46 (135 MB/s) - ‘data/aclImdb/models/wt103/index.html?C=S;O=A’ saved [857/857]\n",
            "\n",
            "--2018-06-19 13:38:46--  http://files.fast.ai/models/wt103/?C=D;O=A\n",
            "Reusing existing connection to files.fast.ai:80.\n",
            "HTTP request sent, awaiting response... 200 OK\n",
            "Length: 857 [text/html]\n",
            "Saving to: ‘data/aclImdb/models/wt103/index.html?C=D;O=A’\n",
            "\n",
            "models/wt103/index. 100%[===================>]     857  --.-KB/s    in 0s      \n",
            "\n",
            "2018-06-19 13:38:46 (142 MB/s) - ‘data/aclImdb/models/wt103/index.html?C=D;O=A’ saved [857/857]\n",
            "\n",
            "--2018-06-19 13:38:46--  http://files.fast.ai/models/wt103/bwd_wt103.h5\n",
            "Reusing existing connection to files.fast.ai:80.\n",
            "HTTP request sent, awaiting response... 200 OK\n",
            "Length: 462387687 (441M) [text/plain]\n",
            "Saving to: ‘data/aclImdb/models/wt103/bwd_wt103.h5’\n",
            "\n",
            "models/wt103/bwd_wt 100%[===================>] 440.97M  99.4MB/s    in 4.6s    \n",
            "\n",
            "2018-06-19 13:38:51 (95.2 MB/s) - ‘data/aclImdb/models/wt103/bwd_wt103.h5’ saved [462387687/462387687]\n",
            "\n",
            "--2018-06-19 13:38:51--  http://files.fast.ai/models/wt103/bwd_wt103_enc.h5\n",
            "Reusing existing connection to files.fast.ai:80.\n",
            "HTTP request sent, awaiting response... 200 OK\n",
            "Length: 462387634 (441M) [text/plain]\n",
            "Saving to: ‘data/aclImdb/models/wt103/bwd_wt103_enc.h5’\n",
            "\n",
            "   models/wt103/bwd  30%[=====>              ] 135.50M  96.8MB/s               "
          ],
          "name": "stdout"
        },
        {
          "output_type": "stream",
          "text": [
            "models/wt103/bwd_wt 100%[===================>] 440.97M  99.8MB/s    in 4.5s    \n",
            "\n",
            "2018-06-19 13:38:55 (98.8 MB/s) - ‘data/aclImdb/models/wt103/bwd_wt103_enc.h5’ saved [462387634/462387634]\n",
            "\n",
            "--2018-06-19 13:38:55--  http://files.fast.ai/models/wt103/fwd_wt103.h5\n",
            "Reusing existing connection to files.fast.ai:80.\n",
            "HTTP request sent, awaiting response... 200 OK\n",
            "Length: 462387687 (441M) [text/plain]\n",
            "Saving to: ‘data/aclImdb/models/wt103/fwd_wt103.h5’\n",
            "\n",
            "models/wt103/fwd_wt 100%[===================>] 440.97M   101MB/s    in 4.4s    \n",
            "\n",
            "2018-06-19 13:39:00 (99.6 MB/s) - ‘data/aclImdb/models/wt103/fwd_wt103.h5’ saved [462387687/462387687]\n",
            "\n",
            "--2018-06-19 13:39:00--  http://files.fast.ai/models/wt103/fwd_wt103_enc.h5\n",
            "Reusing existing connection to files.fast.ai:80.\n",
            "HTTP request sent, awaiting response... 200 OK\n",
            "Length: 462387634 (441M) [text/plain]\n",
            "Saving to: ‘data/aclImdb/models/wt103/fwd_wt103_enc.h5’\n",
            "\n",
            "models/wt103/fwd_wt 100%[===================>] 440.97M   102MB/s    in 4.3s    \n",
            "\n",
            "2018-06-19 13:39:04 (102 MB/s) - ‘data/aclImdb/models/wt103/fwd_wt103_enc.h5’ saved [462387634/462387634]\n",
            "\n",
            "--2018-06-19 13:39:04--  http://files.fast.ai/models/wt103/itos_wt103.pkl\n",
            "Reusing existing connection to files.fast.ai:80.\n",
            "HTTP request sent, awaiting response... 200 OK\n",
            "Length: 4161252 (4.0M) [text/plain]\n",
            "Saving to: ‘data/aclImdb/models/wt103/itos_wt103.pkl’\n",
            "\n",
            "models/wt103/itos_w 100%[===================>]   3.97M  --.-KB/s    in 0.04s   \n",
            "\n",
            "2018-06-19 13:39:04 (109 MB/s) - ‘data/aclImdb/models/wt103/itos_wt103.pkl’ saved [4161252/4161252]\n",
            "\n",
            "--2018-06-19 13:39:04--  http://files.fast.ai/models/wt103/?C=N;O=A\n",
            "Reusing existing connection to files.fast.ai:80.\n",
            "HTTP request sent, awaiting response... 200 OK\n",
            "Length: 857 [text/html]\n",
            "Saving to: ‘data/aclImdb/models/wt103/index.html?C=N;O=A’\n",
            "\n",
            "models/wt103/index. 100%[===================>]     857  --.-KB/s    in 0s      \n",
            "\n",
            "2018-06-19 13:39:04 (99.3 MB/s) - ‘data/aclImdb/models/wt103/index.html?C=N;O=A’ saved [857/857]\n",
            "\n",
            "--2018-06-19 13:39:04--  http://files.fast.ai/models/wt103/?C=M;O=D\n",
            "Reusing existing connection to files.fast.ai:80.\n",
            "HTTP request sent, awaiting response... 200 OK\n",
            "Length: 857 [text/html]\n",
            "Saving to: ‘data/aclImdb/models/wt103/index.html?C=M;O=D’\n",
            "\n",
            "models/wt103/index. 100%[===================>]     857  --.-KB/s    in 0s      \n",
            "\n",
            "2018-06-19 13:39:04 (101 MB/s) - ‘data/aclImdb/models/wt103/index.html?C=M;O=D’ saved [857/857]\n",
            "\n",
            "--2018-06-19 13:39:04--  http://files.fast.ai/models/wt103/?C=S;O=D\n",
            "Reusing existing connection to files.fast.ai:80.\n",
            "HTTP request sent, awaiting response... 200 OK\n",
            "Length: 857 [text/html]\n",
            "Saving to: ‘data/aclImdb/models/wt103/index.html?C=S;O=D’\n",
            "\n",
            "models/wt103/index. 100%[===================>]     857  --.-KB/s    in 0s      \n",
            "\n",
            "2018-06-19 13:39:04 (38.6 MB/s) - ‘data/aclImdb/models/wt103/index.html?C=S;O=D’ saved [857/857]\n",
            "\n",
            "--2018-06-19 13:39:04--  http://files.fast.ai/models/wt103/?C=D;O=D\n",
            "Reusing existing connection to files.fast.ai:80.\n",
            "HTTP request sent, awaiting response... 200 OK\n",
            "Length: 857 [text/html]\n",
            "Saving to: ‘data/aclImdb/models/wt103/index.html?C=D;O=D’\n",
            "\n",
            "models/wt103/index. 100%[===================>]     857  --.-KB/s    in 0s      \n",
            "\n",
            "2018-06-19 13:39:04 (111 MB/s) - ‘data/aclImdb/models/wt103/index.html?C=D;O=D’ saved [857/857]\n",
            "\n",
            "FINISHED --2018-06-19 13:39:04--\n",
            "Total wall clock time: 18s\n",
            "Downloaded: 14 files, 1.7G in 18s (98.9 MB/s)\n"
          ],
          "name": "stdout"
        }
      ]
    },
    {
      "metadata": {
        "id": "yGmg_Rkr9Zpe",
        "colab_type": "code",
        "colab": {}
      },
      "cell_type": "code",
      "source": [
        "em_sz,nh,nl = 400,1150,3"
      ],
      "execution_count": 0,
      "outputs": []
    },
    {
      "metadata": {
        "id": "EmnxhOI_9bbU",
        "colab_type": "code",
        "colab": {}
      },
      "cell_type": "code",
      "source": [
        "PRE_PATH = PATH/'models'/'wt103'\n",
        "PRE_LM_PATH = PRE_PATH/'fwd_wt103.h5'"
      ],
      "execution_count": 0,
      "outputs": []
    },
    {
      "metadata": {
        "id": "pavw1ilu9czi",
        "colab_type": "code",
        "colab": {}
      },
      "cell_type": "code",
      "source": [
        "wgts = torch.load(PRE_LM_PATH, map_location=lambda storage, loc: storage)"
      ],
      "execution_count": 0,
      "outputs": []
    },
    {
      "metadata": {
        "id": "nLY2dO1m9hEK",
        "colab_type": "code",
        "colab": {}
      },
      "cell_type": "code",
      "source": [
        "enc_wgts = to_np(wgts['0.encoder.weight'])\n",
        "row_m = enc_wgts.mean(0)"
      ],
      "execution_count": 0,
      "outputs": []
    },
    {
      "metadata": {
        "id": "VRLHb7p_9kD0",
        "colab_type": "code",
        "colab": {}
      },
      "cell_type": "code",
      "source": [
        "itos2 = pickle.load((PRE_PATH/'itos_wt103.pkl').open('rb'))\n",
        "stoi2 = collections.defaultdict(lambda:-1, {v:k for k,v in enumerate(itos2)})"
      ],
      "execution_count": 0,
      "outputs": []
    },
    {
      "metadata": {
        "id": "9xnR_Tj59n9x",
        "colab_type": "code",
        "colab": {}
      },
      "cell_type": "code",
      "source": [
        "new_w = np.zeros((vs, em_sz), dtype=np.float32)\n",
        "for i,w in enumerate(itos):\n",
        "    r = stoi2[w]\n",
        "    new_w[i] = enc_wgts[r] if r>=0 else row_m"
      ],
      "execution_count": 0,
      "outputs": []
    },
    {
      "metadata": {
        "id": "ZcwZ-JBy9qOn",
        "colab_type": "code",
        "colab": {}
      },
      "cell_type": "code",
      "source": [
        "wgts['0.encoder.weight'] = T(new_w)\n",
        "wgts['0.encoder_with_dropout.embed.weight'] = T(np.copy(new_w))\n",
        "wgts['1.decoder.weight'] = T(np.copy(new_w))"
      ],
      "execution_count": 0,
      "outputs": []
    },
    {
      "metadata": {
        "id": "ACX3upeh9tpq",
        "colab_type": "code",
        "colab": {}
      },
      "cell_type": "code",
      "source": [
        "wd=1e-7\n",
        "bptt=70\n",
        "bs=52\n",
        "opt_fn = partial(optim.Adam, betas=(0.8, 0.99))"
      ],
      "execution_count": 0,
      "outputs": []
    },
    {
      "metadata": {
        "id": "vh4JOM349zXo",
        "colab_type": "code",
        "colab": {}
      },
      "cell_type": "code",
      "source": [
        "trn_dl = LanguageModelLoader(np.concatenate(trn_lm), bs, bptt)\n",
        "val_dl = LanguageModelLoader(np.concatenate(val_lm), bs, bptt)\n",
        "md = LanguageModelData(PATH, 1, vs, trn_dl, val_dl, bs=bs, bptt=bptt)"
      ],
      "execution_count": 0,
      "outputs": []
    },
    {
      "metadata": {
        "id": "4yWB4mrkE0Xi",
        "colab_type": "code",
        "colab": {}
      },
      "cell_type": "code",
      "source": [
        "drops = np.array([0.25, 0.1, 0.2, 0.02, 0.15])*0.7"
      ],
      "execution_count": 0,
      "outputs": []
    },
    {
      "metadata": {
        "id": "PCW2ssn7E5j7",
        "colab_type": "code",
        "colab": {}
      },
      "cell_type": "code",
      "source": [
        "learner= md.get_model(opt_fn, em_sz, nh, nl, \n",
        "    dropouti=drops[0], dropout=drops[1], wdrop=drops[2], dropoute=drops[3], dropouth=drops[4])\n",
        "\n",
        "learner.metrics = [accuracy]\n",
        "learner.freeze_to(-1)"
      ],
      "execution_count": 0,
      "outputs": []
    },
    {
      "metadata": {
        "id": "Xkqfdr4KE8pS",
        "colab_type": "code",
        "colab": {}
      },
      "cell_type": "code",
      "source": [
        "learner.model.load_state_dict(wgts)"
      ],
      "execution_count": 0,
      "outputs": []
    },
    {
      "metadata": {
        "id": "jqbcB_XdE-j9",
        "colab_type": "code",
        "colab": {}
      },
      "cell_type": "code",
      "source": [
        "lr=1e-3\n",
        "lrs = lr"
      ],
      "execution_count": 0,
      "outputs": []
    },
    {
      "metadata": {
        "id": "lVgtX8voRcEw",
        "colab_type": "code",
        "colab": {
          "base_uri": "https://localhost:8080/",
          "height": 85
        },
        "outputId": "4a127bb4-f52c-4d91-a65b-337f124a75c9"
      },
      "cell_type": "code",
      "source": [
        "learner.fit(lrs/2, 1, wds=wd, use_clr=(32,2), cycle_len=1)"
      ],
      "execution_count": 66,
      "outputs": [
        {
          "output_type": "display_data",
          "data": {
            "application/vnd.jupyter.widget-view+json": {
              "model_id": "18a0152d1ca1429da5d5544984250ca4",
              "version_minor": 0,
              "version_major": 2
            },
            "text/plain": [
              "HBox(children=(IntProgress(value=0, description='Epoch', max=1), HTML(value='')))"
            ]
          },
          "metadata": {
            "tags": []
          }
        },
        {
          "output_type": "stream",
          "text": [
            "epoch      trn_loss   val_loss   accuracy   \n",
            "    0      5.180857   4.84083    0.267836  \n"
          ],
          "name": "stdout"
        },
        {
          "output_type": "execute_result",
          "data": {
            "text/plain": [
              "[array([4.84083]), 0.26783628640948115]"
            ]
          },
          "metadata": {
            "tags": []
          },
          "execution_count": 66
        }
      ]
    },
    {
      "metadata": {
        "id": "AjBRpeBgbGJT",
        "colab_type": "code",
        "colab": {}
      },
      "cell_type": "code",
      "source": [
        "learner.save('lm_last_ft')"
      ],
      "execution_count": 0,
      "outputs": []
    },
    {
      "metadata": {
        "id": "4M4pHVhQ7iVy",
        "colab_type": "code",
        "colab": {}
      },
      "cell_type": "code",
      "source": [
        "learner.load('lm_last_ft')"
      ],
      "execution_count": 0,
      "outputs": []
    },
    {
      "metadata": {
        "id": "lrCV-Pdx7j3A",
        "colab_type": "code",
        "colab": {}
      },
      "cell_type": "code",
      "source": [
        "learner.unfreeze()"
      ],
      "execution_count": 0,
      "outputs": []
    },
    {
      "metadata": {
        "id": "-rpHWZJ87pKk",
        "colab_type": "code",
        "colab": {
          "base_uri": "https://localhost:8080/",
          "height": 68
        },
        "outputId": "69af226f-19bb-44c9-c0ab-2ea55ae3883e"
      },
      "cell_type": "code",
      "source": [
        "learner.lr_find(start_lr=lrs/10, end_lr=lrs*10, linear=True)"
      ],
      "execution_count": 70,
      "outputs": [
        {
          "output_type": "display_data",
          "data": {
            "application/vnd.jupyter.widget-view+json": {
              "model_id": "dab2535954e54dd2b52aff6dbbdb89a8",
              "version_minor": 0,
              "version_major": 2
            },
            "text/plain": [
              "HBox(children=(IntProgress(value=0, description='Epoch', max=1), HTML(value='')))"
            ]
          },
          "metadata": {
            "tags": []
          }
        },
        {
          "output_type": "stream",
          "text": [
            "epoch      trn_loss   val_loss   accuracy   \n",
            "    0      3.920534   4.079868   0.31082   \n"
          ],
          "name": "stdout"
        }
      ]
    },
    {
      "metadata": {
        "id": "AP0z0Rs_7s5c",
        "colab_type": "code",
        "colab": {
          "base_uri": "https://localhost:8080/",
          "height": 287
        },
        "outputId": "52b5d574-c235-405d-bf99-e2cfc2e10afb"
      },
      "cell_type": "code",
      "source": [
        "learner.sched.plot()"
      ],
      "execution_count": 71,
      "outputs": [
        {
          "output_type": "display_data",
          "data": {
            "image/png": "[encoded data removed]",
            "text/plain": [
              "<matplotlib.figure.Figure at 0x7f961ca03780>"
            ]
          },
          "metadata": {
            "tags": []
          }
        }
      ]
    },
    {
      "metadata": {
        "id": "5lWAizAO-_L1",
        "colab_type": "code",
        "colab": {
          "base_uri": "https://localhost:8080/",
          "height": 153
        },
        "outputId": "c879537e-6eba-47e5-aae1-069cb1916910"
      },
      "cell_type": "code",
      "source": [
        "learner.fit(lrs, 1, wds=wd, use_clr=(20,5), cycle_len=5)"
      ],
      "execution_count": 72,
      "outputs": [
        {
          "output_type": "display_data",
          "data": {
            "application/vnd.jupyter.widget-view+json": {
              "model_id": "97b89c31a44941dbabc53dd73238b55c",
              "version_minor": 0,
              "version_major": 2
            },
            "text/plain": [
              "HBox(children=(IntProgress(value=0, description='Epoch', max=5), HTML(value='')))"
            ]
          },
          "metadata": {
            "tags": []
          }
        },
        {
          "output_type": "stream",
          "text": [
            "epoch      trn_loss   val_loss   accuracy   \n",
            "    0      3.937464   3.739406   0.341264  \n",
            " 16%|█▌        | 95/598 [00:44<03:56,  2.12it/s, loss=3.78]"
          ],
          "name": "stdout"
        },
        {
          "output_type": "stream",
          "text": [
            "    1      3.529851   3.589825   0.357207  \n",
            " 32%|███▏      | 192/598 [01:31<03:14,  2.09it/s, loss=3.4]"
          ],
          "name": "stdout"
        },
        {
          "output_type": "stream",
          "text": [
            "    2      3.288987   3.546848   0.36096   \n",
            " 41%|████▏     | 247/598 [01:56<02:46,  2.11it/s, loss=3.17]"
          ],
          "name": "stdout"
        },
        {
          "output_type": "stream",
          "text": [
            "    3      3.142251   3.525714   0.364028  \n",
            " 47%|████▋     | 279/598 [02:11<02:30,  2.12it/s, loss=3.04]"
          ],
          "name": "stdout"
        },
        {
          "output_type": "stream",
          "text": [
            "    4      3.06779    3.512118   0.366077  \n"
          ],
          "name": "stdout"
        },
        {
          "output_type": "execute_result",
          "data": {
            "text/plain": [
              "[array([3.51212]), 0.36607700183584885]"
            ]
          },
          "metadata": {
            "tags": []
          },
          "execution_count": 72
        }
      ]
    },
    {
      "metadata": {
        "id": "h5ISFx8Y_DPw",
        "colab_type": "code",
        "colab": {}
      },
      "cell_type": "code",
      "source": [
        "learner.save('lm5')"
      ],
      "execution_count": 0,
      "outputs": []
    },
    {
      "metadata": {
        "id": "TpxIA3XG_Evh",
        "colab_type": "code",
        "colab": {}
      },
      "cell_type": "code",
      "source": [
        "learner.save_encoder('lm5_enc')"
      ],
      "execution_count": 0,
      "outputs": []
    },
    {
      "metadata": {
        "id": "kNFlbpkP_GFp",
        "colab_type": "code",
        "colab": {
          "base_uri": "https://localhost:8080/",
          "height": 269
        },
        "outputId": "df86e238-bd51-4970-d401-454c0ce356e9"
      },
      "cell_type": "code",
      "source": [
        "learner.sched.plot_loss()"
      ],
      "execution_count": 75,
      "outputs": [
        {
          "output_type": "display_data",
          "data": {
            "image/png": "[encoded data removed]",
            "text/plain": [
              "<matplotlib.figure.Figure at 0x7f970ef9ec88>"
            ]
          },
          "metadata": {
            "tags": []
          }
        }
      ]
    },
    {
      "metadata": {
        "id": "sm3HfvlpQCSx",
        "colab_type": "code",
        "colab": {
          "base_uri": "https://localhost:8080/",
          "height": 153
        },
        "outputId": "b8961933-550d-4616-da18-5acc2fa07ed6"
      },
      "cell_type": "code",
      "source": [
        "learner.fit(lrs, 1, wds=wd, use_clr=(20,5), cycle_len=5)"
      ],
      "execution_count": 76,
      "outputs": [
        {
          "output_type": "display_data",
          "data": {
            "application/vnd.jupyter.widget-view+json": {
              "model_id": "bd2f6cd1f98b4a9fb9f406718ba5d79e",
              "version_minor": 0,
              "version_major": 2
            },
            "text/plain": [
              "HBox(children=(IntProgress(value=0, description='Epoch', max=5), HTML(value='')))"
            ]
          },
          "metadata": {
            "tags": []
          }
        },
        {
          "output_type": "stream",
          "text": [
            "epoch      trn_loss   val_loss   accuracy   \n",
            "    0      3.13805    3.562031   0.361753  \n",
            " 16%|█▌        | 96/598 [00:46<04:01,  2.08it/s, loss=3.05]"
          ],
          "name": "stdout"
        },
        {
          "output_type": "stream",
          "text": [
            "    1      3.02231    3.550113   0.36162   \n",
            " 32%|███▏      | 193/598 [01:30<03:09,  2.14it/s, loss=2.91]"
          ],
          "name": "stdout"
        },
        {
          "output_type": "stream",
          "text": [
            "    2      2.867214   3.559028   0.363421  \n",
            " 41%|████▏     | 248/598 [01:57<02:45,  2.11it/s, loss=2.74]"
          ],
          "name": "stdout"
        },
        {
          "output_type": "stream",
          "text": [
            "    3      2.80041    3.545191   0.367243  \n",
            " 47%|████▋     | 279/598 [02:13<02:32,  2.09it/s, loss=2.65]"
          ],
          "name": "stdout"
        },
        {
          "output_type": "stream",
          "text": [
            "    4      2.703056   3.54965    0.367     \n"
          ],
          "name": "stdout"
        },
        {
          "output_type": "execute_result",
          "data": {
            "text/plain": [
              "[array([3.54965]), 0.36700005950154485]"
            ]
          },
          "metadata": {
            "tags": []
          },
          "execution_count": 76
        }
      ]
    },
    {
      "metadata": {
        "id": "PyD2gSeCQGOW",
        "colab_type": "code",
        "colab": {
          "base_uri": "https://localhost:8080/",
          "height": 269
        },
        "outputId": "60827784-4783-472c-db9f-162004af9d46"
      },
      "cell_type": "code",
      "source": [
        "learner.sched.plot_loss()"
      ],
      "execution_count": 77,
      "outputs": [
        {
          "output_type": "display_data",
          "data": {
            "image/png": "[encoded data removed]",
            "text/plain": [
              "<matplotlib.figure.Figure at 0x7f96b69fddd8>"
            ]
          },
          "metadata": {
            "tags": []
          }
        }
      ]
    },
    {
      "metadata": {
        "id": "iiXGY8-Ie2KS",
        "colab_type": "code",
        "colab": {}
      },
      "cell_type": "code",
      "source": [
        ""
      ],
      "execution_count": 0,
      "outputs": []
    }
  ]
}